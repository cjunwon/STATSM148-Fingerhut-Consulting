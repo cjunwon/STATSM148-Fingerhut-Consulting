{
 "cells": [
  {
   "cell_type": "code",
   "execution_count": 68,
   "id": "40d20d27-3284-4efa-98eb-e05784e72258",
   "metadata": {},
   "outputs": [],
   "source": [
    "import pandas as pd\n",
    "import numpy as np\n",
    "import matplotlib.pyplot as plt\n",
    "from sklearn.datasets import make_blobs\n",
    "from sklearn.cluster import KMeans\n",
    "from sklearn.preprocessing import StandardScaler"
   ]
  },
  {
   "cell_type": "code",
   "execution_count": 30,
   "id": "2b828b55-09a9-4d12-bf2b-0105eb5eaea5",
   "metadata": {},
   "outputs": [
    {
     "name": "stdout",
     "output_type": "stream",
     "text": [
      "(1665688, 10)\n"
     ]
    },
    {
     "data": {
      "text/html": [
       "<div>\n",
       "<style scoped>\n",
       "    .dataframe tbody tr th:only-of-type {\n",
       "        vertical-align: middle;\n",
       "    }\n",
       "\n",
       "    .dataframe tbody tr th {\n",
       "        vertical-align: top;\n",
       "    }\n",
       "\n",
       "    .dataframe thead th {\n",
       "        text-align: right;\n",
       "    }\n",
       "</style>\n",
       "<table border=\"1\" class=\"dataframe\">\n",
       "  <thead>\n",
       "    <tr style=\"text-align: right;\">\n",
       "      <th></th>\n",
       "      <th>customer_id</th>\n",
       "      <th>event_count</th>\n",
       "      <th>order_shipped</th>\n",
       "      <th>num_accounts</th>\n",
       "      <th>first_event</th>\n",
       "      <th>last_event</th>\n",
       "      <th>len_journey</th>\n",
       "      <th>days_in_journey</th>\n",
       "      <th>first_stage</th>\n",
       "      <th>last_stage</th>\n",
       "    </tr>\n",
       "  </thead>\n",
       "  <tbody>\n",
       "    <tr>\n",
       "      <th>0</th>\n",
       "      <td>-2147483541</td>\n",
       "      <td>29</td>\n",
       "      <td>0</td>\n",
       "      <td>1</td>\n",
       "      <td>12</td>\n",
       "      <td>1</td>\n",
       "      <td>29</td>\n",
       "      <td>238</td>\n",
       "      <td>1</td>\n",
       "      <td>0</td>\n",
       "    </tr>\n",
       "    <tr>\n",
       "      <th>1</th>\n",
       "      <td>-2147481037</td>\n",
       "      <td>13</td>\n",
       "      <td>0</td>\n",
       "      <td>1</td>\n",
       "      <td>12</td>\n",
       "      <td>6</td>\n",
       "      <td>13</td>\n",
       "      <td>0</td>\n",
       "      <td>1</td>\n",
       "      <td>5</td>\n",
       "    </tr>\n",
       "    <tr>\n",
       "      <th>2</th>\n",
       "      <td>-2147474335</td>\n",
       "      <td>98</td>\n",
       "      <td>1</td>\n",
       "      <td>1</td>\n",
       "      <td>2</td>\n",
       "      <td>28</td>\n",
       "      <td>98</td>\n",
       "      <td>17</td>\n",
       "      <td>3</td>\n",
       "      <td>6</td>\n",
       "    </tr>\n",
       "    <tr>\n",
       "      <th>3</th>\n",
       "      <td>-2147474305</td>\n",
       "      <td>34</td>\n",
       "      <td>0</td>\n",
       "      <td>1</td>\n",
       "      <td>6</td>\n",
       "      <td>21</td>\n",
       "      <td>34</td>\n",
       "      <td>196</td>\n",
       "      <td>5</td>\n",
       "      <td>7</td>\n",
       "    </tr>\n",
       "    <tr>\n",
       "      <th>4</th>\n",
       "      <td>-2147472167</td>\n",
       "      <td>104</td>\n",
       "      <td>1</td>\n",
       "      <td>1</td>\n",
       "      <td>12</td>\n",
       "      <td>28</td>\n",
       "      <td>104</td>\n",
       "      <td>19</td>\n",
       "      <td>1</td>\n",
       "      <td>6</td>\n",
       "    </tr>\n",
       "  </tbody>\n",
       "</table>\n",
       "</div>"
      ],
      "text/plain": [
       "   customer_id  event_count  order_shipped  num_accounts  first_event   \n",
       "0  -2147483541           29              0             1           12  \\\n",
       "1  -2147481037           13              0             1           12   \n",
       "2  -2147474335           98              1             1            2   \n",
       "3  -2147474305           34              0             1            6   \n",
       "4  -2147472167          104              1             1           12   \n",
       "\n",
       "   last_event  len_journey  days_in_journey  first_stage  last_stage  \n",
       "0           1           29              238            1           0  \n",
       "1           6           13                0            1           5  \n",
       "2          28           98               17            3           6  \n",
       "3          21           34              196            5           7  \n",
       "4          28          104               19            1           6  "
      ]
     },
     "execution_count": 30,
     "metadata": {},
     "output_type": "execute_result"
    }
   ],
   "source": [
    "df = pd.read_pickle(\"/Users/alyssaliu/Desktop/StatsM148/feature_engineered_data.pkl\")\n",
    "print(df.shape)\n",
    "df.head()"
   ]
  },
  {
   "cell_type": "code",
   "execution_count": 31,
   "id": "96a05f70-af70-43c4-b3fc-79f9f6e3c43b",
   "metadata": {},
   "outputs": [],
   "source": [
    "y = df['order_shipped']\n",
    "X = df.drop(['order_shipped', 'customer_id'], axis = 1)"
   ]
  },
  {
   "cell_type": "code",
   "execution_count": 32,
   "id": "6a48479d-f6be-4634-aa14-79179d43eaaf",
   "metadata": {},
   "outputs": [
    {
     "data": {
      "image/png": "[encoded data removed]",
      "text/plain": [
       "<Figure size 432x288 with 1 Axes>"
      ]
     },
     "metadata": {
      "needs_background": "light"
     },
     "output_type": "display_data"
    }
   ],
   "source": [
    "wcss = []\n",
    "for i in range(1, 21): # Testing 1 to 20 clusters\n",
    "    kmeans = KMeans(n_clusters=i, init='k-means++', max_iter=300, n_init=10, random_state=0)\n",
    "    kmeans.fit(X)\n",
    "    wcss.append(kmeans.inertia_) # inertia_ is the WCSS\n",
    "\n",
    "# Step 4: Plot the Elbow Curve\n",
    "plt.plot(range(1, 21), wcss)\n",
    "plt.title('Elbow Method')\n",
    "plt.xlabel('Number of clusters')\n",
    "plt.ylabel('WCSS')\n",
    "plt.show()\n",
    "\n",
    "\n",
    "## 4 clusters"
   ]
  },
  {
   "cell_type": "code",
   "execution_count": 34,
   "id": "4f2b9bf8-3639-4c9f-8831-6511b3074693",
   "metadata": {},
   "outputs": [],
   "source": [
    "scaler = StandardScaler()\n",
    "X_scaled = scaler.fit_transform(X)\n",
    "X_scaled = pd.DataFrame(X_scaled, columns=X.columns)\n",
    "\n",
    "# Apply K-Means Clustering\n",
    "kmeans = KMeans(n_clusters=6, init='k-means++', max_iter=300, n_init=10, random_state=0)\n",
    "kmeans.fit(X_scaled)\n",
    "\n",
    "# The cluster labels for each data point\n",
    "labels = kmeans.labels_\n",
    "\n",
    "# You can add these labels back to your original DataFrame if you wish\n",
    "df['Cluster'] = labels"
   ]
  },
  {
   "cell_type": "code",
   "execution_count": 36,
   "id": "02c32a4b-0cd5-4e46-9eb2-80cd9e52be27",
   "metadata": {},
   "outputs": [
    {
     "data": {
      "text/html": [
       "<div>\n",
       "<style scoped>\n",
       "    .dataframe tbody tr th:only-of-type {\n",
       "        vertical-align: middle;\n",
       "    }\n",
       "\n",
       "    .dataframe tbody tr th {\n",
       "        vertical-align: top;\n",
       "    }\n",
       "\n",
       "    .dataframe thead th {\n",
       "        text-align: right;\n",
       "    }\n",
       "</style>\n",
       "<table border=\"1\" class=\"dataframe\">\n",
       "  <thead>\n",
       "    <tr style=\"text-align: right;\">\n",
       "      <th></th>\n",
       "      <th>customer_id</th>\n",
       "      <th>event_count</th>\n",
       "      <th>order_shipped</th>\n",
       "      <th>num_accounts</th>\n",
       "      <th>first_event</th>\n",
       "      <th>last_event</th>\n",
       "      <th>len_journey</th>\n",
       "      <th>days_in_journey</th>\n",
       "      <th>first_stage</th>\n",
       "      <th>last_stage</th>\n",
       "      <th>Cluster</th>\n",
       "    </tr>\n",
       "  </thead>\n",
       "  <tbody>\n",
       "    <tr>\n",
       "      <th>0</th>\n",
       "      <td>-2147483541</td>\n",
       "      <td>29</td>\n",
       "      <td>0</td>\n",
       "      <td>1</td>\n",
       "      <td>12</td>\n",
       "      <td>1</td>\n",
       "      <td>29</td>\n",
       "      <td>238</td>\n",
       "      <td>1</td>\n",
       "      <td>0</td>\n",
       "      <td>3</td>\n",
       "    </tr>\n",
       "    <tr>\n",
       "      <th>1</th>\n",
       "      <td>-2147481037</td>\n",
       "      <td>13</td>\n",
       "      <td>0</td>\n",
       "      <td>1</td>\n",
       "      <td>12</td>\n",
       "      <td>6</td>\n",
       "      <td>13</td>\n",
       "      <td>0</td>\n",
       "      <td>1</td>\n",
       "      <td>5</td>\n",
       "      <td>3</td>\n",
       "    </tr>\n",
       "    <tr>\n",
       "      <th>2</th>\n",
       "      <td>-2147474335</td>\n",
       "      <td>98</td>\n",
       "      <td>1</td>\n",
       "      <td>1</td>\n",
       "      <td>2</td>\n",
       "      <td>28</td>\n",
       "      <td>98</td>\n",
       "      <td>17</td>\n",
       "      <td>3</td>\n",
       "      <td>6</td>\n",
       "      <td>4</td>\n",
       "    </tr>\n",
       "    <tr>\n",
       "      <th>3</th>\n",
       "      <td>-2147474305</td>\n",
       "      <td>34</td>\n",
       "      <td>0</td>\n",
       "      <td>1</td>\n",
       "      <td>6</td>\n",
       "      <td>21</td>\n",
       "      <td>34</td>\n",
       "      <td>196</td>\n",
       "      <td>5</td>\n",
       "      <td>7</td>\n",
       "      <td>4</td>\n",
       "    </tr>\n",
       "    <tr>\n",
       "      <th>4</th>\n",
       "      <td>-2147472167</td>\n",
       "      <td>104</td>\n",
       "      <td>1</td>\n",
       "      <td>1</td>\n",
       "      <td>12</td>\n",
       "      <td>28</td>\n",
       "      <td>104</td>\n",
       "      <td>19</td>\n",
       "      <td>1</td>\n",
       "      <td>6</td>\n",
       "      <td>1</td>\n",
       "    </tr>\n",
       "  </tbody>\n",
       "</table>\n",
       "</div>"
      ],
      "text/plain": [
       "   customer_id  event_count  order_shipped  num_accounts  first_event   \n",
       "0  -2147483541           29              0             1           12  \\\n",
       "1  -2147481037           13              0             1           12   \n",
       "2  -2147474335           98              1             1            2   \n",
       "3  -2147474305           34              0             1            6   \n",
       "4  -2147472167          104              1             1           12   \n",
       "\n",
       "   last_event  len_journey  days_in_journey  first_stage  last_stage  Cluster  \n",
       "0           1           29              238            1           0        3  \n",
       "1           6           13                0            1           5        3  \n",
       "2          28           98               17            3           6        4  \n",
       "3          21           34              196            5           7        4  \n",
       "4          28          104               19            1           6        1  "
      ]
     },
     "execution_count": 36,
     "metadata": {},
     "output_type": "execute_result"
    }
   ],
   "source": [
    "df.head()"
   ]
  },
  {
   "cell_type": "code",
   "execution_count": 37,
   "id": "cb6fbfba-1448-46b1-b87d-cc0d687c5c29",
   "metadata": {},
   "outputs": [
    {
     "data": {
      "image/png": "[encoded data removed]",
      "text/plain": [
       "<Figure size 720x432 with 1 Axes>"
      ]
     },
     "metadata": {
      "needs_background": "light"
     },
     "output_type": "display_data"
    }
   ],
   "source": [
    "# Choose a feature to plot\n",
    "feature_to_plot = 'event_count'\n",
    "\n",
    "plt.figure(figsize=(10,6))\n",
    "sns.boxplot(x='Cluster', y=feature_to_plot, data=df)\n",
    "plt.title(f'Distribution of {feature_to_plot} Across Clusters')\n",
    "plt.show()"
   ]
  },
  {
   "cell_type": "code",
   "execution_count": 38,
   "id": "2798412e-29cc-4195-99f8-ae5f64a6e0bd",
   "metadata": {},
   "outputs": [
    {
     "name": "stdout",
     "output_type": "stream",
     "text": [
      "   event_count  num_accounts  first_event  last_event  len_journey   \n",
      "0     1.079604      4.774155     0.041049   -0.100187     1.079604  \\\n",
      "1    -0.004969     -0.204254     0.741198    1.226301    -0.004969   \n",
      "2    -0.264679     -0.204254    -0.827484   -0.652677    -0.264679   \n",
      "3    -0.296249     -0.204254     0.468020   -0.561103    -0.296249   \n",
      "4     0.001373     -0.204254    -0.826731    0.627753     0.001373   \n",
      "5     3.464978      0.088342    -0.075100    0.337625     3.464978   \n",
      "\n",
      "   days_in_journey  first_stage  last_stage  \n",
      "0         0.117312    -0.019178    0.005307  \n",
      "1        -0.217091    -0.586824    1.012935  \n",
      "2         0.417533     0.963817   -1.077855  \n",
      "3        -0.120018    -0.677951   -0.435097  \n",
      "4        -0.074244     0.997490    0.960367  \n",
      "5         0.427084    -0.043778    0.408348  \n"
     ]
    }
   ],
   "source": [
    "centers = pd.DataFrame(kmeans.cluster_centers_, columns=X_scaled.columns)\n",
    "print(centers)"
   ]
  },
  {
   "cell_type": "code",
   "execution_count": 39,
   "id": "f48758dd-89e1-4ec3-bdba-ba2a6eef5fd5",
   "metadata": {},
   "outputs": [
    {
     "data": {
      "image/png": "[encoded data removed]",
      "text/plain": [
       "<Figure size 720x576 with 2 Axes>"
      ]
     },
     "metadata": {
      "needs_background": "light"
     },
     "output_type": "display_data"
    }
   ],
   "source": [
    "import seaborn as sns\n",
    "\n",
    "plt.figure(figsize=(10, 8))\n",
    "sns.heatmap(centers, annot=True, cmap='viridis')\n",
    "plt.title('Centroid Values across Clusters')\n",
    "plt.xlabel('Feature')\n",
    "plt.ylabel('Cluster')\n",
    "plt.show()"
   ]
  },
  {
   "cell_type": "code",
   "execution_count": 40,
   "id": "ae57c384-5b65-433a-91ae-829129f5f091",
   "metadata": {},
   "outputs": [
    {
     "data": {
      "text/html": [
       "<div>\n",
       "<style scoped>\n",
       "    .dataframe tbody tr th:only-of-type {\n",
       "        vertical-align: middle;\n",
       "    }\n",
       "\n",
       "    .dataframe tbody tr th {\n",
       "        vertical-align: top;\n",
       "    }\n",
       "\n",
       "    .dataframe thead th {\n",
       "        text-align: right;\n",
       "    }\n",
       "</style>\n",
       "<table border=\"1\" class=\"dataframe\">\n",
       "  <thead>\n",
       "    <tr style=\"text-align: right;\">\n",
       "      <th></th>\n",
       "      <th>customer_id</th>\n",
       "      <th>event_count</th>\n",
       "      <th>order_shipped</th>\n",
       "      <th>num_accounts</th>\n",
       "      <th>first_event</th>\n",
       "      <th>last_event</th>\n",
       "      <th>len_journey</th>\n",
       "      <th>days_in_journey</th>\n",
       "      <th>first_stage</th>\n",
       "      <th>last_stage</th>\n",
       "      <th>Cluster</th>\n",
       "    </tr>\n",
       "  </thead>\n",
       "  <tbody>\n",
       "    <tr>\n",
       "      <th>0</th>\n",
       "      <td>-2147483541</td>\n",
       "      <td>29</td>\n",
       "      <td>0</td>\n",
       "      <td>1</td>\n",
       "      <td>12</td>\n",
       "      <td>1</td>\n",
       "      <td>29</td>\n",
       "      <td>238</td>\n",
       "      <td>1</td>\n",
       "      <td>0</td>\n",
       "      <td>3</td>\n",
       "    </tr>\n",
       "    <tr>\n",
       "      <th>1</th>\n",
       "      <td>-2147481037</td>\n",
       "      <td>13</td>\n",
       "      <td>0</td>\n",
       "      <td>1</td>\n",
       "      <td>12</td>\n",
       "      <td>6</td>\n",
       "      <td>13</td>\n",
       "      <td>0</td>\n",
       "      <td>1</td>\n",
       "      <td>5</td>\n",
       "      <td>3</td>\n",
       "    </tr>\n",
       "    <tr>\n",
       "      <th>2</th>\n",
       "      <td>-2147474335</td>\n",
       "      <td>98</td>\n",
       "      <td>1</td>\n",
       "      <td>1</td>\n",
       "      <td>2</td>\n",
       "      <td>28</td>\n",
       "      <td>98</td>\n",
       "      <td>17</td>\n",
       "      <td>3</td>\n",
       "      <td>6</td>\n",
       "      <td>4</td>\n",
       "    </tr>\n",
       "    <tr>\n",
       "      <th>3</th>\n",
       "      <td>-2147474305</td>\n",
       "      <td>34</td>\n",
       "      <td>0</td>\n",
       "      <td>1</td>\n",
       "      <td>6</td>\n",
       "      <td>21</td>\n",
       "      <td>34</td>\n",
       "      <td>196</td>\n",
       "      <td>5</td>\n",
       "      <td>7</td>\n",
       "      <td>4</td>\n",
       "    </tr>\n",
       "    <tr>\n",
       "      <th>4</th>\n",
       "      <td>-2147472167</td>\n",
       "      <td>104</td>\n",
       "      <td>1</td>\n",
       "      <td>1</td>\n",
       "      <td>12</td>\n",
       "      <td>28</td>\n",
       "      <td>104</td>\n",
       "      <td>19</td>\n",
       "      <td>1</td>\n",
       "      <td>6</td>\n",
       "      <td>1</td>\n",
       "    </tr>\n",
       "  </tbody>\n",
       "</table>\n",
       "</div>"
      ],
      "text/plain": [
       "   customer_id  event_count  order_shipped  num_accounts  first_event   \n",
       "0  -2147483541           29              0             1           12  \\\n",
       "1  -2147481037           13              0             1           12   \n",
       "2  -2147474335           98              1             1            2   \n",
       "3  -2147474305           34              0             1            6   \n",
       "4  -2147472167          104              1             1           12   \n",
       "\n",
       "   last_event  len_journey  days_in_journey  first_stage  last_stage  Cluster  \n",
       "0           1           29              238            1           0        3  \n",
       "1           6           13                0            1           5        3  \n",
       "2          28           98               17            3           6        4  \n",
       "3          21           34              196            5           7        4  \n",
       "4          28          104               19            1           6        1  "
      ]
     },
     "execution_count": 40,
     "metadata": {},
     "output_type": "execute_result"
    }
   ],
   "source": [
    "df.head()"
   ]
  },
  {
   "cell_type": "code",
   "execution_count": 53,
   "id": "df1f5faa-8e5e-4c45-b51c-6fd6c2d41eaa",
   "metadata": {},
   "outputs": [
    {
     "name": "stdout",
     "output_type": "stream",
     "text": [
      "(64918, 11)\n"
     ]
    }
   ],
   "source": [
    "cluster_0 = df[df['Cluster'] == 0]\n",
    "cluster_0_cust = cluster_0['customer_id'].to_list()\n",
    "print(cluster_0.shape)"
   ]
  },
  {
   "cell_type": "code",
   "execution_count": 54,
   "id": "867f962f-7ee9-4c64-a76e-59c5601fe827",
   "metadata": {},
   "outputs": [
    {
     "name": "stdout",
     "output_type": "stream",
     "text": [
      "(288610, 11)\n"
     ]
    }
   ],
   "source": [
    "cluster_1 = df[df['Cluster'] == 1]\n",
    "cluster_1_cust = cluster_1['customer_id'].to_list()\n",
    "print(cluster_1.shape)"
   ]
  },
  {
   "cell_type": "code",
   "execution_count": 55,
   "id": "df9c3162-8498-4c3c-8dbe-4a693b222e54",
   "metadata": {},
   "outputs": [
    {
     "name": "stdout",
     "output_type": "stream",
     "text": [
      "(309719, 11)\n"
     ]
    }
   ],
   "source": [
    "cluster_2 = df[df['Cluster'] == 2]\n",
    "cluster_2_cust = cluster_2['customer_id'].to_list()\n",
    "print(cluster_2.shape)"
   ]
  },
  {
   "cell_type": "code",
   "execution_count": 56,
   "id": "c2a350bb-55df-4a6f-8cd7-8e95c0ffb524",
   "metadata": {},
   "outputs": [
    {
     "name": "stdout",
     "output_type": "stream",
     "text": [
      "(637053, 11)\n"
     ]
    }
   ],
   "source": [
    "cluster_3 = df[df['Cluster'] == 3]\n",
    "cluster_3_cust = cluster_3['customer_id'].to_list()\n",
    "print(cluster_3.shape)"
   ]
  },
  {
   "cell_type": "code",
   "execution_count": 57,
   "id": "26e12c5c-8c6c-43b2-9bb9-24833a2a8161",
   "metadata": {},
   "outputs": [
    {
     "name": "stdout",
     "output_type": "stream",
     "text": [
      "(307288, 11)\n"
     ]
    }
   ],
   "source": [
    "cluster_4 = df[df['Cluster'] == 4]\n",
    "cluster_4_cust = cluster_4['customer_id'].to_list()\n",
    "print(cluster_4.shape)"
   ]
  },
  {
   "cell_type": "markdown",
   "id": "533abb98-919f-442a-bb3c-69387dadb9b9",
   "metadata": {},
   "source": [
    "## Inspecting entire dataframe per cluster"
   ]
  },
  {
   "cell_type": "code",
   "execution_count": 58,
   "id": "1e83552e-4901-4732-9031-e1b8f94448a2",
   "metadata": {},
   "outputs": [],
   "source": [
    "df_whole = pd.read_pickle(\"/Users/alyssaliu/Desktop/StatsM148/wide_format_data.pkl\")"
   ]
  },
  {
   "cell_type": "code",
   "execution_count": 75,
   "id": "1b548a74-a70a-4465-a9b3-4a5ea1fd4415",
   "metadata": {},
   "outputs": [],
   "source": [
    "cluster_1_df = df_whole[df_whole['customer_id'].isin(cluster_1_cust)]\n",
    "cluster_2_df = df_whole[df_whole['customer_id'].isin(cluster_2_cust)]\n",
    "cluster_3_df = df_whole[df_whole['customer_id'].isin(cluster_3_cust)]\n",
    "cluster_4_df = df_whole[df_whole['customer_id'].isin(cluster_4_cust)]"
   ]
  },
  {
   "cell_type": "code",
   "execution_count": 76,
   "id": "e22df208-5a91-491b-a4d3-ea9ef98429a5",
   "metadata": {},
   "outputs": [
    {
     "data": {
      "text/html": [
       "<div>\n",
       "<style scoped>\n",
       "    .dataframe tbody tr th:only-of-type {\n",
       "        vertical-align: middle;\n",
       "    }\n",
       "\n",
       "    .dataframe tbody tr th {\n",
       "        vertical-align: top;\n",
       "    }\n",
       "\n",
       "    .dataframe thead th {\n",
       "        text-align: right;\n",
       "    }\n",
       "</style>\n",
       "<table border=\"1\" class=\"dataframe\">\n",
       "  <thead>\n",
       "    <tr style=\"text-align: right;\">\n",
       "      <th></th>\n",
       "      <th>customer_id</th>\n",
       "      <th>account_id</th>\n",
       "      <th>ed_id</th>\n",
       "      <th>event_name</th>\n",
       "      <th>event_timestamp</th>\n",
       "      <th>journey_steps_until_end</th>\n",
       "    </tr>\n",
       "  </thead>\n",
       "  <tbody>\n",
       "    <tr>\n",
       "      <th>4</th>\n",
       "      <td>-2147472167</td>\n",
       "      <td>[889210381]</td>\n",
       "      <td>[12, 19, 19, 19, 19, 19, 19, 19, 19, 19, 19, 1...</td>\n",
       "      <td>[application_web_approved, application_web_vie...</td>\n",
       "      <td>[2023-02-19 08:23:54+00:00, 2023-02-19 14:21:5...</td>\n",
       "      <td>[1, 2, 3, 4, 5, 6, 7, 8, 9, 10, 11, 12, 13, 14...</td>\n",
       "    </tr>\n",
       "    <tr>\n",
       "      <th>32</th>\n",
       "      <td>-2147395611</td>\n",
       "      <td>[674764100]</td>\n",
       "      <td>[29, 2, 12, 4, 4, 4, 4, 4, 11, 4, 4, 11, 4, 5,...</td>\n",
       "      <td>[account_activitation, campaign_click, applica...</td>\n",
       "      <td>[2021-06-15 00:00:00+00:00, 2021-06-15 06:00:0...</td>\n",
       "      <td>[1, 2, 3, 4, 5, 6, 7, 8, 9, 10, 11, 12, 13, 14...</td>\n",
       "    </tr>\n",
       "    <tr>\n",
       "      <th>33</th>\n",
       "      <td>-2147395574</td>\n",
       "      <td>[-1424373728]</td>\n",
       "      <td>[12, 1, 4, 4, 11, 19, 5, 6, 5, 6, 1, 1, 1, 5, ...</td>\n",
       "      <td>[application_web_approved, promotion_created, ...</td>\n",
       "      <td>[2021-09-09 07:24:48+00:00, 2021-09-09 07:25:1...</td>\n",
       "      <td>[1, 2, 3, 4, 5, 6, 7, 8, 9, 10, 11, 12, 13, 14...</td>\n",
       "    </tr>\n",
       "    <tr>\n",
       "      <th>37</th>\n",
       "      <td>-2147392179</td>\n",
       "      <td>[1388722474]</td>\n",
       "      <td>[19, 19, 19, 19, 19, 19, 3, 19, 12, 19, 4, 4, ...</td>\n",
       "      <td>[application_web_view, application_web_view, a...</td>\n",
       "      <td>[2021-01-05 21:53:03+00:00, 2021-01-05 21:53:0...</td>\n",
       "      <td>[1, 2, 3, 4, 5, 6, 7, 8, 9, 10, 11, 12, 13, 14...</td>\n",
       "    </tr>\n",
       "    <tr>\n",
       "      <th>56</th>\n",
       "      <td>-2147348925</td>\n",
       "      <td>[1046707130]</td>\n",
       "      <td>[12, 24, 24, 24, 1, 4, 4, 11, 1, 1, 5, 4, 4, 4...</td>\n",
       "      <td>[application_web_approved, campaignemail_click...</td>\n",
       "      <td>[2021-10-09 09:01:28+00:00, 2021-10-09 18:26:2...</td>\n",
       "      <td>[1, 2, 3, 4, 5, 6, 7, 8, 9, 10, 11, 12, 13, 14...</td>\n",
       "    </tr>\n",
       "  </tbody>\n",
       "</table>\n",
       "</div>"
      ],
      "text/plain": [
       "    customer_id     account_id   \n",
       "4   -2147472167    [889210381]  \\\n",
       "32  -2147395611    [674764100]   \n",
       "33  -2147395574  [-1424373728]   \n",
       "37  -2147392179   [1388722474]   \n",
       "56  -2147348925   [1046707130]   \n",
       "\n",
       "                                                ed_id   \n",
       "4   [12, 19, 19, 19, 19, 19, 19, 19, 19, 19, 19, 1...  \\\n",
       "32  [29, 2, 12, 4, 4, 4, 4, 4, 11, 4, 4, 11, 4, 5,...   \n",
       "33  [12, 1, 4, 4, 11, 19, 5, 6, 5, 6, 1, 1, 1, 5, ...   \n",
       "37  [19, 19, 19, 19, 19, 19, 3, 19, 12, 19, 4, 4, ...   \n",
       "56  [12, 24, 24, 24, 1, 4, 4, 11, 1, 1, 5, 4, 4, 4...   \n",
       "\n",
       "                                           event_name   \n",
       "4   [application_web_approved, application_web_vie...  \\\n",
       "32  [account_activitation, campaign_click, applica...   \n",
       "33  [application_web_approved, promotion_created, ...   \n",
       "37  [application_web_view, application_web_view, a...   \n",
       "56  [application_web_approved, campaignemail_click...   \n",
       "\n",
       "                                      event_timestamp   \n",
       "4   [2023-02-19 08:23:54+00:00, 2023-02-19 14:21:5...  \\\n",
       "32  [2021-06-15 00:00:00+00:00, 2021-06-15 06:00:0...   \n",
       "33  [2021-09-09 07:24:48+00:00, 2021-09-09 07:25:1...   \n",
       "37  [2021-01-05 21:53:03+00:00, 2021-01-05 21:53:0...   \n",
       "56  [2021-10-09 09:01:28+00:00, 2021-10-09 18:26:2...   \n",
       "\n",
       "                              journey_steps_until_end  \n",
       "4   [1, 2, 3, 4, 5, 6, 7, 8, 9, 10, 11, 12, 13, 14...  \n",
       "32  [1, 2, 3, 4, 5, 6, 7, 8, 9, 10, 11, 12, 13, 14...  \n",
       "33  [1, 2, 3, 4, 5, 6, 7, 8, 9, 10, 11, 12, 13, 14...  \n",
       "37  [1, 2, 3, 4, 5, 6, 7, 8, 9, 10, 11, 12, 13, 14...  \n",
       "56  [1, 2, 3, 4, 5, 6, 7, 8, 9, 10, 11, 12, 13, 14...  "
      ]
     },
     "execution_count": 76,
     "metadata": {},
     "output_type": "execute_result"
    }
   ],
   "source": [
    "cluster_1_df.head()"
   ]
  },
  {
   "cell_type": "code",
   "execution_count": 80,
   "id": "3d81eac1-7ea4-4022-9520-075eabb0c771",
   "metadata": {},
   "outputs": [],
   "source": [
    "def create_flow_counts(df):\n",
    "    # Initialize an empty list to store the source-target pairs\n",
    "    source_target_pairs = []\n",
    "\n",
    "    # Iterate over each list in the DataFrame\n",
    "    for path in df['event_name']:\n",
    "        # Extract pairs from each list\n",
    "        pairs = [(path[i], path[i+1]) for i in range(len(path)-1)]\n",
    "        source_target_pairs.extend(pairs)\n",
    "\n",
    "    # Convert the pairs into a DataFrame\n",
    "    pairs_df = pd.DataFrame(source_target_pairs, columns=['source', 'target'])\n",
    "    \n",
    "    # Aggregate and count the frequency of each pair\n",
    "    flow_counts = pairs_df.groupby(['source', 'target']).size().reset_index(name='value')\n",
    "    \n",
    "    # Create lists of unique sources and targets to define nodes\n",
    "    all_nodes = list(set(flow_counts['source']).union(set(flow_counts['target'])))\n",
    "    node_dict = {node: i for i, node in enumerate(all_nodes)}\n",
    "\n",
    "    # Map sources and targets to their respective indices\n",
    "    flow_counts['source_id'] = flow_counts['source'].map(node_dict)\n",
    "    flow_counts['target_id'] = flow_counts['target'].map(node_dict)\n",
    "    \n",
    "    return flow_counts"
   ]
  },
  {
   "cell_type": "code",
   "execution_count": 81,
   "id": "7d573dfa-1fba-4b23-93eb-abbefff17368",
   "metadata": {},
   "outputs": [],
   "source": [
    "clust_1_flow_counts = create_flow_counts(cluster_1_df)\n",
    "clust_2_flow_counts = create_flow_counts(cluster_2_df)\n",
    "clust_3_flow_counts = create_flow_counts(cluster_3_df)\n",
    "clust_4_flow_counts = create_flow_counts(cluster_4_df)"
   ]
  },
  {
   "cell_type": "code",
   "execution_count": 82,
   "id": "8c8733b0-733d-4e5d-8cbc-aff85f1e4fbb",
   "metadata": {},
   "outputs": [
    {
     "data": {
      "text/html": [
       "<div>\n",
       "<style scoped>\n",
       "    .dataframe tbody tr th:only-of-type {\n",
       "        vertical-align: middle;\n",
       "    }\n",
       "\n",
       "    .dataframe tbody tr th {\n",
       "        vertical-align: top;\n",
       "    }\n",
       "\n",
       "    .dataframe thead th {\n",
       "        text-align: right;\n",
       "    }\n",
       "</style>\n",
       "<table border=\"1\" class=\"dataframe\">\n",
       "  <thead>\n",
       "    <tr style=\"text-align: right;\">\n",
       "      <th></th>\n",
       "      <th>source</th>\n",
       "      <th>target</th>\n",
       "      <th>value</th>\n",
       "      <th>source_id</th>\n",
       "      <th>target_id</th>\n",
       "    </tr>\n",
       "  </thead>\n",
       "  <tbody>\n",
       "    <tr>\n",
       "      <th>0</th>\n",
       "      <td>account_activitation</td>\n",
       "      <td>account_activitation</td>\n",
       "      <td>12</td>\n",
       "      <td>24</td>\n",
       "      <td>24</td>\n",
       "    </tr>\n",
       "    <tr>\n",
       "      <th>1</th>\n",
       "      <td>account_activitation</td>\n",
       "      <td>account_downpaymentcleared</td>\n",
       "      <td>38810</td>\n",
       "      <td>24</td>\n",
       "      <td>11</td>\n",
       "    </tr>\n",
       "    <tr>\n",
       "      <th>2</th>\n",
       "      <td>account_activitation</td>\n",
       "      <td>account_downpaymentreceived</td>\n",
       "      <td>947</td>\n",
       "      <td>24</td>\n",
       "      <td>20</td>\n",
       "    </tr>\n",
       "    <tr>\n",
       "      <th>3</th>\n",
       "      <td>account_activitation</td>\n",
       "      <td>add_to_cart</td>\n",
       "      <td>1849</td>\n",
       "      <td>24</td>\n",
       "      <td>19</td>\n",
       "    </tr>\n",
       "    <tr>\n",
       "      <th>4</th>\n",
       "      <td>account_activitation</td>\n",
       "      <td>application_phone_approved</td>\n",
       "      <td>1968</td>\n",
       "      <td>24</td>\n",
       "      <td>0</td>\n",
       "    </tr>\n",
       "    <tr>\n",
       "      <th>...</th>\n",
       "      <td>...</td>\n",
       "      <td>...</td>\n",
       "      <td>...</td>\n",
       "      <td>...</td>\n",
       "      <td>...</td>\n",
       "    </tr>\n",
       "    <tr>\n",
       "      <th>486</th>\n",
       "      <td>view_cart</td>\n",
       "      <td>place_order_web</td>\n",
       "      <td>4490</td>\n",
       "      <td>16</td>\n",
       "      <td>4</td>\n",
       "    </tr>\n",
       "    <tr>\n",
       "      <th>487</th>\n",
       "      <td>view_cart</td>\n",
       "      <td>pre-application_(3rd_party_affiliates)</td>\n",
       "      <td>192</td>\n",
       "      <td>16</td>\n",
       "      <td>10</td>\n",
       "    </tr>\n",
       "    <tr>\n",
       "      <th>488</th>\n",
       "      <td>view_cart</td>\n",
       "      <td>promotion_created</td>\n",
       "      <td>44169</td>\n",
       "      <td>16</td>\n",
       "      <td>25</td>\n",
       "    </tr>\n",
       "    <tr>\n",
       "      <th>489</th>\n",
       "      <td>view_cart</td>\n",
       "      <td>site_registration</td>\n",
       "      <td>1152</td>\n",
       "      <td>16</td>\n",
       "      <td>17</td>\n",
       "    </tr>\n",
       "    <tr>\n",
       "      <th>490</th>\n",
       "      <td>view_cart</td>\n",
       "      <td>view_cart</td>\n",
       "      <td>379733</td>\n",
       "      <td>16</td>\n",
       "      <td>16</td>\n",
       "    </tr>\n",
       "  </tbody>\n",
       "</table>\n",
       "<p>491 rows × 5 columns</p>\n",
       "</div>"
      ],
      "text/plain": [
       "                   source                                  target   value   \n",
       "0    account_activitation                    account_activitation      12  \\\n",
       "1    account_activitation              account_downpaymentcleared   38810   \n",
       "2    account_activitation             account_downpaymentreceived     947   \n",
       "3    account_activitation                             add_to_cart    1849   \n",
       "4    account_activitation              application_phone_approved    1968   \n",
       "..                    ...                                     ...     ...   \n",
       "486             view_cart                         place_order_web    4490   \n",
       "487             view_cart  pre-application_(3rd_party_affiliates)     192   \n",
       "488             view_cart                       promotion_created   44169   \n",
       "489             view_cart                       site_registration    1152   \n",
       "490             view_cart                               view_cart  379733   \n",
       "\n",
       "     source_id  target_id  \n",
       "0           24         24  \n",
       "1           24         11  \n",
       "2           24         20  \n",
       "3           24         19  \n",
       "4           24          0  \n",
       "..         ...        ...  \n",
       "486         16          4  \n",
       "487         16         10  \n",
       "488         16         25  \n",
       "489         16         17  \n",
       "490         16         16  \n",
       "\n",
       "[491 rows x 5 columns]"
      ]
     },
     "execution_count": 82,
     "metadata": {},
     "output_type": "execute_result"
    }
   ],
   "source": [
    "clust_1_flow_counts"
   ]
  },
  {
   "cell_type": "code",
   "execution_count": 72,
   "id": "dfefdd8d-6f7b-4344-b5e4-6c0af0676071",
   "metadata": {},
   "outputs": [
    {
     "data": {
      "application/vnd.plotly.v1+json": {
       "config": {
        "plotlyServerURL": "https://plot.ly"
       },
       "data": [
        {
         "link": {
          "source": [
           24,
           24,
           24,
           24,
           24,
           24,
           24,
           24,
           24,
           24,
           24,
           24,
           24,
           24,
           24,
           24,
           24,
           24,
           24,
           24,
           24,
           24,
           24,
           11,
           11,
           11,
           11,
           11,
           11,
           11,
           11,
           11,
           11,
           11,
           11,
           11,
           11,
           11,
           11,
           11,
           11,
           11,
           11,
           20,
           20,
           20,
           20,
           20,
           20,
           20,
           20,
           20,
           20,
           20,
           20,
           20,
           20,
           20,
           19,
           19,
           19,
           19,
           19,
           19,
           19,
           19,
           19,
           19,
           19,
           19,
           19,
           19,
           19,
           19,
           19,
           19,
           19,
           19,
           19,
           19,
           0,
           0,
           0,
           0,
           0,
           0,
           0,
           0,
           0,
           0,
           0,
           0,
           0,
           0,
           0,
           0,
           0,
           0,
           0,
           0,
           0,
           0,
           23,
           23,
           23,
           23,
           23,
           23,
           23,
           23,
           23,
           23,
           6,
           6,
           6,
           6,
           6,
           6,
           6,
           6,
           6,
           6,
           6,
           6,
           6,
           6,
           6,
           6,
           6,
           6,
           6,
           6,
           6,
           6,
           6,
           5,
           5,
           5,
           5,
           5,
           5,
           5,
           5,
           5,
           5,
           5,
           5,
           5,
           5,
           5,
           5,
           5,
           5,
           5,
           5,
           5,
           14,
           8,
           8,
           8,
           8,
           8,
           8,
           8,
           8,
           8,
           8,
           8,
           8,
           8,
           8,
           8,
           8,
           8,
           8,
           8,
           8,
           8,
           8,
           8,
           8,
           1,
           1,
           1,
           1,
           1,
           1,
           1,
           1,
           1,
           1,
           1,
           1,
           1,
           1,
           1,
           1,
           1,
           1,
           1,
           1,
           1,
           1,
           1,
           1,
           1,
           22,
           22,
           22,
           22,
           22,
           22,
           22,
           22,
           22,
           22,
           22,
           22,
           22,
           22,
           22,
           22,
           22,
           22,
           22,
           22,
           22,
           22,
           2,
           2,
           2,
           2,
           2,
           2,
           2,
           2,
           2,
           2,
           2,
           2,
           2,
           2,
           2,
           2,
           2,
           2,
           2,
           2,
           2,
           2,
           2,
           2,
           2,
           9,
           9,
           9,
           9,
           9,
           9,
           9,
           9,
           9,
           9,
           9,
           9,
           9,
           9,
           9,
           9,
           9,
           9,
           9,
           9,
           9,
           9,
           15,
           15,
           15,
           15,
           15,
           15,
           15,
           15,
           15,
           15,
           15,
           15,
           15,
           15,
           15,
           15,
           15,
           15,
           15,
           15,
           15,
           15,
           15,
           3,
           21,
           21,
           21,
           21,
           21,
           21,
           21,
           21,
           21,
           21,
           21,
           21,
           21,
           21,
           21,
           21,
           21,
           21,
           21,
           21,
           21,
           21,
           21,
           21,
           18,
           18,
           18,
           18,
           18,
           18,
           18,
           12,
           12,
           12,
           12,
           7,
           7,
           7,
           7,
           7,
           7,
           7,
           7,
           7,
           7,
           7,
           7,
           7,
           7,
           7,
           7,
           7,
           7,
           7,
           7,
           7,
           13,
           13,
           13,
           13,
           13,
           13,
           13,
           13,
           13,
           13,
           13,
           13,
           13,
           13,
           13,
           13,
           13,
           13,
           13,
           13,
           13,
           13,
           4,
           4,
           4,
           4,
           4,
           4,
           4,
           4,
           4,
           4,
           4,
           4,
           4,
           4,
           4,
           4,
           4,
           4,
           4,
           4,
           4,
           4,
           10,
           10,
           10,
           10,
           10,
           10,
           10,
           10,
           10,
           10,
           10,
           10,
           10,
           10,
           10,
           10,
           10,
           10,
           10,
           10,
           10,
           10,
           25,
           25,
           25,
           25,
           25,
           25,
           25,
           25,
           25,
           25,
           25,
           25,
           25,
           25,
           25,
           25,
           25,
           25,
           25,
           25,
           25,
           25,
           25,
           25,
           17,
           17,
           17,
           17,
           17,
           17,
           17,
           17,
           17,
           17,
           17,
           17,
           17,
           17,
           17,
           17,
           17,
           17,
           17,
           17,
           17,
           17,
           16,
           16,
           16,
           16,
           16,
           16,
           16,
           16,
           16,
           16,
           16,
           16,
           16,
           16,
           16,
           16,
           16,
           16,
           16,
           16,
           16,
           16,
           16,
           16
          ],
          "target": [
           24,
           11,
           20,
           19,
           0,
           23,
           6,
           5,
           8,
           1,
           22,
           2,
           9,
           15,
           21,
           12,
           7,
           13,
           4,
           10,
           25,
           17,
           16,
           24,
           19,
           6,
           5,
           8,
           1,
           22,
           2,
           9,
           15,
           21,
           18,
           12,
           7,
           13,
           4,
           10,
           25,
           17,
           16,
           24,
           11,
           19,
           6,
           8,
           1,
           22,
           2,
           15,
           21,
           7,
           13,
           25,
           17,
           16,
           24,
           11,
           20,
           19,
           0,
           6,
           5,
           8,
           1,
           22,
           2,
           9,
           15,
           21,
           12,
           7,
           13,
           4,
           10,
           25,
           17,
           16,
           24,
           11,
           20,
           19,
           0,
           23,
           5,
           8,
           1,
           22,
           2,
           9,
           15,
           21,
           12,
           7,
           13,
           4,
           10,
           25,
           17,
           16,
           24,
           0,
           23,
           8,
           1,
           9,
           15,
           13,
           25,
           16,
           24,
           11,
           20,
           19,
           0,
           6,
           5,
           8,
           1,
           22,
           2,
           9,
           15,
           21,
           18,
           12,
           7,
           13,
           4,
           10,
           25,
           17,
           16,
           24,
           11,
           20,
           19,
           0,
           23,
           6,
           5,
           8,
           1,
           22,
           2,
           9,
           15,
           12,
           7,
           13,
           10,
           25,
           17,
           16,
           25,
           24,
           11,
           20,
           19,
           0,
           23,
           6,
           5,
           14,
           8,
           1,
           22,
           2,
           9,
           15,
           21,
           12,
           7,
           13,
           4,
           10,
           25,
           17,
           16,
           24,
           11,
           20,
           19,
           0,
           23,
           6,
           5,
           8,
           1,
           22,
           2,
           9,
           15,
           3,
           21,
           18,
           12,
           7,
           13,
           4,
           10,
           25,
           17,
           16,
           24,
           11,
           20,
           19,
           0,
           6,
           5,
           8,
           1,
           22,
           2,
           9,
           15,
           21,
           12,
           7,
           13,
           4,
           10,
           25,
           17,
           16,
           24,
           11,
           20,
           19,
           0,
           23,
           6,
           5,
           8,
           1,
           22,
           2,
           9,
           15,
           3,
           21,
           18,
           12,
           7,
           13,
           4,
           10,
           25,
           17,
           16,
           24,
           11,
           20,
           19,
           0,
           6,
           5,
           8,
           1,
           22,
           2,
           9,
           15,
           21,
           12,
           7,
           13,
           4,
           10,
           25,
           17,
           16,
           24,
           11,
           20,
           19,
           0,
           23,
           6,
           5,
           8,
           1,
           22,
           2,
           9,
           15,
           21,
           12,
           7,
           13,
           4,
           10,
           25,
           17,
           16,
           25,
           24,
           11,
           20,
           19,
           0,
           23,
           6,
           5,
           8,
           1,
           22,
           2,
           9,
           15,
           21,
           18,
           12,
           7,
           13,
           4,
           10,
           25,
           17,
           16,
           24,
           1,
           2,
           15,
           18,
           25,
           16,
           24,
           11,
           21,
           12,
           24,
           11,
           20,
           19,
           6,
           5,
           8,
           1,
           22,
           2,
           9,
           15,
           21,
           12,
           7,
           13,
           4,
           10,
           25,
           17,
           16,
           24,
           11,
           20,
           19,
           0,
           23,
           6,
           5,
           8,
           1,
           22,
           2,
           9,
           15,
           21,
           12,
           7,
           13,
           4,
           25,
           17,
           16,
           24,
           11,
           20,
           19,
           0,
           6,
           5,
           8,
           1,
           22,
           2,
           9,
           15,
           21,
           12,
           7,
           13,
           4,
           10,
           25,
           17,
           16,
           24,
           11,
           20,
           19,
           0,
           6,
           5,
           8,
           1,
           22,
           2,
           9,
           15,
           21,
           12,
           7,
           13,
           4,
           10,
           25,
           17,
           16,
           24,
           11,
           20,
           19,
           0,
           23,
           6,
           5,
           8,
           1,
           22,
           2,
           9,
           15,
           21,
           18,
           12,
           7,
           13,
           4,
           10,
           25,
           17,
           16,
           24,
           11,
           20,
           19,
           0,
           6,
           5,
           8,
           1,
           22,
           2,
           9,
           15,
           21,
           12,
           7,
           13,
           4,
           10,
           25,
           17,
           16,
           24,
           11,
           20,
           19,
           0,
           6,
           5,
           8,
           1,
           22,
           2,
           9,
           15,
           3,
           21,
           18,
           12,
           7,
           13,
           4,
           10,
           25,
           17,
           16
          ],
          "value": [
           12,
           38810,
           947,
           1849,
           1968,
           9,
           17252,
           156,
           467,
           8263,
           5647,
           40775,
           13552,
           6131,
           782,
           115,
           4538,
           6355,
           1716,
           1446,
           4182,
           62,
           27631,
           15,
           222,
           46,
           1,
           27,
           856,
           139,
           26758,
           6,
           8536,
           1749,
           1,
           119118,
           4284,
           536,
           9,
           2,
           3933,
           75,
           9676,
           1,
           3170,
           11,
           2,
           5,
           65,
           25,
           706,
           247,
           39,
           81,
           44,
           96,
           10,
           378,
           2643,
           1617,
           46,
           67968,
           8,
           104,
           12,
           1039,
           2086,
           17227,
           315804,
           1770,
           2304,
           254,
           387,
           2961,
           166,
           2767,
           58,
           29349,
           95,
           375247,
           1673,
           30,
           4,
           10,
           2,
           4,
           19,
           1,
           38,
           48,
           945,
           8,
           112,
           179,
           2,
           4,
           8751,
           1,
           1,
           3484,
           1,
           132,
           20,
           153,
           6,
           1,
           8,
           3,
           2,
           10,
           4,
           4,
           4801,
           633,
           46,
           1283,
           1,
           25,
           21,
           2034,
           34904,
           3194,
           146429,
           15151,
           6336,
           1389,
           1,
           26,
           537,
           828,
           599,
           1232,
           48331,
           607,
           5210,
           185,
           17,
           1,
           2,
           214,
           3,
           436,
           39,
           237,
           3440,
           38,
           564,
           1636,
           40,
           2,
           2,
           1,
           180,
           118,
           26,
           97,
           2,
           653,
           351,
           45,
           952,
           29,
           1,
           38511,
           746,
           1,
           27284,
           114247,
           890,
           3652,
           1449,
           425,
           117,
           110,
           309,
           28,
           324,
           36,
           2723,
           88,
           1569,
           2132,
           1105,
           103,
           1443,
           167,
           4,
           48311,
           1202,
           154386,
           1030390,
           2928,
           40693,
           5839,
           2809,
           1,
           1040,
           1,
           701,
           461,
           342,
           413,
           354,
           9878,
           433,
           7586,
           11250,
           3024,
           171,
           8348,
           38,
           242,
           36,
           988,
           7652,
           76330,
           41864,
           2891,
           9081,
           2114,
           544,
           72621,
           850,
           75988,
           157,
           46591,
           225,
           253366,
           29104,
           28501,
           691,
           702369,
           46,
           1,
           1542,
           258,
           2034,
           17154,
           15074,
           2564176,
           17702,
           56177,
           2,
           11167,
           1,
           23360,
           8968,
           2267,
           3890,
           1138,
           109766,
           832,
           213386,
           5883,
           4485,
           184,
           633,
           116,
           26138,
           445,
           606,
           10298,
           1813,
           21904,
           1322,
           3842,
           700,
           55,
           582,
           421,
           158,
           11769,
           10367,
           146,
           5822,
           10008,
           16463,
           468,
           985,
           92,
           2,
           204,
           149,
           100,
           1914,
           2570,
           45682,
           1737,
           104081,
           10481,
           10217,
           1193,
           888,
           294,
           57,
           46575,
           53,
           15202,
           3,
           5528,
           847,
           30,
           53,
           312,
           1,
           565,
           2,
           60,
           1827,
           826,
           25744,
           619,
           12083,
           53670,
           1,
           1869,
           54,
           813,
           2,
           85,
           190216,
           76,
           7001,
           1,
           2,
           1,
           1,
           8,
           1,
           4,
           53,
           40,
           491,
           68,
           17836,
           32974,
           750,
           2751,
           63,
           6,
           295,
           1197,
           4464,
           25157,
           2655,
           6338,
           199,
           3419,
           29406,
           166,
           72723,
           175,
           2959,
           153,
           11791,
           4792,
           8276,
           406,
           103,
           18,
           2,
           39,
           4,
           9,
           100,
           371,
           2497,
           52,
           1361,
           131,
           998,
           26,
           1833,
           19,
           1720,
           9,
           1569,
           13858,
           20136,
           465,
           2864,
           2,
           248,
           46,
           337,
           1217,
           4740,
           17719,
           2364,
           4619,
           101,
           377,
           81973,
           107,
           636,
           163,
           2343,
           166,
           10418,
           339,
           260,
           19,
           19,
           5,
           1624,
           24,
           26,
           584,
           91,
           1545,
           22385,
           337,
           79,
           3,
           34,
           22,
           6,
           95,
           907,
           6,
           338,
           19518,
           5027,
           191,
           5639,
           224,
           5,
           3761,
           625,
           1328,
           9601,
           10401,
           111536,
           12610,
           27238,
           302836,
           1,
           4475,
           1449,
           2294,
           914,
           1030,
           411818,
           340,
           52270,
           161,
           234,
           41,
           28,
           3,
           22,
           8,
           25,
           204,
           35,
           693,
           180,
           169,
           84,
           98,
           12,
           13,
           6,
           3,
           481,
           55,
           425,
           15058,
           12545,
           521,
           28831,
           43,
           426,
           64,
           1122,
           6153,
           467823,
           374827,
           3758,
           16341,
           1,
           3195,
           4,
           9373,
           5987,
           2837,
           4490,
           192,
           44169,
           1152,
           379733
          ]
         },
         "node": {
          "label": [
           "application_phone_approved",
           "application_web_view",
           "browse_products",
           "catalog_(email)_(experian)",
           "place_order_web",
           "application_web_declined",
           "application_web_approved",
           "place_downpayment",
           "application_web_submit",
           "campaign_click",
           "pre-application_(3rd_party_affiliates)",
           "account_downpaymentcleared",
           "order_shipped",
           "place_order_phone",
           "application_web_pending",
           "campaignemail_clicked",
           "view_cart",
           "site_registration",
           "fingerhut_university",
           "add_to_cart",
           "account_downpaymentreceived",
           "catalog_(mail)",
           "begin_checkout",
           "application_phone_declined",
           "account_activitation",
           "promotion_created"
          ],
          "line": {
           "color": "black",
           "width": 0.5
          },
          "pad": 15,
          "thickness": 20
         },
         "type": "sankey"
        }
       ],
       "layout": {
        "font": {
         "size": 10
        },
        "template": {
         "data": {
          "bar": [
           {
            "error_x": {
             "color": "#2a3f5f"
            },
            "error_y": {
             "color": "#2a3f5f"
            },
            "marker": {
             "line": {
              "color": "#E5ECF6",
              "width": 0.5
             },
             "pattern": {
              "fillmode": "overlay",
              "size": 10,
              "solidity": 0.2
             }
            },
            "type": "bar"
           }
          ],
          "barpolar": [
           {
            "marker": {
             "line": {
              "color": "#E5ECF6",
              "width": 0.5
             },
             "pattern": {
              "fillmode": "overlay",
              "size": 10,
              "solidity": 0.2
             }
            },
            "type": "barpolar"
           }
          ],
          "carpet": [
           {
            "aaxis": {
             "endlinecolor": "#2a3f5f",
             "gridcolor": "white",
             "linecolor": "white",
             "minorgridcolor": "white",
             "startlinecolor": "#2a3f5f"
            },
            "baxis": {
             "endlinecolor": "#2a3f5f",
             "gridcolor": "white",
             "linecolor": "white",
             "minorgridcolor": "white",
             "startlinecolor": "#2a3f5f"
            },
            "type": "carpet"
           }
          ],
          "choropleth": [
           {
            "colorbar": {
             "outlinewidth": 0,
             "ticks": ""
            },
            "type": "choropleth"
           }
          ],
          "contour": [
           {
            "colorbar": {
             "outlinewidth": 0,
             "ticks": ""
            },
            "colorscale": [
             [
              0,
              "#0d0887"
             ],
             [
              0.1111111111111111,
              "#46039f"
             ],
             [
              0.2222222222222222,
              "#7201a8"
             ],
             [
              0.3333333333333333,
              "#9c179e"
             ],
             [
              0.4444444444444444,
              "#bd3786"
             ],
             [
              0.5555555555555556,
              "#d8576b"
             ],
             [
              0.6666666666666666,
              "#ed7953"
             ],
             [
              0.7777777777777778,
              "#fb9f3a"
             ],
             [
              0.8888888888888888,
              "#fdca26"
             ],
             [
              1,
              "#f0f921"
             ]
            ],
            "type": "contour"
           }
          ],
          "contourcarpet": [
           {
            "colorbar": {
             "outlinewidth": 0,
             "ticks": ""
            },
            "type": "contourcarpet"
           }
          ],
          "heatmap": [
           {
            "colorbar": {
             "outlinewidth": 0,
             "ticks": ""
            },
            "colorscale": [
             [
              0,
              "#0d0887"
             ],
             [
              0.1111111111111111,
              "#46039f"
             ],
             [
              0.2222222222222222,
              "#7201a8"
             ],
             [
              0.3333333333333333,
              "#9c179e"
             ],
             [
              0.4444444444444444,
              "#bd3786"
             ],
             [
              0.5555555555555556,
              "#d8576b"
             ],
             [
              0.6666666666666666,
              "#ed7953"
             ],
             [
              0.7777777777777778,
              "#fb9f3a"
             ],
             [
              0.8888888888888888,
              "#fdca26"
             ],
             [
              1,
              "#f0f921"
             ]
            ],
            "type": "heatmap"
           }
          ],
          "heatmapgl": [
           {
            "colorbar": {
             "outlinewidth": 0,
             "ticks": ""
            },
            "colorscale": [
             [
              0,
              "#0d0887"
             ],
             [
              0.1111111111111111,
              "#46039f"
             ],
             [
              0.2222222222222222,
              "#7201a8"
             ],
             [
              0.3333333333333333,
              "#9c179e"
             ],
             [
              0.4444444444444444,
              "#bd3786"
             ],
             [
              0.5555555555555556,
              "#d8576b"
             ],
             [
              0.6666666666666666,
              "#ed7953"
             ],
             [
              0.7777777777777778,
              "#fb9f3a"
             ],
             [
              0.8888888888888888,
              "#fdca26"
             ],
             [
              1,
              "#f0f921"
             ]
            ],
            "type": "heatmapgl"
           }
          ],
          "histogram": [
           {
            "marker": {
             "pattern": {
              "fillmode": "overlay",
              "size": 10,
              "solidity": 0.2
             }
            },
            "type": "histogram"
           }
          ],
          "histogram2d": [
           {
            "colorbar": {
             "outlinewidth": 0,
             "ticks": ""
            },
            "colorscale": [
             [
              0,
              "#0d0887"
             ],
             [
              0.1111111111111111,
              "#46039f"
             ],
             [
              0.2222222222222222,
              "#7201a8"
             ],
             [
              0.3333333333333333,
              "#9c179e"
             ],
             [
              0.4444444444444444,
              "#bd3786"
             ],
             [
              0.5555555555555556,
              "#d8576b"
             ],
             [
              0.6666666666666666,
              "#ed7953"
             ],
             [
              0.7777777777777778,
              "#fb9f3a"
             ],
             [
              0.8888888888888888,
              "#fdca26"
             ],
             [
              1,
              "#f0f921"
             ]
            ],
            "type": "histogram2d"
           }
          ],
          "histogram2dcontour": [
           {
            "colorbar": {
             "outlinewidth": 0,
             "ticks": ""
            },
            "colorscale": [
             [
              0,
              "#0d0887"
             ],
             [
              0.1111111111111111,
              "#46039f"
             ],
             [
              0.2222222222222222,
              "#7201a8"
             ],
             [
              0.3333333333333333,
              "#9c179e"
             ],
             [
              0.4444444444444444,
              "#bd3786"
             ],
             [
              0.5555555555555556,
              "#d8576b"
             ],
             [
              0.6666666666666666,
              "#ed7953"
             ],
             [
              0.7777777777777778,
              "#fb9f3a"
             ],
             [
              0.8888888888888888,
              "#fdca26"
             ],
             [
              1,
              "#f0f921"
             ]
            ],
            "type": "histogram2dcontour"
           }
          ],
          "mesh3d": [
           {
            "colorbar": {
             "outlinewidth": 0,
             "ticks": ""
            },
            "type": "mesh3d"
           }
          ],
          "parcoords": [
           {
            "line": {
             "colorbar": {
              "outlinewidth": 0,
              "ticks": ""
             }
            },
            "type": "parcoords"
           }
          ],
          "pie": [
           {
            "automargin": true,
            "type": "pie"
           }
          ],
          "scatter": [
           {
            "fillpattern": {
             "fillmode": "overlay",
             "size": 10,
             "solidity": 0.2
            },
            "type": "scatter"
           }
          ],
          "scatter3d": [
           {
            "line": {
             "colorbar": {
              "outlinewidth": 0,
              "ticks": ""
             }
            },
            "marker": {
             "colorbar": {
              "outlinewidth": 0,
              "ticks": ""
             }
            },
            "type": "scatter3d"
           }
          ],
          "scattercarpet": [
           {
            "marker": {
             "colorbar": {
              "outlinewidth": 0,
              "ticks": ""
             }
            },
            "type": "scattercarpet"
           }
          ],
          "scattergeo": [
           {
            "marker": {
             "colorbar": {
              "outlinewidth": 0,
              "ticks": ""
             }
            },
            "type": "scattergeo"
           }
          ],
          "scattergl": [
           {
            "marker": {
             "colorbar": {
              "outlinewidth": 0,
              "ticks": ""
             }
            },
            "type": "scattergl"
           }
          ],
          "scattermapbox": [
           {
            "marker": {
             "colorbar": {
              "outlinewidth": 0,
              "ticks": ""
             }
            },
            "type": "scattermapbox"
           }
          ],
          "scatterpolar": [
           {
            "marker": {
             "colorbar": {
              "outlinewidth": 0,
              "ticks": ""
             }
            },
            "type": "scatterpolar"
           }
          ],
          "scatterpolargl": [
           {
            "marker": {
             "colorbar": {
              "outlinewidth": 0,
              "ticks": ""
             }
            },
            "type": "scatterpolargl"
           }
          ],
          "scatterternary": [
           {
            "marker": {
             "colorbar": {
              "outlinewidth": 0,
              "ticks": ""
             }
            },
            "type": "scatterternary"
           }
          ],
          "surface": [
           {
            "colorbar": {
             "outlinewidth": 0,
             "ticks": ""
            },
            "colorscale": [
             [
              0,
              "#0d0887"
             ],
             [
              0.1111111111111111,
              "#46039f"
             ],
             [
              0.2222222222222222,
              "#7201a8"
             ],
             [
              0.3333333333333333,
              "#9c179e"
             ],
             [
              0.4444444444444444,
              "#bd3786"
             ],
             [
              0.5555555555555556,
              "#d8576b"
             ],
             [
              0.6666666666666666,
              "#ed7953"
             ],
             [
              0.7777777777777778,
              "#fb9f3a"
             ],
             [
              0.8888888888888888,
              "#fdca26"
             ],
             [
              1,
              "#f0f921"
             ]
            ],
            "type": "surface"
           }
          ],
          "table": [
           {
            "cells": {
             "fill": {
              "color": "#EBF0F8"
             },
             "line": {
              "color": "white"
             }
            },
            "header": {
             "fill": {
              "color": "#C8D4E3"
             },
             "line": {
              "color": "white"
             }
            },
            "type": "table"
           }
          ]
         },
         "layout": {
          "annotationdefaults": {
           "arrowcolor": "#2a3f5f",
           "arrowhead": 0,
           "arrowwidth": 1
          },
          "autotypenumbers": "strict",
          "coloraxis": {
           "colorbar": {
            "outlinewidth": 0,
            "ticks": ""
           }
          },
          "colorscale": {
           "diverging": [
            [
             0,
             "#8e0152"
            ],
            [
             0.1,
             "#c51b7d"
            ],
            [
             0.2,
             "#de77ae"
            ],
            [
             0.3,
             "#f1b6da"
            ],
            [
             0.4,
             "#fde0ef"
            ],
            [
             0.5,
             "#f7f7f7"
            ],
            [
             0.6,
             "#e6f5d0"
            ],
            [
             0.7,
             "#b8e186"
            ],
            [
             0.8,
             "#7fbc41"
            ],
            [
             0.9,
             "#4d9221"
            ],
            [
             1,
             "#276419"
            ]
           ],
           "sequential": [
            [
             0,
             "#0d0887"
            ],
            [
             0.1111111111111111,
             "#46039f"
            ],
            [
             0.2222222222222222,
             "#7201a8"
            ],
            [
             0.3333333333333333,
             "#9c179e"
            ],
            [
             0.4444444444444444,
             "#bd3786"
            ],
            [
             0.5555555555555556,
             "#d8576b"
            ],
            [
             0.6666666666666666,
             "#ed7953"
            ],
            [
             0.7777777777777778,
             "#fb9f3a"
            ],
            [
             0.8888888888888888,
             "#fdca26"
            ],
            [
             1,
             "#f0f921"
            ]
           ],
           "sequentialminus": [
            [
             0,
             "#0d0887"
            ],
            [
             0.1111111111111111,
             "#46039f"
            ],
            [
             0.2222222222222222,
             "#7201a8"
            ],
            [
             0.3333333333333333,
             "#9c179e"
            ],
            [
             0.4444444444444444,
             "#bd3786"
            ],
            [
             0.5555555555555556,
             "#d8576b"
            ],
            [
             0.6666666666666666,
             "#ed7953"
            ],
            [
             0.7777777777777778,
             "#fb9f3a"
            ],
            [
             0.8888888888888888,
             "#fdca26"
            ],
            [
             1,
             "#f0f921"
            ]
           ]
          },
          "colorway": [
           "#636efa",
           "#EF553B",
           "#00cc96",
           "#ab63fa",
           "#FFA15A",
           "#19d3f3",
           "#FF6692",
           "#B6E880",
           "#FF97FF",
           "#FECB52"
          ],
          "font": {
           "color": "#2a3f5f"
          },
          "geo": {
           "bgcolor": "white",
           "lakecolor": "white",
           "landcolor": "#E5ECF6",
           "showlakes": true,
           "showland": true,
           "subunitcolor": "white"
          },
          "hoverlabel": {
           "align": "left"
          },
          "hovermode": "closest",
          "mapbox": {
           "style": "light"
          },
          "paper_bgcolor": "white",
          "plot_bgcolor": "#E5ECF6",
          "polar": {
           "angularaxis": {
            "gridcolor": "white",
            "linecolor": "white",
            "ticks": ""
           },
           "bgcolor": "#E5ECF6",
           "radialaxis": {
            "gridcolor": "white",
            "linecolor": "white",
            "ticks": ""
           }
          },
          "scene": {
           "xaxis": {
            "backgroundcolor": "#E5ECF6",
            "gridcolor": "white",
            "gridwidth": 2,
            "linecolor": "white",
            "showbackground": true,
            "ticks": "",
            "zerolinecolor": "white"
           },
           "yaxis": {
            "backgroundcolor": "#E5ECF6",
            "gridcolor": "white",
            "gridwidth": 2,
            "linecolor": "white",
            "showbackground": true,
            "ticks": "",
            "zerolinecolor": "white"
           },
           "zaxis": {
            "backgroundcolor": "#E5ECF6",
            "gridcolor": "white",
            "gridwidth": 2,
            "linecolor": "white",
            "showbackground": true,
            "ticks": "",
            "zerolinecolor": "white"
           }
          },
          "shapedefaults": {
           "line": {
            "color": "#2a3f5f"
           }
          },
          "ternary": {
           "aaxis": {
            "gridcolor": "white",
            "linecolor": "white",
            "ticks": ""
           },
           "baxis": {
            "gridcolor": "white",
            "linecolor": "white",
            "ticks": ""
           },
           "bgcolor": "#E5ECF6",
           "caxis": {
            "gridcolor": "white",
            "linecolor": "white",
            "ticks": ""
           }
          },
          "title": {
           "x": 0.05
          },
          "xaxis": {
           "automargin": true,
           "gridcolor": "white",
           "linecolor": "white",
           "ticks": "",
           "title": {
            "standoff": 15
           },
           "zerolinecolor": "white",
           "zerolinewidth": 2
          },
          "yaxis": {
           "automargin": true,
           "gridcolor": "white",
           "linecolor": "white",
           "ticks": "",
           "title": {
            "standoff": 15
           },
           "zerolinecolor": "white",
           "zerolinewidth": 2
          }
         }
        },
        "title": {
         "text": "Example Sankey Diagram"
        }
       }
      },
      "text/html": [
       "<div>                            <div id=\"23392171-98cf-4bc8-81d3-f3328d041f19\" class=\"plotly-graph-div\" style=\"height:525px; width:100%;\"></div>            <script type=\"text/javascript\">                require([\"plotly\"], function(Plotly) {                    window.PLOTLYENV=window.PLOTLYENV || {};                                    if (document.getElementById(\"23392171-98cf-4bc8-81d3-f3328d041f19\")) {                    Plotly.newPlot(                        \"23392171-98cf-4bc8-81d3-f3328d041f19\",                        [{\"link\":{\"source\":[24,24,24,24,24,24,24,24,24,24,24,24,24,24,24,24,24,24,24,24,24,24,24,11,11,11,11,11,11,11,11,11,11,11,11,11,11,11,11,11,11,11,11,20,20,20,20,20,20,20,20,20,20,20,20,20,20,20,19,19,19,19,19,19,19,19,19,19,19,19,19,19,19,19,19,19,19,19,19,19,0,0,0,0,0,0,0,0,0,0,0,0,0,0,0,0,0,0,0,0,0,0,23,23,23,23,23,23,23,23,23,23,6,6,6,6,6,6,6,6,6,6,6,6,6,6,6,6,6,6,6,6,6,6,6,5,5,5,5,5,5,5,5,5,5,5,5,5,5,5,5,5,5,5,5,5,14,8,8,8,8,8,8,8,8,8,8,8,8,8,8,8,8,8,8,8,8,8,8,8,8,1,1,1,1,1,1,1,1,1,1,1,1,1,1,1,1,1,1,1,1,1,1,1,1,1,22,22,22,22,22,22,22,22,22,22,22,22,22,22,22,22,22,22,22,22,22,22,2,2,2,2,2,2,2,2,2,2,2,2,2,2,2,2,2,2,2,2,2,2,2,2,2,9,9,9,9,9,9,9,9,9,9,9,9,9,9,9,9,9,9,9,9,9,9,15,15,15,15,15,15,15,15,15,15,15,15,15,15,15,15,15,15,15,15,15,15,15,3,21,21,21,21,21,21,21,21,21,21,21,21,21,21,21,21,21,21,21,21,21,21,21,21,18,18,18,18,18,18,18,12,12,12,12,7,7,7,7,7,7,7,7,7,7,7,7,7,7,7,7,7,7,7,7,7,13,13,13,13,13,13,13,13,13,13,13,13,13,13,13,13,13,13,13,13,13,13,4,4,4,4,4,4,4,4,4,4,4,4,4,4,4,4,4,4,4,4,4,4,10,10,10,10,10,10,10,10,10,10,10,10,10,10,10,10,10,10,10,10,10,10,25,25,25,25,25,25,25,25,25,25,25,25,25,25,25,25,25,25,25,25,25,25,25,25,17,17,17,17,17,17,17,17,17,17,17,17,17,17,17,17,17,17,17,17,17,17,16,16,16,16,16,16,16,16,16,16,16,16,16,16,16,16,16,16,16,16,16,16,16,16],\"target\":[24,11,20,19,0,23,6,5,8,1,22,2,9,15,21,12,7,13,4,10,25,17,16,24,19,6,5,8,1,22,2,9,15,21,18,12,7,13,4,10,25,17,16,24,11,19,6,8,1,22,2,15,21,7,13,25,17,16,24,11,20,19,0,6,5,8,1,22,2,9,15,21,12,7,13,4,10,25,17,16,24,11,20,19,0,23,5,8,1,22,2,9,15,21,12,7,13,4,10,25,17,16,24,0,23,8,1,9,15,13,25,16,24,11,20,19,0,6,5,8,1,22,2,9,15,21,18,12,7,13,4,10,25,17,16,24,11,20,19,0,23,6,5,8,1,22,2,9,15,12,7,13,10,25,17,16,25,24,11,20,19,0,23,6,5,14,8,1,22,2,9,15,21,12,7,13,4,10,25,17,16,24,11,20,19,0,23,6,5,8,1,22,2,9,15,3,21,18,12,7,13,4,10,25,17,16,24,11,20,19,0,6,5,8,1,22,2,9,15,21,12,7,13,4,10,25,17,16,24,11,20,19,0,23,6,5,8,1,22,2,9,15,3,21,18,12,7,13,4,10,25,17,16,24,11,20,19,0,6,5,8,1,22,2,9,15,21,12,7,13,4,10,25,17,16,24,11,20,19,0,23,6,5,8,1,22,2,9,15,21,12,7,13,4,10,25,17,16,25,24,11,20,19,0,23,6,5,8,1,22,2,9,15,21,18,12,7,13,4,10,25,17,16,24,1,2,15,18,25,16,24,11,21,12,24,11,20,19,6,5,8,1,22,2,9,15,21,12,7,13,4,10,25,17,16,24,11,20,19,0,23,6,5,8,1,22,2,9,15,21,12,7,13,4,25,17,16,24,11,20,19,0,6,5,8,1,22,2,9,15,21,12,7,13,4,10,25,17,16,24,11,20,19,0,6,5,8,1,22,2,9,15,21,12,7,13,4,10,25,17,16,24,11,20,19,0,23,6,5,8,1,22,2,9,15,21,18,12,7,13,4,10,25,17,16,24,11,20,19,0,6,5,8,1,22,2,9,15,21,12,7,13,4,10,25,17,16,24,11,20,19,0,6,5,8,1,22,2,9,15,3,21,18,12,7,13,4,10,25,17,16],\"value\":[12,38810,947,1849,1968,9,17252,156,467,8263,5647,40775,13552,6131,782,115,4538,6355,1716,1446,4182,62,27631,15,222,46,1,27,856,139,26758,6,8536,1749,1,119118,4284,536,9,2,3933,75,9676,1,3170,11,2,5,65,25,706,247,39,81,44,96,10,378,2643,1617,46,67968,8,104,12,1039,2086,17227,315804,1770,2304,254,387,2961,166,2767,58,29349,95,375247,1673,30,4,10,2,4,19,1,38,48,945,8,112,179,2,4,8751,1,1,3484,1,132,20,153,6,1,8,3,2,10,4,4,4801,633,46,1283,1,25,21,2034,34904,3194,146429,15151,6336,1389,1,26,537,828,599,1232,48331,607,5210,185,17,1,2,214,3,436,39,237,3440,38,564,1636,40,2,2,1,180,118,26,97,2,653,351,45,952,29,1,38511,746,1,27284,114247,890,3652,1449,425,117,110,309,28,324,36,2723,88,1569,2132,1105,103,1443,167,4,48311,1202,154386,1030390,2928,40693,5839,2809,1,1040,1,701,461,342,413,354,9878,433,7586,11250,3024,171,8348,38,242,36,988,7652,76330,41864,2891,9081,2114,544,72621,850,75988,157,46591,225,253366,29104,28501,691,702369,46,1,1542,258,2034,17154,15074,2564176,17702,56177,2,11167,1,23360,8968,2267,3890,1138,109766,832,213386,5883,4485,184,633,116,26138,445,606,10298,1813,21904,1322,3842,700,55,582,421,158,11769,10367,146,5822,10008,16463,468,985,92,2,204,149,100,1914,2570,45682,1737,104081,10481,10217,1193,888,294,57,46575,53,15202,3,5528,847,30,53,312,1,565,2,60,1827,826,25744,619,12083,53670,1,1869,54,813,2,85,190216,76,7001,1,2,1,1,8,1,4,53,40,491,68,17836,32974,750,2751,63,6,295,1197,4464,25157,2655,6338,199,3419,29406,166,72723,175,2959,153,11791,4792,8276,406,103,18,2,39,4,9,100,371,2497,52,1361,131,998,26,1833,19,1720,9,1569,13858,20136,465,2864,2,248,46,337,1217,4740,17719,2364,4619,101,377,81973,107,636,163,2343,166,10418,339,260,19,19,5,1624,24,26,584,91,1545,22385,337,79,3,34,22,6,95,907,6,338,19518,5027,191,5639,224,5,3761,625,1328,9601,10401,111536,12610,27238,302836,1,4475,1449,2294,914,1030,411818,340,52270,161,234,41,28,3,22,8,25,204,35,693,180,169,84,98,12,13,6,3,481,55,425,15058,12545,521,28831,43,426,64,1122,6153,467823,374827,3758,16341,1,3195,4,9373,5987,2837,4490,192,44169,1152,379733]},\"node\":{\"label\":[\"application_phone_approved\",\"application_web_view\",\"browse_products\",\"catalog_(email)_(experian)\",\"place_order_web\",\"application_web_declined\",\"application_web_approved\",\"place_downpayment\",\"application_web_submit\",\"campaign_click\",\"pre-application_(3rd_party_affiliates)\",\"account_downpaymentcleared\",\"order_shipped\",\"place_order_phone\",\"application_web_pending\",\"campaignemail_clicked\",\"view_cart\",\"site_registration\",\"fingerhut_university\",\"add_to_cart\",\"account_downpaymentreceived\",\"catalog_(mail)\",\"begin_checkout\",\"application_phone_declined\",\"account_activitation\",\"promotion_created\"],\"line\":{\"color\":\"black\",\"width\":0.5},\"pad\":15,\"thickness\":20},\"type\":\"sankey\"}],                        {\"template\":{\"data\":{\"histogram2dcontour\":[{\"type\":\"histogram2dcontour\",\"colorbar\":{\"outlinewidth\":0,\"ticks\":\"\"},\"colorscale\":[[0.0,\"#0d0887\"],[0.1111111111111111,\"#46039f\"],[0.2222222222222222,\"#7201a8\"],[0.3333333333333333,\"#9c179e\"],[0.4444444444444444,\"#bd3786\"],[0.5555555555555556,\"#d8576b\"],[0.6666666666666666,\"#ed7953\"],[0.7777777777777778,\"#fb9f3a\"],[0.8888888888888888,\"#fdca26\"],[1.0,\"#f0f921\"]]}],\"choropleth\":[{\"type\":\"choropleth\",\"colorbar\":{\"outlinewidth\":0,\"ticks\":\"\"}}],\"histogram2d\":[{\"type\":\"histogram2d\",\"colorbar\":{\"outlinewidth\":0,\"ticks\":\"\"},\"colorscale\":[[0.0,\"#0d0887\"],[0.1111111111111111,\"#46039f\"],[0.2222222222222222,\"#7201a8\"],[0.3333333333333333,\"#9c179e\"],[0.4444444444444444,\"#bd3786\"],[0.5555555555555556,\"#d8576b\"],[0.6666666666666666,\"#ed7953\"],[0.7777777777777778,\"#fb9f3a\"],[0.8888888888888888,\"#fdca26\"],[1.0,\"#f0f921\"]]}],\"heatmap\":[{\"type\":\"heatmap\",\"colorbar\":{\"outlinewidth\":0,\"ticks\":\"\"},\"colorscale\":[[0.0,\"#0d0887\"],[0.1111111111111111,\"#46039f\"],[0.2222222222222222,\"#7201a8\"],[0.3333333333333333,\"#9c179e\"],[0.4444444444444444,\"#bd3786\"],[0.5555555555555556,\"#d8576b\"],[0.6666666666666666,\"#ed7953\"],[0.7777777777777778,\"#fb9f3a\"],[0.8888888888888888,\"#fdca26\"],[1.0,\"#f0f921\"]]}],\"heatmapgl\":[{\"type\":\"heatmapgl\",\"colorbar\":{\"outlinewidth\":0,\"ticks\":\"\"},\"colorscale\":[[0.0,\"#0d0887\"],[0.1111111111111111,\"#46039f\"],[0.2222222222222222,\"#7201a8\"],[0.3333333333333333,\"#9c179e\"],[0.4444444444444444,\"#bd3786\"],[0.5555555555555556,\"#d8576b\"],[0.6666666666666666,\"#ed7953\"],[0.7777777777777778,\"#fb9f3a\"],[0.8888888888888888,\"#fdca26\"],[1.0,\"#f0f921\"]]}],\"contourcarpet\":[{\"type\":\"contourcarpet\",\"colorbar\":{\"outlinewidth\":0,\"ticks\":\"\"}}],\"contour\":[{\"type\":\"contour\",\"colorbar\":{\"outlinewidth\":0,\"ticks\":\"\"},\"colorscale\":[[0.0,\"#0d0887\"],[0.1111111111111111,\"#46039f\"],[0.2222222222222222,\"#7201a8\"],[0.3333333333333333,\"#9c179e\"],[0.4444444444444444,\"#bd3786\"],[0.5555555555555556,\"#d8576b\"],[0.6666666666666666,\"#ed7953\"],[0.7777777777777778,\"#fb9f3a\"],[0.8888888888888888,\"#fdca26\"],[1.0,\"#f0f921\"]]}],\"surface\":[{\"type\":\"surface\",\"colorbar\":{\"outlinewidth\":0,\"ticks\":\"\"},\"colorscale\":[[0.0,\"#0d0887\"],[0.1111111111111111,\"#46039f\"],[0.2222222222222222,\"#7201a8\"],[0.3333333333333333,\"#9c179e\"],[0.4444444444444444,\"#bd3786\"],[0.5555555555555556,\"#d8576b\"],[0.6666666666666666,\"#ed7953\"],[0.7777777777777778,\"#fb9f3a\"],[0.8888888888888888,\"#fdca26\"],[1.0,\"#f0f921\"]]}],\"mesh3d\":[{\"type\":\"mesh3d\",\"colorbar\":{\"outlinewidth\":0,\"ticks\":\"\"}}],\"scatter\":[{\"fillpattern\":{\"fillmode\":\"overlay\",\"size\":10,\"solidity\":0.2},\"type\":\"scatter\"}],\"parcoords\":[{\"type\":\"parcoords\",\"line\":{\"colorbar\":{\"outlinewidth\":0,\"ticks\":\"\"}}}],\"scatterpolargl\":[{\"type\":\"scatterpolargl\",\"marker\":{\"colorbar\":{\"outlinewidth\":0,\"ticks\":\"\"}}}],\"bar\":[{\"error_x\":{\"color\":\"#2a3f5f\"},\"error_y\":{\"color\":\"#2a3f5f\"},\"marker\":{\"line\":{\"color\":\"#E5ECF6\",\"width\":0.5},\"pattern\":{\"fillmode\":\"overlay\",\"size\":10,\"solidity\":0.2}},\"type\":\"bar\"}],\"scattergeo\":[{\"type\":\"scattergeo\",\"marker\":{\"colorbar\":{\"outlinewidth\":0,\"ticks\":\"\"}}}],\"scatterpolar\":[{\"type\":\"scatterpolar\",\"marker\":{\"colorbar\":{\"outlinewidth\":0,\"ticks\":\"\"}}}],\"histogram\":[{\"marker\":{\"pattern\":{\"fillmode\":\"overlay\",\"size\":10,\"solidity\":0.2}},\"type\":\"histogram\"}],\"scattergl\":[{\"type\":\"scattergl\",\"marker\":{\"colorbar\":{\"outlinewidth\":0,\"ticks\":\"\"}}}],\"scatter3d\":[{\"type\":\"scatter3d\",\"line\":{\"colorbar\":{\"outlinewidth\":0,\"ticks\":\"\"}},\"marker\":{\"colorbar\":{\"outlinewidth\":0,\"ticks\":\"\"}}}],\"scattermapbox\":[{\"type\":\"scattermapbox\",\"marker\":{\"colorbar\":{\"outlinewidth\":0,\"ticks\":\"\"}}}],\"scatterternary\":[{\"type\":\"scatterternary\",\"marker\":{\"colorbar\":{\"outlinewidth\":0,\"ticks\":\"\"}}}],\"scattercarpet\":[{\"type\":\"scattercarpet\",\"marker\":{\"colorbar\":{\"outlinewidth\":0,\"ticks\":\"\"}}}],\"carpet\":[{\"aaxis\":{\"endlinecolor\":\"#2a3f5f\",\"gridcolor\":\"white\",\"linecolor\":\"white\",\"minorgridcolor\":\"white\",\"startlinecolor\":\"#2a3f5f\"},\"baxis\":{\"endlinecolor\":\"#2a3f5f\",\"gridcolor\":\"white\",\"linecolor\":\"white\",\"minorgridcolor\":\"white\",\"startlinecolor\":\"#2a3f5f\"},\"type\":\"carpet\"}],\"table\":[{\"cells\":{\"fill\":{\"color\":\"#EBF0F8\"},\"line\":{\"color\":\"white\"}},\"header\":{\"fill\":{\"color\":\"#C8D4E3\"},\"line\":{\"color\":\"white\"}},\"type\":\"table\"}],\"barpolar\":[{\"marker\":{\"line\":{\"color\":\"#E5ECF6\",\"width\":0.5},\"pattern\":{\"fillmode\":\"overlay\",\"size\":10,\"solidity\":0.2}},\"type\":\"barpolar\"}],\"pie\":[{\"automargin\":true,\"type\":\"pie\"}]},\"layout\":{\"autotypenumbers\":\"strict\",\"colorway\":[\"#636efa\",\"#EF553B\",\"#00cc96\",\"#ab63fa\",\"#FFA15A\",\"#19d3f3\",\"#FF6692\",\"#B6E880\",\"#FF97FF\",\"#FECB52\"],\"font\":{\"color\":\"#2a3f5f\"},\"hovermode\":\"closest\",\"hoverlabel\":{\"align\":\"left\"},\"paper_bgcolor\":\"white\",\"plot_bgcolor\":\"#E5ECF6\",\"polar\":{\"bgcolor\":\"#E5ECF6\",\"angularaxis\":{\"gridcolor\":\"white\",\"linecolor\":\"white\",\"ticks\":\"\"},\"radialaxis\":{\"gridcolor\":\"white\",\"linecolor\":\"white\",\"ticks\":\"\"}},\"ternary\":{\"bgcolor\":\"#E5ECF6\",\"aaxis\":{\"gridcolor\":\"white\",\"linecolor\":\"white\",\"ticks\":\"\"},\"baxis\":{\"gridcolor\":\"white\",\"linecolor\":\"white\",\"ticks\":\"\"},\"caxis\":{\"gridcolor\":\"white\",\"linecolor\":\"white\",\"ticks\":\"\"}},\"coloraxis\":{\"colorbar\":{\"outlinewidth\":0,\"ticks\":\"\"}},\"colorscale\":{\"sequential\":[[0.0,\"#0d0887\"],[0.1111111111111111,\"#46039f\"],[0.2222222222222222,\"#7201a8\"],[0.3333333333333333,\"#9c179e\"],[0.4444444444444444,\"#bd3786\"],[0.5555555555555556,\"#d8576b\"],[0.6666666666666666,\"#ed7953\"],[0.7777777777777778,\"#fb9f3a\"],[0.8888888888888888,\"#fdca26\"],[1.0,\"#f0f921\"]],\"sequentialminus\":[[0.0,\"#0d0887\"],[0.1111111111111111,\"#46039f\"],[0.2222222222222222,\"#7201a8\"],[0.3333333333333333,\"#9c179e\"],[0.4444444444444444,\"#bd3786\"],[0.5555555555555556,\"#d8576b\"],[0.6666666666666666,\"#ed7953\"],[0.7777777777777778,\"#fb9f3a\"],[0.8888888888888888,\"#fdca26\"],[1.0,\"#f0f921\"]],\"diverging\":[[0,\"#8e0152\"],[0.1,\"#c51b7d\"],[0.2,\"#de77ae\"],[0.3,\"#f1b6da\"],[0.4,\"#fde0ef\"],[0.5,\"#f7f7f7\"],[0.6,\"#e6f5d0\"],[0.7,\"#b8e186\"],[0.8,\"#7fbc41\"],[0.9,\"#4d9221\"],[1,\"#276419\"]]},\"xaxis\":{\"gridcolor\":\"white\",\"linecolor\":\"white\",\"ticks\":\"\",\"title\":{\"standoff\":15},\"zerolinecolor\":\"white\",\"automargin\":true,\"zerolinewidth\":2},\"yaxis\":{\"gridcolor\":\"white\",\"linecolor\":\"white\",\"ticks\":\"\",\"title\":{\"standoff\":15},\"zerolinecolor\":\"white\",\"automargin\":true,\"zerolinewidth\":2},\"scene\":{\"xaxis\":{\"backgroundcolor\":\"#E5ECF6\",\"gridcolor\":\"white\",\"linecolor\":\"white\",\"showbackground\":true,\"ticks\":\"\",\"zerolinecolor\":\"white\",\"gridwidth\":2},\"yaxis\":{\"backgroundcolor\":\"#E5ECF6\",\"gridcolor\":\"white\",\"linecolor\":\"white\",\"showbackground\":true,\"ticks\":\"\",\"zerolinecolor\":\"white\",\"gridwidth\":2},\"zaxis\":{\"backgroundcolor\":\"#E5ECF6\",\"gridcolor\":\"white\",\"linecolor\":\"white\",\"showbackground\":true,\"ticks\":\"\",\"zerolinecolor\":\"white\",\"gridwidth\":2}},\"shapedefaults\":{\"line\":{\"color\":\"#2a3f5f\"}},\"annotationdefaults\":{\"arrowcolor\":\"#2a3f5f\",\"arrowhead\":0,\"arrowwidth\":1},\"geo\":{\"bgcolor\":\"white\",\"landcolor\":\"#E5ECF6\",\"subunitcolor\":\"white\",\"showland\":true,\"showlakes\":true,\"lakecolor\":\"white\"},\"title\":{\"x\":0.05},\"mapbox\":{\"style\":\"light\"}}},\"title\":{\"text\":\"Example Sankey Diagram\"},\"font\":{\"size\":10}},                        {\"responsive\": true}                    ).then(function(){\n",
       "                            \n",
       "var gd = document.getElementById('23392171-98cf-4bc8-81d3-f3328d041f19');\n",
       "var x = new MutationObserver(function (mutations, observer) {{\n",
       "        var display = window.getComputedStyle(gd).display;\n",
       "        if (!display || display === 'none') {{\n",
       "            console.log([gd, 'removed!']);\n",
       "            Plotly.purge(gd);\n",
       "            observer.disconnect();\n",
       "        }}\n",
       "}});\n",
       "\n",
       "// Listen for the removal of the full notebook cells\n",
       "var notebookContainer = gd.closest('#notebook-container');\n",
       "if (notebookContainer) {{\n",
       "    x.observe(notebookContainer, {childList: true});\n",
       "}}\n",
       "\n",
       "// Listen for the clearing of the current output cell\n",
       "var outputEl = gd.closest('.output');\n",
       "if (outputEl) {{\n",
       "    x.observe(outputEl, {childList: true});\n",
       "}}\n",
       "\n",
       "                        })                };                });            </script>        </div>"
      ]
     },
     "metadata": {},
     "output_type": "display_data"
    }
   ],
   "source": [
    "import plotly.graph_objects as go\n",
    "\n",
    "\n",
    "# Create the Sankey diagram\n",
    "fig = go.Figure(data=[go.Sankey(\n",
    "    node=dict(\n",
    "        pad=15,\n",
    "        thickness=20,\n",
    "        line=dict(color=\"black\", width=0.5),\n",
    "        label=all_nodes,\n",
    "    ),\n",
    "    link=dict(\n",
    "        source=flow_counts['source_id'],\n",
    "        target=flow_counts['target_id'],\n",
    "        value=flow_counts['value']\n",
    "    )\n",
    ")])\n",
    "\n",
    "fig.update_layout(title_text=\"Example Sankey Diagram\", font_size=10)\n",
    "fig.show()\n"
   ]
  },
  {
   "cell_type": "code",
   "execution_count": null,
   "id": "fc1115be-f8a7-4452-bec6-78ef83d1c89a",
   "metadata": {},
   "outputs": [],
   "source": []
  }
 ],
 "metadata": {
  "kernelspec": {
   "display_name": "Python 3",
   "language": "python",
   "name": "python3"
  },
  "language_info": {
   "codemirror_mode": {
    "name": "ipython",
    "version": 3
   },
   "file_extension": ".py",
   "mimetype": "text/x-python",
   "name": "python",
   "nbconvert_exporter": "python",
   "pygments_lexer": "ipython3",
   "version": "3.8.8"
  }
 },
 "nbformat": 4,
 "nbformat_minor": 5
}
