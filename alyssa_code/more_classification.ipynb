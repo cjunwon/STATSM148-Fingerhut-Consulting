{
 "cells": [
  {
   "cell_type": "code",
   "execution_count": 1,
   "metadata": {},
   "outputs": [],
   "source": [
    "import pandas as pd\n",
    "import numpy as np\n",
    "from matplotlib import pyplot as plt\n",
    "import seaborn as sns"
   ]
  },
  {
   "cell_type": "code",
   "execution_count": 2,
   "metadata": {},
   "outputs": [],
   "source": [
    "df = pd.read_pickle((\"/Users/alyssaliu/Desktop/StatsM148/updated_feature_engineered_data.pkl\"))"
   ]
  },
  {
   "cell_type": "code",
   "execution_count": 3,
   "metadata": {},
   "outputs": [],
   "source": [
    "sampled_df = pd.read_pickle(\"/Users/alyssaliu/Desktop/StatsM148/updated_clustering_sample_df.pkl\")"
   ]
  },
  {
   "cell_type": "code",
   "execution_count": 4,
   "metadata": {},
   "outputs": [
    {
     "data": {
      "text/html": [
       "<div>\n",
       "<style scoped>\n",
       "    .dataframe tbody tr th:only-of-type {\n",
       "        vertical-align: middle;\n",
       "    }\n",
       "\n",
       "    .dataframe tbody tr th {\n",
       "        vertical-align: top;\n",
       "    }\n",
       "\n",
       "    .dataframe thead th {\n",
       "        text-align: right;\n",
       "    }\n",
       "</style>\n",
       "<table border=\"1\" class=\"dataframe\">\n",
       "  <thead>\n",
       "    <tr style=\"text-align: right;\">\n",
       "      <th></th>\n",
       "      <th>customer_id</th>\n",
       "      <th>account_id</th>\n",
       "      <th>first_event</th>\n",
       "      <th>days_since_start</th>\n",
       "      <th>first_stage</th>\n",
       "      <th>first_event_month</th>\n",
       "      <th>first_event_day</th>\n",
       "      <th>first_event_hour</th>\n",
       "      <th>ideal_journey</th>\n",
       "      <th>promotion_exposure</th>\n",
       "    </tr>\n",
       "  </thead>\n",
       "  <tbody>\n",
       "    <tr>\n",
       "      <th>0</th>\n",
       "      <td>-2147483541</td>\n",
       "      <td>2059949086</td>\n",
       "      <td>12</td>\n",
       "      <td>715</td>\n",
       "      <td>1</td>\n",
       "      <td>10</td>\n",
       "      <td>5</td>\n",
       "      <td>8</td>\n",
       "      <td>0</td>\n",
       "      <td>1</td>\n",
       "    </tr>\n",
       "    <tr>\n",
       "      <th>1</th>\n",
       "      <td>-2147481037</td>\n",
       "      <td>-1245770865</td>\n",
       "      <td>12</td>\n",
       "      <td>25</td>\n",
       "      <td>1</td>\n",
       "      <td>8</td>\n",
       "      <td>26</td>\n",
       "      <td>12</td>\n",
       "      <td>0</td>\n",
       "      <td>1</td>\n",
       "    </tr>\n",
       "    <tr>\n",
       "      <th>2</th>\n",
       "      <td>-2147474335</td>\n",
       "      <td>-1929965268</td>\n",
       "      <td>2</td>\n",
       "      <td>159</td>\n",
       "      <td>3</td>\n",
       "      <td>4</td>\n",
       "      <td>14</td>\n",
       "      <td>1</td>\n",
       "      <td>1</td>\n",
       "      <td>1</td>\n",
       "    </tr>\n",
       "    <tr>\n",
       "      <th>3</th>\n",
       "      <td>-2147474305</td>\n",
       "      <td>1098145658</td>\n",
       "      <td>6</td>\n",
       "      <td>660</td>\n",
       "      <td>5</td>\n",
       "      <td>11</td>\n",
       "      <td>28</td>\n",
       "      <td>22</td>\n",
       "      <td>0</td>\n",
       "      <td>1</td>\n",
       "    </tr>\n",
       "    <tr>\n",
       "      <th>4</th>\n",
       "      <td>-2147472167</td>\n",
       "      <td>889210381</td>\n",
       "      <td>12</td>\n",
       "      <td>213</td>\n",
       "      <td>1</td>\n",
       "      <td>2</td>\n",
       "      <td>19</td>\n",
       "      <td>8</td>\n",
       "      <td>1</td>\n",
       "      <td>1</td>\n",
       "    </tr>\n",
       "    <tr>\n",
       "      <th>...</th>\n",
       "      <td>...</td>\n",
       "      <td>...</td>\n",
       "      <td>...</td>\n",
       "      <td>...</td>\n",
       "      <td>...</td>\n",
       "      <td>...</td>\n",
       "      <td>...</td>\n",
       "      <td>...</td>\n",
       "      <td>...</td>\n",
       "      <td>...</td>\n",
       "    </tr>\n",
       "    <tr>\n",
       "      <th>1728480</th>\n",
       "      <td>2147480051</td>\n",
       "      <td>-148210516</td>\n",
       "      <td>21</td>\n",
       "      <td>1006</td>\n",
       "      <td>7</td>\n",
       "      <td>12</td>\n",
       "      <td>18</td>\n",
       "      <td>0</td>\n",
       "      <td>0</td>\n",
       "      <td>1</td>\n",
       "    </tr>\n",
       "    <tr>\n",
       "      <th>1728481</th>\n",
       "      <td>2147480182</td>\n",
       "      <td>-1286764612</td>\n",
       "      <td>12</td>\n",
       "      <td>90</td>\n",
       "      <td>1</td>\n",
       "      <td>6</td>\n",
       "      <td>22</td>\n",
       "      <td>9</td>\n",
       "      <td>0</td>\n",
       "      <td>1</td>\n",
       "    </tr>\n",
       "    <tr>\n",
       "      <th>1728482</th>\n",
       "      <td>2147480920</td>\n",
       "      <td>496493954</td>\n",
       "      <td>2</td>\n",
       "      <td>487</td>\n",
       "      <td>3</td>\n",
       "      <td>5</td>\n",
       "      <td>21</td>\n",
       "      <td>6</td>\n",
       "      <td>0</td>\n",
       "      <td>1</td>\n",
       "    </tr>\n",
       "    <tr>\n",
       "      <th>1728483</th>\n",
       "      <td>2147482120</td>\n",
       "      <td>-488077144</td>\n",
       "      <td>12</td>\n",
       "      <td>51</td>\n",
       "      <td>1</td>\n",
       "      <td>7</td>\n",
       "      <td>30</td>\n",
       "      <td>15</td>\n",
       "      <td>0</td>\n",
       "      <td>1</td>\n",
       "    </tr>\n",
       "    <tr>\n",
       "      <th>1728484</th>\n",
       "      <td>2147483471</td>\n",
       "      <td>1556733004</td>\n",
       "      <td>12</td>\n",
       "      <td>981</td>\n",
       "      <td>1</td>\n",
       "      <td>1</td>\n",
       "      <td>11</td>\n",
       "      <td>21</td>\n",
       "      <td>0</td>\n",
       "      <td>1</td>\n",
       "    </tr>\n",
       "  </tbody>\n",
       "</table>\n",
       "<p>1728485 rows × 10 columns</p>\n",
       "</div>"
      ],
      "text/plain": [
       "         customer_id  account_id  first_event  days_since_start  first_stage  \\\n",
       "0        -2147483541  2059949086           12               715            1   \n",
       "1        -2147481037 -1245770865           12                25            1   \n",
       "2        -2147474335 -1929965268            2               159            3   \n",
       "3        -2147474305  1098145658            6               660            5   \n",
       "4        -2147472167   889210381           12               213            1   \n",
       "...              ...         ...          ...               ...          ...   \n",
       "1728480   2147480051  -148210516           21              1006            7   \n",
       "1728481   2147480182 -1286764612           12                90            1   \n",
       "1728482   2147480920   496493954            2               487            3   \n",
       "1728483   2147482120  -488077144           12                51            1   \n",
       "1728484   2147483471  1556733004           12               981            1   \n",
       "\n",
       "         first_event_month  first_event_day  first_event_hour  ideal_journey  \\\n",
       "0                       10                5                 8              0   \n",
       "1                        8               26                12              0   \n",
       "2                        4               14                 1              1   \n",
       "3                       11               28                22              0   \n",
       "4                        2               19                 8              1   \n",
       "...                    ...              ...               ...            ...   \n",
       "1728480                 12               18                 0              0   \n",
       "1728481                  6               22                 9              0   \n",
       "1728482                  5               21                 6              0   \n",
       "1728483                  7               30                15              0   \n",
       "1728484                  1               11                21              0   \n",
       "\n",
       "         promotion_exposure  \n",
       "0                         1  \n",
       "1                         1  \n",
       "2                         1  \n",
       "3                         1  \n",
       "4                         1  \n",
       "...                     ...  \n",
       "1728480                   1  \n",
       "1728481                   1  \n",
       "1728482                   1  \n",
       "1728483                   1  \n",
       "1728484                   1  \n",
       "\n",
       "[1728485 rows x 10 columns]"
      ]
     },
     "execution_count": 4,
     "metadata": {},
     "output_type": "execute_result"
    }
   ],
   "source": [
    "df"
   ]
  },
  {
   "cell_type": "code",
   "execution_count": 5,
   "metadata": {},
   "outputs": [],
   "source": [
    "model_df = df.drop(['customer_id', 'account_id'], axis = 1)\n",
    "X = model_df.drop(['ideal_journey'], axis = 1)\n",
    "y = model_df['ideal_journey'] # we use ideal_journey rather than order_shipped etc because the two variables have a correlation of 0.99"
   ]
  },
  {
   "cell_type": "code",
   "execution_count": 6,
   "metadata": {},
   "outputs": [],
   "source": [
    "from sklearn.preprocessing import StandardScaler\n",
    "from sklearn.model_selection import train_test_split"
   ]
  },
  {
   "cell_type": "code",
   "execution_count": 7,
   "metadata": {},
   "outputs": [],
   "source": [
    "# scale data\n",
    "scaler = StandardScaler()\n",
    "X_scaled = scaler.fit_transform(X)\n",
    "X_scaled = pd.DataFrame(X_scaled, columns=X.columns)"
   ]
  },
  {
   "cell_type": "code",
   "execution_count": 15,
   "metadata": {},
   "outputs": [],
   "source": [
    "X_train, X_test, y_train, y_test = train_test_split(X, y, test_size=0.33, random_state=42)"
   ]
  },
  {
   "cell_type": "code",
   "execution_count": 11,
   "metadata": {},
   "outputs": [],
   "source": [
    "from xgboost import XGBClassifier\n",
    "from sklearn.metrics import classification_report, roc_auc_score"
   ]
  },
  {
   "cell_type": "code",
   "execution_count": 19,
   "metadata": {},
   "outputs": [
    {
     "data": {
      "text/plain": [
       "ideal_journey\n",
       "0    946061\n",
       "1    212023\n",
       "Name: count, dtype: int64"
      ]
     },
     "execution_count": 19,
     "metadata": {},
     "output_type": "execute_result"
    }
   ],
   "source": [
    "y_train.value_counts()"
   ]
  },
  {
   "cell_type": "code",
   "execution_count": 16,
   "metadata": {},
   "outputs": [
    {
     "name": "stdout",
     "output_type": "stream",
     "text": [
      "              precision    recall  f1-score   support\n",
      "\n",
      "           0       0.87      0.65      0.74    465695\n",
      "           1       0.27      0.57      0.36    104706\n",
      "\n",
      "    accuracy                           0.64    570401\n",
      "   macro avg       0.57      0.61      0.55    570401\n",
      "weighted avg       0.76      0.64      0.67    570401\n",
      "\n",
      "ROC AUC Score: 0.6677974466833927\n"
     ]
    }
   ],
   "source": [
    "scale_pos_weight = y_train.value_counts()[0] / y_train.value_counts()[1]\n",
    "\n",
    "# Initialize XGBoost with parameters that are suitable for imbalanced datasets\n",
    "xgb_model = XGBClassifier(scale_pos_weight=scale_pos_weight, use_label_encoder=False, eval_metric='logloss')\n",
    "\n",
    "# Train the model\n",
    "xgb_model.fit(X_train, y_train)\n",
    "\n",
    "# Predictions\n",
    "y_pred = xgb_model.predict(X_test)\n",
    "y_pred_proba = xgb_model.predict_proba(X_test)[:,1]\n",
    "\n",
    "# Evaluate the model\n",
    "print(classification_report(y_test, y_pred))\n",
    "roc_auc = roc_auc_score(y_test, y_pred_proba)\n",
    "print(f\"ROC AUC Score: {roc_auc}\")"
   ]
  },
  {
   "cell_type": "code",
   "execution_count": 21,
   "metadata": {},
   "outputs": [
    {
     "data": {
      "text/plain": [
       "4.462067794531725"
      ]
     },
     "execution_count": 21,
     "metadata": {},
     "output_type": "execute_result"
    }
   ],
   "source": [
    "scale_pos_weight"
   ]
  },
  {
   "cell_type": "code",
   "execution_count": 17,
   "metadata": {},
   "outputs": [],
   "source": [
    "from sklearn.model_selection import RandomizedSearchCV\n",
    "from scipy.stats import uniform, randint"
   ]
  },
  {
   "cell_type": "code",
   "execution_count": 18,
   "metadata": {},
   "outputs": [
    {
     "name": "stdout",
     "output_type": "stream",
     "text": [
      "Fitting 3 folds for each of 10 candidates, totalling 30 fits\n",
      "[CV 1/3] END colsample_bytree=0.7084991855763053, learning_rate=0.1597002065318124, max_depth=7, min_child_weight=5, n_estimators=108, subsample=0.8450666423031574;, score=0.665 total time=  20.4s\n",
      "[CV 2/3] END colsample_bytree=0.7084991855763053, learning_rate=0.1597002065318124, max_depth=7, min_child_weight=5, n_estimators=108, subsample=0.8450666423031574;, score=0.666 total time=  20.4s\n",
      "[CV 3/3] END colsample_bytree=0.7084991855763053, learning_rate=0.1597002065318124, max_depth=7, min_child_weight=5, n_estimators=108, subsample=0.8450666423031574;, score=0.666 total time=  20.6s\n",
      "[CV 1/3] END colsample_bytree=0.9713443350599842, learning_rate=0.30212087420444406, max_depth=5, min_child_weight=2, n_estimators=168, subsample=0.819289977307222;, score=0.665 total time=  24.1s\n",
      "[CV 2/3] END colsample_bytree=0.9713443350599842, learning_rate=0.30212087420444406, max_depth=5, min_child_weight=2, n_estimators=168, subsample=0.819289977307222;, score=0.665 total time=  24.2s\n",
      "[CV 3/3] END colsample_bytree=0.9713443350599842, learning_rate=0.30212087420444406, max_depth=5, min_child_weight=2, n_estimators=168, subsample=0.819289977307222;, score=0.665 total time=  24.8s\n",
      "[CV 1/3] END colsample_bytree=0.9903928176386565, learning_rate=0.17395874746040466, max_depth=4, min_child_weight=2, n_estimators=327, subsample=0.9969076950769916;, score=0.665 total time=  38.6s\n",
      "[CV 2/3] END colsample_bytree=0.9903928176386565, learning_rate=0.17395874746040466, max_depth=4, min_child_weight=2, n_estimators=327, subsample=0.9969076950769916;, score=0.666 total time=  38.9s\n",
      "[CV 3/3] END colsample_bytree=0.9903928176386565, learning_rate=0.17395874746040466, max_depth=4, min_child_weight=2, n_estimators=327, subsample=0.9969076950769916;, score=0.667 total time=  41.2s\n",
      "[CV 1/3] END colsample_bytree=0.8589670779708203, learning_rate=0.06980517501039318, max_depth=6, min_child_weight=3, n_estimators=385, subsample=0.7879905169884641;, score=0.665 total time= 1.1min\n",
      "[CV 2/3] END colsample_bytree=0.8589670779708203, learning_rate=0.06980517501039318, max_depth=6, min_child_weight=3, n_estimators=385, subsample=0.7879905169884641;, score=0.666 total time= 1.1min\n",
      "[CV 3/3] END colsample_bytree=0.8589670779708203, learning_rate=0.06980517501039318, max_depth=6, min_child_weight=3, n_estimators=385, subsample=0.7879905169884641;, score=0.667 total time= 1.1min\n",
      "[CV 1/3] END colsample_bytree=0.7537810510208336, learning_rate=0.111920944076043, max_depth=7, min_child_weight=1, n_estimators=379, subsample=0.9070830203541382;, score=0.663 total time= 1.2min\n",
      "[CV 2/3] END colsample_bytree=0.7537810510208336, learning_rate=0.111920944076043, max_depth=7, min_child_weight=1, n_estimators=379, subsample=0.9070830203541382;, score=0.663 total time= 1.2min\n",
      "[CV 3/3] END colsample_bytree=0.7537810510208336, learning_rate=0.111920944076043, max_depth=7, min_child_weight=1, n_estimators=379, subsample=0.9070830203541382;, score=0.664 total time= 1.2min\n",
      "[CV 1/3] END colsample_bytree=0.9026970275325296, learning_rate=0.27540471569409963, max_depth=7, min_child_weight=1, n_estimators=378, subsample=0.9459537879422215;, score=0.656 total time= 1.2min\n",
      "[CV 1/3] END colsample_bytree=0.7449268125316721, learning_rate=0.2906161560107438, max_depth=5, min_child_weight=1, n_estimators=204, subsample=0.7291947294955223;, score=0.664 total time=  32.9s\n",
      "[CV 2/3] END colsample_bytree=0.7449268125316721, learning_rate=0.2906161560107438, max_depth=5, min_child_weight=1, n_estimators=204, subsample=0.7291947294955223;, score=0.665 total time=  33.3s\n",
      "[CV 3/3] END colsample_bytree=0.7449268125316721, learning_rate=0.2906161560107438, max_depth=5, min_child_weight=1, n_estimators=204, subsample=0.7291947294955223;, score=0.665 total time=  34.0s\n",
      "[CV 2/3] END colsample_bytree=0.9026970275325296, learning_rate=0.27540471569409963, max_depth=7, min_child_weight=1, n_estimators=378, subsample=0.9459537879422215;, score=0.657 total time= 1.2min\n",
      "[CV 1/3] END colsample_bytree=0.98777495621659, learning_rate=0.052903780798951985, max_depth=4, min_child_weight=1, n_estimators=162, subsample=0.8225483732794212;, score=0.664 total time=  26.5s\n",
      "[CV 2/3] END colsample_bytree=0.98777495621659, learning_rate=0.052903780798951985, max_depth=4, min_child_weight=1, n_estimators=162, subsample=0.8225483732794212;, score=0.665 total time=  27.0s\n",
      "[CV 1/3] END colsample_bytree=0.8322910786069659, learning_rate=0.029050503421316966, max_depth=3, min_child_weight=5, n_estimators=115, subsample=0.7844570238931259;, score=0.656 total time=  18.6s\n",
      "[CV 3/3] END colsample_bytree=0.98777495621659, learning_rate=0.052903780798951985, max_depth=4, min_child_weight=1, n_estimators=162, subsample=0.8225483732794212;, score=0.666 total time=  27.4s\n",
      "[CV 3/3] END colsample_bytree=0.9026970275325296, learning_rate=0.27540471569409963, max_depth=7, min_child_weight=1, n_estimators=378, subsample=0.9459537879422215;, score=0.657 total time= 1.2min\n",
      "[CV 2/3] END colsample_bytree=0.8322910786069659, learning_rate=0.029050503421316966, max_depth=3, min_child_weight=5, n_estimators=115, subsample=0.7844570238931259;, score=0.657 total time=  15.0s\n",
      "[CV 3/3] END colsample_bytree=0.8322910786069659, learning_rate=0.029050503421316966, max_depth=3, min_child_weight=5, n_estimators=115, subsample=0.7844570238931259;, score=0.657 total time=  13.0s\n",
      "[CV 1/3] END colsample_bytree=0.8716728299360377, learning_rate=0.10085958835878812, max_depth=9, min_child_weight=2, n_estimators=453, subsample=0.8275201034523038;, score=0.655 total time= 1.5min\n",
      "[CV 2/3] END colsample_bytree=0.8716728299360377, learning_rate=0.10085958835878812, max_depth=9, min_child_weight=2, n_estimators=453, subsample=0.8275201034523038;, score=0.656 total time= 1.4min\n",
      "[CV 3/3] END colsample_bytree=0.8716728299360377, learning_rate=0.10085958835878812, max_depth=9, min_child_weight=2, n_estimators=453, subsample=0.8275201034523038;, score=0.656 total time= 1.4min\n",
      "Best parameters found: {'colsample_bytree': 0.9903928176386565, 'learning_rate': 0.17395874746040466, 'max_depth': 4, 'min_child_weight': 2, 'n_estimators': 327, 'subsample': 0.9969076950769916}\n",
      "Best ROC AUC found: 0.6660586309665125\n"
     ]
    }
   ],
   "source": [
    "# Define a parameter grid to search\n",
    "param_dist = {\n",
    "    'n_estimators': randint(100, 500),\n",
    "    'learning_rate': uniform(0.01, 0.3),\n",
    "    'subsample': uniform(0.7, 0.3),\n",
    "    'max_depth': randint(3, 10),\n",
    "    'colsample_bytree': uniform(0.7, 0.3),\n",
    "    'min_child_weight': randint(1, 6)\n",
    "}\n",
    "\n",
    "# Initialize the XGBoost classifier\n",
    "xgb_model = XGBClassifier(use_label_encoder=False, eval_metric='logloss')\n",
    "\n",
    "# Define the RandomizedSearch object\n",
    "random_search = RandomizedSearchCV(xgb_model, param_distributions=param_dist, n_iter=10, \n",
    "                                   scoring='roc_auc', error_score=0, verbose=3, n_jobs=-1, cv=3)\n",
    "\n",
    "# Fit the RandomizedSearchCV object to the training data\n",
    "random_search.fit(X_train, y_train)\n",
    "\n",
    "# Print the best parameters and best score\n",
    "print(f\"Best parameters found: {random_search.best_params_}\")\n",
    "print(f\"Best ROC AUC found: {random_search.best_score_}\")\n"
   ]
  },
  {
   "cell_type": "code",
   "execution_count": null,
   "metadata": {},
   "outputs": [],
   "source": [
    "best_model = random_search.best_estimator_\n",
    "y_pred = best_model.predict(X_test)\n",
    "y_pred_proba = best_model.predict_proba(X_test)[:, 1]\n",
    "roc_auc = roc_auc_score(y_test, y_pred_proba)\n",
    "print(f\"ROC AUC Score: {roc_auc}\")\n",
    "classification_report(y_test, y_pred)"
   ]
  }
 ],
 "metadata": {
  "kernelspec": {
   "display_name": "Python 3",
   "language": "python",
   "name": "python3"
  },
  "language_info": {
   "codemirror_mode": {
    "name": "ipython",
    "version": 3
   },
   "file_extension": ".py",
   "mimetype": "text/x-python",
   "name": "python",
   "nbconvert_exporter": "python",
   "pygments_lexer": "ipython3",
   "version": "3.11.8"
  }
 },
 "nbformat": 4,
 "nbformat_minor": 2
}
