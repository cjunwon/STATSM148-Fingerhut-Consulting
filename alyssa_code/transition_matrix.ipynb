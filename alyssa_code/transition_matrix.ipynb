{
 "cells": [
  {
   "cell_type": "code",
   "execution_count": 1,
   "id": "f2364227-66f9-4ac7-b24d-071004bf3e88",
   "metadata": {},
   "outputs": [],
   "source": [
    "import pandas as pd\n",
    "import numpy as np"
   ]
  },
  {
   "cell_type": "code",
   "execution_count": 2,
   "id": "36544095-0756-486f-845d-5344d27ae9f1",
   "metadata": {},
   "outputs": [],
   "source": [
    "df = pd.read_pickle(\"/Users/alyssaliu/Desktop/StatsM148/wide_format_data.pkl\")"
   ]
  },
  {
   "cell_type": "code",
   "execution_count": 3,
   "id": "bc230862-6381-48e8-9100-c6c351577f1f",
   "metadata": {},
   "outputs": [
    {
     "name": "stdout",
     "output_type": "stream",
     "text": [
      "(1665688, 6)\n"
     ]
    },
    {
     "data": {
      "text/html": [
       "<div>\n",
       "<style scoped>\n",
       "    .dataframe tbody tr th:only-of-type {\n",
       "        vertical-align: middle;\n",
       "    }\n",
       "\n",
       "    .dataframe tbody tr th {\n",
       "        vertical-align: top;\n",
       "    }\n",
       "\n",
       "    .dataframe thead th {\n",
       "        text-align: right;\n",
       "    }\n",
       "</style>\n",
       "<table border=\"1\" class=\"dataframe\">\n",
       "  <thead>\n",
       "    <tr style=\"text-align: right;\">\n",
       "      <th></th>\n",
       "      <th>customer_id</th>\n",
       "      <th>account_id</th>\n",
       "      <th>ed_id</th>\n",
       "      <th>event_name</th>\n",
       "      <th>event_timestamp</th>\n",
       "      <th>journey_steps_until_end</th>\n",
       "    </tr>\n",
       "  </thead>\n",
       "  <tbody>\n",
       "    <tr>\n",
       "      <th>0</th>\n",
       "      <td>-2147483541</td>\n",
       "      <td>[2059949086]</td>\n",
       "      <td>[12, 5, 4, 11, 5, 6, 1, 4, 11, 4, 11, 5, 6, 5,...</td>\n",
       "      <td>[application_web_approved, view_cart, browse_p...</td>\n",
       "      <td>[2021-10-05 08:11:26+00:00, 2021-10-05 08:17:1...</td>\n",
       "      <td>[1, 2, 3, 4, 5, 6, 7, 8, 9, 10, 11, 12, 13, 14...</td>\n",
       "    </tr>\n",
       "    <tr>\n",
       "      <th>1</th>\n",
       "      <td>-2147481037</td>\n",
       "      <td>[-1245770865]</td>\n",
       "      <td>[12, 1, 2, 5, 5, 5, 11, 4, 4, 4, 6, 6, 6]</td>\n",
       "      <td>[application_web_approved, promotion_created, ...</td>\n",
       "      <td>[2023-08-26 12:08:34+00:00, 2023-08-26 17:18:4...</td>\n",
       "      <td>[1, 2, 3, 4, 5, 6, 7, 8, 9, 10, 11, 12, 13]</td>\n",
       "    </tr>\n",
       "    <tr>\n",
       "      <th>2</th>\n",
       "      <td>-2147474335</td>\n",
       "      <td>[-1929965268]</td>\n",
       "      <td>[2, 12, 19, 19, 19, 19, 19, 19, 19, 19, 19, 19...</td>\n",
       "      <td>[campaign_click, application_web_approved, app...</td>\n",
       "      <td>[2023-04-14 01:42:50+00:00, 2023-04-14 19:42:5...</td>\n",
       "      <td>[1, 2, 3, 4, 5, 6, 7, 8, 9, 10, 11, 12, 13, 14...</td>\n",
       "    </tr>\n",
       "    <tr>\n",
       "      <th>3</th>\n",
       "      <td>-2147474305</td>\n",
       "      <td>[1098145658]</td>\n",
       "      <td>[6, 19, 19, 19, 19, 19, 19, 19, 19, 1, 4, 19, ...</td>\n",
       "      <td>[begin_checkout, application_web_view, applica...</td>\n",
       "      <td>[2021-11-28 22:27:11+00:00, 2021-11-28 22:28:0...</td>\n",
       "      <td>[1, 2, 3, 4, 5, 6, 7, 8, 9, 10, 11, 12, 13, 14...</td>\n",
       "    </tr>\n",
       "    <tr>\n",
       "      <th>4</th>\n",
       "      <td>-2147472167</td>\n",
       "      <td>[889210381]</td>\n",
       "      <td>[12, 19, 19, 19, 19, 19, 19, 19, 19, 19, 19, 1...</td>\n",
       "      <td>[application_web_approved, application_web_vie...</td>\n",
       "      <td>[2023-02-19 08:23:54+00:00, 2023-02-19 14:21:5...</td>\n",
       "      <td>[1, 2, 3, 4, 5, 6, 7, 8, 9, 10, 11, 12, 13, 14...</td>\n",
       "    </tr>\n",
       "  </tbody>\n",
       "</table>\n",
       "</div>"
      ],
      "text/plain": [
       "   customer_id     account_id   \n",
       "0  -2147483541   [2059949086]  \\\n",
       "1  -2147481037  [-1245770865]   \n",
       "2  -2147474335  [-1929965268]   \n",
       "3  -2147474305   [1098145658]   \n",
       "4  -2147472167    [889210381]   \n",
       "\n",
       "                                               ed_id   \n",
       "0  [12, 5, 4, 11, 5, 6, 1, 4, 11, 4, 11, 5, 6, 5,...  \\\n",
       "1          [12, 1, 2, 5, 5, 5, 11, 4, 4, 4, 6, 6, 6]   \n",
       "2  [2, 12, 19, 19, 19, 19, 19, 19, 19, 19, 19, 19...   \n",
       "3  [6, 19, 19, 19, 19, 19, 19, 19, 19, 1, 4, 19, ...   \n",
       "4  [12, 19, 19, 19, 19, 19, 19, 19, 19, 19, 19, 1...   \n",
       "\n",
       "                                          event_name   \n",
       "0  [application_web_approved, view_cart, browse_p...  \\\n",
       "1  [application_web_approved, promotion_created, ...   \n",
       "2  [campaign_click, application_web_approved, app...   \n",
       "3  [begin_checkout, application_web_view, applica...   \n",
       "4  [application_web_approved, application_web_vie...   \n",
       "\n",
       "                                     event_timestamp   \n",
       "0  [2021-10-05 08:11:26+00:00, 2021-10-05 08:17:1...  \\\n",
       "1  [2023-08-26 12:08:34+00:00, 2023-08-26 17:18:4...   \n",
       "2  [2023-04-14 01:42:50+00:00, 2023-04-14 19:42:5...   \n",
       "3  [2021-11-28 22:27:11+00:00, 2021-11-28 22:28:0...   \n",
       "4  [2023-02-19 08:23:54+00:00, 2023-02-19 14:21:5...   \n",
       "\n",
       "                             journey_steps_until_end  \n",
       "0  [1, 2, 3, 4, 5, 6, 7, 8, 9, 10, 11, 12, 13, 14...  \n",
       "1        [1, 2, 3, 4, 5, 6, 7, 8, 9, 10, 11, 12, 13]  \n",
       "2  [1, 2, 3, 4, 5, 6, 7, 8, 9, 10, 11, 12, 13, 14...  \n",
       "3  [1, 2, 3, 4, 5, 6, 7, 8, 9, 10, 11, 12, 13, 14...  \n",
       "4  [1, 2, 3, 4, 5, 6, 7, 8, 9, 10, 11, 12, 13, 14...  "
      ]
     },
     "execution_count": 3,
     "metadata": {},
     "output_type": "execute_result"
    }
   ],
   "source": [
    "print(df.shape)\n",
    "df.head()"
   ]
  },
  {
   "cell_type": "code",
   "execution_count": 4,
   "id": "924518e0-107f-403a-8371-7d5a76d07327",
   "metadata": {},
   "outputs": [],
   "source": [
    "sampled_df = df.sample(n=10000, replace=False)"
   ]
  },
  {
   "cell_type": "code",
   "execution_count": 6,
   "id": "1a924109-2918-4d63-9f5a-14406d3acf82",
   "metadata": {},
   "outputs": [],
   "source": [
    "from collections import Counter"
   ]
  },
  {
   "cell_type": "code",
   "execution_count": 5,
   "id": "1762e528-7187-484b-89f9-9405e4fd8e87",
   "metadata": {},
   "outputs": [],
   "source": [
    "def extract_transitions(sequences):\n",
    "    transitions = []\n",
    "    for seq in sequences:\n",
    "        transitions.extend([(seq[i], seq[i + 1]) for i in range(len(seq) - 1)])\n",
    "    return transitions"
   ]
  },
  {
   "cell_type": "code",
   "execution_count": null,
   "id": "5910c5e1-7685-4c9f-a159-b59bc263c182",
   "metadata": {},
   "outputs": [],
   "source": [
    "# Extract all transitions\n",
    "all_transitions = extract_transitions(sampled_df['ed_id'])\n",
    "\n",
    "# Count transitions using Counter\n",
    "transition_counts = Counter(all_transitions)\n",
    "\n",
    "# Extract unique states\n",
    "states = sorted(set([item for sublist in df['sequences'] for item in sublist]))\n",
    "\n",
    "# Initialize a transition matrix with zeros\n",
    "transition_matrix = pd.DataFrame(np.zeros((len(states), len(states))), index=states, columns=states)\n",
    "\n",
    "# Fill the transition matrix with counts\n",
    "for (i, j), count in transition_counts.items():\n",
    "    transition_matrix.loc[i, j] = count\n",
    "\n",
    "# Convert counts to probabilities\n",
    "transition_matrix = transition_matrix.div(transition_matrix.sum(axis=1), axis=0)\n",
    "\n",
    "print(transition_matrix.fillna(0))\n"
   ]
  }
 ],
 "metadata": {
  "kernelspec": {
   "display_name": "Python 3",
   "language": "python",
   "name": "python3"
  },
  "language_info": {
   "codemirror_mode": {
    "name": "ipython",
    "version": 3
   },
   "file_extension": ".py",
   "mimetype": "text/x-python",
   "name": "python",
   "nbconvert_exporter": "python",
   "pygments_lexer": "ipython3",
   "version": "3.8.8"
  }
 },
 "nbformat": 4,
 "nbformat_minor": 5
}
