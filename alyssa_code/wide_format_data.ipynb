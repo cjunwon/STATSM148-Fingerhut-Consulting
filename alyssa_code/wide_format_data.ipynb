{
 "cells": [
  {
   "cell_type": "code",
   "execution_count": 1,
   "id": "ed0096d6-b5ed-4df7-b9a8-432049d42ede",
   "metadata": {},
   "outputs": [],
   "source": [
    "import pandas as pd"
   ]
  },
  {
   "cell_type": "code",
   "execution_count": 2,
   "id": "d3e05642-0dd0-40c9-b59c-f7c0ded39bfa",
   "metadata": {},
   "outputs": [],
   "source": [
    "def_df = pd.read_csv(\"/Users/alyssaliu/Desktop/StatsM148/Event Definitions.csv\")\n",
    "df = pd.read_csv(\"/Users/alyssaliu/Desktop/StatsM148/export.csv\")"
   ]
  },
  {
   "cell_type": "code",
   "execution_count": 3,
   "id": "faea3da1-7d93-4534-919b-f442e9cb2ff8",
   "metadata": {},
   "outputs": [
    {
     "data": {
      "text/html": [
       "<div>\n",
       "<style scoped>\n",
       "    .dataframe tbody tr th:only-of-type {\n",
       "        vertical-align: middle;\n",
       "    }\n",
       "\n",
       "    .dataframe tbody tr th {\n",
       "        vertical-align: top;\n",
       "    }\n",
       "\n",
       "    .dataframe thead th {\n",
       "        text-align: right;\n",
       "    }\n",
       "</style>\n",
       "<table border=\"1\" class=\"dataframe\">\n",
       "  <thead>\n",
       "    <tr style=\"text-align: right;\">\n",
       "      <th></th>\n",
       "      <th>event_name</th>\n",
       "      <th>journey_id</th>\n",
       "      <th>event_definition_id</th>\n",
       "      <th>milestone_number</th>\n",
       "      <th>stage</th>\n",
       "    </tr>\n",
       "  </thead>\n",
       "  <tbody>\n",
       "    <tr>\n",
       "      <th>0</th>\n",
       "      <td>application_phone_approved</td>\n",
       "      <td>1</td>\n",
       "      <td>15</td>\n",
       "      <td>1.0</td>\n",
       "      <td>Apply for Credit</td>\n",
       "    </tr>\n",
       "    <tr>\n",
       "      <th>1</th>\n",
       "      <td>application_phone_declined</td>\n",
       "      <td>1</td>\n",
       "      <td>16</td>\n",
       "      <td>NaN</td>\n",
       "      <td>Apply for Credit</td>\n",
       "    </tr>\n",
       "    <tr>\n",
       "      <th>2</th>\n",
       "      <td>application_phone_pending</td>\n",
       "      <td>1</td>\n",
       "      <td>17</td>\n",
       "      <td>NaN</td>\n",
       "      <td>Apply for Credit</td>\n",
       "    </tr>\n",
       "    <tr>\n",
       "      <th>3</th>\n",
       "      <td>application_web_approved</td>\n",
       "      <td>1</td>\n",
       "      <td>12</td>\n",
       "      <td>1.0</td>\n",
       "      <td>Apply for Credit</td>\n",
       "    </tr>\n",
       "    <tr>\n",
       "      <th>4</th>\n",
       "      <td>application_web_declined</td>\n",
       "      <td>1</td>\n",
       "      <td>13</td>\n",
       "      <td>NaN</td>\n",
       "      <td>Apply for Credit</td>\n",
       "    </tr>\n",
       "    <tr>\n",
       "      <th>5</th>\n",
       "      <td>application_web_pending</td>\n",
       "      <td>1</td>\n",
       "      <td>14</td>\n",
       "      <td>NaN</td>\n",
       "      <td>Apply for Credit</td>\n",
       "    </tr>\n",
       "    <tr>\n",
       "      <th>6</th>\n",
       "      <td>application_web_submit</td>\n",
       "      <td>1</td>\n",
       "      <td>3</td>\n",
       "      <td>NaN</td>\n",
       "      <td>Apply for Credit</td>\n",
       "    </tr>\n",
       "    <tr>\n",
       "      <th>7</th>\n",
       "      <td>application_web_view</td>\n",
       "      <td>1</td>\n",
       "      <td>19</td>\n",
       "      <td>NaN</td>\n",
       "      <td>Apply for Credit</td>\n",
       "    </tr>\n",
       "    <tr>\n",
       "      <th>8</th>\n",
       "      <td>account_activitation</td>\n",
       "      <td>1</td>\n",
       "      <td>29</td>\n",
       "      <td>3.0</td>\n",
       "      <td>Credit Account</td>\n",
       "    </tr>\n",
       "    <tr>\n",
       "      <th>9</th>\n",
       "      <td>account_fraud_review</td>\n",
       "      <td>1</td>\n",
       "      <td>37</td>\n",
       "      <td>NaN</td>\n",
       "      <td>Credit Account</td>\n",
       "    </tr>\n",
       "    <tr>\n",
       "      <th>10</th>\n",
       "      <td>campaign_click</td>\n",
       "      <td>1</td>\n",
       "      <td>2</td>\n",
       "      <td>NaN</td>\n",
       "      <td>Discover</td>\n",
       "    </tr>\n",
       "    <tr>\n",
       "      <th>11</th>\n",
       "      <td>customer_requested_catalog_digital</td>\n",
       "      <td>1</td>\n",
       "      <td>9</td>\n",
       "      <td>NaN</td>\n",
       "      <td>Discover</td>\n",
       "    </tr>\n",
       "    <tr>\n",
       "      <th>12</th>\n",
       "      <td>fingerhut_university</td>\n",
       "      <td>1</td>\n",
       "      <td>10</td>\n",
       "      <td>NaN</td>\n",
       "      <td>Discover</td>\n",
       "    </tr>\n",
       "    <tr>\n",
       "      <th>13</th>\n",
       "      <td>pre_application_3rd_party_affiliates</td>\n",
       "      <td>1</td>\n",
       "      <td>22</td>\n",
       "      <td>NaN</td>\n",
       "      <td>Discover</td>\n",
       "    </tr>\n",
       "    <tr>\n",
       "      <th>14</th>\n",
       "      <td>site_registration</td>\n",
       "      <td>1</td>\n",
       "      <td>23</td>\n",
       "      <td>NaN</td>\n",
       "      <td>Discover</td>\n",
       "    </tr>\n",
       "    <tr>\n",
       "      <th>15</th>\n",
       "      <td>account_downpaymentcleared</td>\n",
       "      <td>1</td>\n",
       "      <td>27</td>\n",
       "      <td>5.0</td>\n",
       "      <td>Downpayment</td>\n",
       "    </tr>\n",
       "    <tr>\n",
       "      <th>16</th>\n",
       "      <td>account_downpaymentreceived</td>\n",
       "      <td>1</td>\n",
       "      <td>26</td>\n",
       "      <td>NaN</td>\n",
       "      <td>Downpayment</td>\n",
       "    </tr>\n",
       "    <tr>\n",
       "      <th>17</th>\n",
       "      <td>place_downpayment</td>\n",
       "      <td>1</td>\n",
       "      <td>8</td>\n",
       "      <td>4.0</td>\n",
       "      <td>Downpayment</td>\n",
       "    </tr>\n",
       "    <tr>\n",
       "      <th>18</th>\n",
       "      <td>place_downpayment_phone</td>\n",
       "      <td>1</td>\n",
       "      <td>25</td>\n",
       "      <td>4.0</td>\n",
       "      <td>Downpayment</td>\n",
       "    </tr>\n",
       "    <tr>\n",
       "      <th>19</th>\n",
       "      <td>add_to_cart</td>\n",
       "      <td>1</td>\n",
       "      <td>11</td>\n",
       "      <td>NaN</td>\n",
       "      <td>First Purchase</td>\n",
       "    </tr>\n",
       "    <tr>\n",
       "      <th>20</th>\n",
       "      <td>begin_checkout</td>\n",
       "      <td>1</td>\n",
       "      <td>6</td>\n",
       "      <td>NaN</td>\n",
       "      <td>First Purchase</td>\n",
       "    </tr>\n",
       "    <tr>\n",
       "      <th>21</th>\n",
       "      <td>browse_products</td>\n",
       "      <td>1</td>\n",
       "      <td>4</td>\n",
       "      <td>NaN</td>\n",
       "      <td>First Purchase</td>\n",
       "    </tr>\n",
       "    <tr>\n",
       "      <th>22</th>\n",
       "      <td>place_order_phone</td>\n",
       "      <td>1</td>\n",
       "      <td>18</td>\n",
       "      <td>2.0</td>\n",
       "      <td>First Purchase</td>\n",
       "    </tr>\n",
       "    <tr>\n",
       "      <th>23</th>\n",
       "      <td>place_order_web</td>\n",
       "      <td>1</td>\n",
       "      <td>7</td>\n",
       "      <td>2.0</td>\n",
       "      <td>First Purchase</td>\n",
       "    </tr>\n",
       "    <tr>\n",
       "      <th>24</th>\n",
       "      <td>view_cart</td>\n",
       "      <td>1</td>\n",
       "      <td>5</td>\n",
       "      <td>NaN</td>\n",
       "      <td>First Purchase</td>\n",
       "    </tr>\n",
       "    <tr>\n",
       "      <th>25</th>\n",
       "      <td>order_shipped</td>\n",
       "      <td>1</td>\n",
       "      <td>28</td>\n",
       "      <td>6.0</td>\n",
       "      <td>Order Shipped</td>\n",
       "    </tr>\n",
       "    <tr>\n",
       "      <th>26</th>\n",
       "      <td>catalog_email_experian</td>\n",
       "      <td>1</td>\n",
       "      <td>20</td>\n",
       "      <td>NaN</td>\n",
       "      <td>Prospecting</td>\n",
       "    </tr>\n",
       "    <tr>\n",
       "      <th>27</th>\n",
       "      <td>catalog_mail</td>\n",
       "      <td>1</td>\n",
       "      <td>21</td>\n",
       "      <td>NaN</td>\n",
       "      <td>Prospecting</td>\n",
       "    </tr>\n",
       "  </tbody>\n",
       "</table>\n",
       "</div>"
      ],
      "text/plain": [
       "                              event_name  journey_id  event_definition_id  \\\n",
       "0             application_phone_approved           1                   15   \n",
       "1             application_phone_declined           1                   16   \n",
       "2              application_phone_pending           1                   17   \n",
       "3               application_web_approved           1                   12   \n",
       "4               application_web_declined           1                   13   \n",
       "5                application_web_pending           1                   14   \n",
       "6                 application_web_submit           1                    3   \n",
       "7                   application_web_view           1                   19   \n",
       "8                   account_activitation           1                   29   \n",
       "9                   account_fraud_review           1                   37   \n",
       "10                        campaign_click           1                    2   \n",
       "11    customer_requested_catalog_digital           1                    9   \n",
       "12                  fingerhut_university           1                   10   \n",
       "13  pre_application_3rd_party_affiliates           1                   22   \n",
       "14                     site_registration           1                   23   \n",
       "15            account_downpaymentcleared           1                   27   \n",
       "16           account_downpaymentreceived           1                   26   \n",
       "17                     place_downpayment           1                    8   \n",
       "18               place_downpayment_phone           1                   25   \n",
       "19                           add_to_cart           1                   11   \n",
       "20                        begin_checkout           1                    6   \n",
       "21                       browse_products           1                    4   \n",
       "22                     place_order_phone           1                   18   \n",
       "23                       place_order_web           1                    7   \n",
       "24                             view_cart           1                    5   \n",
       "25                         order_shipped           1                   28   \n",
       "26                catalog_email_experian           1                   20   \n",
       "27                          catalog_mail           1                   21   \n",
       "\n",
       "    milestone_number             stage  \n",
       "0                1.0  Apply for Credit  \n",
       "1                NaN  Apply for Credit  \n",
       "2                NaN  Apply for Credit  \n",
       "3                1.0  Apply for Credit  \n",
       "4                NaN  Apply for Credit  \n",
       "5                NaN  Apply for Credit  \n",
       "6                NaN  Apply for Credit  \n",
       "7                NaN  Apply for Credit  \n",
       "8                3.0    Credit Account  \n",
       "9                NaN    Credit Account  \n",
       "10               NaN          Discover  \n",
       "11               NaN          Discover  \n",
       "12               NaN          Discover  \n",
       "13               NaN          Discover  \n",
       "14               NaN          Discover  \n",
       "15               5.0       Downpayment  \n",
       "16               NaN       Downpayment  \n",
       "17               4.0       Downpayment  \n",
       "18               4.0       Downpayment  \n",
       "19               NaN    First Purchase  \n",
       "20               NaN    First Purchase  \n",
       "21               NaN    First Purchase  \n",
       "22               2.0    First Purchase  \n",
       "23               2.0    First Purchase  \n",
       "24               NaN    First Purchase  \n",
       "25               6.0     Order Shipped  \n",
       "26               NaN       Prospecting  \n",
       "27               NaN       Prospecting  "
      ]
     },
     "execution_count": 3,
     "metadata": {},
     "output_type": "execute_result"
    }
   ],
   "source": [
    "def_df"
   ]
  },
  {
   "cell_type": "code",
   "execution_count": 4,
   "id": "19fb44bf-b7c4-412f-b49e-9a7be9ee8416",
   "metadata": {},
   "outputs": [
    {
     "name": "stdout",
     "output_type": "stream",
     "text": [
      "(64911906, 6)\n"
     ]
    },
    {
     "data": {
      "text/html": [
       "<div>\n",
       "<style scoped>\n",
       "    .dataframe tbody tr th:only-of-type {\n",
       "        vertical-align: middle;\n",
       "    }\n",
       "\n",
       "    .dataframe tbody tr th {\n",
       "        vertical-align: top;\n",
       "    }\n",
       "\n",
       "    .dataframe thead th {\n",
       "        text-align: right;\n",
       "    }\n",
       "</style>\n",
       "<table border=\"1\" class=\"dataframe\">\n",
       "  <thead>\n",
       "    <tr style=\"text-align: right;\">\n",
       "      <th></th>\n",
       "      <th>customer_id</th>\n",
       "      <th>account_id</th>\n",
       "      <th>ed_id</th>\n",
       "      <th>event_name</th>\n",
       "      <th>event_timestamp</th>\n",
       "      <th>journey_steps_until_end</th>\n",
       "    </tr>\n",
       "  </thead>\n",
       "  <tbody>\n",
       "    <tr>\n",
       "      <th>0</th>\n",
       "      <td>-784961211</td>\n",
       "      <td>1773350293</td>\n",
       "      <td>12</td>\n",
       "      <td>application_web_approved</td>\n",
       "      <td>2023-03-22T08:45:22.000Z</td>\n",
       "      <td>1</td>\n",
       "    </tr>\n",
       "    <tr>\n",
       "      <th>1</th>\n",
       "      <td>-784961211</td>\n",
       "      <td>1773350293</td>\n",
       "      <td>19</td>\n",
       "      <td>application_web_view</td>\n",
       "      <td>2023-03-22T13:32:10.000Z</td>\n",
       "      <td>2</td>\n",
       "    </tr>\n",
       "    <tr>\n",
       "      <th>2</th>\n",
       "      <td>-784961211</td>\n",
       "      <td>1773350293</td>\n",
       "      <td>19</td>\n",
       "      <td>application_web_view</td>\n",
       "      <td>2023-03-22T13:32:10.000Z</td>\n",
       "      <td>3</td>\n",
       "    </tr>\n",
       "    <tr>\n",
       "      <th>3</th>\n",
       "      <td>-784961211</td>\n",
       "      <td>1773350293</td>\n",
       "      <td>19</td>\n",
       "      <td>application_web_view</td>\n",
       "      <td>2023-03-22T13:32:10.000Z</td>\n",
       "      <td>4</td>\n",
       "    </tr>\n",
       "    <tr>\n",
       "      <th>4</th>\n",
       "      <td>-784961211</td>\n",
       "      <td>1773350293</td>\n",
       "      <td>19</td>\n",
       "      <td>application_web_view</td>\n",
       "      <td>2023-03-22T13:32:10.000Z</td>\n",
       "      <td>5</td>\n",
       "    </tr>\n",
       "  </tbody>\n",
       "</table>\n",
       "</div>"
      ],
      "text/plain": [
       "   customer_id  account_id  ed_id                event_name  \\\n",
       "0   -784961211  1773350293     12  application_web_approved   \n",
       "1   -784961211  1773350293     19      application_web_view   \n",
       "2   -784961211  1773350293     19      application_web_view   \n",
       "3   -784961211  1773350293     19      application_web_view   \n",
       "4   -784961211  1773350293     19      application_web_view   \n",
       "\n",
       "            event_timestamp  journey_steps_until_end  \n",
       "0  2023-03-22T08:45:22.000Z                        1  \n",
       "1  2023-03-22T13:32:10.000Z                        2  \n",
       "2  2023-03-22T13:32:10.000Z                        3  \n",
       "3  2023-03-22T13:32:10.000Z                        4  \n",
       "4  2023-03-22T13:32:10.000Z                        5  "
      ]
     },
     "execution_count": 4,
     "metadata": {},
     "output_type": "execute_result"
    }
   ],
   "source": [
    "print(df.shape)\n",
    "df.head()"
   ]
  },
  {
   "cell_type": "code",
   "execution_count": 5,
   "id": "b9dcf36b",
   "metadata": {},
   "outputs": [],
   "source": [
    "df['event_timestamp'] = pd.to_datetime(df['event_timestamp']) # convert to pd datetime"
   ]
  },
  {
   "cell_type": "markdown",
   "id": "a46270a9",
   "metadata": {},
   "source": [
    "## First deal with removing duplicate events\n",
    "\n",
    "Ben said these could be ignored"
   ]
  },
  {
   "cell_type": "code",
   "execution_count": 6,
   "id": "0ae76cb3",
   "metadata": {},
   "outputs": [
    {
     "data": {
      "text/html": [
       "<div>\n",
       "<style scoped>\n",
       "    .dataframe tbody tr th:only-of-type {\n",
       "        vertical-align: middle;\n",
       "    }\n",
       "\n",
       "    .dataframe tbody tr th {\n",
       "        vertical-align: top;\n",
       "    }\n",
       "\n",
       "    .dataframe thead th {\n",
       "        text-align: right;\n",
       "    }\n",
       "</style>\n",
       "<table border=\"1\" class=\"dataframe\">\n",
       "  <thead>\n",
       "    <tr style=\"text-align: right;\">\n",
       "      <th></th>\n",
       "      <th>customer_id</th>\n",
       "      <th>account_id</th>\n",
       "      <th>ed_id</th>\n",
       "      <th>event_name</th>\n",
       "      <th>event_timestamp</th>\n",
       "    </tr>\n",
       "  </thead>\n",
       "  <tbody>\n",
       "    <tr>\n",
       "      <th>0</th>\n",
       "      <td>-784961211</td>\n",
       "      <td>1773350293</td>\n",
       "      <td>12</td>\n",
       "      <td>application_web_approved</td>\n",
       "      <td>2023-03-22 08:45:22+00:00</td>\n",
       "    </tr>\n",
       "    <tr>\n",
       "      <th>1</th>\n",
       "      <td>-784961211</td>\n",
       "      <td>1773350293</td>\n",
       "      <td>19</td>\n",
       "      <td>application_web_view</td>\n",
       "      <td>2023-03-22 13:32:10+00:00</td>\n",
       "    </tr>\n",
       "    <tr>\n",
       "      <th>14</th>\n",
       "      <td>-784961211</td>\n",
       "      <td>1773350293</td>\n",
       "      <td>3</td>\n",
       "      <td>application_web_submit</td>\n",
       "      <td>2023-03-22 13:32:10+00:00</td>\n",
       "    </tr>\n",
       "    <tr>\n",
       "      <th>15</th>\n",
       "      <td>-784961211</td>\n",
       "      <td>1773350293</td>\n",
       "      <td>2</td>\n",
       "      <td>campaign_click</td>\n",
       "      <td>2023-03-22 14:45:22+00:00</td>\n",
       "    </tr>\n",
       "    <tr>\n",
       "      <th>16</th>\n",
       "      <td>-784961211</td>\n",
       "      <td>1773350293</td>\n",
       "      <td>19</td>\n",
       "      <td>application_web_view</td>\n",
       "      <td>2023-07-27 14:57:56+00:00</td>\n",
       "    </tr>\n",
       "    <tr>\n",
       "      <th>21</th>\n",
       "      <td>-784961211</td>\n",
       "      <td>1773350293</td>\n",
       "      <td>19</td>\n",
       "      <td>application_web_view</td>\n",
       "      <td>2023-08-29 16:01:06+00:00</td>\n",
       "    </tr>\n",
       "    <tr>\n",
       "      <th>24</th>\n",
       "      <td>15849251</td>\n",
       "      <td>383997507</td>\n",
       "      <td>4</td>\n",
       "      <td>browse_products</td>\n",
       "      <td>2021-11-04 14:11:15+00:00</td>\n",
       "    </tr>\n",
       "    <tr>\n",
       "      <th>25</th>\n",
       "      <td>15849251</td>\n",
       "      <td>383997507</td>\n",
       "      <td>4</td>\n",
       "      <td>browse_products</td>\n",
       "      <td>2021-11-04 14:11:29+00:00</td>\n",
       "    </tr>\n",
       "    <tr>\n",
       "      <th>26</th>\n",
       "      <td>15849251</td>\n",
       "      <td>383997507</td>\n",
       "      <td>4</td>\n",
       "      <td>browse_products</td>\n",
       "      <td>2021-11-04 14:12:10+00:00</td>\n",
       "    </tr>\n",
       "    <tr>\n",
       "      <th>27</th>\n",
       "      <td>15849251</td>\n",
       "      <td>383997507</td>\n",
       "      <td>4</td>\n",
       "      <td>browse_products</td>\n",
       "      <td>2021-11-04 14:12:21+00:00</td>\n",
       "    </tr>\n",
       "  </tbody>\n",
       "</table>\n",
       "</div>"
      ],
      "text/plain": [
       "    customer_id  account_id  ed_id                event_name  \\\n",
       "0    -784961211  1773350293     12  application_web_approved   \n",
       "1    -784961211  1773350293     19      application_web_view   \n",
       "14   -784961211  1773350293      3    application_web_submit   \n",
       "15   -784961211  1773350293      2            campaign_click   \n",
       "16   -784961211  1773350293     19      application_web_view   \n",
       "21   -784961211  1773350293     19      application_web_view   \n",
       "24     15849251   383997507      4           browse_products   \n",
       "25     15849251   383997507      4           browse_products   \n",
       "26     15849251   383997507      4           browse_products   \n",
       "27     15849251   383997507      4           browse_products   \n",
       "\n",
       "             event_timestamp  \n",
       "0  2023-03-22 08:45:22+00:00  \n",
       "1  2023-03-22 13:32:10+00:00  \n",
       "14 2023-03-22 13:32:10+00:00  \n",
       "15 2023-03-22 14:45:22+00:00  \n",
       "16 2023-07-27 14:57:56+00:00  \n",
       "21 2023-08-29 16:01:06+00:00  \n",
       "24 2021-11-04 14:11:15+00:00  \n",
       "25 2021-11-04 14:11:29+00:00  \n",
       "26 2021-11-04 14:12:10+00:00  \n",
       "27 2021-11-04 14:12:21+00:00  "
      ]
     },
     "execution_count": 6,
     "metadata": {},
     "output_type": "execute_result"
    }
   ],
   "source": [
    "# remove duplicate rows - don't factor in journey_steps_until_end because this counts up even for duplicate rows\n",
    "df_dropped = df.drop(['journey_steps_until_end'], axis = 1)\n",
    "df_dropped = df_dropped.drop_duplicates()\n",
    "# df_dropped = df.drop(['journey_steps_until_end'], axis = 1)\n",
    "df_dropped.head(10)"
   ]
  },
  {
   "cell_type": "code",
   "execution_count": 7,
   "id": "29c6351d",
   "metadata": {},
   "outputs": [
    {
     "name": "stdout",
     "output_type": "stream",
     "text": [
      "(56853035, 5)\n"
     ]
    },
    {
     "data": {
      "text/plain": [
       "8058871"
      ]
     },
     "execution_count": 7,
     "metadata": {},
     "output_type": "execute_result"
    }
   ],
   "source": [
    "print(df_dropped.shape)\n",
    "df.shape[0] - df_dropped.shape[0] # number of duplicate rows removed ~8 million"
   ]
  },
  {
   "cell_type": "code",
   "execution_count": 8,
   "id": "e715488d",
   "metadata": {},
   "outputs": [],
   "source": [
    "df_dropped['journey_steps_until_end'] = df_dropped.groupby(['customer_id', 'account_id']).cumcount() + 1 # add journey_steps_until_end back in"
   ]
  },
  {
   "cell_type": "code",
   "execution_count": 9,
   "id": "4d7f44af",
   "metadata": {},
   "outputs": [
    {
     "data": {
      "text/html": [
       "<div>\n",
       "<style scoped>\n",
       "    .dataframe tbody tr th:only-of-type {\n",
       "        vertical-align: middle;\n",
       "    }\n",
       "\n",
       "    .dataframe tbody tr th {\n",
       "        vertical-align: top;\n",
       "    }\n",
       "\n",
       "    .dataframe thead th {\n",
       "        text-align: right;\n",
       "    }\n",
       "</style>\n",
       "<table border=\"1\" class=\"dataframe\">\n",
       "  <thead>\n",
       "    <tr style=\"text-align: right;\">\n",
       "      <th></th>\n",
       "      <th>customer_id</th>\n",
       "      <th>account_id</th>\n",
       "      <th>ed_id</th>\n",
       "      <th>event_name</th>\n",
       "      <th>event_timestamp</th>\n",
       "      <th>journey_steps_until_end</th>\n",
       "    </tr>\n",
       "  </thead>\n",
       "  <tbody>\n",
       "    <tr>\n",
       "      <th>0</th>\n",
       "      <td>-784961211</td>\n",
       "      <td>1773350293</td>\n",
       "      <td>12</td>\n",
       "      <td>application_web_approved</td>\n",
       "      <td>2023-03-22 08:45:22+00:00</td>\n",
       "      <td>1</td>\n",
       "    </tr>\n",
       "    <tr>\n",
       "      <th>1</th>\n",
       "      <td>-784961211</td>\n",
       "      <td>1773350293</td>\n",
       "      <td>19</td>\n",
       "      <td>application_web_view</td>\n",
       "      <td>2023-03-22 13:32:10+00:00</td>\n",
       "      <td>2</td>\n",
       "    </tr>\n",
       "    <tr>\n",
       "      <th>2</th>\n",
       "      <td>-784961211</td>\n",
       "      <td>1773350293</td>\n",
       "      <td>3</td>\n",
       "      <td>application_web_submit</td>\n",
       "      <td>2023-03-22 13:32:10+00:00</td>\n",
       "      <td>3</td>\n",
       "    </tr>\n",
       "    <tr>\n",
       "      <th>3</th>\n",
       "      <td>-784961211</td>\n",
       "      <td>1773350293</td>\n",
       "      <td>2</td>\n",
       "      <td>campaign_click</td>\n",
       "      <td>2023-03-22 14:45:22+00:00</td>\n",
       "      <td>4</td>\n",
       "    </tr>\n",
       "    <tr>\n",
       "      <th>4</th>\n",
       "      <td>-784961211</td>\n",
       "      <td>1773350293</td>\n",
       "      <td>19</td>\n",
       "      <td>application_web_view</td>\n",
       "      <td>2023-07-27 14:57:56+00:00</td>\n",
       "      <td>5</td>\n",
       "    </tr>\n",
       "    <tr>\n",
       "      <th>5</th>\n",
       "      <td>-784961211</td>\n",
       "      <td>1773350293</td>\n",
       "      <td>19</td>\n",
       "      <td>application_web_view</td>\n",
       "      <td>2023-08-29 16:01:06+00:00</td>\n",
       "      <td>6</td>\n",
       "    </tr>\n",
       "    <tr>\n",
       "      <th>6</th>\n",
       "      <td>15849251</td>\n",
       "      <td>383997507</td>\n",
       "      <td>4</td>\n",
       "      <td>browse_products</td>\n",
       "      <td>2021-11-04 14:11:15+00:00</td>\n",
       "      <td>1</td>\n",
       "    </tr>\n",
       "    <tr>\n",
       "      <th>7</th>\n",
       "      <td>15849251</td>\n",
       "      <td>383997507</td>\n",
       "      <td>4</td>\n",
       "      <td>browse_products</td>\n",
       "      <td>2021-11-04 14:11:29+00:00</td>\n",
       "      <td>2</td>\n",
       "    </tr>\n",
       "    <tr>\n",
       "      <th>8</th>\n",
       "      <td>15849251</td>\n",
       "      <td>383997507</td>\n",
       "      <td>4</td>\n",
       "      <td>browse_products</td>\n",
       "      <td>2021-11-04 14:12:10+00:00</td>\n",
       "      <td>3</td>\n",
       "    </tr>\n",
       "    <tr>\n",
       "      <th>9</th>\n",
       "      <td>15849251</td>\n",
       "      <td>383997507</td>\n",
       "      <td>4</td>\n",
       "      <td>browse_products</td>\n",
       "      <td>2021-11-04 14:12:21+00:00</td>\n",
       "      <td>4</td>\n",
       "    </tr>\n",
       "  </tbody>\n",
       "</table>\n",
       "</div>"
      ],
      "text/plain": [
       "   customer_id  account_id  ed_id                event_name  \\\n",
       "0   -784961211  1773350293     12  application_web_approved   \n",
       "1   -784961211  1773350293     19      application_web_view   \n",
       "2   -784961211  1773350293      3    application_web_submit   \n",
       "3   -784961211  1773350293      2            campaign_click   \n",
       "4   -784961211  1773350293     19      application_web_view   \n",
       "5   -784961211  1773350293     19      application_web_view   \n",
       "6     15849251   383997507      4           browse_products   \n",
       "7     15849251   383997507      4           browse_products   \n",
       "8     15849251   383997507      4           browse_products   \n",
       "9     15849251   383997507      4           browse_products   \n",
       "\n",
       "            event_timestamp  journey_steps_until_end  \n",
       "0 2023-03-22 08:45:22+00:00                        1  \n",
       "1 2023-03-22 13:32:10+00:00                        2  \n",
       "2 2023-03-22 13:32:10+00:00                        3  \n",
       "3 2023-03-22 14:45:22+00:00                        4  \n",
       "4 2023-07-27 14:57:56+00:00                        5  \n",
       "5 2023-08-29 16:01:06+00:00                        6  \n",
       "6 2021-11-04 14:11:15+00:00                        1  \n",
       "7 2021-11-04 14:11:29+00:00                        2  \n",
       "8 2021-11-04 14:12:10+00:00                        3  \n",
       "9 2021-11-04 14:12:21+00:00                        4  "
      ]
     },
     "execution_count": 9,
     "metadata": {},
     "output_type": "execute_result"
    }
   ],
   "source": [
    "df_dropped.reset_index(drop=True, inplace=True)\n",
    "df_dropped.head(10)"
   ]
  },
  {
   "cell_type": "code",
   "execution_count": 10,
   "id": "f0ea6c90",
   "metadata": {},
   "outputs": [
    {
     "data": {
      "text/plain": [
       "customer_id                              int64\n",
       "account_id                               int64\n",
       "ed_id                                    int64\n",
       "event_name                              object\n",
       "event_timestamp            datetime64[ns, UTC]\n",
       "journey_steps_until_end                  int64\n",
       "dtype: object"
      ]
     },
     "execution_count": 10,
     "metadata": {},
     "output_type": "execute_result"
    }
   ],
   "source": [
    "df_dropped.dtypes"
   ]
  },
  {
   "cell_type": "markdown",
   "id": "beea6013",
   "metadata": {},
   "source": [
    "## Look into removing incomplete customers\n",
    "\n",
    "Determining whether a customer is unsuccessful (quit) or incomplete (the data was just cut off, so we don't know if they ended up having a successful journey or not) \n",
    "\n",
    "according to Ben: it is a bit tricky to know if it’s a ‘quit’ or an ‘incomplete’.  What we typically look for is 60+ days since an approval, after that point we have VERY few people order if they haven’t yet.  Here’s our activation curve as of late as an example:\n",
    "\n",
    "![Image Description](cum_activation.png)\n",
    "\n",
    "I will create a dataframe for customers who have had 70+ days since activation - to weed out incomplete customers"
   ]
  },
  {
   "cell_type": "code",
   "execution_count": 17,
   "id": "c7bf4c57",
   "metadata": {},
   "outputs": [],
   "source": [
    "# get count of account_activations for each customer/account pair\n",
    "multiple_activations = df_dropped.groupby(['customer_id', 'account_id'])['event_name'].apply(lambda x: x.str.count('account_activitation').sum())"
   ]
  },
  {
   "cell_type": "code",
   "execution_count": 16,
   "id": "143e9501",
   "metadata": {},
   "outputs": [
    {
     "data": {
      "text/plain": [
       "event_name\n",
       "0    1319326\n",
       "1     414268\n",
       "2       2013\n",
       "3        160\n",
       "Name: count, dtype: int64"
      ]
     },
     "execution_count": 16,
     "metadata": {},
     "output_type": "execute_result"
    }
   ],
   "source": [
    "multiple_activations.value_counts()"
   ]
  },
  {
   "cell_type": "code",
   "execution_count": 22,
   "id": "b34b7d2e",
   "metadata": {},
   "outputs": [
    {
     "data": {
      "text/plain": [
       "customer_id  account_id \n",
       "-2147483541   2059949086    0\n",
       "-2147481037  -1245770865    0\n",
       "-2147474335  -1929965268    1\n",
       "-2147474305   1098145658    0\n",
       "-2147472167   889210381     1\n",
       "                           ..\n",
       " 2147480051  -148210516     0\n",
       " 2147480182  -1286764612    0\n",
       " 2147480920   496493954     0\n",
       " 2147482120  -488077144     0\n",
       " 2147483471   1556733004    0\n",
       "Name: event_name, Length: 1735767, dtype: int64"
      ]
     },
     "execution_count": 22,
     "metadata": {},
     "output_type": "execute_result"
    }
   ],
   "source": [
    "multiple_activations"
   ]
  },
  {
   "cell_type": "code",
   "execution_count": 43,
   "id": "5491dc5b",
   "metadata": {},
   "outputs": [],
   "source": [
    "multiple_activations = multiple_activations.reset_index()\n",
    "filt = ~df_dropped.set_index(['customer_id', 'account_id']).index.isin(multiple_activations.set_index(['customer_id', 'account_id']).index)\n",
    "df_filtered = df_dropped[filt].reset_index(drop=True)"
   ]
  },
  {
   "cell_type": "code",
   "execution_count": 45,
   "id": "0f06f2b0",
   "metadata": {},
   "outputs": [
    {
     "data": {
      "text/html": [
       "<div>\n",
       "<style scoped>\n",
       "    .dataframe tbody tr th:only-of-type {\n",
       "        vertical-align: middle;\n",
       "    }\n",
       "\n",
       "    .dataframe tbody tr th {\n",
       "        vertical-align: top;\n",
       "    }\n",
       "\n",
       "    .dataframe thead th {\n",
       "        text-align: right;\n",
       "    }\n",
       "</style>\n",
       "<table border=\"1\" class=\"dataframe\">\n",
       "  <thead>\n",
       "    <tr style=\"text-align: right;\">\n",
       "      <th></th>\n",
       "      <th>customer_id</th>\n",
       "      <th>account_id</th>\n",
       "      <th>ed_id</th>\n",
       "      <th>event_name</th>\n",
       "      <th>event_timestamp</th>\n",
       "      <th>journey_steps_until_end</th>\n",
       "    </tr>\n",
       "  </thead>\n",
       "  <tbody>\n",
       "  </tbody>\n",
       "</table>\n",
       "</div>"
      ],
      "text/plain": [
       "Empty DataFrame\n",
       "Columns: [customer_id, account_id, ed_id, event_name, event_timestamp, journey_steps_until_end]\n",
       "Index: []"
      ]
     },
     "execution_count": 45,
     "metadata": {},
     "output_type": "execute_result"
    }
   ],
   "source": [
    "df_filtered"
   ]
  },
  {
   "cell_type": "code",
   "execution_count": 44,
   "id": "f29c0ac7",
   "metadata": {},
   "outputs": [
    {
     "data": {
      "text/plain": [
       "Series([], Name: count, dtype: int64)"
      ]
     },
     "execution_count": 44,
     "metadata": {},
     "output_type": "execute_result"
    }
   ],
   "source": [
    "# check that all customer/account combos only have 1 activation\n",
    "df_filtered.groupby(['customer_id', 'account_id'])['event_name'].apply(lambda x: x.str.count('account_activitation').sum()).value_counts()"
   ]
  },
  {
   "cell_type": "markdown",
   "id": "09b686f4",
   "metadata": {},
   "source": [
    "#### It seems that multiple account activations just indicates multiple journeys under the same customer_id and account_id which is interesting\n",
    "\n",
    "Because such a small portion of data was removed by removing customer with multiple activations, we will proceed with df_filtered"
   ]
  },
  {
   "cell_type": "code",
   "execution_count": 15,
   "id": "b4dd989e",
   "metadata": {},
   "outputs": [
    {
     "data": {
      "text/plain": [
       "(1735767, 2)"
      ]
     },
     "execution_count": 15,
     "metadata": {},
     "output_type": "execute_result"
    }
   ],
   "source": [
    "df_dropped[['customer_id', 'account_id']].drop_duplicates().shape # 1735767 unique combinations of customer/account id"
   ]
  },
  {
   "cell_type": "code",
   "execution_count": 16,
   "id": "0720c742",
   "metadata": {},
   "outputs": [
    {
     "name": "stdout",
     "output_type": "stream",
     "text": [
      "0.0012518961358292905\n"
     ]
    },
    {
     "data": {
      "text/plain": [
       "0.004199441595334356"
      ]
     },
     "execution_count": 16,
     "metadata": {},
     "output_type": "execute_result"
    }
   ],
   "source": [
    "print(2173 / 1735767) # 0.001% of customer/account combinations would be removed if we removed those with multiple account activations\n",
    "238751 / df_dropped.shape[0] # 0.4% of dataset would be dropped if we removed customers with multiple activations"
   ]
  },
  {
   "cell_type": "markdown",
   "id": "9d5aa8cf",
   "metadata": {},
   "source": [
    "Because such a small portion of the dataset has multiple activations, we will drop these rows for simplicity and for the sake of keeping the data uniform.\n",
    "\n",
    "We will proceed with attempting to remove \"incomplete\" customers in the data"
   ]
  },
  {
   "cell_type": "code",
   "execution_count": 17,
   "id": "8e605d59",
   "metadata": {},
   "outputs": [
    {
     "data": {
      "text/html": [
       "<div>\n",
       "<style scoped>\n",
       "    .dataframe tbody tr th:only-of-type {\n",
       "        vertical-align: middle;\n",
       "    }\n",
       "\n",
       "    .dataframe tbody tr th {\n",
       "        vertical-align: top;\n",
       "    }\n",
       "\n",
       "    .dataframe thead th {\n",
       "        text-align: right;\n",
       "    }\n",
       "</style>\n",
       "<table border=\"1\" class=\"dataframe\">\n",
       "  <thead>\n",
       "    <tr style=\"text-align: right;\">\n",
       "      <th></th>\n",
       "      <th>customer_id</th>\n",
       "      <th>account_id</th>\n",
       "      <th>ed_id</th>\n",
       "      <th>event_name</th>\n",
       "      <th>event_timestamp</th>\n",
       "      <th>journey_steps_until_end</th>\n",
       "    </tr>\n",
       "  </thead>\n",
       "  <tbody>\n",
       "    <tr>\n",
       "      <th>0</th>\n",
       "      <td>-784961211</td>\n",
       "      <td>1773350293</td>\n",
       "      <td>12</td>\n",
       "      <td>application_web_approved</td>\n",
       "      <td>2023-03-22 08:45:22+00:00</td>\n",
       "      <td>1</td>\n",
       "    </tr>\n",
       "    <tr>\n",
       "      <th>1</th>\n",
       "      <td>-784961211</td>\n",
       "      <td>1773350293</td>\n",
       "      <td>19</td>\n",
       "      <td>application_web_view</td>\n",
       "      <td>2023-03-22 13:32:10+00:00</td>\n",
       "      <td>2</td>\n",
       "    </tr>\n",
       "    <tr>\n",
       "      <th>2</th>\n",
       "      <td>-784961211</td>\n",
       "      <td>1773350293</td>\n",
       "      <td>3</td>\n",
       "      <td>application_web_submit</td>\n",
       "      <td>2023-03-22 13:32:10+00:00</td>\n",
       "      <td>3</td>\n",
       "    </tr>\n",
       "    <tr>\n",
       "      <th>3</th>\n",
       "      <td>-784961211</td>\n",
       "      <td>1773350293</td>\n",
       "      <td>2</td>\n",
       "      <td>campaign_click</td>\n",
       "      <td>2023-03-22 14:45:22+00:00</td>\n",
       "      <td>4</td>\n",
       "    </tr>\n",
       "    <tr>\n",
       "      <th>4</th>\n",
       "      <td>-784961211</td>\n",
       "      <td>1773350293</td>\n",
       "      <td>19</td>\n",
       "      <td>application_web_view</td>\n",
       "      <td>2023-07-27 14:57:56+00:00</td>\n",
       "      <td>5</td>\n",
       "    </tr>\n",
       "  </tbody>\n",
       "</table>\n",
       "</div>"
      ],
      "text/plain": [
       "   customer_id  account_id  ed_id                event_name  \\\n",
       "0   -784961211  1773350293     12  application_web_approved   \n",
       "1   -784961211  1773350293     19      application_web_view   \n",
       "2   -784961211  1773350293      3    application_web_submit   \n",
       "3   -784961211  1773350293      2            campaign_click   \n",
       "4   -784961211  1773350293     19      application_web_view   \n",
       "\n",
       "            event_timestamp  journey_steps_until_end  \n",
       "0 2023-03-22 08:45:22+00:00                        1  \n",
       "1 2023-03-22 13:32:10+00:00                        2  \n",
       "2 2023-03-22 13:32:10+00:00                        3  \n",
       "3 2023-03-22 14:45:22+00:00                        4  \n",
       "4 2023-07-27 14:57:56+00:00                        5  "
      ]
     },
     "execution_count": 17,
     "metadata": {},
     "output_type": "execute_result"
    }
   ],
   "source": [
    "# function to remove all rows with customer/account combinations that have multiple activations\n",
    "df_dropped_filtered = df_dropped[~df_dropped[['customer_id', 'account_id']].isin(multiple_activations.values.flatten()).all(axis = 1)]\n",
    "df_dropped_filtered.head()"
   ]
  },
  {
   "cell_type": "code",
   "execution_count": 18,
   "id": "dc935e41",
   "metadata": {},
   "outputs": [
    {
     "name": "stdout",
     "output_type": "stream",
     "text": [
      "(56853035, 6)\n"
     ]
    },
    {
     "data": {
      "text/plain": [
       "(56614284, 6)"
      ]
     },
     "execution_count": 18,
     "metadata": {},
     "output_type": "execute_result"
    }
   ],
   "source": [
    "print(df_dropped.shape)\n",
    "df_dropped_filtered.shape"
   ]
  },
  {
   "cell_type": "markdown",
   "id": "36d7558e",
   "metadata": {},
   "source": [
    "### Now check account_activation counts - should all be either 1 or 0"
   ]
  },
  {
   "cell_type": "code",
   "execution_count": 19,
   "id": "224afa80",
   "metadata": {},
   "outputs": [
    {
     "data": {
      "text/html": [
       "<div>\n",
       "<style scoped>\n",
       "    .dataframe tbody tr th:only-of-type {\n",
       "        vertical-align: middle;\n",
       "    }\n",
       "\n",
       "    .dataframe tbody tr th {\n",
       "        vertical-align: top;\n",
       "    }\n",
       "\n",
       "    .dataframe thead th {\n",
       "        text-align: right;\n",
       "    }\n",
       "</style>\n",
       "<table border=\"1\" class=\"dataframe\">\n",
       "  <thead>\n",
       "    <tr style=\"text-align: right;\">\n",
       "      <th></th>\n",
       "      <th>customer_id</th>\n",
       "      <th>account_id</th>\n",
       "      <th>count</th>\n",
       "    </tr>\n",
       "  </thead>\n",
       "  <tbody>\n",
       "    <tr>\n",
       "      <th>0</th>\n",
       "      <td>-2147483541</td>\n",
       "      <td>2059949086</td>\n",
       "      <td>29</td>\n",
       "    </tr>\n",
       "    <tr>\n",
       "      <th>1</th>\n",
       "      <td>-2147481037</td>\n",
       "      <td>-1245770865</td>\n",
       "      <td>7</td>\n",
       "    </tr>\n",
       "    <tr>\n",
       "      <th>2</th>\n",
       "      <td>-2147474335</td>\n",
       "      <td>-1929965268</td>\n",
       "      <td>25</td>\n",
       "    </tr>\n",
       "    <tr>\n",
       "      <th>3</th>\n",
       "      <td>-2147474305</td>\n",
       "      <td>1098145658</td>\n",
       "      <td>32</td>\n",
       "    </tr>\n",
       "    <tr>\n",
       "      <th>4</th>\n",
       "      <td>-2147472167</td>\n",
       "      <td>889210381</td>\n",
       "      <td>39</td>\n",
       "    </tr>\n",
       "    <tr>\n",
       "      <th>...</th>\n",
       "      <td>...</td>\n",
       "      <td>...</td>\n",
       "      <td>...</td>\n",
       "    </tr>\n",
       "    <tr>\n",
       "      <th>1733589</th>\n",
       "      <td>2147480051</td>\n",
       "      <td>-148210516</td>\n",
       "      <td>14</td>\n",
       "    </tr>\n",
       "    <tr>\n",
       "      <th>1733590</th>\n",
       "      <td>2147480182</td>\n",
       "      <td>-1286764612</td>\n",
       "      <td>9</td>\n",
       "    </tr>\n",
       "    <tr>\n",
       "      <th>1733591</th>\n",
       "      <td>2147480920</td>\n",
       "      <td>496493954</td>\n",
       "      <td>110</td>\n",
       "    </tr>\n",
       "    <tr>\n",
       "      <th>1733592</th>\n",
       "      <td>2147482120</td>\n",
       "      <td>-488077144</td>\n",
       "      <td>3</td>\n",
       "    </tr>\n",
       "    <tr>\n",
       "      <th>1733593</th>\n",
       "      <td>2147483471</td>\n",
       "      <td>1556733004</td>\n",
       "      <td>13</td>\n",
       "    </tr>\n",
       "  </tbody>\n",
       "</table>\n",
       "<p>1733594 rows × 3 columns</p>\n",
       "</div>"
      ],
      "text/plain": [
       "         customer_id  account_id  count\n",
       "0        -2147483541  2059949086     29\n",
       "1        -2147481037 -1245770865      7\n",
       "2        -2147474335 -1929965268     25\n",
       "3        -2147474305  1098145658     32\n",
       "4        -2147472167   889210381     39\n",
       "...              ...         ...    ...\n",
       "1733589   2147480051  -148210516     14\n",
       "1733590   2147480182 -1286764612      9\n",
       "1733591   2147480920   496493954    110\n",
       "1733592   2147482120  -488077144      3\n",
       "1733593   2147483471  1556733004     13\n",
       "\n",
       "[1733594 rows x 3 columns]"
      ]
     },
     "execution_count": 19,
     "metadata": {},
     "output_type": "execute_result"
    }
   ],
   "source": [
    "df_dropped_filtered.groupby(['customer_id', 'account_id']).size().reset_index(name='count')"
   ]
  },
  {
   "cell_type": "code",
   "execution_count": 21,
   "id": "a8bebf03",
   "metadata": {},
   "outputs": [
    {
     "name": "stderr",
     "output_type": "stream",
     "text": [
      "Exception ignored in: <bound method IPythonKernel._clean_thread_parent_frames of <ipykernel.ipkernel.IPythonKernel object at 0x1130d0f10>>\n",
      "Traceback (most recent call last):\n",
      "  File \"/Users/alyssaliu/Library/Python/3.11/lib/python/site-packages/ipykernel/ipkernel.py\", line 770, in _clean_thread_parent_frames\n",
      "    def _clean_thread_parent_frames(\n",
      "\n",
      "KeyboardInterrupt: \n"
     ]
    }
   ],
   "source": []
  },
  {
   "cell_type": "code",
   "execution_count": null,
   "id": "ddee27d8",
   "metadata": {},
   "outputs": [],
   "source": [
    "activation_counts"
   ]
  },
  {
   "cell_type": "code",
   "execution_count": null,
   "id": "2a488a92",
   "metadata": {},
   "outputs": [],
   "source": [
    "activations = df_dropped[df_dropped['event_name'] == 'account_activitation']\n",
    "activation_dates = activations.groupby(['customer_id', 'account_id'])['event_timestamp'].min().reset_index()\n",
    "activation_dates.rename(columns={'event_timestamp': 'activation_date'}, inplace=True)\n",
    "activation_dates"
   ]
  },
  {
   "cell_type": "code",
   "execution_count": 60,
   "id": "beafc211",
   "metadata": {},
   "outputs": [],
   "source": [
    "cutoff_date = df_dropped['event_timestamp'].max()\n",
    "activation_dates['days_since_activation'] = (cutoff_date - activation_dates['activation_date']).dt.days\n",
    "# we will consider these incomplete customers and remove them\n",
    "filtered_customers = activation_dates[activation_dates['days_since_activation'] >= 70] # remove customers who activated less than 70 days ago\n",
    "\n",
    "# now merge back\n",
    "df_filtered = df_dropped.merge(filtered_customers[['customer_id', 'account_id']], on=['customer_id', 'account_id'], how='inner')"
   ]
  },
  {
   "cell_type": "code",
   "execution_count": 61,
   "id": "766e79a9",
   "metadata": {},
   "outputs": [
    {
     "data": {
      "text/html": [
       "<div>\n",
       "<style scoped>\n",
       "    .dataframe tbody tr th:only-of-type {\n",
       "        vertical-align: middle;\n",
       "    }\n",
       "\n",
       "    .dataframe tbody tr th {\n",
       "        vertical-align: top;\n",
       "    }\n",
       "\n",
       "    .dataframe thead th {\n",
       "        text-align: right;\n",
       "    }\n",
       "</style>\n",
       "<table border=\"1\" class=\"dataframe\">\n",
       "  <thead>\n",
       "    <tr style=\"text-align: right;\">\n",
       "      <th></th>\n",
       "      <th>customer_id</th>\n",
       "      <th>account_id</th>\n",
       "      <th>ed_id</th>\n",
       "      <th>event_name</th>\n",
       "      <th>event_timestamp</th>\n",
       "      <th>journey_steps_until_end</th>\n",
       "    </tr>\n",
       "  </thead>\n",
       "  <tbody>\n",
       "    <tr>\n",
       "      <th>0</th>\n",
       "      <td>-1257367741</td>\n",
       "      <td>1076891306</td>\n",
       "      <td>19</td>\n",
       "      <td>application_web_view</td>\n",
       "      <td>2023-01-04 17:41:54+00:00</td>\n",
       "      <td>1</td>\n",
       "    </tr>\n",
       "    <tr>\n",
       "      <th>1</th>\n",
       "      <td>-1257367741</td>\n",
       "      <td>1076891306</td>\n",
       "      <td>19</td>\n",
       "      <td>application_web_view</td>\n",
       "      <td>2023-01-04 17:41:56+00:00</td>\n",
       "      <td>2</td>\n",
       "    </tr>\n",
       "    <tr>\n",
       "      <th>2</th>\n",
       "      <td>-1257367741</td>\n",
       "      <td>1076891306</td>\n",
       "      <td>19</td>\n",
       "      <td>application_web_view</td>\n",
       "      <td>2023-01-04 17:41:57+00:00</td>\n",
       "      <td>3</td>\n",
       "    </tr>\n",
       "    <tr>\n",
       "      <th>3</th>\n",
       "      <td>-1257367741</td>\n",
       "      <td>1076891306</td>\n",
       "      <td>19</td>\n",
       "      <td>application_web_view</td>\n",
       "      <td>2023-01-04 17:43:00+00:00</td>\n",
       "      <td>4</td>\n",
       "    </tr>\n",
       "    <tr>\n",
       "      <th>4</th>\n",
       "      <td>-1257367741</td>\n",
       "      <td>1076891306</td>\n",
       "      <td>19</td>\n",
       "      <td>application_web_view</td>\n",
       "      <td>2023-01-04 17:43:08+00:00</td>\n",
       "      <td>5</td>\n",
       "    </tr>\n",
       "  </tbody>\n",
       "</table>\n",
       "</div>"
      ],
      "text/plain": [
       "   customer_id  account_id  ed_id            event_name  \\\n",
       "0  -1257367741  1076891306     19  application_web_view   \n",
       "1  -1257367741  1076891306     19  application_web_view   \n",
       "2  -1257367741  1076891306     19  application_web_view   \n",
       "3  -1257367741  1076891306     19  application_web_view   \n",
       "4  -1257367741  1076891306     19  application_web_view   \n",
       "\n",
       "            event_timestamp  journey_steps_until_end  \n",
       "0 2023-01-04 17:41:54+00:00                        1  \n",
       "1 2023-01-04 17:41:56+00:00                        2  \n",
       "2 2023-01-04 17:41:57+00:00                        3  \n",
       "3 2023-01-04 17:43:00+00:00                        4  \n",
       "4 2023-01-04 17:43:08+00:00                        5  "
      ]
     },
     "execution_count": 61,
     "metadata": {},
     "output_type": "execute_result"
    }
   ],
   "source": [
    "df_filtered.head()"
   ]
  },
  {
   "cell_type": "code",
   "execution_count": 64,
   "id": "c80ea30d",
   "metadata": {},
   "outputs": [
    {
     "name": "stdout",
     "output_type": "stream",
     "text": [
      "(56853035, 6)\n",
      "(21533943, 6)\n",
      "35319092\n"
     ]
    }
   ],
   "source": [
    "print(df_dropped.shape)\n",
    "print(df_filtered.shape)\n",
    "print(df_dropped.shape[0] - df_filtered.shape[0]) # removed"
   ]
  },
  {
   "cell_type": "markdown",
   "id": "d3dd18b8",
   "metadata": {},
   "source": [
    "## Now onto data cleaning - turning data into wide format"
   ]
  },
  {
   "cell_type": "code",
   "execution_count": 28,
   "id": "98aba0c2-d44d-43c1-80e9-e47359f19459",
   "metadata": {},
   "outputs": [],
   "source": [
    "# Group by 'customer_id' and aggregate the other columns into lists\n",
    "df_grouped = df_dropped.groupby('customer_id').agg({\n",
    "    'account_id': list,\n",
    "    'ed_id': list,\n",
    "    'event_name': list,\n",
    "    'event_timestamp': list,\n",
    "    'journey_steps_until_end': list,\n",
    "}).reset_index()"
   ]
  },
  {
   "cell_type": "code",
   "execution_count": 29,
   "id": "0ac74946-9cb5-4bb8-92d7-dfe09b9e9a63",
   "metadata": {},
   "outputs": [
    {
     "data": {
      "text/html": [
       "<div>\n",
       "<style scoped>\n",
       "    .dataframe tbody tr th:only-of-type {\n",
       "        vertical-align: middle;\n",
       "    }\n",
       "\n",
       "    .dataframe tbody tr th {\n",
       "        vertical-align: top;\n",
       "    }\n",
       "\n",
       "    .dataframe thead th {\n",
       "        text-align: right;\n",
       "    }\n",
       "</style>\n",
       "<table border=\"1\" class=\"dataframe\">\n",
       "  <thead>\n",
       "    <tr style=\"text-align: right;\">\n",
       "      <th></th>\n",
       "      <th>customer_id</th>\n",
       "      <th>account_id</th>\n",
       "      <th>ed_id</th>\n",
       "      <th>event_name</th>\n",
       "      <th>event_timestamp</th>\n",
       "      <th>journey_steps_until_end</th>\n",
       "    </tr>\n",
       "  </thead>\n",
       "  <tbody>\n",
       "    <tr>\n",
       "      <th>0</th>\n",
       "      <td>-2147483541</td>\n",
       "      <td>[2059949086, 2059949086, 2059949086, 205994908...</td>\n",
       "      <td>[12, 5, 4, 11, 5, 6, 1, 4, 11, 4, 11, 5, 6, 5,...</td>\n",
       "      <td>[application_web_approved, view_cart, browse_p...</td>\n",
       "      <td>[2021-10-05 08:11:26+00:00, 2021-10-05 08:17:1...</td>\n",
       "      <td>[1, 2, 3, 4, 5, 6, 7, 8, 9, 10, 11, 12, 13, 14...</td>\n",
       "    </tr>\n",
       "    <tr>\n",
       "      <th>1</th>\n",
       "      <td>-2147481037</td>\n",
       "      <td>[-1245770865, -1245770865, -1245770865, -12457...</td>\n",
       "      <td>[12, 1, 2, 5, 11, 4, 6]</td>\n",
       "      <td>[application_web_approved, promotion_created, ...</td>\n",
       "      <td>[2023-08-26 12:08:34+00:00, 2023-08-26 17:18:4...</td>\n",
       "      <td>[1, 2, 3, 4, 5, 6, 7]</td>\n",
       "    </tr>\n",
       "  </tbody>\n",
       "</table>\n",
       "</div>"
      ],
      "text/plain": [
       "   customer_id                                         account_id  \\\n",
       "0  -2147483541  [2059949086, 2059949086, 2059949086, 205994908...   \n",
       "1  -2147481037  [-1245770865, -1245770865, -1245770865, -12457...   \n",
       "\n",
       "                                               ed_id  \\\n",
       "0  [12, 5, 4, 11, 5, 6, 1, 4, 11, 4, 11, 5, 6, 5,...   \n",
       "1                            [12, 1, 2, 5, 11, 4, 6]   \n",
       "\n",
       "                                          event_name  \\\n",
       "0  [application_web_approved, view_cart, browse_p...   \n",
       "1  [application_web_approved, promotion_created, ...   \n",
       "\n",
       "                                     event_timestamp  \\\n",
       "0  [2021-10-05 08:11:26+00:00, 2021-10-05 08:17:1...   \n",
       "1  [2023-08-26 12:08:34+00:00, 2023-08-26 17:18:4...   \n",
       "\n",
       "                             journey_steps_until_end  \n",
       "0  [1, 2, 3, 4, 5, 6, 7, 8, 9, 10, 11, 12, 13, 14...  \n",
       "1                              [1, 2, 3, 4, 5, 6, 7]  "
      ]
     },
     "execution_count": 29,
     "metadata": {},
     "output_type": "execute_result"
    }
   ],
   "source": [
    "df_grouped.head(2)"
   ]
  },
  {
   "cell_type": "code",
   "execution_count": 30,
   "id": "9c42edb6",
   "metadata": {},
   "outputs": [
    {
     "data": {
      "text/plain": [
       "(1665688, 6)"
      ]
     },
     "execution_count": 30,
     "metadata": {},
     "output_type": "execute_result"
    }
   ],
   "source": [
    "df_grouped.shape"
   ]
  },
  {
   "cell_type": "code",
   "execution_count": 31,
   "id": "4854c805-02ff-4314-b3cf-b1cae94781cc",
   "metadata": {},
   "outputs": [],
   "source": [
    "df_grouped['account_id'] = df_grouped['account_id'].apply(lambda x: list(set(x)))"
   ]
  },
  {
   "cell_type": "code",
   "execution_count": 32,
   "id": "43ab25ce-3307-470b-b1d0-325ea7b0423b",
   "metadata": {},
   "outputs": [
    {
     "data": {
      "text/html": [
       "<div>\n",
       "<style scoped>\n",
       "    .dataframe tbody tr th:only-of-type {\n",
       "        vertical-align: middle;\n",
       "    }\n",
       "\n",
       "    .dataframe tbody tr th {\n",
       "        vertical-align: top;\n",
       "    }\n",
       "\n",
       "    .dataframe thead th {\n",
       "        text-align: right;\n",
       "    }\n",
       "</style>\n",
       "<table border=\"1\" class=\"dataframe\">\n",
       "  <thead>\n",
       "    <tr style=\"text-align: right;\">\n",
       "      <th></th>\n",
       "      <th>customer_id</th>\n",
       "      <th>account_id</th>\n",
       "      <th>ed_id</th>\n",
       "      <th>event_name</th>\n",
       "      <th>event_timestamp</th>\n",
       "      <th>journey_steps_until_end</th>\n",
       "    </tr>\n",
       "  </thead>\n",
       "  <tbody>\n",
       "    <tr>\n",
       "      <th>0</th>\n",
       "      <td>-2147483541</td>\n",
       "      <td>[2059949086]</td>\n",
       "      <td>[12, 5, 4, 11, 5, 6, 1, 4, 11, 4, 11, 5, 6, 5,...</td>\n",
       "      <td>[application_web_approved, view_cart, browse_p...</td>\n",
       "      <td>[2021-10-05 08:11:26+00:00, 2021-10-05 08:17:1...</td>\n",
       "      <td>[1, 2, 3, 4, 5, 6, 7, 8, 9, 10, 11, 12, 13, 14...</td>\n",
       "    </tr>\n",
       "    <tr>\n",
       "      <th>1</th>\n",
       "      <td>-2147481037</td>\n",
       "      <td>[-1245770865]</td>\n",
       "      <td>[12, 1, 2, 5, 11, 4, 6]</td>\n",
       "      <td>[application_web_approved, promotion_created, ...</td>\n",
       "      <td>[2023-08-26 12:08:34+00:00, 2023-08-26 17:18:4...</td>\n",
       "      <td>[1, 2, 3, 4, 5, 6, 7]</td>\n",
       "    </tr>\n",
       "    <tr>\n",
       "      <th>2</th>\n",
       "      <td>-2147474335</td>\n",
       "      <td>[-1929965268]</td>\n",
       "      <td>[2, 12, 19, 3, 4, 4, 19, 4, 1, 11, 4, 5, 11, 4...</td>\n",
       "      <td>[campaign_click, application_web_approved, app...</td>\n",
       "      <td>[2023-04-14 01:42:50+00:00, 2023-04-14 19:42:5...</td>\n",
       "      <td>[1, 2, 3, 4, 5, 6, 7, 8, 9, 10, 11, 12, 13, 14...</td>\n",
       "    </tr>\n",
       "    <tr>\n",
       "      <th>3</th>\n",
       "      <td>-2147474305</td>\n",
       "      <td>[1098145658]</td>\n",
       "      <td>[6, 19, 19, 19, 19, 19, 19, 19, 1, 4, 19, 19, ...</td>\n",
       "      <td>[begin_checkout, application_web_view, applica...</td>\n",
       "      <td>[2021-11-28 22:27:11+00:00, 2021-11-28 22:28:0...</td>\n",
       "      <td>[1, 2, 3, 4, 5, 6, 7, 8, 9, 10, 11, 12, 13, 14...</td>\n",
       "    </tr>\n",
       "    <tr>\n",
       "      <th>4</th>\n",
       "      <td>-2147472167</td>\n",
       "      <td>[889210381]</td>\n",
       "      <td>[12, 19, 3, 4, 4, 1, 1, 11, 5, 4, 11, 5, 4, 6,...</td>\n",
       "      <td>[application_web_approved, application_web_vie...</td>\n",
       "      <td>[2023-02-19 08:23:54+00:00, 2023-02-19 14:21:5...</td>\n",
       "      <td>[1, 2, 3, 4, 5, 6, 7, 8, 9, 10, 11, 12, 13, 14...</td>\n",
       "    </tr>\n",
       "  </tbody>\n",
       "</table>\n",
       "</div>"
      ],
      "text/plain": [
       "   customer_id     account_id  \\\n",
       "0  -2147483541   [2059949086]   \n",
       "1  -2147481037  [-1245770865]   \n",
       "2  -2147474335  [-1929965268]   \n",
       "3  -2147474305   [1098145658]   \n",
       "4  -2147472167    [889210381]   \n",
       "\n",
       "                                               ed_id  \\\n",
       "0  [12, 5, 4, 11, 5, 6, 1, 4, 11, 4, 11, 5, 6, 5,...   \n",
       "1                            [12, 1, 2, 5, 11, 4, 6]   \n",
       "2  [2, 12, 19, 3, 4, 4, 19, 4, 1, 11, 4, 5, 11, 4...   \n",
       "3  [6, 19, 19, 19, 19, 19, 19, 19, 1, 4, 19, 19, ...   \n",
       "4  [12, 19, 3, 4, 4, 1, 1, 11, 5, 4, 11, 5, 4, 6,...   \n",
       "\n",
       "                                          event_name  \\\n",
       "0  [application_web_approved, view_cart, browse_p...   \n",
       "1  [application_web_approved, promotion_created, ...   \n",
       "2  [campaign_click, application_web_approved, app...   \n",
       "3  [begin_checkout, application_web_view, applica...   \n",
       "4  [application_web_approved, application_web_vie...   \n",
       "\n",
       "                                     event_timestamp  \\\n",
       "0  [2021-10-05 08:11:26+00:00, 2021-10-05 08:17:1...   \n",
       "1  [2023-08-26 12:08:34+00:00, 2023-08-26 17:18:4...   \n",
       "2  [2023-04-14 01:42:50+00:00, 2023-04-14 19:42:5...   \n",
       "3  [2021-11-28 22:27:11+00:00, 2021-11-28 22:28:0...   \n",
       "4  [2023-02-19 08:23:54+00:00, 2023-02-19 14:21:5...   \n",
       "\n",
       "                             journey_steps_until_end  \n",
       "0  [1, 2, 3, 4, 5, 6, 7, 8, 9, 10, 11, 12, 13, 14...  \n",
       "1                              [1, 2, 3, 4, 5, 6, 7]  \n",
       "2  [1, 2, 3, 4, 5, 6, 7, 8, 9, 10, 11, 12, 13, 14...  \n",
       "3  [1, 2, 3, 4, 5, 6, 7, 8, 9, 10, 11, 12, 13, 14...  \n",
       "4  [1, 2, 3, 4, 5, 6, 7, 8, 9, 10, 11, 12, 13, 14...  "
      ]
     },
     "execution_count": 32,
     "metadata": {},
     "output_type": "execute_result"
    }
   ],
   "source": [
    "df_grouped.head()"
   ]
  },
  {
   "cell_type": "code",
   "execution_count": 33,
   "id": "16c2e7d6-38df-4216-9227-e6c58fd17b61",
   "metadata": {},
   "outputs": [],
   "source": [
    "df_grouped.to_pickle(\"wide_format_data_no_duplicates.pkl\")"
   ]
  },
  {
   "cell_type": "code",
   "execution_count": 12,
   "id": "5c4032ea-10a3-4371-8e49-88c39a86ec1f",
   "metadata": {},
   "outputs": [],
   "source": [
    "# df_grouped.to_csv('wide_format_df.csv')\n",
    "# this doesn't preserve lists in the columns, turns them into strings"
   ]
  },
  {
   "cell_type": "code",
   "execution_count": 35,
   "id": "a285fce9-77e1-4bd1-a9c2-da13ef918c94",
   "metadata": {},
   "outputs": [
    {
     "data": {
      "text/plain": [
       "event_name\n",
       "browse_products                           23099680\n",
       "application_web_view                      10249155\n",
       "view_cart                                  7128768\n",
       "promotion_created                          6887889\n",
       "add_to_cart                                4441843\n",
       "begin_checkout                             2885054\n",
       "catalog_(mail)                             2242333\n",
       "application_web_approved                   1695968\n",
       "campaignemail_clicked                      1637935\n",
       "application_web_submit                     1420199\n",
       "campaign_click                             1042214\n",
       "place_downpayment                           428050\n",
       "account_activitation                        418774\n",
       "place_order_web                             345773\n",
       "account_downpaymentcleared                  333704\n",
       "order_shipped                               322949\n",
       "pre-application_(3rd_party_affiliates)      151175\n",
       "place_order_phone                            63656\n",
       "application_web_declined                     43139\n",
       "application_phone_approved                   42532\n",
       "site_registration                            20490\n",
       "account_downpaymentreceived                   9179\n",
       "application_phone_declined                     581\n",
       "catalog_(email)_(experian)                     580\n",
       "fingerhut_university                           180\n",
       "application_web_pending                        101\n",
       "application_phone_pending                        3\n",
       "customer_requested_catalog_(digital)             2\n",
       "Name: count, dtype: int64"
      ]
     },
     "execution_count": 35,
     "metadata": {},
     "output_type": "execute_result"
    }
   ],
   "source": [
    "df['event_name'].value_counts()"
   ]
  },
  {
   "cell_type": "code",
   "execution_count": 38,
   "id": "68483b93",
   "metadata": {},
   "outputs": [
    {
     "data": {
      "text/plain": [
       "0          0\n",
       "1          0\n",
       "2          1\n",
       "3          0\n",
       "4          1\n",
       "          ..\n",
       "1665683    0\n",
       "1665684    0\n",
       "1665685    0\n",
       "1665686    0\n",
       "1665687    0\n",
       "Name: event_name, Length: 1665688, dtype: int64"
      ]
     },
     "execution_count": 38,
     "metadata": {},
     "output_type": "execute_result"
    }
   ],
   "source": [
    "account_act_count = df_grouped['event_name'].apply(lambda x: x.count('account_activitation'))\n",
    "account_act_count\n"
   ]
  },
  {
   "cell_type": "code",
   "execution_count": 45,
   "id": "125c3c22",
   "metadata": {},
   "outputs": [],
   "source": [
    "mult_activation = df_grouped[df_grouped['event_name'].apply(lambda x: x.count('account_activitation') > 1)]\n"
   ]
  },
  {
   "cell_type": "code",
   "execution_count": 41,
   "id": "e1e8bdea",
   "metadata": {},
   "outputs": [
    {
     "data": {
      "text/plain": [
       "event_name\n",
       "0    1254817\n",
       "1     403355\n",
       "2       7148\n",
       "3        351\n",
       "4         15\n",
       "5          2\n",
       "Name: count, dtype: int64"
      ]
     },
     "execution_count": 41,
     "metadata": {},
     "output_type": "execute_result"
    }
   ],
   "source": [
    "account_act_count.value_counts()"
   ]
  },
  {
   "cell_type": "code",
   "execution_count": 44,
   "id": "d132b79e",
   "metadata": {},
   "outputs": [
    {
     "data": {
      "text/plain": [
       "count\n",
       "1    414268\n",
       "2      2013\n",
       "3       160\n",
       "Name: count, dtype: int64"
      ]
     },
     "execution_count": 44,
     "metadata": {},
     "output_type": "execute_result"
    }
   ],
   "source": []
  },
  {
   "cell_type": "code",
   "execution_count": null,
   "id": "67633750",
   "metadata": {},
   "outputs": [],
   "source": []
  }
 ],
 "metadata": {
  "kernelspec": {
   "display_name": "Python 3",
   "language": "python",
   "name": "python3"
  },
  "language_info": {
   "codemirror_mode": {
    "name": "ipython",
    "version": 3
   },
   "file_extension": ".py",
   "mimetype": "text/x-python",
   "name": "python",
   "nbconvert_exporter": "python",
   "pygments_lexer": "ipython3",
   "version": "3.11.8"
  }
 },
 "nbformat": 4,
 "nbformat_minor": 5
}
