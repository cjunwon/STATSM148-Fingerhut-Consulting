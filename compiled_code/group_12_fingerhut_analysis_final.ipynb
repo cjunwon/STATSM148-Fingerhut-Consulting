{
 "cells": [
  {
   "cell_type": "markdown",
   "metadata": {},
   "source": [
    "# Group 12 - Fingerhut FreshStart Customer Behavior Analysis"
   ]
  },
  {
   "cell_type": "markdown",
   "metadata": {},
   "source": [
    "## Import Basic Libraries (specific libraries imported later)"
   ]
  },
  {
   "cell_type": "code",
   "execution_count": null,
   "metadata": {},
   "outputs": [],
   "source": [
    "import pandas as pd\n",
    "import datetime as dt\n",
    "import matplotlib.pyplot as plt\n",
    "import plotly.graph_objects as go\n",
    "import mchmm as mc\n",
    "import matplotlib.pyplot as plt\n",
    "import seaborn as sns\n",
    "import numpy as np\n",
    "import pydtmc"
   ]
  },
  {
   "cell_type": "markdown",
   "metadata": {},
   "source": [
    "## EDA"
   ]
  },
  {
   "cell_type": "code",
   "execution_count": null,
   "metadata": {},
   "outputs": [],
   "source": [
    "import pandas as pd\n",
    "import datetime as dt"
   ]
  },
  {
   "cell_type": "code",
   "execution_count": null,
   "metadata": {},
   "outputs": [],
   "source": [
    "# import datasets\n",
    "\n",
    "fingerhut = pd.read_csv('../Dataset/export.csv')\n",
    "event_def = pd.read_csv('../Dataset/event_definitions.csv')"
   ]
  },
  {
   "cell_type": "code",
   "execution_count": null,
   "metadata": {},
   "outputs": [
    {
     "data": {
      "text/plain": [
       "322949"
      ]
     },
     "metadata": {},
     "output_type": "display_data"
    }
   ],
   "source": [
    "# Count how many rows have event_name == \"order_shipped\"\n",
    "\n",
    "len(fingerhut[fingerhut['event_name'] == 'order_shipped'])"
   ]
  },
  {
   "cell_type": "code",
   "execution_count": null,
   "metadata": {},
   "outputs": [
    {
     "data": {
      "text/html": [
       "<div>\n",
       "<style scoped>\n",
       "    .dataframe tbody tr th:only-of-type {\n",
       "        vertical-align: middle;\n",
       "    }\n",
       "\n",
       "    .dataframe tbody tr th {\n",
       "        vertical-align: top;\n",
       "    }\n",
       "\n",
       "    .dataframe thead th {\n",
       "        text-align: right;\n",
       "    }\n",
       "</style>\n",
       "<table border=\"1\" class=\"dataframe\">\n",
       "  <thead>\n",
       "    <tr style=\"text-align: right;\">\n",
       "      <th></th>\n",
       "      <th>event_name</th>\n",
       "      <th>journey_id</th>\n",
       "      <th>event_definition_id</th>\n",
       "      <th>milestone_number</th>\n",
       "      <th>stage</th>\n",
       "    </tr>\n",
       "  </thead>\n",
       "  <tbody>\n",
       "    <tr>\n",
       "      <th>0</th>\n",
       "      <td>application_phone_approved</td>\n",
       "      <td>1</td>\n",
       "      <td>15</td>\n",
       "      <td>1.0</td>\n",
       "      <td>Apply for Credit</td>\n",
       "    </tr>\n",
       "    <tr>\n",
       "      <th>1</th>\n",
       "      <td>application_phone_declined</td>\n",
       "      <td>1</td>\n",
       "      <td>16</td>\n",
       "      <td>NaN</td>\n",
       "      <td>Apply for Credit</td>\n",
       "    </tr>\n",
       "    <tr>\n",
       "      <th>2</th>\n",
       "      <td>application_phone_pending</td>\n",
       "      <td>1</td>\n",
       "      <td>17</td>\n",
       "      <td>NaN</td>\n",
       "      <td>Apply for Credit</td>\n",
       "    </tr>\n",
       "    <tr>\n",
       "      <th>3</th>\n",
       "      <td>application_web_approved</td>\n",
       "      <td>1</td>\n",
       "      <td>12</td>\n",
       "      <td>1.0</td>\n",
       "      <td>Apply for Credit</td>\n",
       "    </tr>\n",
       "    <tr>\n",
       "      <th>4</th>\n",
       "      <td>application_web_declined</td>\n",
       "      <td>1</td>\n",
       "      <td>13</td>\n",
       "      <td>NaN</td>\n",
       "      <td>Apply for Credit</td>\n",
       "    </tr>\n",
       "    <tr>\n",
       "      <th>5</th>\n",
       "      <td>application_web_pending</td>\n",
       "      <td>1</td>\n",
       "      <td>14</td>\n",
       "      <td>NaN</td>\n",
       "      <td>Apply for Credit</td>\n",
       "    </tr>\n",
       "    <tr>\n",
       "      <th>6</th>\n",
       "      <td>application_web_submit</td>\n",
       "      <td>1</td>\n",
       "      <td>3</td>\n",
       "      <td>NaN</td>\n",
       "      <td>Apply for Credit</td>\n",
       "    </tr>\n",
       "    <tr>\n",
       "      <th>7</th>\n",
       "      <td>application_web_view</td>\n",
       "      <td>1</td>\n",
       "      <td>19</td>\n",
       "      <td>NaN</td>\n",
       "      <td>Apply for Credit</td>\n",
       "    </tr>\n",
       "    <tr>\n",
       "      <th>8</th>\n",
       "      <td>account_activitation</td>\n",
       "      <td>1</td>\n",
       "      <td>29</td>\n",
       "      <td>3.0</td>\n",
       "      <td>Credit Account</td>\n",
       "    </tr>\n",
       "    <tr>\n",
       "      <th>9</th>\n",
       "      <td>account_fraud_review</td>\n",
       "      <td>1</td>\n",
       "      <td>37</td>\n",
       "      <td>NaN</td>\n",
       "      <td>Credit Account</td>\n",
       "    </tr>\n",
       "    <tr>\n",
       "      <th>10</th>\n",
       "      <td>campaign_click</td>\n",
       "      <td>1</td>\n",
       "      <td>2</td>\n",
       "      <td>NaN</td>\n",
       "      <td>Discover</td>\n",
       "    </tr>\n",
       "    <tr>\n",
       "      <th>11</th>\n",
       "      <td>customer_requested_catalog_digital</td>\n",
       "      <td>1</td>\n",
       "      <td>9</td>\n",
       "      <td>NaN</td>\n",
       "      <td>Discover</td>\n",
       "    </tr>\n",
       "    <tr>\n",
       "      <th>12</th>\n",
       "      <td>fingerhut_university</td>\n",
       "      <td>1</td>\n",
       "      <td>10</td>\n",
       "      <td>NaN</td>\n",
       "      <td>Discover</td>\n",
       "    </tr>\n",
       "    <tr>\n",
       "      <th>13</th>\n",
       "      <td>pre_application_3rd_party_affiliates</td>\n",
       "      <td>1</td>\n",
       "      <td>22</td>\n",
       "      <td>NaN</td>\n",
       "      <td>Discover</td>\n",
       "    </tr>\n",
       "    <tr>\n",
       "      <th>14</th>\n",
       "      <td>site_registration</td>\n",
       "      <td>1</td>\n",
       "      <td>23</td>\n",
       "      <td>NaN</td>\n",
       "      <td>Discover</td>\n",
       "    </tr>\n",
       "    <tr>\n",
       "      <th>15</th>\n",
       "      <td>account_downpaymentcleared</td>\n",
       "      <td>1</td>\n",
       "      <td>27</td>\n",
       "      <td>5.0</td>\n",
       "      <td>Downpayment</td>\n",
       "    </tr>\n",
       "    <tr>\n",
       "      <th>16</th>\n",
       "      <td>account_downpaymentreceived</td>\n",
       "      <td>1</td>\n",
       "      <td>26</td>\n",
       "      <td>NaN</td>\n",
       "      <td>Downpayment</td>\n",
       "    </tr>\n",
       "    <tr>\n",
       "      <th>17</th>\n",
       "      <td>place_downpayment</td>\n",
       "      <td>1</td>\n",
       "      <td>8</td>\n",
       "      <td>4.0</td>\n",
       "      <td>Downpayment</td>\n",
       "    </tr>\n",
       "    <tr>\n",
       "      <th>18</th>\n",
       "      <td>place_downpayment_phone</td>\n",
       "      <td>1</td>\n",
       "      <td>25</td>\n",
       "      <td>4.0</td>\n",
       "      <td>Downpayment</td>\n",
       "    </tr>\n",
       "    <tr>\n",
       "      <th>19</th>\n",
       "      <td>add_to_cart</td>\n",
       "      <td>1</td>\n",
       "      <td>11</td>\n",
       "      <td>NaN</td>\n",
       "      <td>First Purchase</td>\n",
       "    </tr>\n",
       "    <tr>\n",
       "      <th>20</th>\n",
       "      <td>begin_checkout</td>\n",
       "      <td>1</td>\n",
       "      <td>6</td>\n",
       "      <td>NaN</td>\n",
       "      <td>First Purchase</td>\n",
       "    </tr>\n",
       "    <tr>\n",
       "      <th>21</th>\n",
       "      <td>browse_products</td>\n",
       "      <td>1</td>\n",
       "      <td>4</td>\n",
       "      <td>NaN</td>\n",
       "      <td>First Purchase</td>\n",
       "    </tr>\n",
       "    <tr>\n",
       "      <th>22</th>\n",
       "      <td>place_order_phone</td>\n",
       "      <td>1</td>\n",
       "      <td>18</td>\n",
       "      <td>2.0</td>\n",
       "      <td>First Purchase</td>\n",
       "    </tr>\n",
       "    <tr>\n",
       "      <th>23</th>\n",
       "      <td>place_order_web</td>\n",
       "      <td>1</td>\n",
       "      <td>7</td>\n",
       "      <td>2.0</td>\n",
       "      <td>First Purchase</td>\n",
       "    </tr>\n",
       "    <tr>\n",
       "      <th>24</th>\n",
       "      <td>view_cart</td>\n",
       "      <td>1</td>\n",
       "      <td>5</td>\n",
       "      <td>NaN</td>\n",
       "      <td>First Purchase</td>\n",
       "    </tr>\n",
       "    <tr>\n",
       "      <th>25</th>\n",
       "      <td>order_shipped</td>\n",
       "      <td>1</td>\n",
       "      <td>28</td>\n",
       "      <td>6.0</td>\n",
       "      <td>Order Shipped</td>\n",
       "    </tr>\n",
       "    <tr>\n",
       "      <th>26</th>\n",
       "      <td>catalog_email_experian</td>\n",
       "      <td>1</td>\n",
       "      <td>20</td>\n",
       "      <td>NaN</td>\n",
       "      <td>Prospecting</td>\n",
       "    </tr>\n",
       "    <tr>\n",
       "      <th>27</th>\n",
       "      <td>catalog_mail</td>\n",
       "      <td>1</td>\n",
       "      <td>21</td>\n",
       "      <td>NaN</td>\n",
       "      <td>Prospecting</td>\n",
       "    </tr>\n",
       "  </tbody>\n",
       "</table>\n",
       "</div>"
      ],
      "text/plain": [
       "                              event_name  journey_id  event_definition_id  \\\n",
       "0             application_phone_approved           1                   15   \n",
       "1             application_phone_declined           1                   16   \n",
       "2              application_phone_pending           1                   17   \n",
       "3               application_web_approved           1                   12   \n",
       "4               application_web_declined           1                   13   \n",
       "5                application_web_pending           1                   14   \n",
       "6                 application_web_submit           1                    3   \n",
       "7                   application_web_view           1                   19   \n",
       "8                   account_activitation           1                   29   \n",
       "9                   account_fraud_review           1                   37   \n",
       "10                        campaign_click           1                    2   \n",
       "11    customer_requested_catalog_digital           1                    9   \n",
       "12                  fingerhut_university           1                   10   \n",
       "13  pre_application_3rd_party_affiliates           1                   22   \n",
       "14                     site_registration           1                   23   \n",
       "15            account_downpaymentcleared           1                   27   \n",
       "16           account_downpaymentreceived           1                   26   \n",
       "17                     place_downpayment           1                    8   \n",
       "18               place_downpayment_phone           1                   25   \n",
       "19                           add_to_cart           1                   11   \n",
       "20                        begin_checkout           1                    6   \n",
       "21                       browse_products           1                    4   \n",
       "22                     place_order_phone           1                   18   \n",
       "23                       place_order_web           1                    7   \n",
       "24                             view_cart           1                    5   \n",
       "25                         order_shipped           1                   28   \n",
       "26                catalog_email_experian           1                   20   \n",
       "27                          catalog_mail           1                   21   \n",
       "\n",
       "    milestone_number             stage  \n",
       "0                1.0  Apply for Credit  \n",
       "1                NaN  Apply for Credit  \n",
       "2                NaN  Apply for Credit  \n",
       "3                1.0  Apply for Credit  \n",
       "4                NaN  Apply for Credit  \n",
       "5                NaN  Apply for Credit  \n",
       "6                NaN  Apply for Credit  \n",
       "7                NaN  Apply for Credit  \n",
       "8                3.0    Credit Account  \n",
       "9                NaN    Credit Account  \n",
       "10               NaN          Discover  \n",
       "11               NaN          Discover  \n",
       "12               NaN          Discover  \n",
       "13               NaN          Discover  \n",
       "14               NaN          Discover  \n",
       "15               5.0       Downpayment  \n",
       "16               NaN       Downpayment  \n",
       "17               4.0       Downpayment  \n",
       "18               4.0       Downpayment  \n",
       "19               NaN    First Purchase  \n",
       "20               NaN    First Purchase  \n",
       "21               NaN    First Purchase  \n",
       "22               2.0    First Purchase  \n",
       "23               2.0    First Purchase  \n",
       "24               NaN    First Purchase  \n",
       "25               6.0     Order Shipped  \n",
       "26               NaN       Prospecting  \n",
       "27               NaN       Prospecting  "
      ]
     },
     "metadata": {},
     "output_type": "display_data"
    }
   ],
   "source": [
    "event_def"
   ]
  },
  {
   "cell_type": "code",
   "execution_count": null,
   "metadata": {},
   "outputs": [
    {
     "data": {
      "text/plain": [
       "28"
      ]
     },
     "metadata": {},
     "output_type": "display_data"
    }
   ],
   "source": [
    "len(event_def)"
   ]
  },
  {
   "cell_type": "code",
   "execution_count": null,
   "metadata": {},
   "outputs": [
    {
     "data": {
      "text/plain": [
       "customer_id                 1665688\n",
       "account_id                  1735457\n",
       "ed_id                            28\n",
       "event_name                       28\n",
       "event_timestamp            33672408\n",
       "journey_steps_until_end        3299\n",
       "dtype: int64"
      ]
     },
     "metadata": {},
     "output_type": "display_data"
    }
   ],
   "source": [
    "# find number of unique values in each column\n",
    "\n",
    "fingerhut.nunique()"
   ]
  },
  {
   "cell_type": "markdown",
   "metadata": {},
   "source": [
    "1) How many observations? What does an observation represent?"
   ]
  },
  {
   "cell_type": "code",
   "execution_count": null,
   "metadata": {},
   "outputs": [
    {
     "data": {
      "text/plain": [
       "64911906"
      ]
     },
     "metadata": {},
     "output_type": "display_data"
    }
   ],
   "source": [
    "len(fingerhut)"
   ]
  },
  {
   "cell_type": "markdown",
   "metadata": {},
   "source": [
    "2) How many customers?"
   ]
  },
  {
   "cell_type": "code",
   "execution_count": null,
   "metadata": {},
   "outputs": [
    {
     "name": "stdout",
     "output_type": "stream",
     "text": [
      "1665688\n",
      "1735457\n"
     ]
    }
   ],
   "source": [
    "# number of unique values in 'customer_id' column\n",
    "print(fingerhut['customer_id'].nunique())"
   ]
  },
  {
   "cell_type": "markdown",
   "metadata": {},
   "source": [
    "4) Do any accounts include more than one customer?  Do any customers have more than 1 account?"
   ]
  },
  {
   "cell_type": "code",
   "execution_count": null,
   "metadata": {},
   "outputs": [
    {
     "name": "stdout",
     "output_type": "stream",
     "text": [
      "1665688\n",
      "1735457\n"
     ]
    }
   ],
   "source": [
    "# number of unique values in 'customer_id' column\n",
    "print(fingerhut['customer_id'].nunique())\n",
    "\n",
    "# number of unique values in 'account_id' column\n",
    "print(fingerhut['account_id'].nunique())"
   ]
  },
  {
   "cell_type": "code",
   "execution_count": null,
   "metadata": {},
   "outputs": [
    {
     "data": {
      "text/plain": [
       "310"
      ]
     },
     "metadata": {},
     "output_type": "display_data"
    }
   ],
   "source": [
    "account_customer_grouped = fingerhut.groupby('account_id')['customer_id'].nunique()\n",
    "\n",
    "sum(account_customer_grouped > 1)"
   ]
  },
  {
   "cell_type": "code",
   "execution_count": null,
   "metadata": {},
   "outputs": [
    {
     "data": {
      "text/plain": [
       "68351"
      ]
     },
     "metadata": {},
     "output_type": "display_data"
    }
   ],
   "source": [
    "customer_account_grouped = fingerhut.groupby('customer_id')['account_id'].nunique()\n",
    "\n",
    "sum(customer_account_grouped > 1)"
   ]
  },
  {
   "cell_type": "markdown",
   "metadata": {},
   "source": [
    "5) What time-period is covered? When are \"busiest\" times."
   ]
  },
  {
   "cell_type": "code",
   "execution_count": null,
   "metadata": {},
   "outputs": [
    {
     "name": "stdout",
     "output_type": "stream",
     "text": [
      "2020-11-03T03:31:30.000Z\n",
      "2023-09-20T12:29:58.000Z\n"
     ]
    }
   ],
   "source": [
    "# find earliest and latest dates in 'event_timestamp' column\n",
    "\n",
    "print(fingerhut['event_timestamp'].min())\n",
    "print(fingerhut['event_timestamp'].max())"
   ]
  },
  {
   "cell_type": "code",
   "execution_count": null,
   "metadata": {},
   "outputs": [],
   "source": [
    "fingerhut['event_timestamp'] = pd.to_datetime(fingerhut['event_timestamp'])"
   ]
  },
  {
   "cell_type": "code",
   "execution_count": null,
   "metadata": {},
   "outputs": [
    {
     "data": {
      "text/plain": [
       "event_timestamp\n",
       "2020       46422\n",
       "2021    30115793\n",
       "2022    23826852\n",
       "2023    10922839\n",
       "Name: event_timestamp, dtype: int64"
      ]
     },
     "metadata": {},
     "output_type": "display_data"
    }
   ],
   "source": [
    "print(fingerhut['event_timestamp'].groupby(pd.to_datetime(fingerhut['event_timestamp']).dt.year).agg('count'))"
   ]
  },
  {
   "cell_type": "code",
   "execution_count": null,
   "metadata": {},
   "outputs": [
    {
     "data": {
      "text/plain": [
       "<AxesSubplot:xlabel='event_timestamp'>"
      ]
     },
     "metadata": {},
     "output_type": "display_data"
    },
    {
     "data": {
      "image/png": "[encoded data removed]",
      "text/plain": [
       "<Figure size 432x288 with 1 Axes>"
      ]
     },
     "metadata": {},
     "output_type": "display_data"
    }
   ],
   "source": [
    "fingerhut['event_timestamp'].groupby(pd.to_datetime(fingerhut['event_timestamp']).dt.year).agg('count').plot(kind='bar')"
   ]
  },
  {
   "cell_type": "code",
   "execution_count": null,
   "metadata": {},
   "outputs": [
    {
     "data": {
      "text/plain": [
       "event_timestamp\n",
       "1     4182881\n",
       "2     5478495\n",
       "3     6260453\n",
       "4     6174741\n",
       "5     6393195\n",
       "6     5537276\n",
       "7     5165159\n",
       "8     4680412\n",
       "9     3699536\n",
       "10    4673370\n",
       "11    6457975\n",
       "12    6208413\n",
       "Name: event_timestamp, dtype: int64"
      ]
     },
     "metadata": {},
     "output_type": "display_data"
    }
   ],
   "source": [
    "print(fingerhut['event_timestamp'].groupby(pd.to_datetime(fingerhut['event_timestamp']).dt.month).agg('count'))"
   ]
  },
  {
   "cell_type": "code",
   "execution_count": null,
   "metadata": {},
   "outputs": [
    {
     "data": {
      "text/plain": [
       "<AxesSubplot:xlabel='event_timestamp'>"
      ]
     },
     "metadata": {},
     "output_type": "display_data"
    },
    {
     "data": {
      "image/png": "[encoded data removed]",
      "text/plain": [
       "<Figure size 432x288 with 1 Axes>"
      ]
     },
     "metadata": {},
     "output_type": "display_data"
    }
   ],
   "source": [
    "# extract number of rows for each month in 'event_timestamp' column, and create plot of results\n",
    "\n",
    "fingerhut['event_timestamp'].groupby(pd.to_datetime(fingerhut['event_timestamp']).dt.month).agg('count').plot(kind='line')"
   ]
  },
  {
   "cell_type": "markdown",
   "metadata": {},
   "source": [
    "6) What can you say about the \"journey steps until end\" variable?"
   ]
  },
  {
   "cell_type": "code",
   "execution_count": null,
   "metadata": {},
   "outputs": [],
   "source": [
    "# Find max journey steps value for each unique customer, and store values in list\n",
    "\n",
    "unique_accounts = fingerhut['account_id'].unique()\n"
   ]
  },
  {
   "cell_type": "code",
   "execution_count": null,
   "metadata": {},
   "outputs": [],
   "source": [
    "max_journey_steps = fingerhut.groupby('account_id')['journey_steps_until_end'].max()"
   ]
  },
  {
   "cell_type": "code",
   "execution_count": null,
   "metadata": {},
   "outputs": [
    {
     "data": {
      "text/plain": [
       "<AxesSubplot:>"
      ]
     },
     "metadata": {},
     "output_type": "display_data"
    },
    {
     "data": {
      "image/png": "[encoded data removed]",
      "text/plain": [
       "<Figure size 432x288 with 1 Axes>"
      ]
     },
     "metadata": {},
     "output_type": "display_data"
    }
   ],
   "source": [
    "# make boxplot of max journey steps values\n",
    "\n",
    "max_journey_steps.plot(kind='box')"
   ]
  },
  {
   "cell_type": "code",
   "execution_count": null,
   "metadata": {},
   "outputs": [
    {
     "data": {
      "text/plain": [
       "0            True\n",
       "1            True\n",
       "2            True\n",
       "3            True\n",
       "4            True\n",
       "            ...  \n",
       "64911901    False\n",
       "64911902    False\n",
       "64911903    False\n",
       "64911904    False\n",
       "64911905    False\n",
       "Name: account_id, Length: 64911906, dtype: bool"
      ]
     },
     "metadata": {},
     "output_type": "display_data"
    }
   ],
   "source": [
    "fingerhut['account_id'] == 1773350293"
   ]
  },
  {
   "cell_type": "code",
   "execution_count": null,
   "metadata": {},
   "outputs": [
    {
     "name": "stdout",
     "output_type": "stream",
     "text": [
      "0    1\n",
      "Name: journey_steps_until_end, dtype: int64\n"
     ]
    }
   ],
   "source": [
    "# return row for account_id == -784961211 and ed_id == 12\n",
    "\n",
    "print(fingerhut[(fingerhut['account_id'] == 1773350293) & (fingerhut['ed_id'] == 12)]['journey_steps_until_end'])"
   ]
  },
  {
   "cell_type": "markdown",
   "metadata": {},
   "source": [
    "## Data Cleaning"
   ]
  },
  {
   "cell_type": "code",
   "execution_count": null,
   "metadata": {},
   "outputs": [],
   "source": [
    "# import datasets\n",
    "\n",
    "fingerhut = pd.read_csv('export.csv')\n",
    "event_def = pd.read_csv('event_definitions.csv')"
   ]
  },
  {
   "cell_type": "code",
   "execution_count": null,
   "metadata": {},
   "outputs": [],
   "source": [
    "# ignoring journey_steps_until_end, find all duplicate rows\n",
    "\n",
    "figerhut_no_journey_steps_until_end = fingerhut.drop(columns=['journey_steps_until_end'])\n",
    "\n",
    "duplicates = figerhut_no_journey_steps_until_end[figerhut_no_journey_steps_until_end.duplicated()]\n",
    "\n",
    "duplicates"
   ]
  },
  {
   "cell_type": "code",
   "execution_count": null,
   "metadata": {},
   "outputs": [],
   "source": [
    "fingerhut_copy = fingerhut.copy()"
   ]
  },
  {
   "cell_type": "code",
   "execution_count": null,
   "metadata": {},
   "outputs": [],
   "source": [
    "# remove fingerhut from memory\n",
    "\n",
    "del fingerhut"
   ]
  },
  {
   "cell_type": "code",
   "execution_count": null,
   "metadata": {},
   "outputs": [],
   "source": [
    "# finding number of customer_ids per account_id\n",
    "account_customer_grouped = fingerhut_copy.groupby('account_id')['customer_id'].nunique()\n",
    "\n",
    "# return only the accounts with more than one customer\n",
    "account_customer_grouped = account_customer_grouped[account_customer_grouped > 1]"
   ]
  },
  {
   "cell_type": "code",
   "execution_count": null,
   "metadata": {},
   "outputs": [],
   "source": [
    "# finding number of account_ids per customer_id\n",
    "customer_account_grouped = fingerhut_copy.groupby('customer_id')['account_id'].nunique()\n",
    "\n",
    "# return only the customers with more than one account\n",
    "customer_account_grouped = customer_account_grouped[customer_account_grouped > 1]"
   ]
  },
  {
   "cell_type": "code",
   "execution_count": null,
   "metadata": {},
   "outputs": [],
   "source": [
    "# delete journey_steps_until_end column\n",
    "\n",
    "del fingerhut_copy['journey_steps_until_end']"
   ]
  },
  {
   "cell_type": "code",
   "execution_count": null,
   "metadata": {},
   "outputs": [],
   "source": [
    "# remove duplicate rows\n",
    "\n",
    "fingerhut_copy = fingerhut_copy[~fingerhut_copy.duplicated()]"
   ]
  },
  {
   "cell_type": "code",
   "execution_count": null,
   "metadata": {},
   "outputs": [],
   "source": [
    "# pull out the accounts with more than one customer\n",
    "\n",
    "fingerhut_many_customers = fingerhut_copy[fingerhut_copy['account_id'].isin(account_customer_grouped.index)]\n",
    "\n",
    "# pull out the customers with more than one account\n",
    "\n",
    "fingerhut_many_accounts = fingerhut_copy[fingerhut_copy['customer_id'].isin(customer_account_grouped.index)]\n",
    "\n",
    "# take out fingerhut_many_customers and fingerhut_many_accounts from fingerhut_copy\n",
    "\n",
    "fingerhut_copy = fingerhut_copy[~fingerhut_copy['account_id'].isin(account_customer_grouped.index)]\n",
    "fingerhut_copy = fingerhut_copy[~fingerhut_copy['customer_id'].isin(customer_account_grouped.index)]"
   ]
  },
  {
   "cell_type": "code",
   "execution_count": null,
   "metadata": {},
   "outputs": [],
   "source": [
    "# reset index for all three dataframes\n",
    "\n",
    "fingerhut_copy.reset_index(drop=True, inplace=True)\n",
    "fingerhut_many_customers.reset_index(drop=True, inplace=True)\n",
    "fingerhut_many_accounts.reset_index(drop=True, inplace=True)"
   ]
  },
  {
   "cell_type": "code",
   "execution_count": null,
   "metadata": {},
   "outputs": [],
   "source": [
    "# create new column in fingerhut_copy called 'combined_id' starting at 0 and incrementing by 1 for each new account_id\n",
    "\n",
    "fingerhut_copy['combined_id'] = fingerhut_copy.groupby('account_id').ngroup()"
   ]
  },
  {
   "cell_type": "code",
   "execution_count": null,
   "metadata": {},
   "outputs": [],
   "source": [
    "# sort fingerhut_copy by combined_id\n",
    "\n",
    "fingerhut_copy.sort_values(by=['combined_id'], inplace=True)"
   ]
  },
  {
   "cell_type": "code",
   "execution_count": null,
   "metadata": {},
   "outputs": [],
   "source": [
    "# create new column in fingerhut_many_customers called 'combined_id' starting at fingerhut_copy['combined_id'].max()\n",
    "\n",
    "fingerhut_many_customers['combined_id'] = fingerhut_many_customers.groupby('account_id').ngroup() + fingerhut_copy['combined_id'].max() + 1"
   ]
  },
  {
   "cell_type": "code",
   "execution_count": null,
   "metadata": {},
   "outputs": [],
   "source": [
    "# sort fingerhut_many_customers by combined_id\n",
    "\n",
    "fingerhut_many_customers.sort_values(by='combined_id', inplace=True)"
   ]
  },
  {
   "cell_type": "code",
   "execution_count": null,
   "metadata": {},
   "outputs": [],
   "source": [
    "# create new column in fingerhut_many_accounts called 'combined_id' starting at fingerhut_many_customers['combined_id'].max()\n",
    "\n",
    "fingerhut_many_accounts['combined_id'] = fingerhut_many_accounts.groupby('customer_id').ngroup() + fingerhut_many_customers['combined_id'].max() + 1"
   ]
  },
  {
   "cell_type": "code",
   "execution_count": null,
   "metadata": {},
   "outputs": [],
   "source": [
    "# sort fingerhut_many_accounts by combined_id\n",
    "\n",
    "fingerhut_many_accounts.sort_values(by='combined_id', inplace=True)"
   ]
  },
  {
   "cell_type": "code",
   "execution_count": null,
   "metadata": {},
   "outputs": [
    {
     "name": "stderr",
     "output_type": "stream",
     "text": [
      "/var/folders/6m/88dwrhnx7m3cybxwl1p0rtq40000gn/T/ipykernel_63647/1808326863.py:3: FutureWarning: The frame.append method is deprecated and will be removed from pandas in a future version. Use pandas.concat instead.\n",
      "  fingerhut_combined = fingerhut_copy.append(fingerhut_many_customers)\n",
      "/var/folders/6m/88dwrhnx7m3cybxwl1p0rtq40000gn/T/ipykernel_63647/1808326863.py:4: FutureWarning: The frame.append method is deprecated and will be removed from pandas in a future version. Use pandas.concat instead.\n",
      "  fingerhut_combined = fingerhut_combined.append(fingerhut_many_accounts)\n"
     ]
    }
   ],
   "source": [
    "# append all three dataframes together\n",
    "\n",
    "fingerhut_combined = fingerhut_copy.append(fingerhut_many_customers)\n",
    "fingerhut_combined = fingerhut_combined.append(fingerhut_many_accounts)"
   ]
  },
  {
   "cell_type": "code",
   "execution_count": null,
   "metadata": {},
   "outputs": [],
   "source": [
    "# for each combined_id, sort by event_timestamp\n",
    "\n",
    "fingerhut_combined.sort_values(by=['combined_id', 'event_timestamp'], inplace=True)"
   ]
  },
  {
   "cell_type": "code",
   "execution_count": null,
   "metadata": {},
   "outputs": [],
   "source": [
    "# reset index of fingerhut_combined\n",
    "\n",
    "fingerhut_combined.reset_index(drop=True, inplace=True)"
   ]
  },
  {
   "cell_type": "code",
   "execution_count": null,
   "metadata": {},
   "outputs": [],
   "source": [
    "# for every combined_id, add a column called 'journey_steps_until_end' that increments by 1 for each row\n",
    "\n",
    "fingerhut_combined['journey_steps_until_end'] = fingerhut_combined.groupby('combined_id').cumcount(ascending=True)"
   ]
  },
  {
   "cell_type": "code",
   "execution_count": null,
   "metadata": {},
   "outputs": [
    {
     "data": {
      "text/html": [
       "<div>\n",
       "<style scoped>\n",
       "    .dataframe tbody tr th:only-of-type {\n",
       "        vertical-align: middle;\n",
       "    }\n",
       "\n",
       "    .dataframe tbody tr th {\n",
       "        vertical-align: top;\n",
       "    }\n",
       "\n",
       "    .dataframe thead th {\n",
       "        text-align: right;\n",
       "    }\n",
       "</style>\n",
       "<table border=\"1\" class=\"dataframe\">\n",
       "  <thead>\n",
       "    <tr style=\"text-align: right;\">\n",
       "      <th></th>\n",
       "      <th>customer_id</th>\n",
       "      <th>account_id</th>\n",
       "      <th>ed_id</th>\n",
       "      <th>event_name</th>\n",
       "      <th>event_timestamp</th>\n",
       "      <th>combined_id</th>\n",
       "      <th>journey_steps_until_end</th>\n",
       "    </tr>\n",
       "  </thead>\n",
       "  <tbody>\n",
       "    <tr>\n",
       "      <th>0</th>\n",
       "      <td>1807905151</td>\n",
       "      <td>-2147477843</td>\n",
       "      <td>2</td>\n",
       "      <td>campaign_click</td>\n",
       "      <td>2021-09-03T06:00:00.000Z</td>\n",
       "      <td>0</td>\n",
       "      <td>0</td>\n",
       "    </tr>\n",
       "    <tr>\n",
       "      <th>1</th>\n",
       "      <td>1807905151</td>\n",
       "      <td>-2147477843</td>\n",
       "      <td>12</td>\n",
       "      <td>application_web_approved</td>\n",
       "      <td>2021-09-03T21:46:20.000Z</td>\n",
       "      <td>0</td>\n",
       "      <td>1</td>\n",
       "    </tr>\n",
       "    <tr>\n",
       "      <th>2</th>\n",
       "      <td>1807905151</td>\n",
       "      <td>-2147477843</td>\n",
       "      <td>1</td>\n",
       "      <td>promotion_created</td>\n",
       "      <td>2021-09-03T21:46:26.680Z</td>\n",
       "      <td>0</td>\n",
       "      <td>2</td>\n",
       "    </tr>\n",
       "    <tr>\n",
       "      <th>3</th>\n",
       "      <td>1807905151</td>\n",
       "      <td>-2147477843</td>\n",
       "      <td>4</td>\n",
       "      <td>browse_products</td>\n",
       "      <td>2021-09-03T21:48:59.000Z</td>\n",
       "      <td>0</td>\n",
       "      <td>3</td>\n",
       "    </tr>\n",
       "    <tr>\n",
       "      <th>4</th>\n",
       "      <td>1807905151</td>\n",
       "      <td>-2147477843</td>\n",
       "      <td>4</td>\n",
       "      <td>browse_products</td>\n",
       "      <td>2021-09-03T21:55:06.000Z</td>\n",
       "      <td>0</td>\n",
       "      <td>4</td>\n",
       "    </tr>\n",
       "    <tr>\n",
       "      <th>...</th>\n",
       "      <td>...</td>\n",
       "      <td>...</td>\n",
       "      <td>...</td>\n",
       "      <td>...</td>\n",
       "      <td>...</td>\n",
       "      <td>...</td>\n",
       "      <td>...</td>\n",
       "    </tr>\n",
       "    <tr>\n",
       "      <th>56854843</th>\n",
       "      <td>2147449981</td>\n",
       "      <td>-203497522</td>\n",
       "      <td>4</td>\n",
       "      <td>browse_products</td>\n",
       "      <td>2023-07-22T20:47:49.000Z</td>\n",
       "      <td>1665430</td>\n",
       "      <td>37</td>\n",
       "    </tr>\n",
       "    <tr>\n",
       "      <th>56854844</th>\n",
       "      <td>2147449981</td>\n",
       "      <td>-203497522</td>\n",
       "      <td>5</td>\n",
       "      <td>view_cart</td>\n",
       "      <td>2023-07-22T20:47:49.000Z</td>\n",
       "      <td>1665430</td>\n",
       "      <td>38</td>\n",
       "    </tr>\n",
       "    <tr>\n",
       "      <th>56854845</th>\n",
       "      <td>2147449981</td>\n",
       "      <td>-203497522</td>\n",
       "      <td>11</td>\n",
       "      <td>add_to_cart</td>\n",
       "      <td>2023-07-22T20:47:49.000Z</td>\n",
       "      <td>1665430</td>\n",
       "      <td>39</td>\n",
       "    </tr>\n",
       "    <tr>\n",
       "      <th>56854846</th>\n",
       "      <td>2147449981</td>\n",
       "      <td>-203497522</td>\n",
       "      <td>6</td>\n",
       "      <td>begin_checkout</td>\n",
       "      <td>2023-07-22T20:47:49.000Z</td>\n",
       "      <td>1665430</td>\n",
       "      <td>40</td>\n",
       "    </tr>\n",
       "    <tr>\n",
       "      <th>56854847</th>\n",
       "      <td>2147449981</td>\n",
       "      <td>-203497522</td>\n",
       "      <td>4</td>\n",
       "      <td>browse_products</td>\n",
       "      <td>2023-07-23T07:20:24.000Z</td>\n",
       "      <td>1665430</td>\n",
       "      <td>41</td>\n",
       "    </tr>\n",
       "  </tbody>\n",
       "</table>\n",
       "<p>56854848 rows × 7 columns</p>\n",
       "</div>"
      ],
      "text/plain": [
       "          customer_id  account_id  ed_id                event_name  \\\n",
       "0          1807905151 -2147477843      2            campaign_click   \n",
       "1          1807905151 -2147477843     12  application_web_approved   \n",
       "2          1807905151 -2147477843      1         promotion_created   \n",
       "3          1807905151 -2147477843      4           browse_products   \n",
       "4          1807905151 -2147477843      4           browse_products   \n",
       "...               ...         ...    ...                       ...   \n",
       "56854843   2147449981  -203497522      4           browse_products   \n",
       "56854844   2147449981  -203497522      5                 view_cart   \n",
       "56854845   2147449981  -203497522     11               add_to_cart   \n",
       "56854846   2147449981  -203497522      6            begin_checkout   \n",
       "56854847   2147449981  -203497522      4           browse_products   \n",
       "\n",
       "                   event_timestamp  combined_id  journey_steps_until_end  \n",
       "0         2021-09-03T06:00:00.000Z            0                        0  \n",
       "1         2021-09-03T21:46:20.000Z            0                        1  \n",
       "2         2021-09-03T21:46:26.680Z            0                        2  \n",
       "3         2021-09-03T21:48:59.000Z            0                        3  \n",
       "4         2021-09-03T21:55:06.000Z            0                        4  \n",
       "...                            ...          ...                      ...  \n",
       "56854843  2023-07-22T20:47:49.000Z      1665430                       37  \n",
       "56854844  2023-07-22T20:47:49.000Z      1665430                       38  \n",
       "56854845  2023-07-22T20:47:49.000Z      1665430                       39  \n",
       "56854846  2023-07-22T20:47:49.000Z      1665430                       40  \n",
       "56854847  2023-07-23T07:20:24.000Z      1665430                       41  \n",
       "\n",
       "[56854848 rows x 7 columns]"
      ]
     },
     "metadata": {},
     "output_type": "display_data"
    }
   ],
   "source": [
    "fingerhut_combined"
   ]
  },
  {
   "cell_type": "code",
   "execution_count": null,
   "metadata": {},
   "outputs": [],
   "source": [
    "# export fingerhut_combined to csv\n",
    "\n",
    "fingerhut_combined.to_csv('fingerhut_combined.csv', index=False)"
   ]
  },
  {
   "cell_type": "code",
   "execution_count": null,
   "metadata": {},
   "outputs": [],
   "source": [
    "fingerhut_combined = pd.read_csv('fingerhut_combined.csv')"
   ]
  },
  {
   "cell_type": "code",
   "execution_count": null,
   "metadata": {},
   "outputs": [],
   "source": [
    "event_definitions = pd.read_csv('event_definitions.csv')"
   ]
  },
  {
   "cell_type": "code",
   "execution_count": null,
   "metadata": {},
   "outputs": [
    {
     "data": {
      "text/html": [
       "<div>\n",
       "<style scoped>\n",
       "    .dataframe tbody tr th:only-of-type {\n",
       "        vertical-align: middle;\n",
       "    }\n",
       "\n",
       "    .dataframe tbody tr th {\n",
       "        vertical-align: top;\n",
       "    }\n",
       "\n",
       "    .dataframe thead th {\n",
       "        text-align: right;\n",
       "    }\n",
       "</style>\n",
       "<table border=\"1\" class=\"dataframe\">\n",
       "  <thead>\n",
       "    <tr style=\"text-align: right;\">\n",
       "      <th></th>\n",
       "      <th>customer_id</th>\n",
       "      <th>account_id</th>\n",
       "      <th>ed_id</th>\n",
       "      <th>event_name</th>\n",
       "      <th>event_timestamp</th>\n",
       "      <th>combined_id</th>\n",
       "      <th>journey_steps_until_end</th>\n",
       "    </tr>\n",
       "  </thead>\n",
       "  <tbody>\n",
       "    <tr>\n",
       "      <th>397</th>\n",
       "      <td>-1329131321</td>\n",
       "      <td>-2147463068</td>\n",
       "      <td>24</td>\n",
       "      <td>campaignemail_clicked</td>\n",
       "      <td>2021-03-31T16:31:19.000Z</td>\n",
       "      <td>7</td>\n",
       "      <td>2</td>\n",
       "    </tr>\n",
       "  </tbody>\n",
       "</table>\n",
       "</div>"
      ],
      "text/plain": [
       "     customer_id  account_id  ed_id             event_name  \\\n",
       "397  -1329131321 -2147463068     24  campaignemail_clicked   \n",
       "\n",
       "              event_timestamp  combined_id  journey_steps_until_end  \n",
       "397  2021-03-31T16:31:19.000Z            7                        2  "
      ]
     },
     "metadata": {},
     "output_type": "display_data"
    }
   ],
   "source": [
    "# find the first instance where ed_id = 24 in fingerhut_combined\n",
    "\n",
    "fingerhut_combined[fingerhut_combined['ed_id'] == 24].head(1)"
   ]
  },
  {
   "cell_type": "code",
   "execution_count": null,
   "metadata": {},
   "outputs": [
    {
     "data": {
      "text/plain": [
       "{15: 'Apply for Credit',\n",
       " 16: 'Apply for Credit',\n",
       " 17: 'Apply for Credit',\n",
       " 12: 'Apply for Credit',\n",
       " 13: 'Apply for Credit',\n",
       " 14: 'Apply for Credit',\n",
       " 3: 'Apply for Credit',\n",
       " 19: 'Apply for Credit',\n",
       " 29: 'Credit Account',\n",
       " 37: 'Credit Account',\n",
       " 2: 'Discover',\n",
       " 9: 'Discover',\n",
       " 10: 'Discover',\n",
       " 22: 'Discover',\n",
       " 23: 'Discover',\n",
       " 27: 'Downpayment',\n",
       " 26: 'Downpayment',\n",
       " 8: 'Downpayment',\n",
       " 25: 'Downpayment',\n",
       " 11: 'First Purchase',\n",
       " 6: 'First Purchase',\n",
       " 4: 'First Purchase',\n",
       " 18: 'First Purchase',\n",
       " 7: 'First Purchase',\n",
       " 5: 'First Purchase',\n",
       " 28: 'Order Shipped',\n",
       " 20: 'Prospecting',\n",
       " 21: 'Prospecting',\n",
       " 1: 'Promotion Created',\n",
       " 24: 'Campaignemail Clicked'}"
      ]
     },
     "metadata": {},
     "output_type": "display_data"
    }
   ],
   "source": [
    "# create dictionary based on 'stage' and 'event_definition_id' columns in event_definitions, using 'event_definition_id' as the key and 'stage' as the value\n",
    "\n",
    "event_dict = event_definitions.set_index('event_definition_id')['stage'].to_dict()\n",
    "\n",
    "# add additional key value pair\n",
    "event_dict[1] = 'Promotion Created'\n",
    "event_dict[24] = 'Campaignemail Clicked'\n",
    "\n",
    "event_dict"
   ]
  },
  {
   "cell_type": "code",
   "execution_count": null,
   "metadata": {},
   "outputs": [],
   "source": [
    "# append a new column to fingerhut_combined called 'stage' that contains the value from the dictionary based on the 'event_name' column\n",
    "\n",
    "fingerhut_combined['stage'] = fingerhut_combined['ed_id'].map(event_dict)"
   ]
  },
  {
   "cell_type": "code",
   "execution_count": null,
   "metadata": {},
   "outputs": [
    {
     "data": {
      "text/plain": [
       "0"
      ]
     },
     "metadata": {},
     "output_type": "display_data"
    }
   ],
   "source": [
    "# count number of rows where 'stage' is NaN\n",
    "\n",
    "fingerhut_combined['stage'].isna().sum()"
   ]
  },
  {
   "cell_type": "code",
   "execution_count": null,
   "metadata": {},
   "outputs": [
    {
     "data": {
      "text/html": [
       "<div>\n",
       "<style scoped>\n",
       "    .dataframe tbody tr th:only-of-type {\n",
       "        vertical-align: middle;\n",
       "    }\n",
       "\n",
       "    .dataframe tbody tr th {\n",
       "        vertical-align: top;\n",
       "    }\n",
       "\n",
       "    .dataframe thead th {\n",
       "        text-align: right;\n",
       "    }\n",
       "</style>\n",
       "<table border=\"1\" class=\"dataframe\">\n",
       "  <thead>\n",
       "    <tr style=\"text-align: right;\">\n",
       "      <th></th>\n",
       "      <th>combined_id</th>\n",
       "      <th>application</th>\n",
       "      <th>activation</th>\n",
       "      <th>promotion_exposure</th>\n",
       "      <th>place_order_web</th>\n",
       "      <th>place_order_phone</th>\n",
       "      <th>order_shipped</th>\n",
       "    </tr>\n",
       "  </thead>\n",
       "  <tbody>\n",
       "    <tr>\n",
       "      <th>0</th>\n",
       "      <td>0</td>\n",
       "      <td>NaN</td>\n",
       "      <td>NaN</td>\n",
       "      <td>NaN</td>\n",
       "      <td>NaN</td>\n",
       "      <td>NaN</td>\n",
       "      <td>NaN</td>\n",
       "    </tr>\n",
       "    <tr>\n",
       "      <th>1</th>\n",
       "      <td>1</td>\n",
       "      <td>NaN</td>\n",
       "      <td>NaN</td>\n",
       "      <td>NaN</td>\n",
       "      <td>NaN</td>\n",
       "      <td>NaN</td>\n",
       "      <td>NaN</td>\n",
       "    </tr>\n",
       "    <tr>\n",
       "      <th>2</th>\n",
       "      <td>2</td>\n",
       "      <td>NaN</td>\n",
       "      <td>NaN</td>\n",
       "      <td>NaN</td>\n",
       "      <td>NaN</td>\n",
       "      <td>NaN</td>\n",
       "      <td>NaN</td>\n",
       "    </tr>\n",
       "    <tr>\n",
       "      <th>3</th>\n",
       "      <td>3</td>\n",
       "      <td>NaN</td>\n",
       "      <td>NaN</td>\n",
       "      <td>NaN</td>\n",
       "      <td>NaN</td>\n",
       "      <td>NaN</td>\n",
       "      <td>NaN</td>\n",
       "    </tr>\n",
       "    <tr>\n",
       "      <th>4</th>\n",
       "      <td>4</td>\n",
       "      <td>NaN</td>\n",
       "      <td>NaN</td>\n",
       "      <td>NaN</td>\n",
       "      <td>NaN</td>\n",
       "      <td>NaN</td>\n",
       "      <td>NaN</td>\n",
       "    </tr>\n",
       "    <tr>\n",
       "      <th>...</th>\n",
       "      <td>...</td>\n",
       "      <td>...</td>\n",
       "      <td>...</td>\n",
       "      <td>...</td>\n",
       "      <td>...</td>\n",
       "      <td>...</td>\n",
       "      <td>...</td>\n",
       "    </tr>\n",
       "    <tr>\n",
       "      <th>1665426</th>\n",
       "      <td>1665426</td>\n",
       "      <td>NaN</td>\n",
       "      <td>NaN</td>\n",
       "      <td>NaN</td>\n",
       "      <td>NaN</td>\n",
       "      <td>NaN</td>\n",
       "      <td>NaN</td>\n",
       "    </tr>\n",
       "    <tr>\n",
       "      <th>1665427</th>\n",
       "      <td>1665427</td>\n",
       "      <td>NaN</td>\n",
       "      <td>NaN</td>\n",
       "      <td>NaN</td>\n",
       "      <td>NaN</td>\n",
       "      <td>NaN</td>\n",
       "      <td>NaN</td>\n",
       "    </tr>\n",
       "    <tr>\n",
       "      <th>1665428</th>\n",
       "      <td>1665428</td>\n",
       "      <td>NaN</td>\n",
       "      <td>NaN</td>\n",
       "      <td>NaN</td>\n",
       "      <td>NaN</td>\n",
       "      <td>NaN</td>\n",
       "      <td>NaN</td>\n",
       "    </tr>\n",
       "    <tr>\n",
       "      <th>1665429</th>\n",
       "      <td>1665429</td>\n",
       "      <td>NaN</td>\n",
       "      <td>NaN</td>\n",
       "      <td>NaN</td>\n",
       "      <td>NaN</td>\n",
       "      <td>NaN</td>\n",
       "      <td>NaN</td>\n",
       "    </tr>\n",
       "    <tr>\n",
       "      <th>1665430</th>\n",
       "      <td>1665430</td>\n",
       "      <td>NaN</td>\n",
       "      <td>NaN</td>\n",
       "      <td>NaN</td>\n",
       "      <td>NaN</td>\n",
       "      <td>NaN</td>\n",
       "      <td>NaN</td>\n",
       "    </tr>\n",
       "  </tbody>\n",
       "</table>\n",
       "<p>1665431 rows × 7 columns</p>\n",
       "</div>"
      ],
      "text/plain": [
       "         combined_id  application  activation  promotion_exposure  \\\n",
       "0                  0          NaN         NaN                 NaN   \n",
       "1                  1          NaN         NaN                 NaN   \n",
       "2                  2          NaN         NaN                 NaN   \n",
       "3                  3          NaN         NaN                 NaN   \n",
       "4                  4          NaN         NaN                 NaN   \n",
       "...              ...          ...         ...                 ...   \n",
       "1665426      1665426          NaN         NaN                 NaN   \n",
       "1665427      1665427          NaN         NaN                 NaN   \n",
       "1665428      1665428          NaN         NaN                 NaN   \n",
       "1665429      1665429          NaN         NaN                 NaN   \n",
       "1665430      1665430          NaN         NaN                 NaN   \n",
       "\n",
       "         place_order_web  place_order_phone  order_shipped  \n",
       "0                    NaN                NaN            NaN  \n",
       "1                    NaN                NaN            NaN  \n",
       "2                    NaN                NaN            NaN  \n",
       "3                    NaN                NaN            NaN  \n",
       "4                    NaN                NaN            NaN  \n",
       "...                  ...                ...            ...  \n",
       "1665426              NaN                NaN            NaN  \n",
       "1665427              NaN                NaN            NaN  \n",
       "1665428              NaN                NaN            NaN  \n",
       "1665429              NaN                NaN            NaN  \n",
       "1665430              NaN                NaN            NaN  \n",
       "\n",
       "[1665431 rows x 7 columns]"
      ]
     },
     "metadata": {},
     "output_type": "display_data"
    }
   ],
   "source": [
    "customer_characteristics = pd.DataFrame(fingerhut_combined['combined_id'].unique(), columns=['combined_id'])\n",
    "\n",
    "customer_characteristics['application'] = np.nan\n",
    "customer_characteristics['activation'] = np.nan\n",
    "customer_characteristics['promotion_exposure'] = np.nan\n",
    "customer_characteristics['place_order_web'] = np.nan\n",
    "customer_characteristics['place_order_phone'] = np.nan\n",
    "customer_characteristics['order_shipped'] = np.nan\n",
    "\n",
    "customer_characteristics"
   ]
  },
  {
   "cell_type": "markdown",
   "metadata": {},
   "source": [
    "### Application"
   ]
  },
  {
   "cell_type": "code",
   "execution_count": null,
   "metadata": {},
   "outputs": [],
   "source": [
    "# check if there are any customers who do not have the 'Apply for Credit' stage in their journey, using groupby:\n",
    "\n",
    "credit_applications = fingerhut_combined.groupby('combined_id')['stage'].apply(lambda x: 'Apply for Credit' in x.values)"
   ]
  },
  {
   "cell_type": "code",
   "execution_count": null,
   "metadata": {},
   "outputs": [
    {
     "data": {
      "text/plain": [
       "1664953"
      ]
     },
     "metadata": {},
     "output_type": "display_data"
    }
   ],
   "source": [
    "sum(credit_applications)"
   ]
  },
  {
   "cell_type": "code",
   "execution_count": null,
   "metadata": {},
   "outputs": [
    {
     "data": {
      "text/html": [
       "<div>\n",
       "<style scoped>\n",
       "    .dataframe tbody tr th:only-of-type {\n",
       "        vertical-align: middle;\n",
       "    }\n",
       "\n",
       "    .dataframe tbody tr th {\n",
       "        vertical-align: top;\n",
       "    }\n",
       "\n",
       "    .dataframe thead th {\n",
       "        text-align: right;\n",
       "    }\n",
       "</style>\n",
       "<table border=\"1\" class=\"dataframe\">\n",
       "  <thead>\n",
       "    <tr style=\"text-align: right;\">\n",
       "      <th></th>\n",
       "      <th>combined_id</th>\n",
       "      <th>application</th>\n",
       "      <th>activation</th>\n",
       "      <th>promotion_exposure</th>\n",
       "      <th>place_order_web</th>\n",
       "      <th>place_order_phone</th>\n",
       "      <th>order_shipped</th>\n",
       "    </tr>\n",
       "  </thead>\n",
       "  <tbody>\n",
       "    <tr>\n",
       "      <th>0</th>\n",
       "      <td>0</td>\n",
       "      <td>1</td>\n",
       "      <td>NaN</td>\n",
       "      <td>NaN</td>\n",
       "      <td>NaN</td>\n",
       "      <td>NaN</td>\n",
       "      <td>NaN</td>\n",
       "    </tr>\n",
       "    <tr>\n",
       "      <th>1</th>\n",
       "      <td>1</td>\n",
       "      <td>1</td>\n",
       "      <td>NaN</td>\n",
       "      <td>NaN</td>\n",
       "      <td>NaN</td>\n",
       "      <td>NaN</td>\n",
       "      <td>NaN</td>\n",
       "    </tr>\n",
       "    <tr>\n",
       "      <th>2</th>\n",
       "      <td>2</td>\n",
       "      <td>1</td>\n",
       "      <td>NaN</td>\n",
       "      <td>NaN</td>\n",
       "      <td>NaN</td>\n",
       "      <td>NaN</td>\n",
       "      <td>NaN</td>\n",
       "    </tr>\n",
       "    <tr>\n",
       "      <th>3</th>\n",
       "      <td>3</td>\n",
       "      <td>1</td>\n",
       "      <td>NaN</td>\n",
       "      <td>NaN</td>\n",
       "      <td>NaN</td>\n",
       "      <td>NaN</td>\n",
       "      <td>NaN</td>\n",
       "    </tr>\n",
       "    <tr>\n",
       "      <th>4</th>\n",
       "      <td>4</td>\n",
       "      <td>1</td>\n",
       "      <td>NaN</td>\n",
       "      <td>NaN</td>\n",
       "      <td>NaN</td>\n",
       "      <td>NaN</td>\n",
       "      <td>NaN</td>\n",
       "    </tr>\n",
       "    <tr>\n",
       "      <th>...</th>\n",
       "      <td>...</td>\n",
       "      <td>...</td>\n",
       "      <td>...</td>\n",
       "      <td>...</td>\n",
       "      <td>...</td>\n",
       "      <td>...</td>\n",
       "      <td>...</td>\n",
       "    </tr>\n",
       "    <tr>\n",
       "      <th>1665426</th>\n",
       "      <td>1665426</td>\n",
       "      <td>1</td>\n",
       "      <td>NaN</td>\n",
       "      <td>NaN</td>\n",
       "      <td>NaN</td>\n",
       "      <td>NaN</td>\n",
       "      <td>NaN</td>\n",
       "    </tr>\n",
       "    <tr>\n",
       "      <th>1665427</th>\n",
       "      <td>1665427</td>\n",
       "      <td>1</td>\n",
       "      <td>NaN</td>\n",
       "      <td>NaN</td>\n",
       "      <td>NaN</td>\n",
       "      <td>NaN</td>\n",
       "      <td>NaN</td>\n",
       "    </tr>\n",
       "    <tr>\n",
       "      <th>1665428</th>\n",
       "      <td>1665428</td>\n",
       "      <td>1</td>\n",
       "      <td>NaN</td>\n",
       "      <td>NaN</td>\n",
       "      <td>NaN</td>\n",
       "      <td>NaN</td>\n",
       "      <td>NaN</td>\n",
       "    </tr>\n",
       "    <tr>\n",
       "      <th>1665429</th>\n",
       "      <td>1665429</td>\n",
       "      <td>1</td>\n",
       "      <td>NaN</td>\n",
       "      <td>NaN</td>\n",
       "      <td>NaN</td>\n",
       "      <td>NaN</td>\n",
       "      <td>NaN</td>\n",
       "    </tr>\n",
       "    <tr>\n",
       "      <th>1665430</th>\n",
       "      <td>1665430</td>\n",
       "      <td>1</td>\n",
       "      <td>NaN</td>\n",
       "      <td>NaN</td>\n",
       "      <td>NaN</td>\n",
       "      <td>NaN</td>\n",
       "      <td>NaN</td>\n",
       "    </tr>\n",
       "  </tbody>\n",
       "</table>\n",
       "<p>1665431 rows × 7 columns</p>\n",
       "</div>"
      ],
      "text/plain": [
       "         combined_id  application  activation  promotion_exposure  \\\n",
       "0                  0            1         NaN                 NaN   \n",
       "1                  1            1         NaN                 NaN   \n",
       "2                  2            1         NaN                 NaN   \n",
       "3                  3            1         NaN                 NaN   \n",
       "4                  4            1         NaN                 NaN   \n",
       "...              ...          ...         ...                 ...   \n",
       "1665426      1665426            1         NaN                 NaN   \n",
       "1665427      1665427            1         NaN                 NaN   \n",
       "1665428      1665428            1         NaN                 NaN   \n",
       "1665429      1665429            1         NaN                 NaN   \n",
       "1665430      1665430            1         NaN                 NaN   \n",
       "\n",
       "         place_order_web  place_order_phone  order_shipped  \n",
       "0                    NaN                NaN            NaN  \n",
       "1                    NaN                NaN            NaN  \n",
       "2                    NaN                NaN            NaN  \n",
       "3                    NaN                NaN            NaN  \n",
       "4                    NaN                NaN            NaN  \n",
       "...                  ...                ...            ...  \n",
       "1665426              NaN                NaN            NaN  \n",
       "1665427              NaN                NaN            NaN  \n",
       "1665428              NaN                NaN            NaN  \n",
       "1665429              NaN                NaN            NaN  \n",
       "1665430              NaN                NaN            NaN  \n",
       "\n",
       "[1665431 rows x 7 columns]"
      ]
     },
     "metadata": {},
     "output_type": "display_data"
    }
   ],
   "source": [
    "# based on credit applications modify the customer_characteristics dataframe to add 0 to the 'application' column for customers who do not have the 'Apply for Credit' stage in their journey. Else add 1.\n",
    "\n",
    "customer_characteristics['application'] = customer_characteristics['combined_id'].map(credit_applications)\n",
    "\n",
    "customer_characteristics['application'] = customer_characteristics['application'].astype(int)\n",
    "\n",
    "customer_characteristics"
   ]
  },
  {
   "cell_type": "markdown",
   "metadata": {},
   "source": [
    "### Promotion"
   ]
  },
  {
   "cell_type": "code",
   "execution_count": null,
   "metadata": {},
   "outputs": [
    {
     "data": {
      "text/plain": [
       "1523909"
      ]
     },
     "metadata": {},
     "output_type": "display_data"
    }
   ],
   "source": [
    "promotion_ids = [2, 9, 20, 21, 1, 24]\n",
    "\n",
    "# check if there are any customers who have not been exposed to any promotions, using groupby (has at least one promotion_id as ed_id):\n",
    "\n",
    "promotion_exposure = fingerhut_combined.groupby('combined_id')['ed_id'].apply(lambda x: any(i in promotion_ids for i in x.values))\n",
    "\n",
    "sum(promotion_exposure)"
   ]
  },
  {
   "cell_type": "code",
   "execution_count": null,
   "metadata": {},
   "outputs": [],
   "source": [
    "# based on promotion exposure modify the customer_characteristics dataframe to add 1 to the 'promotion_exposure' column for customers who have not been exposed to any promotions. Else add 0.\n",
    "\n",
    "customer_characteristics['promotion_exposure'] = customer_characteristics['combined_id'].map(promotion_exposure)\n",
    "\n",
    "customer_characteristics['promotion_exposure'] = customer_characteristics['promotion_exposure'].astype(int)"
   ]
  },
  {
   "cell_type": "markdown",
   "metadata": {},
   "source": [
    "### Activation"
   ]
  },
  {
   "cell_type": "code",
   "execution_count": null,
   "metadata": {},
   "outputs": [],
   "source": [
    "# CHANGING SYSTEM-WIDE TYPO\n",
    "\n",
    "# change all values 'account_activitation' to 'account_activation' in the 'event_name' column\n",
    "\n",
    "fingerhut_combined['event_name'] = fingerhut_combined['event_name'].replace('account_activitation', 'account_activation')"
   ]
  },
  {
   "cell_type": "code",
   "execution_count": null,
   "metadata": {},
   "outputs": [
    {
     "data": {
      "text/plain": [
       "combined_id\n",
       "0           True\n",
       "1           True\n",
       "2          False\n",
       "3          False\n",
       "4           True\n",
       "           ...  \n",
       "1665426    False\n",
       "1665427    False\n",
       "1665428     True\n",
       "1665429    False\n",
       "1665430    False\n",
       "Name: event_name, Length: 1665431, dtype: bool"
      ]
     },
     "metadata": {},
     "output_type": "display_data"
    }
   ],
   "source": [
    "# check if event_name 'account_activitation' is in the journey of each customer using groupby:\n",
    "\n",
    "account_activations = fingerhut_combined.groupby('combined_id')['event_name'].apply(lambda x: 'account_activation' in x.values)\n",
    "\n",
    "account_activations"
   ]
  },
  {
   "cell_type": "code",
   "execution_count": null,
   "metadata": {},
   "outputs": [
    {
     "data": {
      "text/plain": [
       "410862"
      ]
     },
     "metadata": {},
     "output_type": "display_data"
    }
   ],
   "source": [
    "sum(account_activations)"
   ]
  },
  {
   "cell_type": "code",
   "execution_count": null,
   "metadata": {},
   "outputs": [
    {
     "data": {
      "text/html": [
       "<div>\n",
       "<style scoped>\n",
       "    .dataframe tbody tr th:only-of-type {\n",
       "        vertical-align: middle;\n",
       "    }\n",
       "\n",
       "    .dataframe tbody tr th {\n",
       "        vertical-align: top;\n",
       "    }\n",
       "\n",
       "    .dataframe thead th {\n",
       "        text-align: right;\n",
       "    }\n",
       "</style>\n",
       "<table border=\"1\" class=\"dataframe\">\n",
       "  <thead>\n",
       "    <tr style=\"text-align: right;\">\n",
       "      <th></th>\n",
       "      <th>combined_id</th>\n",
       "      <th>application</th>\n",
       "      <th>activation</th>\n",
       "      <th>promotion_exposure</th>\n",
       "      <th>place_order_web</th>\n",
       "      <th>place_order_phone</th>\n",
       "      <th>order_shipped</th>\n",
       "    </tr>\n",
       "  </thead>\n",
       "  <tbody>\n",
       "    <tr>\n",
       "      <th>0</th>\n",
       "      <td>0</td>\n",
       "      <td>1</td>\n",
       "      <td>1</td>\n",
       "      <td>1</td>\n",
       "      <td>NaN</td>\n",
       "      <td>NaN</td>\n",
       "      <td>NaN</td>\n",
       "    </tr>\n",
       "    <tr>\n",
       "      <th>1</th>\n",
       "      <td>1</td>\n",
       "      <td>1</td>\n",
       "      <td>1</td>\n",
       "      <td>1</td>\n",
       "      <td>NaN</td>\n",
       "      <td>NaN</td>\n",
       "      <td>NaN</td>\n",
       "    </tr>\n",
       "    <tr>\n",
       "      <th>2</th>\n",
       "      <td>2</td>\n",
       "      <td>1</td>\n",
       "      <td>0</td>\n",
       "      <td>1</td>\n",
       "      <td>NaN</td>\n",
       "      <td>NaN</td>\n",
       "      <td>NaN</td>\n",
       "    </tr>\n",
       "    <tr>\n",
       "      <th>3</th>\n",
       "      <td>3</td>\n",
       "      <td>1</td>\n",
       "      <td>0</td>\n",
       "      <td>1</td>\n",
       "      <td>NaN</td>\n",
       "      <td>NaN</td>\n",
       "      <td>NaN</td>\n",
       "    </tr>\n",
       "    <tr>\n",
       "      <th>4</th>\n",
       "      <td>4</td>\n",
       "      <td>1</td>\n",
       "      <td>1</td>\n",
       "      <td>1</td>\n",
       "      <td>NaN</td>\n",
       "      <td>NaN</td>\n",
       "      <td>NaN</td>\n",
       "    </tr>\n",
       "    <tr>\n",
       "      <th>...</th>\n",
       "      <td>...</td>\n",
       "      <td>...</td>\n",
       "      <td>...</td>\n",
       "      <td>...</td>\n",
       "      <td>...</td>\n",
       "      <td>...</td>\n",
       "      <td>...</td>\n",
       "    </tr>\n",
       "    <tr>\n",
       "      <th>1665426</th>\n",
       "      <td>1665426</td>\n",
       "      <td>1</td>\n",
       "      <td>0</td>\n",
       "      <td>1</td>\n",
       "      <td>NaN</td>\n",
       "      <td>NaN</td>\n",
       "      <td>NaN</td>\n",
       "    </tr>\n",
       "    <tr>\n",
       "      <th>1665427</th>\n",
       "      <td>1665427</td>\n",
       "      <td>1</td>\n",
       "      <td>0</td>\n",
       "      <td>1</td>\n",
       "      <td>NaN</td>\n",
       "      <td>NaN</td>\n",
       "      <td>NaN</td>\n",
       "    </tr>\n",
       "    <tr>\n",
       "      <th>1665428</th>\n",
       "      <td>1665428</td>\n",
       "      <td>1</td>\n",
       "      <td>1</td>\n",
       "      <td>1</td>\n",
       "      <td>NaN</td>\n",
       "      <td>NaN</td>\n",
       "      <td>NaN</td>\n",
       "    </tr>\n",
       "    <tr>\n",
       "      <th>1665429</th>\n",
       "      <td>1665429</td>\n",
       "      <td>1</td>\n",
       "      <td>0</td>\n",
       "      <td>1</td>\n",
       "      <td>NaN</td>\n",
       "      <td>NaN</td>\n",
       "      <td>NaN</td>\n",
       "    </tr>\n",
       "    <tr>\n",
       "      <th>1665430</th>\n",
       "      <td>1665430</td>\n",
       "      <td>1</td>\n",
       "      <td>0</td>\n",
       "      <td>1</td>\n",
       "      <td>NaN</td>\n",
       "      <td>NaN</td>\n",
       "      <td>NaN</td>\n",
       "    </tr>\n",
       "  </tbody>\n",
       "</table>\n",
       "<p>1665431 rows × 7 columns</p>\n",
       "</div>"
      ],
      "text/plain": [
       "         combined_id  application  activation  promotion_exposure  \\\n",
       "0                  0            1           1                   1   \n",
       "1                  1            1           1                   1   \n",
       "2                  2            1           0                   1   \n",
       "3                  3            1           0                   1   \n",
       "4                  4            1           1                   1   \n",
       "...              ...          ...         ...                 ...   \n",
       "1665426      1665426            1           0                   1   \n",
       "1665427      1665427            1           0                   1   \n",
       "1665428      1665428            1           1                   1   \n",
       "1665429      1665429            1           0                   1   \n",
       "1665430      1665430            1           0                   1   \n",
       "\n",
       "         place_order_web  place_order_phone  order_shipped  \n",
       "0                    NaN                NaN            NaN  \n",
       "1                    NaN                NaN            NaN  \n",
       "2                    NaN                NaN            NaN  \n",
       "3                    NaN                NaN            NaN  \n",
       "4                    NaN                NaN            NaN  \n",
       "...                  ...                ...            ...  \n",
       "1665426              NaN                NaN            NaN  \n",
       "1665427              NaN                NaN            NaN  \n",
       "1665428              NaN                NaN            NaN  \n",
       "1665429              NaN                NaN            NaN  \n",
       "1665430              NaN                NaN            NaN  \n",
       "\n",
       "[1665431 rows x 7 columns]"
      ]
     },
     "metadata": {},
     "output_type": "display_data"
    }
   ],
   "source": [
    "# based on account_activations modify the customer_characteristics dataframe to add 0 to the 'activation' column for customers who do not have the 'account_activation' stage in their journey. Else add 1.\n",
    "\n",
    "customer_characteristics['activation'] = customer_characteristics['combined_id'].map(account_activations)\n",
    "\n",
    "customer_characteristics['activation'] = customer_characteristics['activation'].astype(int)\n",
    "\n",
    "customer_characteristics"
   ]
  },
  {
   "cell_type": "markdown",
   "metadata": {},
   "source": [
    "### Placed Order"
   ]
  },
  {
   "cell_type": "code",
   "execution_count": null,
   "metadata": {},
   "outputs": [
    {
     "data": {
      "text/plain": [
       "54662"
      ]
     },
     "metadata": {},
     "output_type": "display_data"
    }
   ],
   "source": [
    "# check if 'place_order_phone' or 'place_order_web' is in the journey of each customer using groupby:\n",
    "\n",
    "place_orders_web = fingerhut_combined.groupby('combined_id')['event_name'].apply(lambda x: 'place_order_web' in x.values)\n",
    "\n",
    "place_orders_phone = fingerhut_combined.groupby('combined_id')['event_name'].apply(lambda x: 'place_order_phone' in x.values)\n",
    "\n",
    "sum(place_orders_web)\n",
    "sum(place_orders_phone)"
   ]
  },
  {
   "cell_type": "code",
   "execution_count": null,
   "metadata": {},
   "outputs": [
    {
     "data": {
      "text/html": [
       "<div>\n",
       "<style scoped>\n",
       "    .dataframe tbody tr th:only-of-type {\n",
       "        vertical-align: middle;\n",
       "    }\n",
       "\n",
       "    .dataframe tbody tr th {\n",
       "        vertical-align: top;\n",
       "    }\n",
       "\n",
       "    .dataframe thead th {\n",
       "        text-align: right;\n",
       "    }\n",
       "</style>\n",
       "<table border=\"1\" class=\"dataframe\">\n",
       "  <thead>\n",
       "    <tr style=\"text-align: right;\">\n",
       "      <th></th>\n",
       "      <th>combined_id</th>\n",
       "      <th>application</th>\n",
       "      <th>activation</th>\n",
       "      <th>promotion_exposure</th>\n",
       "      <th>place_order_web</th>\n",
       "      <th>place_order_phone</th>\n",
       "      <th>order_shipped</th>\n",
       "    </tr>\n",
       "  </thead>\n",
       "  <tbody>\n",
       "    <tr>\n",
       "      <th>0</th>\n",
       "      <td>0</td>\n",
       "      <td>1</td>\n",
       "      <td>1</td>\n",
       "      <td>1</td>\n",
       "      <td>1</td>\n",
       "      <td>0</td>\n",
       "      <td>NaN</td>\n",
       "    </tr>\n",
       "    <tr>\n",
       "      <th>1</th>\n",
       "      <td>1</td>\n",
       "      <td>1</td>\n",
       "      <td>1</td>\n",
       "      <td>1</td>\n",
       "      <td>1</td>\n",
       "      <td>0</td>\n",
       "      <td>NaN</td>\n",
       "    </tr>\n",
       "    <tr>\n",
       "      <th>2</th>\n",
       "      <td>2</td>\n",
       "      <td>1</td>\n",
       "      <td>0</td>\n",
       "      <td>1</td>\n",
       "      <td>0</td>\n",
       "      <td>0</td>\n",
       "      <td>NaN</td>\n",
       "    </tr>\n",
       "    <tr>\n",
       "      <th>3</th>\n",
       "      <td>3</td>\n",
       "      <td>1</td>\n",
       "      <td>0</td>\n",
       "      <td>1</td>\n",
       "      <td>0</td>\n",
       "      <td>0</td>\n",
       "      <td>NaN</td>\n",
       "    </tr>\n",
       "    <tr>\n",
       "      <th>4</th>\n",
       "      <td>4</td>\n",
       "      <td>1</td>\n",
       "      <td>1</td>\n",
       "      <td>1</td>\n",
       "      <td>1</td>\n",
       "      <td>0</td>\n",
       "      <td>NaN</td>\n",
       "    </tr>\n",
       "    <tr>\n",
       "      <th>...</th>\n",
       "      <td>...</td>\n",
       "      <td>...</td>\n",
       "      <td>...</td>\n",
       "      <td>...</td>\n",
       "      <td>...</td>\n",
       "      <td>...</td>\n",
       "      <td>...</td>\n",
       "    </tr>\n",
       "    <tr>\n",
       "      <th>1665426</th>\n",
       "      <td>1665426</td>\n",
       "      <td>1</td>\n",
       "      <td>0</td>\n",
       "      <td>1</td>\n",
       "      <td>0</td>\n",
       "      <td>0</td>\n",
       "      <td>NaN</td>\n",
       "    </tr>\n",
       "    <tr>\n",
       "      <th>1665427</th>\n",
       "      <td>1665427</td>\n",
       "      <td>1</td>\n",
       "      <td>0</td>\n",
       "      <td>1</td>\n",
       "      <td>0</td>\n",
       "      <td>0</td>\n",
       "      <td>NaN</td>\n",
       "    </tr>\n",
       "    <tr>\n",
       "      <th>1665428</th>\n",
       "      <td>1665428</td>\n",
       "      <td>1</td>\n",
       "      <td>1</td>\n",
       "      <td>1</td>\n",
       "      <td>1</td>\n",
       "      <td>0</td>\n",
       "      <td>NaN</td>\n",
       "    </tr>\n",
       "    <tr>\n",
       "      <th>1665429</th>\n",
       "      <td>1665429</td>\n",
       "      <td>1</td>\n",
       "      <td>0</td>\n",
       "      <td>1</td>\n",
       "      <td>0</td>\n",
       "      <td>0</td>\n",
       "      <td>NaN</td>\n",
       "    </tr>\n",
       "    <tr>\n",
       "      <th>1665430</th>\n",
       "      <td>1665430</td>\n",
       "      <td>1</td>\n",
       "      <td>0</td>\n",
       "      <td>1</td>\n",
       "      <td>0</td>\n",
       "      <td>0</td>\n",
       "      <td>NaN</td>\n",
       "    </tr>\n",
       "  </tbody>\n",
       "</table>\n",
       "<p>1665431 rows × 7 columns</p>\n",
       "</div>"
      ],
      "text/plain": [
       "         combined_id  application  activation  promotion_exposure  \\\n",
       "0                  0            1           1                   1   \n",
       "1                  1            1           1                   1   \n",
       "2                  2            1           0                   1   \n",
       "3                  3            1           0                   1   \n",
       "4                  4            1           1                   1   \n",
       "...              ...          ...         ...                 ...   \n",
       "1665426      1665426            1           0                   1   \n",
       "1665427      1665427            1           0                   1   \n",
       "1665428      1665428            1           1                   1   \n",
       "1665429      1665429            1           0                   1   \n",
       "1665430      1665430            1           0                   1   \n",
       "\n",
       "         place_order_web  place_order_phone  order_shipped  \n",
       "0                      1                  0            NaN  \n",
       "1                      1                  0            NaN  \n",
       "2                      0                  0            NaN  \n",
       "3                      0                  0            NaN  \n",
       "4                      1                  0            NaN  \n",
       "...                  ...                ...            ...  \n",
       "1665426                0                  0            NaN  \n",
       "1665427                0                  0            NaN  \n",
       "1665428                1                  0            NaN  \n",
       "1665429                0                  0            NaN  \n",
       "1665430                0                  0            NaN  \n",
       "\n",
       "[1665431 rows x 7 columns]"
      ]
     },
     "metadata": {},
     "output_type": "display_data"
    }
   ],
   "source": [
    "# based on place_orders modify the customer_characteristics dataframe to add 0 to the 'place_order' column for customers who do not have the 'place_order_phone' or 'place_order_web' stage in their journey. Else add 1.\n",
    "\n",
    "customer_characteristics['place_order_web'] = customer_characteristics['combined_id'].map(place_orders_web)\n",
    "customer_characteristics['place_order_phone'] = customer_characteristics['combined_id'].map(place_orders_phone)\n",
    "\n",
    "customer_characteristics['place_order_web'] = customer_characteristics['place_order_web'].astype(int)\n",
    "customer_characteristics['place_order_phone'] = customer_characteristics['place_order_phone'].astype(int)\n",
    "\n",
    "customer_characteristics"
   ]
  },
  {
   "cell_type": "markdown",
   "metadata": {},
   "source": [
    "### Order Shipped"
   ]
  },
  {
   "cell_type": "code",
   "execution_count": null,
   "metadata": {},
   "outputs": [
    {
     "data": {
      "text/plain": [
       "320680"
      ]
     },
     "metadata": {},
     "output_type": "display_data"
    }
   ],
   "source": [
    "# check if 'order_shipped' is in the journey of each customer using groupby:\n",
    "\n",
    "order_shipped = fingerhut_combined.groupby('combined_id')['event_name'].apply(lambda x: 'order_shipped' in x.values)\n",
    "\n",
    "sum(order_shipped)"
   ]
  },
  {
   "cell_type": "code",
   "execution_count": null,
   "metadata": {},
   "outputs": [
    {
     "data": {
      "text/html": [
       "<div>\n",
       "<style scoped>\n",
       "    .dataframe tbody tr th:only-of-type {\n",
       "        vertical-align: middle;\n",
       "    }\n",
       "\n",
       "    .dataframe tbody tr th {\n",
       "        vertical-align: top;\n",
       "    }\n",
       "\n",
       "    .dataframe thead th {\n",
       "        text-align: right;\n",
       "    }\n",
       "</style>\n",
       "<table border=\"1\" class=\"dataframe\">\n",
       "  <thead>\n",
       "    <tr style=\"text-align: right;\">\n",
       "      <th></th>\n",
       "      <th>combined_id</th>\n",
       "      <th>application</th>\n",
       "      <th>activation</th>\n",
       "      <th>promotion_exposure</th>\n",
       "      <th>place_order_web</th>\n",
       "      <th>place_order_phone</th>\n",
       "      <th>order_shipped</th>\n",
       "    </tr>\n",
       "  </thead>\n",
       "  <tbody>\n",
       "    <tr>\n",
       "      <th>0</th>\n",
       "      <td>0</td>\n",
       "      <td>1</td>\n",
       "      <td>1</td>\n",
       "      <td>1</td>\n",
       "      <td>1</td>\n",
       "      <td>0</td>\n",
       "      <td>1</td>\n",
       "    </tr>\n",
       "    <tr>\n",
       "      <th>1</th>\n",
       "      <td>1</td>\n",
       "      <td>1</td>\n",
       "      <td>1</td>\n",
       "      <td>1</td>\n",
       "      <td>1</td>\n",
       "      <td>0</td>\n",
       "      <td>1</td>\n",
       "    </tr>\n",
       "    <tr>\n",
       "      <th>2</th>\n",
       "      <td>2</td>\n",
       "      <td>1</td>\n",
       "      <td>0</td>\n",
       "      <td>1</td>\n",
       "      <td>0</td>\n",
       "      <td>0</td>\n",
       "      <td>0</td>\n",
       "    </tr>\n",
       "    <tr>\n",
       "      <th>3</th>\n",
       "      <td>3</td>\n",
       "      <td>1</td>\n",
       "      <td>0</td>\n",
       "      <td>1</td>\n",
       "      <td>0</td>\n",
       "      <td>0</td>\n",
       "      <td>0</td>\n",
       "    </tr>\n",
       "    <tr>\n",
       "      <th>4</th>\n",
       "      <td>4</td>\n",
       "      <td>1</td>\n",
       "      <td>1</td>\n",
       "      <td>1</td>\n",
       "      <td>1</td>\n",
       "      <td>0</td>\n",
       "      <td>1</td>\n",
       "    </tr>\n",
       "    <tr>\n",
       "      <th>...</th>\n",
       "      <td>...</td>\n",
       "      <td>...</td>\n",
       "      <td>...</td>\n",
       "      <td>...</td>\n",
       "      <td>...</td>\n",
       "      <td>...</td>\n",
       "      <td>...</td>\n",
       "    </tr>\n",
       "    <tr>\n",
       "      <th>1665426</th>\n",
       "      <td>1665426</td>\n",
       "      <td>1</td>\n",
       "      <td>0</td>\n",
       "      <td>1</td>\n",
       "      <td>0</td>\n",
       "      <td>0</td>\n",
       "      <td>0</td>\n",
       "    </tr>\n",
       "    <tr>\n",
       "      <th>1665427</th>\n",
       "      <td>1665427</td>\n",
       "      <td>1</td>\n",
       "      <td>0</td>\n",
       "      <td>1</td>\n",
       "      <td>0</td>\n",
       "      <td>0</td>\n",
       "      <td>0</td>\n",
       "    </tr>\n",
       "    <tr>\n",
       "      <th>1665428</th>\n",
       "      <td>1665428</td>\n",
       "      <td>1</td>\n",
       "      <td>1</td>\n",
       "      <td>1</td>\n",
       "      <td>1</td>\n",
       "      <td>0</td>\n",
       "      <td>1</td>\n",
       "    </tr>\n",
       "    <tr>\n",
       "      <th>1665429</th>\n",
       "      <td>1665429</td>\n",
       "      <td>1</td>\n",
       "      <td>0</td>\n",
       "      <td>1</td>\n",
       "      <td>0</td>\n",
       "      <td>0</td>\n",
       "      <td>0</td>\n",
       "    </tr>\n",
       "    <tr>\n",
       "      <th>1665430</th>\n",
       "      <td>1665430</td>\n",
       "      <td>1</td>\n",
       "      <td>0</td>\n",
       "      <td>1</td>\n",
       "      <td>0</td>\n",
       "      <td>0</td>\n",
       "      <td>0</td>\n",
       "    </tr>\n",
       "  </tbody>\n",
       "</table>\n",
       "<p>1665431 rows × 7 columns</p>\n",
       "</div>"
      ],
      "text/plain": [
       "         combined_id  application  activation  promotion_exposure  \\\n",
       "0                  0            1           1                   1   \n",
       "1                  1            1           1                   1   \n",
       "2                  2            1           0                   1   \n",
       "3                  3            1           0                   1   \n",
       "4                  4            1           1                   1   \n",
       "...              ...          ...         ...                 ...   \n",
       "1665426      1665426            1           0                   1   \n",
       "1665427      1665427            1           0                   1   \n",
       "1665428      1665428            1           1                   1   \n",
       "1665429      1665429            1           0                   1   \n",
       "1665430      1665430            1           0                   1   \n",
       "\n",
       "         place_order_web  place_order_phone  order_shipped  \n",
       "0                      1                  0              1  \n",
       "1                      1                  0              1  \n",
       "2                      0                  0              0  \n",
       "3                      0                  0              0  \n",
       "4                      1                  0              1  \n",
       "...                  ...                ...            ...  \n",
       "1665426                0                  0              0  \n",
       "1665427                0                  0              0  \n",
       "1665428                1                  0              1  \n",
       "1665429                0                  0              0  \n",
       "1665430                0                  0              0  \n",
       "\n",
       "[1665431 rows x 7 columns]"
      ]
     },
     "metadata": {},
     "output_type": "display_data"
    }
   ],
   "source": [
    "# based on order_shipped modify the customer_characteristics dataframe to add 0 to the 'order_shipped' column for customers who do not have the 'order_shipped' stage in their journey. Else add 1.\n",
    "\n",
    "customer_characteristics['order_shipped'] = customer_characteristics['combined_id'].map(order_shipped)\n",
    "\n",
    "customer_characteristics['order_shipped'] = customer_characteristics['order_shipped'].astype(int)\n",
    "\n",
    "customer_characteristics"
   ]
  },
  {
   "cell_type": "code",
   "execution_count": null,
   "metadata": {},
   "outputs": [],
   "source": [
    "# export the customer_characteristics dataframe as a pickle file\n",
    "\n",
    "customer_characteristics.to_pickle('../Dataset/customer_characteristics.pkl')"
   ]
  },
  {
   "cell_type": "markdown",
   "metadata": {},
   "source": [
    "### Wide Dataframe (events as lists)"
   ]
  },
  {
   "cell_type": "code",
   "execution_count": null,
   "metadata": {},
   "outputs": [
    {
     "data": {
      "text/html": [
       "<div>\n",
       "<style scoped>\n",
       "    .dataframe tbody tr th:only-of-type {\n",
       "        vertical-align: middle;\n",
       "    }\n",
       "\n",
       "    .dataframe tbody tr th {\n",
       "        vertical-align: top;\n",
       "    }\n",
       "\n",
       "    .dataframe thead th {\n",
       "        text-align: right;\n",
       "    }\n",
       "</style>\n",
       "<table border=\"1\" class=\"dataframe\">\n",
       "  <thead>\n",
       "    <tr style=\"text-align: right;\">\n",
       "      <th></th>\n",
       "      <th>combined_id</th>\n",
       "      <th>ed_id</th>\n",
       "      <th>stage</th>\n",
       "      <th>event_timestamp</th>\n",
       "    </tr>\n",
       "  </thead>\n",
       "  <tbody>\n",
       "    <tr>\n",
       "      <th>0</th>\n",
       "      <td>0</td>\n",
       "      <td>[2, 12, 1, 4, 4, 4, 11, 1, 5, 6, 1, 1, 4, 11, ...</td>\n",
       "      <td>[Discover, Apply for Credit, Promotion Created...</td>\n",
       "      <td>[2021-09-03T06:00:00.000Z, 2021-09-03T21:46:20...</td>\n",
       "    </tr>\n",
       "    <tr>\n",
       "      <th>1</th>\n",
       "      <td>1</td>\n",
       "      <td>[2, 4, 11, 4, 4, 11, 4, 4, 4, 11, 4, 4, 5, 4, ...</td>\n",
       "      <td>[Discover, First Purchase, First Purchase, Fir...</td>\n",
       "      <td>[2021-02-20T06:00:00.000Z, 2021-02-20T22:23:39...</td>\n",
       "    </tr>\n",
       "    <tr>\n",
       "      <th>2</th>\n",
       "      <td>2</td>\n",
       "      <td>[19, 19, 19, 19, 19, 19, 19, 19, 3, 19, 12, 4,...</td>\n",
       "      <td>[Apply for Credit, Apply for Credit, Apply for...</td>\n",
       "      <td>[2022-12-11T07:43:02.000Z, 2022-12-11T07:43:04...</td>\n",
       "    </tr>\n",
       "    <tr>\n",
       "      <th>3</th>\n",
       "      <td>3</td>\n",
       "      <td>[12, 2, 22]</td>\n",
       "      <td>[Apply for Credit, Discover, Discover]</td>\n",
       "      <td>[2023-07-02T13:43:31.000Z, 2023-07-02T19:43:31...</td>\n",
       "    </tr>\n",
       "    <tr>\n",
       "      <th>4</th>\n",
       "      <td>4</td>\n",
       "      <td>[12, 4, 4, 19, 5, 4, 11, 1, 5, 6, 29, 4, 11, 5...</td>\n",
       "      <td>[Apply for Credit, First Purchase, First Purch...</td>\n",
       "      <td>[2021-11-20T14:49:13.000Z, 2021-11-20T14:52:13...</td>\n",
       "    </tr>\n",
       "    <tr>\n",
       "      <th>...</th>\n",
       "      <td>...</td>\n",
       "      <td>...</td>\n",
       "      <td>...</td>\n",
       "      <td>...</td>\n",
       "    </tr>\n",
       "    <tr>\n",
       "      <th>1665426</th>\n",
       "      <td>1665426</td>\n",
       "      <td>[12, 4, 4, 4, 4, 4, 4, 11, 4, 11, 4, 4, 4, 4, ...</td>\n",
       "      <td>[Apply for Credit, First Purchase, First Purch...</td>\n",
       "      <td>[2021-03-24T11:00:21.000Z, 2021-03-24T11:07:37...</td>\n",
       "    </tr>\n",
       "    <tr>\n",
       "      <th>1665427</th>\n",
       "      <td>1665427</td>\n",
       "      <td>[3, 3, 3, 3, 3, 12, 4, 4, 4, 4, 4, 4, 1, 1, 4,...</td>\n",
       "      <td>[Apply for Credit, Apply for Credit, Apply for...</td>\n",
       "      <td>[2021-08-02T16:17:10.000Z, 2021-08-02T16:18:38...</td>\n",
       "    </tr>\n",
       "    <tr>\n",
       "      <th>1665428</th>\n",
       "      <td>1665428</td>\n",
       "      <td>[5, 5, 19, 19, 19, 19, 19, 19, 19, 19, 3, 12, ...</td>\n",
       "      <td>[First Purchase, First Purchase, Apply for Cre...</td>\n",
       "      <td>[2022-05-22T19:14:41.000Z, 2022-05-22T19:29:11...</td>\n",
       "    </tr>\n",
       "    <tr>\n",
       "      <th>1665429</th>\n",
       "      <td>1665429</td>\n",
       "      <td>[2, 12, 4, 4, 4, 4, 4, 11, 5, 6, 5, 4, 4, 4, 1...</td>\n",
       "      <td>[Discover, Apply for Credit, First Purchase, F...</td>\n",
       "      <td>[2021-03-21T06:00:00.000Z, 2021-03-21T17:25:43...</td>\n",
       "    </tr>\n",
       "    <tr>\n",
       "      <th>1665430</th>\n",
       "      <td>1665430</td>\n",
       "      <td>[2, 19, 19, 3, 19, 3, 19, 19, 19, 3, 19, 19, 3...</td>\n",
       "      <td>[Discover, Apply for Credit, Apply for Credit,...</td>\n",
       "      <td>[2021-07-05T06:00:00.000Z, 2021-07-05T08:56:27...</td>\n",
       "    </tr>\n",
       "  </tbody>\n",
       "</table>\n",
       "<p>1665431 rows × 4 columns</p>\n",
       "</div>"
      ],
      "text/plain": [
       "         combined_id                                              ed_id  \\\n",
       "0                  0  [2, 12, 1, 4, 4, 4, 11, 1, 5, 6, 1, 1, 4, 11, ...   \n",
       "1                  1  [2, 4, 11, 4, 4, 11, 4, 4, 4, 11, 4, 4, 5, 4, ...   \n",
       "2                  2  [19, 19, 19, 19, 19, 19, 19, 19, 3, 19, 12, 4,...   \n",
       "3                  3                                        [12, 2, 22]   \n",
       "4                  4  [12, 4, 4, 19, 5, 4, 11, 1, 5, 6, 29, 4, 11, 5...   \n",
       "...              ...                                                ...   \n",
       "1665426      1665426  [12, 4, 4, 4, 4, 4, 4, 11, 4, 11, 4, 4, 4, 4, ...   \n",
       "1665427      1665427  [3, 3, 3, 3, 3, 12, 4, 4, 4, 4, 4, 4, 1, 1, 4,...   \n",
       "1665428      1665428  [5, 5, 19, 19, 19, 19, 19, 19, 19, 19, 3, 12, ...   \n",
       "1665429      1665429  [2, 12, 4, 4, 4, 4, 4, 11, 5, 6, 5, 4, 4, 4, 1...   \n",
       "1665430      1665430  [2, 19, 19, 3, 19, 3, 19, 19, 19, 3, 19, 19, 3...   \n",
       "\n",
       "                                                     stage  \\\n",
       "0        [Discover, Apply for Credit, Promotion Created...   \n",
       "1        [Discover, First Purchase, First Purchase, Fir...   \n",
       "2        [Apply for Credit, Apply for Credit, Apply for...   \n",
       "3                   [Apply for Credit, Discover, Discover]   \n",
       "4        [Apply for Credit, First Purchase, First Purch...   \n",
       "...                                                    ...   \n",
       "1665426  [Apply for Credit, First Purchase, First Purch...   \n",
       "1665427  [Apply for Credit, Apply for Credit, Apply for...   \n",
       "1665428  [First Purchase, First Purchase, Apply for Cre...   \n",
       "1665429  [Discover, Apply for Credit, First Purchase, F...   \n",
       "1665430  [Discover, Apply for Credit, Apply for Credit,...   \n",
       "\n",
       "                                           event_timestamp  \n",
       "0        [2021-09-03T06:00:00.000Z, 2021-09-03T21:46:20...  \n",
       "1        [2021-02-20T06:00:00.000Z, 2021-02-20T22:23:39...  \n",
       "2        [2022-12-11T07:43:02.000Z, 2022-12-11T07:43:04...  \n",
       "3        [2023-07-02T13:43:31.000Z, 2023-07-02T19:43:31...  \n",
       "4        [2021-11-20T14:49:13.000Z, 2021-11-20T14:52:13...  \n",
       "...                                                    ...  \n",
       "1665426  [2021-03-24T11:00:21.000Z, 2021-03-24T11:07:37...  \n",
       "1665427  [2021-08-02T16:17:10.000Z, 2021-08-02T16:18:38...  \n",
       "1665428  [2022-05-22T19:14:41.000Z, 2022-05-22T19:29:11...  \n",
       "1665429  [2021-03-21T06:00:00.000Z, 2021-03-21T17:25:43...  \n",
       "1665430  [2021-07-05T06:00:00.000Z, 2021-07-05T08:56:27...  \n",
       "\n",
       "[1665431 rows x 4 columns]"
      ]
     },
     "metadata": {},
     "output_type": "display_data"
    }
   ],
   "source": [
    "# groupby 'combined_id' and store the 'ed_id' and 'stage' as a list in columns named 'ed_ids' and 'stages'\n",
    "\n",
    "fingerhut_combined_grouped = fingerhut_combined.groupby('combined_id').agg({'ed_id': list, 'stage': list, 'event_timestamp': list}).reset_index()\n",
    "\n",
    "fingerhut_combined_grouped"
   ]
  },
  {
   "cell_type": "code",
   "execution_count": null,
   "metadata": {},
   "outputs": [],
   "source": [
    "# import customer_characteristics.pkl\n",
    "\n",
    "customer_characteristics = pd.read_pickle('customer_characteristics.pkl')"
   ]
  },
  {
   "cell_type": "code",
   "execution_count": null,
   "metadata": {},
   "outputs": [
    {
     "data": {
      "text/html": [
       "<div>\n",
       "<style scoped>\n",
       "    .dataframe tbody tr th:only-of-type {\n",
       "        vertical-align: middle;\n",
       "    }\n",
       "\n",
       "    .dataframe tbody tr th {\n",
       "        vertical-align: top;\n",
       "    }\n",
       "\n",
       "    .dataframe thead th {\n",
       "        text-align: right;\n",
       "    }\n",
       "</style>\n",
       "<table border=\"1\" class=\"dataframe\">\n",
       "  <thead>\n",
       "    <tr style=\"text-align: right;\">\n",
       "      <th></th>\n",
       "      <th>combined_id</th>\n",
       "      <th>ed_id</th>\n",
       "      <th>stage</th>\n",
       "      <th>event_timestamp</th>\n",
       "      <th>application</th>\n",
       "      <th>activation</th>\n",
       "      <th>promotion_exposure</th>\n",
       "      <th>place_order_web</th>\n",
       "      <th>place_order_phone</th>\n",
       "      <th>order_shipped</th>\n",
       "    </tr>\n",
       "  </thead>\n",
       "  <tbody>\n",
       "    <tr>\n",
       "      <th>0</th>\n",
       "      <td>0</td>\n",
       "      <td>[2, 12, 1, 4, 4, 4, 11, 1, 5, 6, 1, 1, 4, 11, ...</td>\n",
       "      <td>[Discover, Apply for Credit, Promotion Created...</td>\n",
       "      <td>[2021-09-03T06:00:00.000Z, 2021-09-03T21:46:20...</td>\n",
       "      <td>1</td>\n",
       "      <td>1</td>\n",
       "      <td>1</td>\n",
       "      <td>1</td>\n",
       "      <td>0</td>\n",
       "      <td>1</td>\n",
       "    </tr>\n",
       "    <tr>\n",
       "      <th>1</th>\n",
       "      <td>1</td>\n",
       "      <td>[2, 4, 11, 4, 4, 11, 4, 4, 4, 11, 4, 4, 5, 4, ...</td>\n",
       "      <td>[Discover, First Purchase, First Purchase, Fir...</td>\n",
       "      <td>[2021-02-20T06:00:00.000Z, 2021-02-20T22:23:39...</td>\n",
       "      <td>1</td>\n",
       "      <td>1</td>\n",
       "      <td>1</td>\n",
       "      <td>1</td>\n",
       "      <td>0</td>\n",
       "      <td>1</td>\n",
       "    </tr>\n",
       "    <tr>\n",
       "      <th>2</th>\n",
       "      <td>2</td>\n",
       "      <td>[19, 19, 19, 19, 19, 19, 19, 19, 3, 19, 12, 4,...</td>\n",
       "      <td>[Apply for Credit, Apply for Credit, Apply for...</td>\n",
       "      <td>[2022-12-11T07:43:02.000Z, 2022-12-11T07:43:04...</td>\n",
       "      <td>1</td>\n",
       "      <td>0</td>\n",
       "      <td>1</td>\n",
       "      <td>0</td>\n",
       "      <td>0</td>\n",
       "      <td>0</td>\n",
       "    </tr>\n",
       "    <tr>\n",
       "      <th>3</th>\n",
       "      <td>3</td>\n",
       "      <td>[12, 2, 22]</td>\n",
       "      <td>[Apply for Credit, Discover, Discover]</td>\n",
       "      <td>[2023-07-02T13:43:31.000Z, 2023-07-02T19:43:31...</td>\n",
       "      <td>1</td>\n",
       "      <td>0</td>\n",
       "      <td>1</td>\n",
       "      <td>0</td>\n",
       "      <td>0</td>\n",
       "      <td>0</td>\n",
       "    </tr>\n",
       "    <tr>\n",
       "      <th>4</th>\n",
       "      <td>4</td>\n",
       "      <td>[12, 4, 4, 19, 5, 4, 11, 1, 5, 6, 29, 4, 11, 5...</td>\n",
       "      <td>[Apply for Credit, First Purchase, First Purch...</td>\n",
       "      <td>[2021-11-20T14:49:13.000Z, 2021-11-20T14:52:13...</td>\n",
       "      <td>1</td>\n",
       "      <td>1</td>\n",
       "      <td>1</td>\n",
       "      <td>1</td>\n",
       "      <td>0</td>\n",
       "      <td>1</td>\n",
       "    </tr>\n",
       "    <tr>\n",
       "      <th>...</th>\n",
       "      <td>...</td>\n",
       "      <td>...</td>\n",
       "      <td>...</td>\n",
       "      <td>...</td>\n",
       "      <td>...</td>\n",
       "      <td>...</td>\n",
       "      <td>...</td>\n",
       "      <td>...</td>\n",
       "      <td>...</td>\n",
       "      <td>...</td>\n",
       "    </tr>\n",
       "    <tr>\n",
       "      <th>1665426</th>\n",
       "      <td>1665426</td>\n",
       "      <td>[12, 4, 4, 4, 4, 4, 4, 11, 4, 11, 4, 4, 4, 4, ...</td>\n",
       "      <td>[Apply for Credit, First Purchase, First Purch...</td>\n",
       "      <td>[2021-03-24T11:00:21.000Z, 2021-03-24T11:07:37...</td>\n",
       "      <td>1</td>\n",
       "      <td>0</td>\n",
       "      <td>1</td>\n",
       "      <td>0</td>\n",
       "      <td>0</td>\n",
       "      <td>0</td>\n",
       "    </tr>\n",
       "    <tr>\n",
       "      <th>1665427</th>\n",
       "      <td>1665427</td>\n",
       "      <td>[3, 3, 3, 3, 3, 12, 4, 4, 4, 4, 4, 4, 1, 1, 4,...</td>\n",
       "      <td>[Apply for Credit, Apply for Credit, Apply for...</td>\n",
       "      <td>[2021-08-02T16:17:10.000Z, 2021-08-02T16:18:38...</td>\n",
       "      <td>1</td>\n",
       "      <td>0</td>\n",
       "      <td>1</td>\n",
       "      <td>0</td>\n",
       "      <td>0</td>\n",
       "      <td>0</td>\n",
       "    </tr>\n",
       "    <tr>\n",
       "      <th>1665428</th>\n",
       "      <td>1665428</td>\n",
       "      <td>[5, 5, 19, 19, 19, 19, 19, 19, 19, 19, 3, 12, ...</td>\n",
       "      <td>[First Purchase, First Purchase, Apply for Cre...</td>\n",
       "      <td>[2022-05-22T19:14:41.000Z, 2022-05-22T19:29:11...</td>\n",
       "      <td>1</td>\n",
       "      <td>1</td>\n",
       "      <td>1</td>\n",
       "      <td>1</td>\n",
       "      <td>0</td>\n",
       "      <td>1</td>\n",
       "    </tr>\n",
       "    <tr>\n",
       "      <th>1665429</th>\n",
       "      <td>1665429</td>\n",
       "      <td>[2, 12, 4, 4, 4, 4, 4, 11, 5, 6, 5, 4, 4, 4, 1...</td>\n",
       "      <td>[Discover, Apply for Credit, First Purchase, F...</td>\n",
       "      <td>[2021-03-21T06:00:00.000Z, 2021-03-21T17:25:43...</td>\n",
       "      <td>1</td>\n",
       "      <td>0</td>\n",
       "      <td>1</td>\n",
       "      <td>0</td>\n",
       "      <td>0</td>\n",
       "      <td>0</td>\n",
       "    </tr>\n",
       "    <tr>\n",
       "      <th>1665430</th>\n",
       "      <td>1665430</td>\n",
       "      <td>[2, 19, 19, 3, 19, 3, 19, 19, 19, 3, 19, 19, 3...</td>\n",
       "      <td>[Discover, Apply for Credit, Apply for Credit,...</td>\n",
       "      <td>[2021-07-05T06:00:00.000Z, 2021-07-05T08:56:27...</td>\n",
       "      <td>1</td>\n",
       "      <td>0</td>\n",
       "      <td>1</td>\n",
       "      <td>0</td>\n",
       "      <td>0</td>\n",
       "      <td>0</td>\n",
       "    </tr>\n",
       "  </tbody>\n",
       "</table>\n",
       "<p>1665431 rows × 10 columns</p>\n",
       "</div>"
      ],
      "text/plain": [
       "         combined_id                                              ed_id  \\\n",
       "0                  0  [2, 12, 1, 4, 4, 4, 11, 1, 5, 6, 1, 1, 4, 11, ...   \n",
       "1                  1  [2, 4, 11, 4, 4, 11, 4, 4, 4, 11, 4, 4, 5, 4, ...   \n",
       "2                  2  [19, 19, 19, 19, 19, 19, 19, 19, 3, 19, 12, 4,...   \n",
       "3                  3                                        [12, 2, 22]   \n",
       "4                  4  [12, 4, 4, 19, 5, 4, 11, 1, 5, 6, 29, 4, 11, 5...   \n",
       "...              ...                                                ...   \n",
       "1665426      1665426  [12, 4, 4, 4, 4, 4, 4, 11, 4, 11, 4, 4, 4, 4, ...   \n",
       "1665427      1665427  [3, 3, 3, 3, 3, 12, 4, 4, 4, 4, 4, 4, 1, 1, 4,...   \n",
       "1665428      1665428  [5, 5, 19, 19, 19, 19, 19, 19, 19, 19, 3, 12, ...   \n",
       "1665429      1665429  [2, 12, 4, 4, 4, 4, 4, 11, 5, 6, 5, 4, 4, 4, 1...   \n",
       "1665430      1665430  [2, 19, 19, 3, 19, 3, 19, 19, 19, 3, 19, 19, 3...   \n",
       "\n",
       "                                                     stage  \\\n",
       "0        [Discover, Apply for Credit, Promotion Created...   \n",
       "1        [Discover, First Purchase, First Purchase, Fir...   \n",
       "2        [Apply for Credit, Apply for Credit, Apply for...   \n",
       "3                   [Apply for Credit, Discover, Discover]   \n",
       "4        [Apply for Credit, First Purchase, First Purch...   \n",
       "...                                                    ...   \n",
       "1665426  [Apply for Credit, First Purchase, First Purch...   \n",
       "1665427  [Apply for Credit, Apply for Credit, Apply for...   \n",
       "1665428  [First Purchase, First Purchase, Apply for Cre...   \n",
       "1665429  [Discover, Apply for Credit, First Purchase, F...   \n",
       "1665430  [Discover, Apply for Credit, Apply for Credit,...   \n",
       "\n",
       "                                           event_timestamp  application  \\\n",
       "0        [2021-09-03T06:00:00.000Z, 2021-09-03T21:46:20...            1   \n",
       "1        [2021-02-20T06:00:00.000Z, 2021-02-20T22:23:39...            1   \n",
       "2        [2022-12-11T07:43:02.000Z, 2022-12-11T07:43:04...            1   \n",
       "3        [2023-07-02T13:43:31.000Z, 2023-07-02T19:43:31...            1   \n",
       "4        [2021-11-20T14:49:13.000Z, 2021-11-20T14:52:13...            1   \n",
       "...                                                    ...          ...   \n",
       "1665426  [2021-03-24T11:00:21.000Z, 2021-03-24T11:07:37...            1   \n",
       "1665427  [2021-08-02T16:17:10.000Z, 2021-08-02T16:18:38...            1   \n",
       "1665428  [2022-05-22T19:14:41.000Z, 2022-05-22T19:29:11...            1   \n",
       "1665429  [2021-03-21T06:00:00.000Z, 2021-03-21T17:25:43...            1   \n",
       "1665430  [2021-07-05T06:00:00.000Z, 2021-07-05T08:56:27...            1   \n",
       "\n",
       "         activation  promotion_exposure  place_order_web  place_order_phone  \\\n",
       "0                 1                   1                1                  0   \n",
       "1                 1                   1                1                  0   \n",
       "2                 0                   1                0                  0   \n",
       "3                 0                   1                0                  0   \n",
       "4                 1                   1                1                  0   \n",
       "...             ...                 ...              ...                ...   \n",
       "1665426           0                   1                0                  0   \n",
       "1665427           0                   1                0                  0   \n",
       "1665428           1                   1                1                  0   \n",
       "1665429           0                   1                0                  0   \n",
       "1665430           0                   1                0                  0   \n",
       "\n",
       "         order_shipped  \n",
       "0                    1  \n",
       "1                    1  \n",
       "2                    0  \n",
       "3                    0  \n",
       "4                    1  \n",
       "...                ...  \n",
       "1665426              0  \n",
       "1665427              0  \n",
       "1665428              1  \n",
       "1665429              0  \n",
       "1665430              0  \n",
       "\n",
       "[1665431 rows x 10 columns]"
      ]
     },
     "metadata": {},
     "output_type": "display_data"
    }
   ],
   "source": [
    "# merge the fingerhut_combined_grouped dataframe with the customer_characteristics dataframe\n",
    "\n",
    "fingerhut_combined_grouped = pd.merge(fingerhut_combined_grouped, customer_characteristics, on='combined_id')\n",
    "\n",
    "fingerhut_combined_grouped"
   ]
  },
  {
   "cell_type": "code",
   "execution_count": null,
   "metadata": {},
   "outputs": [],
   "source": [
    "# export fingerhut_combined_grouped to a pickle file int ../Dataset\n",
    "\n",
    "fingerhut_combined_grouped.to_pickle('fingerhut_combined_grouped.pkl')"
   ]
  },
  {
   "cell_type": "markdown",
   "metadata": {},
   "source": [
    "## Data Visualization"
   ]
  },
  {
   "cell_type": "markdown",
   "metadata": {},
   "source": [
    "### Sankey Diagram"
   ]
  },
  {
   "cell_type": "code",
   "execution_count": null,
   "metadata": {},
   "outputs": [],
   "source": [
    "# import datasets\n",
    "\n",
    "event_def = pd.read_csv('event_definitions.csv')\n",
    "fingerhut_combined = pd.read_csv('Dataset/fingerhut_combined.csv')"
   ]
  },
  {
   "cell_type": "code",
   "execution_count": null,
   "metadata": {},
   "outputs": [],
   "source": [
    "event_dict = {\n",
    "    'Apply for Credit': [15, 17, 12, 14, 3, 19],\n",
    "    'Account Activation': [29],\n",
    "    'Fraud Review': [37],\n",
    "    'Promotion and Discover': [1, 2, 9, 10, 22, 23, 20, 21, 24],\n",
    "    'Downpayment': [27, 26, 8, 25],\n",
    "    'Shopping': [11, 6, 4, 5],\n",
    "    'Place Order': [18, 7],\n",
    "    'Order Shipped': [28]\n",
    "}"
   ]
  },
  {
   "cell_type": "code",
   "execution_count": null,
   "metadata": {},
   "outputs": [],
   "source": [
    "# merge event_def (event_definition_id column) with fingerhut_combined (ed_id column)\n",
    "\n",
    "fingerhut_combined = pd.merge(fingerhut_combined, event_def, how='left', left_on='ed_id', right_on='event_definition_id')"
   ]
  },
  {
   "cell_type": "code",
   "execution_count": null,
   "metadata": {},
   "outputs": [],
   "source": [
    "# min and max values from 'combined_id' column\n",
    "\n",
    "min_combined_id = fingerhut_combined['combined_id'].min()\n",
    "max_combined_id = fingerhut_combined['combined_id'].max()"
   ]
  },
  {
   "cell_type": "code",
   "execution_count": null,
   "metadata": {},
   "outputs": [
    {
     "data": {
      "text/plain": [
       "1665430"
      ]
     },
     "metadata": {},
     "output_type": "display_data"
    }
   ],
   "source": [
    "max_combined_id"
   ]
  },
  {
   "cell_type": "code",
   "execution_count": null,
   "metadata": {},
   "outputs": [],
   "source": [
    "# random 1000 numbers from 1 to 1665430\n",
    "\n",
    "import random\n",
    "\n",
    "random.seed(0)\n",
    "\n",
    "random_numbers = random.sample(range(1, 1665430), 1000)"
   ]
  },
  {
   "cell_type": "code",
   "execution_count": null,
   "metadata": {},
   "outputs": [
    {
     "data": {
      "text/plain": [
       "1000"
      ]
     },
     "metadata": {},
     "output_type": "display_data"
    }
   ],
   "source": [
    "len(random_numbers)"
   ]
  },
  {
   "cell_type": "code",
   "execution_count": null,
   "metadata": {},
   "outputs": [],
   "source": [
    "# keep only rows where combined_id is in random_numbers\n",
    "\n",
    "fingerhut_small = fingerhut_combined[fingerhut_combined['combined_id'].isin(random_numbers)]\n",
    "\n",
    "#############################################################################################"
   ]
  },
  {
   "cell_type": "code",
   "execution_count": null,
   "metadata": {},
   "outputs": [],
   "source": [
    "# groupby combined_id and only keep groups that has at least one instance of ed_id == 29 (account_activation) and does not have any instance of ed_id == 16 (application_phone_declined) or ed_id == 13 (application_web_declined)\n",
    "\n",
    "fingerhut_active_account = fingerhut_small.groupby('combined_id').filter(lambda x: (x['ed_id'] == 29).any() & (x['ed_id'] != 16).all() & (x['ed_id'] != 13).all())"
   ]
  },
  {
   "cell_type": "code",
   "execution_count": null,
   "metadata": {},
   "outputs": [],
   "source": [
    "# only keep 'combined_id', 'event_timestamp', 'event_name_y'\n",
    "\n",
    "fingerhut_active_account = fingerhut_active_account[['combined_id', 'ed_id']]"
   ]
  },
  {
   "cell_type": "code",
   "execution_count": null,
   "metadata": {},
   "outputs": [
    {
     "data": {
      "text/html": [
       "<div>\n",
       "<style scoped>\n",
       "    .dataframe tbody tr th:only-of-type {\n",
       "        vertical-align: middle;\n",
       "    }\n",
       "\n",
       "    .dataframe tbody tr th {\n",
       "        vertical-align: top;\n",
       "    }\n",
       "\n",
       "    .dataframe thead th {\n",
       "        text-align: right;\n",
       "    }\n",
       "</style>\n",
       "<table border=\"1\" class=\"dataframe\">\n",
       "  <thead>\n",
       "    <tr style=\"text-align: right;\">\n",
       "      <th></th>\n",
       "      <th>combined_id</th>\n",
       "      <th>ed_id</th>\n",
       "    </tr>\n",
       "  </thead>\n",
       "  <tbody>\n",
       "    <tr>\n",
       "      <th>216820</th>\n",
       "      <td>6779</td>\n",
       "      <td>19</td>\n",
       "    </tr>\n",
       "    <tr>\n",
       "      <th>216821</th>\n",
       "      <td>6779</td>\n",
       "      <td>19</td>\n",
       "    </tr>\n",
       "    <tr>\n",
       "      <th>216822</th>\n",
       "      <td>6779</td>\n",
       "      <td>19</td>\n",
       "    </tr>\n",
       "    <tr>\n",
       "      <th>216823</th>\n",
       "      <td>6779</td>\n",
       "      <td>19</td>\n",
       "    </tr>\n",
       "    <tr>\n",
       "      <th>216824</th>\n",
       "      <td>6779</td>\n",
       "      <td>19</td>\n",
       "    </tr>\n",
       "    <tr>\n",
       "      <th>...</th>\n",
       "      <td>...</td>\n",
       "      <td>...</td>\n",
       "    </tr>\n",
       "    <tr>\n",
       "      <th>56704687</th>\n",
       "      <td>1663724</td>\n",
       "      <td>29</td>\n",
       "    </tr>\n",
       "    <tr>\n",
       "      <th>56704688</th>\n",
       "      <td>1663724</td>\n",
       "      <td>15</td>\n",
       "    </tr>\n",
       "    <tr>\n",
       "      <th>56704689</th>\n",
       "      <td>1663724</td>\n",
       "      <td>18</td>\n",
       "    </tr>\n",
       "    <tr>\n",
       "      <th>56704690</th>\n",
       "      <td>1663724</td>\n",
       "      <td>27</td>\n",
       "    </tr>\n",
       "    <tr>\n",
       "      <th>56704691</th>\n",
       "      <td>1663724</td>\n",
       "      <td>28</td>\n",
       "    </tr>\n",
       "  </tbody>\n",
       "</table>\n",
       "<p>13237 rows × 2 columns</p>\n",
       "</div>"
      ],
      "text/plain": [
       "          combined_id  ed_id\n",
       "216820           6779     19\n",
       "216821           6779     19\n",
       "216822           6779     19\n",
       "216823           6779     19\n",
       "216824           6779     19\n",
       "...               ...    ...\n",
       "56704687      1663724     29\n",
       "56704688      1663724     15\n",
       "56704689      1663724     18\n",
       "56704690      1663724     27\n",
       "56704691      1663724     28\n",
       "\n",
       "[13237 rows x 2 columns]"
      ]
     },
     "metadata": {},
     "output_type": "display_data"
    }
   ],
   "source": [
    "fingerhut_active_account"
   ]
  },
  {
   "cell_type": "code",
   "execution_count": null,
   "metadata": {},
   "outputs": [],
   "source": [
    "# Use the event_dict to create a new column called 'event_type' in fingerhut_active_account. The value of 'event_type' should be the key of the event_dict, which has lists of ed_id as values.\n",
    "\n",
    "fingerhut_active_account['event_type'] = fingerhut_active_account['ed_id'].map({v: k for k, l in event_dict.items() for v in l})"
   ]
  },
  {
   "cell_type": "code",
   "execution_count": null,
   "metadata": {},
   "outputs": [],
   "source": [
    "# remove ed_id column\n",
    "\n",
    "fingerhut_active_account = fingerhut_active_account.drop(columns=['ed_id'])\n",
    "\n",
    "# remove duplicates\n",
    "\n",
    "fingerhut_active_account = fingerhut_active_account.drop_duplicates()"
   ]
  },
  {
   "cell_type": "code",
   "execution_count": null,
   "metadata": {},
   "outputs": [
    {
     "data": {
      "text/html": [
       "<div>\n",
       "<style scoped>\n",
       "    .dataframe tbody tr th:only-of-type {\n",
       "        vertical-align: middle;\n",
       "    }\n",
       "\n",
       "    .dataframe tbody tr th {\n",
       "        vertical-align: top;\n",
       "    }\n",
       "\n",
       "    .dataframe thead th {\n",
       "        text-align: right;\n",
       "    }\n",
       "</style>\n",
       "<table border=\"1\" class=\"dataframe\">\n",
       "  <thead>\n",
       "    <tr style=\"text-align: right;\">\n",
       "      <th></th>\n",
       "      <th>combined_id</th>\n",
       "      <th>event_type</th>\n",
       "    </tr>\n",
       "  </thead>\n",
       "  <tbody>\n",
       "    <tr>\n",
       "      <th>216820</th>\n",
       "      <td>6779</td>\n",
       "      <td>Apply for Credit</td>\n",
       "    </tr>\n",
       "    <tr>\n",
       "      <th>216832</th>\n",
       "      <td>6779</td>\n",
       "      <td>Shopping</td>\n",
       "    </tr>\n",
       "    <tr>\n",
       "      <th>216838</th>\n",
       "      <td>6779</td>\n",
       "      <td>Promotion and Discover</td>\n",
       "    </tr>\n",
       "    <tr>\n",
       "      <th>216860</th>\n",
       "      <td>6779</td>\n",
       "      <td>Downpayment</td>\n",
       "    </tr>\n",
       "    <tr>\n",
       "      <th>216861</th>\n",
       "      <td>6779</td>\n",
       "      <td>Place Order</td>\n",
       "    </tr>\n",
       "    <tr>\n",
       "      <th>...</th>\n",
       "      <td>...</td>\n",
       "      <td>...</td>\n",
       "    </tr>\n",
       "    <tr>\n",
       "      <th>56704676</th>\n",
       "      <td>1663724</td>\n",
       "      <td>Promotion and Discover</td>\n",
       "    </tr>\n",
       "    <tr>\n",
       "      <th>56704687</th>\n",
       "      <td>1663724</td>\n",
       "      <td>Account Activation</td>\n",
       "    </tr>\n",
       "    <tr>\n",
       "      <th>56704689</th>\n",
       "      <td>1663724</td>\n",
       "      <td>Place Order</td>\n",
       "    </tr>\n",
       "    <tr>\n",
       "      <th>56704690</th>\n",
       "      <td>1663724</td>\n",
       "      <td>Downpayment</td>\n",
       "    </tr>\n",
       "    <tr>\n",
       "      <th>56704691</th>\n",
       "      <td>1663724</td>\n",
       "      <td>Order Shipped</td>\n",
       "    </tr>\n",
       "  </tbody>\n",
       "</table>\n",
       "<p>1482 rows × 2 columns</p>\n",
       "</div>"
      ],
      "text/plain": [
       "          combined_id              event_type\n",
       "216820           6779        Apply for Credit\n",
       "216832           6779                Shopping\n",
       "216838           6779  Promotion and Discover\n",
       "216860           6779             Downpayment\n",
       "216861           6779             Place Order\n",
       "...               ...                     ...\n",
       "56704676      1663724  Promotion and Discover\n",
       "56704687      1663724      Account Activation\n",
       "56704689      1663724             Place Order\n",
       "56704690      1663724             Downpayment\n",
       "56704691      1663724           Order Shipped\n",
       "\n",
       "[1482 rows x 2 columns]"
      ]
     },
     "metadata": {},
     "output_type": "display_data"
    }
   ],
   "source": [
    "fingerhut_active_account"
   ]
  },
  {
   "cell_type": "code",
   "execution_count": null,
   "metadata": {},
   "outputs": [
    {
     "name": "stderr",
     "output_type": "stream",
     "text": [
      "/var/folders/6m/88dwrhnx7m3cybxwl1p0rtq40000gn/T/ipykernel_3528/1022833914.py:3: FutureWarning: The frame.append method is deprecated and will be removed from pandas in a future version. Use pandas.concat instead.\n",
      "  fingerhut_active_account = fingerhut_active_account.groupby('combined_id').apply(lambda x: x.append({'event_type': 'No Order Made', 'combined_id': x['combined_id'].iloc[0]}, ignore_index=True) if x['event_type'].iloc[-1] != 'Order Shipped' else x)\n",
      "/var/folders/6m/88dwrhnx7m3cybxwl1p0rtq40000gn/T/ipykernel_3528/1022833914.py:3: FutureWarning: The frame.append method is deprecated and will be removed from pandas in a future version. Use pandas.concat instead.\n",
      "  fingerhut_active_account = fingerhut_active_account.groupby('combined_id').apply(lambda x: x.append({'event_type': 'No Order Made', 'combined_id': x['combined_id'].iloc[0]}, ignore_index=True) if x['event_type'].iloc[-1] != 'Order Shipped' else x)\n",
      "/var/folders/6m/88dwrhnx7m3cybxwl1p0rtq40000gn/T/ipykernel_3528/1022833914.py:3: FutureWarning: The frame.append method is deprecated and will be removed from pandas in a future version. Use pandas.concat instead.\n",
      "  fingerhut_active_account = fingerhut_active_account.groupby('combined_id').apply(lambda x: x.append({'event_type': 'No Order Made', 'combined_id': x['combined_id'].iloc[0]}, ignore_index=True) if x['event_type'].iloc[-1] != 'Order Shipped' else x)\n",
      "/var/folders/6m/88dwrhnx7m3cybxwl1p0rtq40000gn/T/ipykernel_3528/1022833914.py:3: FutureWarning: The frame.append method is deprecated and will be removed from pandas in a future version. Use pandas.concat instead.\n",
      "  fingerhut_active_account = fingerhut_active_account.groupby('combined_id').apply(lambda x: x.append({'event_type': 'No Order Made', 'combined_id': x['combined_id'].iloc[0]}, ignore_index=True) if x['event_type'].iloc[-1] != 'Order Shipped' else x)\n",
      "/var/folders/6m/88dwrhnx7m3cybxwl1p0rtq40000gn/T/ipykernel_3528/1022833914.py:3: FutureWarning: The frame.append method is deprecated and will be removed from pandas in a future version. Use pandas.concat instead.\n",
      "  fingerhut_active_account = fingerhut_active_account.groupby('combined_id').apply(lambda x: x.append({'event_type': 'No Order Made', 'combined_id': x['combined_id'].iloc[0]}, ignore_index=True) if x['event_type'].iloc[-1] != 'Order Shipped' else x)\n",
      "/var/folders/6m/88dwrhnx7m3cybxwl1p0rtq40000gn/T/ipykernel_3528/1022833914.py:3: FutureWarning: The frame.append method is deprecated and will be removed from pandas in a future version. Use pandas.concat instead.\n",
      "  fingerhut_active_account = fingerhut_active_account.groupby('combined_id').apply(lambda x: x.append({'event_type': 'No Order Made', 'combined_id': x['combined_id'].iloc[0]}, ignore_index=True) if x['event_type'].iloc[-1] != 'Order Shipped' else x)\n",
      "/var/folders/6m/88dwrhnx7m3cybxwl1p0rtq40000gn/T/ipykernel_3528/1022833914.py:3: FutureWarning: The frame.append method is deprecated and will be removed from pandas in a future version. Use pandas.concat instead.\n",
      "  fingerhut_active_account = fingerhut_active_account.groupby('combined_id').apply(lambda x: x.append({'event_type': 'No Order Made', 'combined_id': x['combined_id'].iloc[0]}, ignore_index=True) if x['event_type'].iloc[-1] != 'Order Shipped' else x)\n",
      "/var/folders/6m/88dwrhnx7m3cybxwl1p0rtq40000gn/T/ipykernel_3528/1022833914.py:3: FutureWarning: The frame.append method is deprecated and will be removed from pandas in a future version. Use pandas.concat instead.\n",
      "  fingerhut_active_account = fingerhut_active_account.groupby('combined_id').apply(lambda x: x.append({'event_type': 'No Order Made', 'combined_id': x['combined_id'].iloc[0]}, ignore_index=True) if x['event_type'].iloc[-1] != 'Order Shipped' else x)\n",
      "/var/folders/6m/88dwrhnx7m3cybxwl1p0rtq40000gn/T/ipykernel_3528/1022833914.py:3: FutureWarning: The frame.append method is deprecated and will be removed from pandas in a future version. Use pandas.concat instead.\n",
      "  fingerhut_active_account = fingerhut_active_account.groupby('combined_id').apply(lambda x: x.append({'event_type': 'No Order Made', 'combined_id': x['combined_id'].iloc[0]}, ignore_index=True) if x['event_type'].iloc[-1] != 'Order Shipped' else x)\n",
      "/var/folders/6m/88dwrhnx7m3cybxwl1p0rtq40000gn/T/ipykernel_3528/1022833914.py:3: FutureWarning: The frame.append method is deprecated and will be removed from pandas in a future version. Use pandas.concat instead.\n",
      "  fingerhut_active_account = fingerhut_active_account.groupby('combined_id').apply(lambda x: x.append({'event_type': 'No Order Made', 'combined_id': x['combined_id'].iloc[0]}, ignore_index=True) if x['event_type'].iloc[-1] != 'Order Shipped' else x)\n",
      "/var/folders/6m/88dwrhnx7m3cybxwl1p0rtq40000gn/T/ipykernel_3528/1022833914.py:3: FutureWarning: The frame.append method is deprecated and will be removed from pandas in a future version. Use pandas.concat instead.\n",
      "  fingerhut_active_account = fingerhut_active_account.groupby('combined_id').apply(lambda x: x.append({'event_type': 'No Order Made', 'combined_id': x['combined_id'].iloc[0]}, ignore_index=True) if x['event_type'].iloc[-1] != 'Order Shipped' else x)\n",
      "/var/folders/6m/88dwrhnx7m3cybxwl1p0rtq40000gn/T/ipykernel_3528/1022833914.py:3: FutureWarning: The frame.append method is deprecated and will be removed from pandas in a future version. Use pandas.concat instead.\n",
      "  fingerhut_active_account = fingerhut_active_account.groupby('combined_id').apply(lambda x: x.append({'event_type': 'No Order Made', 'combined_id': x['combined_id'].iloc[0]}, ignore_index=True) if x['event_type'].iloc[-1] != 'Order Shipped' else x)\n",
      "/var/folders/6m/88dwrhnx7m3cybxwl1p0rtq40000gn/T/ipykernel_3528/1022833914.py:3: FutureWarning: The frame.append method is deprecated and will be removed from pandas in a future version. Use pandas.concat instead.\n",
      "  fingerhut_active_account = fingerhut_active_account.groupby('combined_id').apply(lambda x: x.append({'event_type': 'No Order Made', 'combined_id': x['combined_id'].iloc[0]}, ignore_index=True) if x['event_type'].iloc[-1] != 'Order Shipped' else x)\n",
      "/var/folders/6m/88dwrhnx7m3cybxwl1p0rtq40000gn/T/ipykernel_3528/1022833914.py:3: FutureWarning: The frame.append method is deprecated and will be removed from pandas in a future version. Use pandas.concat instead.\n",
      "  fingerhut_active_account = fingerhut_active_account.groupby('combined_id').apply(lambda x: x.append({'event_type': 'No Order Made', 'combined_id': x['combined_id'].iloc[0]}, ignore_index=True) if x['event_type'].iloc[-1] != 'Order Shipped' else x)\n",
      "/var/folders/6m/88dwrhnx7m3cybxwl1p0rtq40000gn/T/ipykernel_3528/1022833914.py:3: FutureWarning: The frame.append method is deprecated and will be removed from pandas in a future version. Use pandas.concat instead.\n",
      "  fingerhut_active_account = fingerhut_active_account.groupby('combined_id').apply(lambda x: x.append({'event_type': 'No Order Made', 'combined_id': x['combined_id'].iloc[0]}, ignore_index=True) if x['event_type'].iloc[-1] != 'Order Shipped' else x)\n",
      "/var/folders/6m/88dwrhnx7m3cybxwl1p0rtq40000gn/T/ipykernel_3528/1022833914.py:3: FutureWarning: The frame.append method is deprecated and will be removed from pandas in a future version. Use pandas.concat instead.\n",
      "  fingerhut_active_account = fingerhut_active_account.groupby('combined_id').apply(lambda x: x.append({'event_type': 'No Order Made', 'combined_id': x['combined_id'].iloc[0]}, ignore_index=True) if x['event_type'].iloc[-1] != 'Order Shipped' else x)\n",
      "/var/folders/6m/88dwrhnx7m3cybxwl1p0rtq40000gn/T/ipykernel_3528/1022833914.py:3: FutureWarning: The frame.append method is deprecated and will be removed from pandas in a future version. Use pandas.concat instead.\n",
      "  fingerhut_active_account = fingerhut_active_account.groupby('combined_id').apply(lambda x: x.append({'event_type': 'No Order Made', 'combined_id': x['combined_id'].iloc[0]}, ignore_index=True) if x['event_type'].iloc[-1] != 'Order Shipped' else x)\n",
      "/var/folders/6m/88dwrhnx7m3cybxwl1p0rtq40000gn/T/ipykernel_3528/1022833914.py:3: FutureWarning: The frame.append method is deprecated and will be removed from pandas in a future version. Use pandas.concat instead.\n",
      "  fingerhut_active_account = fingerhut_active_account.groupby('combined_id').apply(lambda x: x.append({'event_type': 'No Order Made', 'combined_id': x['combined_id'].iloc[0]}, ignore_index=True) if x['event_type'].iloc[-1] != 'Order Shipped' else x)\n",
      "/var/folders/6m/88dwrhnx7m3cybxwl1p0rtq40000gn/T/ipykernel_3528/1022833914.py:3: FutureWarning: The frame.append method is deprecated and will be removed from pandas in a future version. Use pandas.concat instead.\n",
      "  fingerhut_active_account = fingerhut_active_account.groupby('combined_id').apply(lambda x: x.append({'event_type': 'No Order Made', 'combined_id': x['combined_id'].iloc[0]}, ignore_index=True) if x['event_type'].iloc[-1] != 'Order Shipped' else x)\n",
      "/var/folders/6m/88dwrhnx7m3cybxwl1p0rtq40000gn/T/ipykernel_3528/1022833914.py:3: FutureWarning: The frame.append method is deprecated and will be removed from pandas in a future version. Use pandas.concat instead.\n",
      "  fingerhut_active_account = fingerhut_active_account.groupby('combined_id').apply(lambda x: x.append({'event_type': 'No Order Made', 'combined_id': x['combined_id'].iloc[0]}, ignore_index=True) if x['event_type'].iloc[-1] != 'Order Shipped' else x)\n",
      "/var/folders/6m/88dwrhnx7m3cybxwl1p0rtq40000gn/T/ipykernel_3528/1022833914.py:3: FutureWarning: The frame.append method is deprecated and will be removed from pandas in a future version. Use pandas.concat instead.\n",
      "  fingerhut_active_account = fingerhut_active_account.groupby('combined_id').apply(lambda x: x.append({'event_type': 'No Order Made', 'combined_id': x['combined_id'].iloc[0]}, ignore_index=True) if x['event_type'].iloc[-1] != 'Order Shipped' else x)\n",
      "/var/folders/6m/88dwrhnx7m3cybxwl1p0rtq40000gn/T/ipykernel_3528/1022833914.py:3: FutureWarning: The frame.append method is deprecated and will be removed from pandas in a future version. Use pandas.concat instead.\n",
      "  fingerhut_active_account = fingerhut_active_account.groupby('combined_id').apply(lambda x: x.append({'event_type': 'No Order Made', 'combined_id': x['combined_id'].iloc[0]}, ignore_index=True) if x['event_type'].iloc[-1] != 'Order Shipped' else x)\n",
      "/var/folders/6m/88dwrhnx7m3cybxwl1p0rtq40000gn/T/ipykernel_3528/1022833914.py:3: FutureWarning: The frame.append method is deprecated and will be removed from pandas in a future version. Use pandas.concat instead.\n",
      "  fingerhut_active_account = fingerhut_active_account.groupby('combined_id').apply(lambda x: x.append({'event_type': 'No Order Made', 'combined_id': x['combined_id'].iloc[0]}, ignore_index=True) if x['event_type'].iloc[-1] != 'Order Shipped' else x)\n",
      "/var/folders/6m/88dwrhnx7m3cybxwl1p0rtq40000gn/T/ipykernel_3528/1022833914.py:3: FutureWarning: The frame.append method is deprecated and will be removed from pandas in a future version. Use pandas.concat instead.\n",
      "  fingerhut_active_account = fingerhut_active_account.groupby('combined_id').apply(lambda x: x.append({'event_type': 'No Order Made', 'combined_id': x['combined_id'].iloc[0]}, ignore_index=True) if x['event_type'].iloc[-1] != 'Order Shipped' else x)\n",
      "/var/folders/6m/88dwrhnx7m3cybxwl1p0rtq40000gn/T/ipykernel_3528/1022833914.py:3: FutureWarning: The frame.append method is deprecated and will be removed from pandas in a future version. Use pandas.concat instead.\n",
      "  fingerhut_active_account = fingerhut_active_account.groupby('combined_id').apply(lambda x: x.append({'event_type': 'No Order Made', 'combined_id': x['combined_id'].iloc[0]}, ignore_index=True) if x['event_type'].iloc[-1] != 'Order Shipped' else x)\n",
      "/var/folders/6m/88dwrhnx7m3cybxwl1p0rtq40000gn/T/ipykernel_3528/1022833914.py:3: FutureWarning: The frame.append method is deprecated and will be removed from pandas in a future version. Use pandas.concat instead.\n",
      "  fingerhut_active_account = fingerhut_active_account.groupby('combined_id').apply(lambda x: x.append({'event_type': 'No Order Made', 'combined_id': x['combined_id'].iloc[0]}, ignore_index=True) if x['event_type'].iloc[-1] != 'Order Shipped' else x)\n",
      "/var/folders/6m/88dwrhnx7m3cybxwl1p0rtq40000gn/T/ipykernel_3528/1022833914.py:3: FutureWarning: The frame.append method is deprecated and will be removed from pandas in a future version. Use pandas.concat instead.\n",
      "  fingerhut_active_account = fingerhut_active_account.groupby('combined_id').apply(lambda x: x.append({'event_type': 'No Order Made', 'combined_id': x['combined_id'].iloc[0]}, ignore_index=True) if x['event_type'].iloc[-1] != 'Order Shipped' else x)\n",
      "/var/folders/6m/88dwrhnx7m3cybxwl1p0rtq40000gn/T/ipykernel_3528/1022833914.py:3: FutureWarning: The frame.append method is deprecated and will be removed from pandas in a future version. Use pandas.concat instead.\n",
      "  fingerhut_active_account = fingerhut_active_account.groupby('combined_id').apply(lambda x: x.append({'event_type': 'No Order Made', 'combined_id': x['combined_id'].iloc[0]}, ignore_index=True) if x['event_type'].iloc[-1] != 'Order Shipped' else x)\n",
      "/var/folders/6m/88dwrhnx7m3cybxwl1p0rtq40000gn/T/ipykernel_3528/1022833914.py:3: FutureWarning: The frame.append method is deprecated and will be removed from pandas in a future version. Use pandas.concat instead.\n",
      "  fingerhut_active_account = fingerhut_active_account.groupby('combined_id').apply(lambda x: x.append({'event_type': 'No Order Made', 'combined_id': x['combined_id'].iloc[0]}, ignore_index=True) if x['event_type'].iloc[-1] != 'Order Shipped' else x)\n",
      "/var/folders/6m/88dwrhnx7m3cybxwl1p0rtq40000gn/T/ipykernel_3528/1022833914.py:3: FutureWarning: The frame.append method is deprecated and will be removed from pandas in a future version. Use pandas.concat instead.\n",
      "  fingerhut_active_account = fingerhut_active_account.groupby('combined_id').apply(lambda x: x.append({'event_type': 'No Order Made', 'combined_id': x['combined_id'].iloc[0]}, ignore_index=True) if x['event_type'].iloc[-1] != 'Order Shipped' else x)\n",
      "/var/folders/6m/88dwrhnx7m3cybxwl1p0rtq40000gn/T/ipykernel_3528/1022833914.py:3: FutureWarning: The frame.append method is deprecated and will be removed from pandas in a future version. Use pandas.concat instead.\n",
      "  fingerhut_active_account = fingerhut_active_account.groupby('combined_id').apply(lambda x: x.append({'event_type': 'No Order Made', 'combined_id': x['combined_id'].iloc[0]}, ignore_index=True) if x['event_type'].iloc[-1] != 'Order Shipped' else x)\n",
      "/var/folders/6m/88dwrhnx7m3cybxwl1p0rtq40000gn/T/ipykernel_3528/1022833914.py:3: FutureWarning: The frame.append method is deprecated and will be removed from pandas in a future version. Use pandas.concat instead.\n",
      "  fingerhut_active_account = fingerhut_active_account.groupby('combined_id').apply(lambda x: x.append({'event_type': 'No Order Made', 'combined_id': x['combined_id'].iloc[0]}, ignore_index=True) if x['event_type'].iloc[-1] != 'Order Shipped' else x)\n",
      "/var/folders/6m/88dwrhnx7m3cybxwl1p0rtq40000gn/T/ipykernel_3528/1022833914.py:3: FutureWarning: The frame.append method is deprecated and will be removed from pandas in a future version. Use pandas.concat instead.\n",
      "  fingerhut_active_account = fingerhut_active_account.groupby('combined_id').apply(lambda x: x.append({'event_type': 'No Order Made', 'combined_id': x['combined_id'].iloc[0]}, ignore_index=True) if x['event_type'].iloc[-1] != 'Order Shipped' else x)\n",
      "/var/folders/6m/88dwrhnx7m3cybxwl1p0rtq40000gn/T/ipykernel_3528/1022833914.py:3: FutureWarning: The frame.append method is deprecated and will be removed from pandas in a future version. Use pandas.concat instead.\n",
      "  fingerhut_active_account = fingerhut_active_account.groupby('combined_id').apply(lambda x: x.append({'event_type': 'No Order Made', 'combined_id': x['combined_id'].iloc[0]}, ignore_index=True) if x['event_type'].iloc[-1] != 'Order Shipped' else x)\n",
      "/var/folders/6m/88dwrhnx7m3cybxwl1p0rtq40000gn/T/ipykernel_3528/1022833914.py:3: FutureWarning: The frame.append method is deprecated and will be removed from pandas in a future version. Use pandas.concat instead.\n",
      "  fingerhut_active_account = fingerhut_active_account.groupby('combined_id').apply(lambda x: x.append({'event_type': 'No Order Made', 'combined_id': x['combined_id'].iloc[0]}, ignore_index=True) if x['event_type'].iloc[-1] != 'Order Shipped' else x)\n",
      "/var/folders/6m/88dwrhnx7m3cybxwl1p0rtq40000gn/T/ipykernel_3528/1022833914.py:3: FutureWarning: The frame.append method is deprecated and will be removed from pandas in a future version. Use pandas.concat instead.\n",
      "  fingerhut_active_account = fingerhut_active_account.groupby('combined_id').apply(lambda x: x.append({'event_type': 'No Order Made', 'combined_id': x['combined_id'].iloc[0]}, ignore_index=True) if x['event_type'].iloc[-1] != 'Order Shipped' else x)\n",
      "/var/folders/6m/88dwrhnx7m3cybxwl1p0rtq40000gn/T/ipykernel_3528/1022833914.py:3: FutureWarning: The frame.append method is deprecated and will be removed from pandas in a future version. Use pandas.concat instead.\n",
      "  fingerhut_active_account = fingerhut_active_account.groupby('combined_id').apply(lambda x: x.append({'event_type': 'No Order Made', 'combined_id': x['combined_id'].iloc[0]}, ignore_index=True) if x['event_type'].iloc[-1] != 'Order Shipped' else x)\n",
      "/var/folders/6m/88dwrhnx7m3cybxwl1p0rtq40000gn/T/ipykernel_3528/1022833914.py:3: FutureWarning: The frame.append method is deprecated and will be removed from pandas in a future version. Use pandas.concat instead.\n",
      "  fingerhut_active_account = fingerhut_active_account.groupby('combined_id').apply(lambda x: x.append({'event_type': 'No Order Made', 'combined_id': x['combined_id'].iloc[0]}, ignore_index=True) if x['event_type'].iloc[-1] != 'Order Shipped' else x)\n",
      "/var/folders/6m/88dwrhnx7m3cybxwl1p0rtq40000gn/T/ipykernel_3528/1022833914.py:3: FutureWarning: The frame.append method is deprecated and will be removed from pandas in a future version. Use pandas.concat instead.\n",
      "  fingerhut_active_account = fingerhut_active_account.groupby('combined_id').apply(lambda x: x.append({'event_type': 'No Order Made', 'combined_id': x['combined_id'].iloc[0]}, ignore_index=True) if x['event_type'].iloc[-1] != 'Order Shipped' else x)\n",
      "/var/folders/6m/88dwrhnx7m3cybxwl1p0rtq40000gn/T/ipykernel_3528/1022833914.py:3: FutureWarning: The frame.append method is deprecated and will be removed from pandas in a future version. Use pandas.concat instead.\n",
      "  fingerhut_active_account = fingerhut_active_account.groupby('combined_id').apply(lambda x: x.append({'event_type': 'No Order Made', 'combined_id': x['combined_id'].iloc[0]}, ignore_index=True) if x['event_type'].iloc[-1] != 'Order Shipped' else x)\n",
      "/var/folders/6m/88dwrhnx7m3cybxwl1p0rtq40000gn/T/ipykernel_3528/1022833914.py:3: FutureWarning: The frame.append method is deprecated and will be removed from pandas in a future version. Use pandas.concat instead.\n",
      "  fingerhut_active_account = fingerhut_active_account.groupby('combined_id').apply(lambda x: x.append({'event_type': 'No Order Made', 'combined_id': x['combined_id'].iloc[0]}, ignore_index=True) if x['event_type'].iloc[-1] != 'Order Shipped' else x)\n",
      "/var/folders/6m/88dwrhnx7m3cybxwl1p0rtq40000gn/T/ipykernel_3528/1022833914.py:3: FutureWarning: The frame.append method is deprecated and will be removed from pandas in a future version. Use pandas.concat instead.\n",
      "  fingerhut_active_account = fingerhut_active_account.groupby('combined_id').apply(lambda x: x.append({'event_type': 'No Order Made', 'combined_id': x['combined_id'].iloc[0]}, ignore_index=True) if x['event_type'].iloc[-1] != 'Order Shipped' else x)\n",
      "/var/folders/6m/88dwrhnx7m3cybxwl1p0rtq40000gn/T/ipykernel_3528/1022833914.py:3: FutureWarning: The frame.append method is deprecated and will be removed from pandas in a future version. Use pandas.concat instead.\n",
      "  fingerhut_active_account = fingerhut_active_account.groupby('combined_id').apply(lambda x: x.append({'event_type': 'No Order Made', 'combined_id': x['combined_id'].iloc[0]}, ignore_index=True) if x['event_type'].iloc[-1] != 'Order Shipped' else x)\n",
      "/var/folders/6m/88dwrhnx7m3cybxwl1p0rtq40000gn/T/ipykernel_3528/1022833914.py:3: FutureWarning: The frame.append method is deprecated and will be removed from pandas in a future version. Use pandas.concat instead.\n",
      "  fingerhut_active_account = fingerhut_active_account.groupby('combined_id').apply(lambda x: x.append({'event_type': 'No Order Made', 'combined_id': x['combined_id'].iloc[0]}, ignore_index=True) if x['event_type'].iloc[-1] != 'Order Shipped' else x)\n",
      "/var/folders/6m/88dwrhnx7m3cybxwl1p0rtq40000gn/T/ipykernel_3528/1022833914.py:3: FutureWarning: The frame.append method is deprecated and will be removed from pandas in a future version. Use pandas.concat instead.\n",
      "  fingerhut_active_account = fingerhut_active_account.groupby('combined_id').apply(lambda x: x.append({'event_type': 'No Order Made', 'combined_id': x['combined_id'].iloc[0]}, ignore_index=True) if x['event_type'].iloc[-1] != 'Order Shipped' else x)\n",
      "/var/folders/6m/88dwrhnx7m3cybxwl1p0rtq40000gn/T/ipykernel_3528/1022833914.py:3: FutureWarning: The frame.append method is deprecated and will be removed from pandas in a future version. Use pandas.concat instead.\n",
      "  fingerhut_active_account = fingerhut_active_account.groupby('combined_id').apply(lambda x: x.append({'event_type': 'No Order Made', 'combined_id': x['combined_id'].iloc[0]}, ignore_index=True) if x['event_type'].iloc[-1] != 'Order Shipped' else x)\n",
      "/var/folders/6m/88dwrhnx7m3cybxwl1p0rtq40000gn/T/ipykernel_3528/1022833914.py:3: FutureWarning: The frame.append method is deprecated and will be removed from pandas in a future version. Use pandas.concat instead.\n",
      "  fingerhut_active_account = fingerhut_active_account.groupby('combined_id').apply(lambda x: x.append({'event_type': 'No Order Made', 'combined_id': x['combined_id'].iloc[0]}, ignore_index=True) if x['event_type'].iloc[-1] != 'Order Shipped' else x)\n",
      "/var/folders/6m/88dwrhnx7m3cybxwl1p0rtq40000gn/T/ipykernel_3528/1022833914.py:3: FutureWarning: The frame.append method is deprecated and will be removed from pandas in a future version. Use pandas.concat instead.\n",
      "  fingerhut_active_account = fingerhut_active_account.groupby('combined_id').apply(lambda x: x.append({'event_type': 'No Order Made', 'combined_id': x['combined_id'].iloc[0]}, ignore_index=True) if x['event_type'].iloc[-1] != 'Order Shipped' else x)\n",
      "/var/folders/6m/88dwrhnx7m3cybxwl1p0rtq40000gn/T/ipykernel_3528/1022833914.py:3: FutureWarning: The frame.append method is deprecated and will be removed from pandas in a future version. Use pandas.concat instead.\n",
      "  fingerhut_active_account = fingerhut_active_account.groupby('combined_id').apply(lambda x: x.append({'event_type': 'No Order Made', 'combined_id': x['combined_id'].iloc[0]}, ignore_index=True) if x['event_type'].iloc[-1] != 'Order Shipped' else x)\n",
      "/var/folders/6m/88dwrhnx7m3cybxwl1p0rtq40000gn/T/ipykernel_3528/1022833914.py:3: FutureWarning: The frame.append method is deprecated and will be removed from pandas in a future version. Use pandas.concat instead.\n",
      "  fingerhut_active_account = fingerhut_active_account.groupby('combined_id').apply(lambda x: x.append({'event_type': 'No Order Made', 'combined_id': x['combined_id'].iloc[0]}, ignore_index=True) if x['event_type'].iloc[-1] != 'Order Shipped' else x)\n",
      "/var/folders/6m/88dwrhnx7m3cybxwl1p0rtq40000gn/T/ipykernel_3528/1022833914.py:3: FutureWarning: The frame.append method is deprecated and will be removed from pandas in a future version. Use pandas.concat instead.\n",
      "  fingerhut_active_account = fingerhut_active_account.groupby('combined_id').apply(lambda x: x.append({'event_type': 'No Order Made', 'combined_id': x['combined_id'].iloc[0]}, ignore_index=True) if x['event_type'].iloc[-1] != 'Order Shipped' else x)\n",
      "/var/folders/6m/88dwrhnx7m3cybxwl1p0rtq40000gn/T/ipykernel_3528/1022833914.py:3: FutureWarning: The frame.append method is deprecated and will be removed from pandas in a future version. Use pandas.concat instead.\n",
      "  fingerhut_active_account = fingerhut_active_account.groupby('combined_id').apply(lambda x: x.append({'event_type': 'No Order Made', 'combined_id': x['combined_id'].iloc[0]}, ignore_index=True) if x['event_type'].iloc[-1] != 'Order Shipped' else x)\n",
      "/var/folders/6m/88dwrhnx7m3cybxwl1p0rtq40000gn/T/ipykernel_3528/1022833914.py:3: FutureWarning: The frame.append method is deprecated and will be removed from pandas in a future version. Use pandas.concat instead.\n",
      "  fingerhut_active_account = fingerhut_active_account.groupby('combined_id').apply(lambda x: x.append({'event_type': 'No Order Made', 'combined_id': x['combined_id'].iloc[0]}, ignore_index=True) if x['event_type'].iloc[-1] != 'Order Shipped' else x)\n",
      "/var/folders/6m/88dwrhnx7m3cybxwl1p0rtq40000gn/T/ipykernel_3528/1022833914.py:3: FutureWarning: The frame.append method is deprecated and will be removed from pandas in a future version. Use pandas.concat instead.\n",
      "  fingerhut_active_account = fingerhut_active_account.groupby('combined_id').apply(lambda x: x.append({'event_type': 'No Order Made', 'combined_id': x['combined_id'].iloc[0]}, ignore_index=True) if x['event_type'].iloc[-1] != 'Order Shipped' else x)\n",
      "/var/folders/6m/88dwrhnx7m3cybxwl1p0rtq40000gn/T/ipykernel_3528/1022833914.py:3: FutureWarning: The frame.append method is deprecated and will be removed from pandas in a future version. Use pandas.concat instead.\n",
      "  fingerhut_active_account = fingerhut_active_account.groupby('combined_id').apply(lambda x: x.append({'event_type': 'No Order Made', 'combined_id': x['combined_id'].iloc[0]}, ignore_index=True) if x['event_type'].iloc[-1] != 'Order Shipped' else x)\n",
      "/var/folders/6m/88dwrhnx7m3cybxwl1p0rtq40000gn/T/ipykernel_3528/1022833914.py:3: FutureWarning: The frame.append method is deprecated and will be removed from pandas in a future version. Use pandas.concat instead.\n",
      "  fingerhut_active_account = fingerhut_active_account.groupby('combined_id').apply(lambda x: x.append({'event_type': 'No Order Made', 'combined_id': x['combined_id'].iloc[0]}, ignore_index=True) if x['event_type'].iloc[-1] != 'Order Shipped' else x)\n",
      "/var/folders/6m/88dwrhnx7m3cybxwl1p0rtq40000gn/T/ipykernel_3528/1022833914.py:3: FutureWarning: The frame.append method is deprecated and will be removed from pandas in a future version. Use pandas.concat instead.\n",
      "  fingerhut_active_account = fingerhut_active_account.groupby('combined_id').apply(lambda x: x.append({'event_type': 'No Order Made', 'combined_id': x['combined_id'].iloc[0]}, ignore_index=True) if x['event_type'].iloc[-1] != 'Order Shipped' else x)\n",
      "/var/folders/6m/88dwrhnx7m3cybxwl1p0rtq40000gn/T/ipykernel_3528/1022833914.py:3: FutureWarning: The frame.append method is deprecated and will be removed from pandas in a future version. Use pandas.concat instead.\n",
      "  fingerhut_active_account = fingerhut_active_account.groupby('combined_id').apply(lambda x: x.append({'event_type': 'No Order Made', 'combined_id': x['combined_id'].iloc[0]}, ignore_index=True) if x['event_type'].iloc[-1] != 'Order Shipped' else x)\n",
      "/var/folders/6m/88dwrhnx7m3cybxwl1p0rtq40000gn/T/ipykernel_3528/1022833914.py:3: FutureWarning: The frame.append method is deprecated and will be removed from pandas in a future version. Use pandas.concat instead.\n",
      "  fingerhut_active_account = fingerhut_active_account.groupby('combined_id').apply(lambda x: x.append({'event_type': 'No Order Made', 'combined_id': x['combined_id'].iloc[0]}, ignore_index=True) if x['event_type'].iloc[-1] != 'Order Shipped' else x)\n"
     ]
    }
   ],
   "source": [
    "# groupby combined_id, and if the last event_type is not 'Order Shipped', then add new row with event_type 'No Order Made', and also add the combined_id to the new row\n",
    "\n",
    "fingerhut_active_account = fingerhut_active_account.groupby('combined_id').apply(lambda x: x.append({'event_type': 'No Order Made', 'combined_id': x['combined_id'].iloc[0]}, ignore_index=True) if x['event_type'].iloc[-1] != 'Order Shipped' else x)\n",
    "\n",
    "# reset index\n",
    "\n",
    "fingerhut_active_account = fingerhut_active_account.reset_index(drop=True)"
   ]
  },
  {
   "cell_type": "code",
   "execution_count": null,
   "metadata": {},
   "outputs": [
    {
     "data": {
      "text/plain": [
       "combined_id    0\n",
       "event_type     0\n",
       "dtype: int64"
      ]
     },
     "metadata": {},
     "output_type": "display_data"
    }
   ],
   "source": [
    "# check for NA values\n",
    "\n",
    "fingerhut_active_account.isna().sum()"
   ]
  },
  {
   "cell_type": "code",
   "execution_count": null,
   "metadata": {},
   "outputs": [],
   "source": [
    "fingerhut_active_account['sequence'] = fingerhut_active_account.groupby('combined_id').cumcount() + 1"
   ]
  },
  {
   "cell_type": "code",
   "execution_count": null,
   "metadata": {},
   "outputs": [
    {
     "data": {
      "text/html": [
       "<div>\n",
       "<style scoped>\n",
       "    .dataframe tbody tr th:only-of-type {\n",
       "        vertical-align: middle;\n",
       "    }\n",
       "\n",
       "    .dataframe tbody tr th {\n",
       "        vertical-align: top;\n",
       "    }\n",
       "\n",
       "    .dataframe thead th {\n",
       "        text-align: right;\n",
       "    }\n",
       "</style>\n",
       "<table border=\"1\" class=\"dataframe\">\n",
       "  <thead>\n",
       "    <tr style=\"text-align: right;\">\n",
       "      <th></th>\n",
       "      <th>combined_id</th>\n",
       "      <th>event_type</th>\n",
       "      <th>sequence</th>\n",
       "    </tr>\n",
       "  </thead>\n",
       "  <tbody>\n",
       "    <tr>\n",
       "      <th>0</th>\n",
       "      <td>6779</td>\n",
       "      <td>Apply for Credit</td>\n",
       "      <td>1</td>\n",
       "    </tr>\n",
       "    <tr>\n",
       "      <th>1</th>\n",
       "      <td>6779</td>\n",
       "      <td>Shopping</td>\n",
       "      <td>2</td>\n",
       "    </tr>\n",
       "    <tr>\n",
       "      <th>2</th>\n",
       "      <td>6779</td>\n",
       "      <td>Promotion and Discover</td>\n",
       "      <td>3</td>\n",
       "    </tr>\n",
       "    <tr>\n",
       "      <th>3</th>\n",
       "      <td>6779</td>\n",
       "      <td>Downpayment</td>\n",
       "      <td>4</td>\n",
       "    </tr>\n",
       "    <tr>\n",
       "      <th>4</th>\n",
       "      <td>6779</td>\n",
       "      <td>Place Order</td>\n",
       "      <td>5</td>\n",
       "    </tr>\n",
       "    <tr>\n",
       "      <th>...</th>\n",
       "      <td>...</td>\n",
       "      <td>...</td>\n",
       "      <td>...</td>\n",
       "    </tr>\n",
       "    <tr>\n",
       "      <th>1536</th>\n",
       "      <td>1663724</td>\n",
       "      <td>Promotion and Discover</td>\n",
       "      <td>3</td>\n",
       "    </tr>\n",
       "    <tr>\n",
       "      <th>1537</th>\n",
       "      <td>1663724</td>\n",
       "      <td>Account Activation</td>\n",
       "      <td>4</td>\n",
       "    </tr>\n",
       "    <tr>\n",
       "      <th>1538</th>\n",
       "      <td>1663724</td>\n",
       "      <td>Place Order</td>\n",
       "      <td>5</td>\n",
       "    </tr>\n",
       "    <tr>\n",
       "      <th>1539</th>\n",
       "      <td>1663724</td>\n",
       "      <td>Downpayment</td>\n",
       "      <td>6</td>\n",
       "    </tr>\n",
       "    <tr>\n",
       "      <th>1540</th>\n",
       "      <td>1663724</td>\n",
       "      <td>Order Shipped</td>\n",
       "      <td>7</td>\n",
       "    </tr>\n",
       "  </tbody>\n",
       "</table>\n",
       "<p>1541 rows × 3 columns</p>\n",
       "</div>"
      ],
      "text/plain": [
       "      combined_id              event_type  sequence\n",
       "0            6779        Apply for Credit         1\n",
       "1            6779                Shopping         2\n",
       "2            6779  Promotion and Discover         3\n",
       "3            6779             Downpayment         4\n",
       "4            6779             Place Order         5\n",
       "...           ...                     ...       ...\n",
       "1536      1663724  Promotion and Discover         3\n",
       "1537      1663724      Account Activation         4\n",
       "1538      1663724             Place Order         5\n",
       "1539      1663724             Downpayment         6\n",
       "1540      1663724           Order Shipped         7\n",
       "\n",
       "[1541 rows x 3 columns]"
      ]
     },
     "metadata": {},
     "output_type": "display_data"
    }
   ],
   "source": [
    "fingerhut_active_account"
   ]
  },
  {
   "cell_type": "code",
   "execution_count": null,
   "metadata": {},
   "outputs": [],
   "source": [
    "pivot_fingerhut_active_account = fingerhut_active_account.pivot(index='combined_id', columns='sequence', values='event_type').reset_index(inplace=False)"
   ]
  },
  {
   "cell_type": "code",
   "execution_count": null,
   "metadata": {},
   "outputs": [],
   "source": [
    "pivot_fingerhut_active_account = pivot_fingerhut_active_account.fillna('')"
   ]
  },
  {
   "cell_type": "code",
   "execution_count": null,
   "metadata": {},
   "outputs": [
    {
     "data": {
      "application/vnd.plotly.v1+json": {
       "config": {
        "plotlyServerURL": "https://plot.ly"
       },
       "data": [
        {
         "link": {
          "label": [
           "Total Counts: 51",
           "Total Counts: 9",
           "Total Counts: 8",
           "Total Counts: 3",
           "Total Counts: 5",
           "Total Counts: 12",
           "Total Counts: 87",
           "Total Counts: 8",
           "Total Counts: 2",
           "Total Counts: 3",
           "Total Counts: 2",
           "Total Counts: 21",
           "Total Counts: 9",
           "Total Counts: 2",
           "Total Counts: 2",
           "Total Counts: 4",
           "Total Counts: 2",
           "Total Counts: 3",
           "Total Counts: 2",
           "Total Counts: 1",
           "Total Counts: 1",
           "Total Counts: 10",
           "Total Counts: 14",
           "Total Counts: 32",
           "Total Counts: 3",
           "Total Counts: 7",
           "Total Counts: 25",
           "Total Counts: 22",
           "Total Counts: 55",
           "Total Counts: 2",
           "Total Counts: 8",
           "Total Counts: 2",
           "Total Counts: 5",
           "Total Counts: 5",
           "Total Counts: 7",
           "Total Counts: 1",
           "Total Counts: 4",
           "Total Counts: 3",
           "Total Counts: 8",
           "Total Counts: 2",
           "Total Counts: 2",
           "Total Counts: 6",
           "Total Counts: 2",
           "Total Counts: 7",
           "Total Counts: 2",
           "Total Counts: 1",
           "Total Counts: 2",
           "Total Counts: 39",
           "Total Counts: 6",
           "Total Counts: 2",
           "Total Counts: 39",
           "Total Counts: 11",
           "Total Counts: 1",
           "Total Counts: 38",
           "Total Counts: 38",
           "Total Counts: 18",
           "Total Counts: 2",
           "Total Counts: 2",
           "Total Counts: 1",
           "Total Counts: 14",
           "Total Counts: 6",
           "Total Counts: 4",
           "Total Counts: 1",
           "Total Counts: 5",
           "Total Counts: 2",
           "Total Counts: 3",
           "Total Counts: 2",
           "Total Counts: 3",
           "Total Counts: 26",
           "Total Counts: 9",
           "Total Counts: 48",
           "Total Counts: 6",
           "Total Counts: 9",
           "Total Counts: 32",
           "Total Counts: 46",
           "Total Counts: 5",
           "Total Counts: 3",
           "Total Counts: 1",
           "Total Counts: 26",
           "Total Counts: 6",
           "Total Counts: 6",
           "Total Counts: 7",
           "Total Counts: 1",
           "Total Counts: 2",
           "Total Counts: 3",
           "Total Counts: 1",
           "Total Counts: 4",
           "Total Counts: 54",
           "Total Counts: 3",
           "Total Counts: 43",
           "Total Counts: 21",
           "Total Counts: 38",
           "Total Counts: 3",
           "Total Counts: 47",
           "Total Counts: 5",
           "Total Counts: 6",
           "Total Counts: 13"
          ],
          "source": [
           0,
           0,
           0,
           0,
           0,
           1,
           1,
           1,
           1,
           1,
           1,
           2,
           2,
           2,
           3,
           3,
           3,
           3,
           3,
           4,
           4,
           5,
           5,
           5,
           5,
           5,
           6,
           6,
           6,
           6,
           6,
           7,
           7,
           7,
           7,
           7,
           8,
           8,
           8,
           8,
           8,
           9,
           9,
           10,
           10,
           10,
           11,
           12,
           12,
           12,
           13,
           13,
           13,
           14,
           14,
           14,
           15,
           15,
           15,
           16,
           16,
           16,
           17,
           18,
           18,
           18,
           19,
           20,
           21,
           21,
           21,
           21,
           21,
           22,
           22,
           22,
           22,
           22,
           23,
           24,
           25,
           26,
           26,
           26,
           26,
           27,
           28,
           28,
           29,
           29,
           30,
           31,
           32,
           32,
           33,
           33,
           34
          ],
          "target": [
           5,
           7,
           8,
           9,
           10,
           5,
           6,
           8,
           9,
           10,
           11,
           6,
           7,
           8,
           5,
           6,
           7,
           9,
           10,
           5,
           8,
           12,
           13,
           14,
           15,
           16,
           12,
           13,
           14,
           15,
           18,
           12,
           13,
           14,
           16,
           20,
           12,
           13,
           16,
           18,
           20,
           12,
           14,
           13,
           16,
           17,
           19,
           21,
           24,
           26,
           22,
           26,
           27,
           21,
           22,
           23,
           21,
           22,
           23,
           21,
           22,
           23,
           25,
           21,
           22,
           23,
           25,
           25,
           28,
           30,
           32,
           33,
           34,
           28,
           29,
           30,
           33,
           34,
           31,
           31,
           31,
           30,
           32,
           33,
           34,
           32,
           35,
           36,
           35,
           36,
           37,
           37,
           35,
           36,
           35,
           36,
           37
          ],
          "value": [
           51,
           9,
           8,
           3,
           5,
           12,
           87,
           8,
           2,
           3,
           2,
           21,
           9,
           2,
           2,
           4,
           2,
           3,
           2,
           1,
           1,
           10,
           14,
           32,
           3,
           7,
           25,
           22,
           55,
           2,
           8,
           2,
           5,
           5,
           7,
           1,
           4,
           3,
           8,
           2,
           2,
           6,
           2,
           7,
           2,
           1,
           2,
           39,
           6,
           2,
           39,
           11,
           1,
           38,
           38,
           18,
           2,
           2,
           1,
           14,
           6,
           4,
           1,
           5,
           2,
           3,
           2,
           3,
           26,
           9,
           48,
           6,
           9,
           32,
           46,
           5,
           3,
           1,
           26,
           6,
           6,
           7,
           1,
           2,
           3,
           1,
           4,
           54,
           3,
           43,
           21,
           38,
           3,
           47,
           5,
           6,
           13
          ]
         },
         "node": {
          "color": [
           "blue",
           "green",
           "pink",
           "cyan",
           "yellow",
           "pink",
           "blue",
           "green",
           "cyan",
           "yellow",
           "purple",
           "red",
           "purple",
           "yellow",
           "cyan",
           "green",
           "blue",
           "orange",
           "pink",
           "black",
           "red",
           "yellow",
           "purple",
           "red",
           "orange",
           "black",
           "cyan",
           "pink",
           "cyan",
           "yellow",
           "orange",
           "black",
           "purple",
           "pink",
           "red",
           "red",
           "orange",
           "black"
          ],
          "label": [
           "Shopping",
           "Apply for Credit",
           "Promotion and Discover",
           "Account Activation",
           "Place Order",
           "Promotion and Discover",
           "Shopping",
           "Apply for Credit",
           "Account Activation",
           "Place Order",
           "Downpayment",
           "No Order Made",
           "Downpayment",
           "Place Order",
           "Account Activation",
           "Apply for Credit",
           "Shopping",
           "Order Shipped",
           "Promotion and Discover",
           "",
           "No Order Made",
           "Place Order",
           "Downpayment",
           "No Order Made",
           "Order Shipped",
           "",
           "Account Activation",
           "Promotion and Discover",
           "Account Activation",
           "Place Order",
           "Order Shipped",
           "",
           "Downpayment",
           "Promotion and Discover",
           "No Order Made",
           "No Order Made",
           "Order Shipped",
           ""
          ],
          "line": {
           "color": "black",
           "width": 0.5
          },
          "pad": 15,
          "thickness": 20
         },
         "type": "sankey"
        }
       ],
       "layout": {
        "font": {
         "size": 10
        },
        "template": {
         "data": {
          "bar": [
           {
            "error_x": {
             "color": "#2a3f5f"
            },
            "error_y": {
             "color": "#2a3f5f"
            },
            "marker": {
             "line": {
              "color": "#E5ECF6",
              "width": 0.5
             },
             "pattern": {
              "fillmode": "overlay",
              "size": 10,
              "solidity": 0.2
             }
            },
            "type": "bar"
           }
          ],
          "barpolar": [
           {
            "marker": {
             "line": {
              "color": "#E5ECF6",
              "width": 0.5
             },
             "pattern": {
              "fillmode": "overlay",
              "size": 10,
              "solidity": 0.2
             }
            },
            "type": "barpolar"
           }
          ],
          "carpet": [
           {
            "aaxis": {
             "endlinecolor": "#2a3f5f",
             "gridcolor": "white",
             "linecolor": "white",
             "minorgridcolor": "white",
             "startlinecolor": "#2a3f5f"
            },
            "baxis": {
             "endlinecolor": "#2a3f5f",
             "gridcolor": "white",
             "linecolor": "white",
             "minorgridcolor": "white",
             "startlinecolor": "#2a3f5f"
            },
            "type": "carpet"
           }
          ],
          "choropleth": [
           {
            "colorbar": {
             "outlinewidth": 0,
             "ticks": ""
            },
            "type": "choropleth"
           }
          ],
          "contour": [
           {
            "colorbar": {
             "outlinewidth": 0,
             "ticks": ""
            },
            "colorscale": [
             [
              0,
              "#0d0887"
             ],
             [
              0.1111111111111111,
              "#46039f"
             ],
             [
              0.2222222222222222,
              "#7201a8"
             ],
             [
              0.3333333333333333,
              "#9c179e"
             ],
             [
              0.4444444444444444,
              "#bd3786"
             ],
             [
              0.5555555555555556,
              "#d8576b"
             ],
             [
              0.6666666666666666,
              "#ed7953"
             ],
             [
              0.7777777777777778,
              "#fb9f3a"
             ],
             [
              0.8888888888888888,
              "#fdca26"
             ],
             [
              1,
              "#f0f921"
             ]
            ],
            "type": "contour"
           }
          ],
          "contourcarpet": [
           {
            "colorbar": {
             "outlinewidth": 0,
             "ticks": ""
            },
            "type": "contourcarpet"
           }
          ],
          "heatmap": [
           {
            "colorbar": {
             "outlinewidth": 0,
             "ticks": ""
            },
            "colorscale": [
             [
              0,
              "#0d0887"
             ],
             [
              0.1111111111111111,
              "#46039f"
             ],
             [
              0.2222222222222222,
              "#7201a8"
             ],
             [
              0.3333333333333333,
              "#9c179e"
             ],
             [
              0.4444444444444444,
              "#bd3786"
             ],
             [
              0.5555555555555556,
              "#d8576b"
             ],
             [
              0.6666666666666666,
              "#ed7953"
             ],
             [
              0.7777777777777778,
              "#fb9f3a"
             ],
             [
              0.8888888888888888,
              "#fdca26"
             ],
             [
              1,
              "#f0f921"
             ]
            ],
            "type": "heatmap"
           }
          ],
          "heatmapgl": [
           {
            "colorbar": {
             "outlinewidth": 0,
             "ticks": ""
            },
            "colorscale": [
             [
              0,
              "#0d0887"
             ],
             [
              0.1111111111111111,
              "#46039f"
             ],
             [
              0.2222222222222222,
              "#7201a8"
             ],
             [
              0.3333333333333333,
              "#9c179e"
             ],
             [
              0.4444444444444444,
              "#bd3786"
             ],
             [
              0.5555555555555556,
              "#d8576b"
             ],
             [
              0.6666666666666666,
              "#ed7953"
             ],
             [
              0.7777777777777778,
              "#fb9f3a"
             ],
             [
              0.8888888888888888,
              "#fdca26"
             ],
             [
              1,
              "#f0f921"
             ]
            ],
            "type": "heatmapgl"
           }
          ],
          "histogram": [
           {
            "marker": {
             "pattern": {
              "fillmode": "overlay",
              "size": 10,
              "solidity": 0.2
             }
            },
            "type": "histogram"
           }
          ],
          "histogram2d": [
           {
            "colorbar": {
             "outlinewidth": 0,
             "ticks": ""
            },
            "colorscale": [
             [
              0,
              "#0d0887"
             ],
             [
              0.1111111111111111,
              "#46039f"
             ],
             [
              0.2222222222222222,
              "#7201a8"
             ],
             [
              0.3333333333333333,
              "#9c179e"
             ],
             [
              0.4444444444444444,
              "#bd3786"
             ],
             [
              0.5555555555555556,
              "#d8576b"
             ],
             [
              0.6666666666666666,
              "#ed7953"
             ],
             [
              0.7777777777777778,
              "#fb9f3a"
             ],
             [
              0.8888888888888888,
              "#fdca26"
             ],
             [
              1,
              "#f0f921"
             ]
            ],
            "type": "histogram2d"
           }
          ],
          "histogram2dcontour": [
           {
            "colorbar": {
             "outlinewidth": 0,
             "ticks": ""
            },
            "colorscale": [
             [
              0,
              "#0d0887"
             ],
             [
              0.1111111111111111,
              "#46039f"
             ],
             [
              0.2222222222222222,
              "#7201a8"
             ],
             [
              0.3333333333333333,
              "#9c179e"
             ],
             [
              0.4444444444444444,
              "#bd3786"
             ],
             [
              0.5555555555555556,
              "#d8576b"
             ],
             [
              0.6666666666666666,
              "#ed7953"
             ],
             [
              0.7777777777777778,
              "#fb9f3a"
             ],
             [
              0.8888888888888888,
              "#fdca26"
             ],
             [
              1,
              "#f0f921"
             ]
            ],
            "type": "histogram2dcontour"
           }
          ],
          "mesh3d": [
           {
            "colorbar": {
             "outlinewidth": 0,
             "ticks": ""
            },
            "type": "mesh3d"
           }
          ],
          "parcoords": [
           {
            "line": {
             "colorbar": {
              "outlinewidth": 0,
              "ticks": ""
             }
            },
            "type": "parcoords"
           }
          ],
          "pie": [
           {
            "automargin": true,
            "type": "pie"
           }
          ],
          "scatter": [
           {
            "marker": {
             "colorbar": {
              "outlinewidth": 0,
              "ticks": ""
             }
            },
            "type": "scatter"
           }
          ],
          "scatter3d": [
           {
            "line": {
             "colorbar": {
              "outlinewidth": 0,
              "ticks": ""
             }
            },
            "marker": {
             "colorbar": {
              "outlinewidth": 0,
              "ticks": ""
             }
            },
            "type": "scatter3d"
           }
          ],
          "scattercarpet": [
           {
            "marker": {
             "colorbar": {
              "outlinewidth": 0,
              "ticks": ""
             }
            },
            "type": "scattercarpet"
           }
          ],
          "scattergeo": [
           {
            "marker": {
             "colorbar": {
              "outlinewidth": 0,
              "ticks": ""
             }
            },
            "type": "scattergeo"
           }
          ],
          "scattergl": [
           {
            "marker": {
             "colorbar": {
              "outlinewidth": 0,
              "ticks": ""
             }
            },
            "type": "scattergl"
           }
          ],
          "scattermapbox": [
           {
            "marker": {
             "colorbar": {
              "outlinewidth": 0,
              "ticks": ""
             }
            },
            "type": "scattermapbox"
           }
          ],
          "scatterpolar": [
           {
            "marker": {
             "colorbar": {
              "outlinewidth": 0,
              "ticks": ""
             }
            },
            "type": "scatterpolar"
           }
          ],
          "scatterpolargl": [
           {
            "marker": {
             "colorbar": {
              "outlinewidth": 0,
              "ticks": ""
             }
            },
            "type": "scatterpolargl"
           }
          ],
          "scatterternary": [
           {
            "marker": {
             "colorbar": {
              "outlinewidth": 0,
              "ticks": ""
             }
            },
            "type": "scatterternary"
           }
          ],
          "surface": [
           {
            "colorbar": {
             "outlinewidth": 0,
             "ticks": ""
            },
            "colorscale": [
             [
              0,
              "#0d0887"
             ],
             [
              0.1111111111111111,
              "#46039f"
             ],
             [
              0.2222222222222222,
              "#7201a8"
             ],
             [
              0.3333333333333333,
              "#9c179e"
             ],
             [
              0.4444444444444444,
              "#bd3786"
             ],
             [
              0.5555555555555556,
              "#d8576b"
             ],
             [
              0.6666666666666666,
              "#ed7953"
             ],
             [
              0.7777777777777778,
              "#fb9f3a"
             ],
             [
              0.8888888888888888,
              "#fdca26"
             ],
             [
              1,
              "#f0f921"
             ]
            ],
            "type": "surface"
           }
          ],
          "table": [
           {
            "cells": {
             "fill": {
              "color": "#EBF0F8"
             },
             "line": {
              "color": "white"
             }
            },
            "header": {
             "fill": {
              "color": "#C8D4E3"
             },
             "line": {
              "color": "white"
             }
            },
            "type": "table"
           }
          ]
         },
         "layout": {
          "annotationdefaults": {
           "arrowcolor": "#2a3f5f",
           "arrowhead": 0,
           "arrowwidth": 1
          },
          "autotypenumbers": "strict",
          "coloraxis": {
           "colorbar": {
            "outlinewidth": 0,
            "ticks": ""
           }
          },
          "colorscale": {
           "diverging": [
            [
             0,
             "#8e0152"
            ],
            [
             0.1,
             "#c51b7d"
            ],
            [
             0.2,
             "#de77ae"
            ],
            [
             0.3,
             "#f1b6da"
            ],
            [
             0.4,
             "#fde0ef"
            ],
            [
             0.5,
             "#f7f7f7"
            ],
            [
             0.6,
             "#e6f5d0"
            ],
            [
             0.7,
             "#b8e186"
            ],
            [
             0.8,
             "#7fbc41"
            ],
            [
             0.9,
             "#4d9221"
            ],
            [
             1,
             "#276419"
            ]
           ],
           "sequential": [
            [
             0,
             "#0d0887"
            ],
            [
             0.1111111111111111,
             "#46039f"
            ],
            [
             0.2222222222222222,
             "#7201a8"
            ],
            [
             0.3333333333333333,
             "#9c179e"
            ],
            [
             0.4444444444444444,
             "#bd3786"
            ],
            [
             0.5555555555555556,
             "#d8576b"
            ],
            [
             0.6666666666666666,
             "#ed7953"
            ],
            [
             0.7777777777777778,
             "#fb9f3a"
            ],
            [
             0.8888888888888888,
             "#fdca26"
            ],
            [
             1,
             "#f0f921"
            ]
           ],
           "sequentialminus": [
            [
             0,
             "#0d0887"
            ],
            [
             0.1111111111111111,
             "#46039f"
            ],
            [
             0.2222222222222222,
             "#7201a8"
            ],
            [
             0.3333333333333333,
             "#9c179e"
            ],
            [
             0.4444444444444444,
             "#bd3786"
            ],
            [
             0.5555555555555556,
             "#d8576b"
            ],
            [
             0.6666666666666666,
             "#ed7953"
            ],
            [
             0.7777777777777778,
             "#fb9f3a"
            ],
            [
             0.8888888888888888,
             "#fdca26"
            ],
            [
             1,
             "#f0f921"
            ]
           ]
          },
          "colorway": [
           "#636efa",
           "#EF553B",
           "#00cc96",
           "#ab63fa",
           "#FFA15A",
           "#19d3f3",
           "#FF6692",
           "#B6E880",
           "#FF97FF",
           "#FECB52"
          ],
          "font": {
           "color": "#2a3f5f"
          },
          "geo": {
           "bgcolor": "white",
           "lakecolor": "white",
           "landcolor": "#E5ECF6",
           "showlakes": true,
           "showland": true,
           "subunitcolor": "white"
          },
          "hoverlabel": {
           "align": "left"
          },
          "hovermode": "closest",
          "mapbox": {
           "style": "light"
          },
          "paper_bgcolor": "white",
          "plot_bgcolor": "#E5ECF6",
          "polar": {
           "angularaxis": {
            "gridcolor": "white",
            "linecolor": "white",
            "ticks": ""
           },
           "bgcolor": "#E5ECF6",
           "radialaxis": {
            "gridcolor": "white",
            "linecolor": "white",
            "ticks": ""
           }
          },
          "scene": {
           "xaxis": {
            "backgroundcolor": "#E5ECF6",
            "gridcolor": "white",
            "gridwidth": 2,
            "linecolor": "white",
            "showbackground": true,
            "ticks": "",
            "zerolinecolor": "white"
           },
           "yaxis": {
            "backgroundcolor": "#E5ECF6",
            "gridcolor": "white",
            "gridwidth": 2,
            "linecolor": "white",
            "showbackground": true,
            "ticks": "",
            "zerolinecolor": "white"
           },
           "zaxis": {
            "backgroundcolor": "#E5ECF6",
            "gridcolor": "white",
            "gridwidth": 2,
            "linecolor": "white",
            "showbackground": true,
            "ticks": "",
            "zerolinecolor": "white"
           }
          },
          "shapedefaults": {
           "line": {
            "color": "#2a3f5f"
           }
          },
          "ternary": {
           "aaxis": {
            "gridcolor": "white",
            "linecolor": "white",
            "ticks": ""
           },
           "baxis": {
            "gridcolor": "white",
            "linecolor": "white",
            "ticks": ""
           },
           "bgcolor": "#E5ECF6",
           "caxis": {
            "gridcolor": "white",
            "linecolor": "white",
            "ticks": ""
           }
          },
          "title": {
           "x": 0.05
          },
          "xaxis": {
           "automargin": true,
           "gridcolor": "white",
           "linecolor": "white",
           "ticks": "",
           "title": {
            "standoff": 15
           },
           "zerolinecolor": "white",
           "zerolinewidth": 2
          },
          "yaxis": {
           "automargin": true,
           "gridcolor": "white",
           "linecolor": "white",
           "ticks": "",
           "title": {
            "standoff": 15
           },
           "zerolinecolor": "white",
           "zerolinewidth": 2
          }
         }
        },
        "title": {
         "text": "Journey flow of customers with account activation (237 random customers)"
        }
       }
      }
     },
     "metadata": {},
     "output_type": "display_data"
    }
   ],
   "source": [
    "import pandas as pd\n",
    "import plotly.graph_objects as go\n",
    "\n",
    "def generate_sankey_chart_data(df: pd.DataFrame):\n",
    "    # list of list: each list is the set of nodes in each tier/column\n",
    "    column_values = [df[col] for col in df.columns]\n",
    "\n",
    "    # this generates the labels for the sankey by taking all the unique values\n",
    "    labels = sum([list(node_values.unique()) for node_values in column_values], [])\n",
    "\n",
    "    # initializes a dict of dicts (one dict per tier)\n",
    "    link_mappings = {col: {} for col in df.columns}\n",
    "\n",
    "    # each dict maps a node to a unique number value\n",
    "    i = 0\n",
    "    for col, nodes in zip(df.columns, column_values):\n",
    "        for node in nodes.unique():\n",
    "            link_mappings[col][node] = i\n",
    "            i += 1\n",
    "\n",
    "    # specifying which columns are serving as sources and which as targets\n",
    "    source_cols = df.columns[:-1]\n",
    "    target_cols = df.columns[1:]\n",
    "    links = []\n",
    "\n",
    "    # loop to create a list of links in the format [((src, tgt), wt), (), ()...]\n",
    "    for source_col, target_col in zip(source_cols, target_cols):\n",
    "        for source, target in zip(df[source_col], df[target_col]):\n",
    "            links.append(\n",
    "                (\n",
    "                    link_mappings[source_col][source],\n",
    "                    link_mappings[target_col][target],\n",
    "                    1  # Weight is 1 for counting transitions\n",
    "                )\n",
    "            )\n",
    "\n",
    "    # creating a dataframe with 3 columns: source, target, and weight\n",
    "    df_links = pd.DataFrame(links, columns=[\"source\", \"target\", \"weight\"])\n",
    "\n",
    "    # generating three lists needed for the sankey visual\n",
    "    sources = df_links[\"source\"]\n",
    "    targets = df_links[\"target\"]\n",
    "    weights = df_links[\"weight\"]\n",
    "\n",
    "    return labels, sources, targets, weights\n",
    "\n",
    "\n",
    "# Your DataFrame\n",
    "df = pivot_fingerhut_active_account.iloc[:, 2:]\n",
    "\n",
    "# Call the generate_sankey_chart_data function\n",
    "labels, sources, targets, weights = generate_sankey_chart_data(df=df)\n",
    "\n",
    "\n",
    "# Map colors to labels\n",
    "label_colors = {\n",
    "    'Promotion and Discover': 'pink',\n",
    "    'Apply for Credit': 'green',\n",
    "    'Shopping': 'blue',\n",
    "    'Account Activation': 'cyan',\n",
    "    'Downpayment': 'purple',\n",
    "    'Place Order': 'yellow',\n",
    "    'Order Shipped': 'orange',\n",
    "    'No Order Made': 'red',\n",
    "    '': 'black'  # Adjust this for labels with empty strings\n",
    "}\n",
    "\n",
    "# Create a DataFrame to aggregate weights\n",
    "df_links_aggregated = pd.DataFrame({'source': sources, 'target': targets, 'weight': weights})\n",
    "\n",
    "# Aggregate weights for the same source and target pairs\n",
    "df_links_aggregated = df_links_aggregated.groupby(['source', 'target'], as_index=False).agg({'weight': 'sum'})\n",
    "\n",
    "# Create the Sankey diagram\n",
    "fig = go.Figure(data=[go.Sankey(\n",
    "    node=dict(\n",
    "        pad=15,\n",
    "        thickness=20,\n",
    "        line=dict(color=\"black\", width=0.5),\n",
    "        label=labels,\n",
    "        color=[label_colors[label] for label in labels]  # Map colors based on the dictionary\n",
    "    ),\n",
    "    link=dict(\n",
    "        source=df_links_aggregated['source'],\n",
    "        target=df_links_aggregated['target'],\n",
    "        value=df_links_aggregated['weight'],\n",
    "        # Add labels for each link (source to target) with the total counts\n",
    "        label=[f\"Total Counts: {weight}\" for weight in df_links_aggregated['weight']]\n",
    "    )\n",
    ")])\n",
    "\n",
    "fig.update_layout(title_text=\"Journey flow of customers with account activation (237 random customers)\", font_size=10)\n",
    "fig.show()\n"
   ]
  },
  {
   "cell_type": "markdown",
   "metadata": {},
   "source": [
    "### Markov Chains"
   ]
  },
  {
   "cell_type": "code",
   "execution_count": null,
   "metadata": {},
   "outputs": [],
   "source": [
    "pickle = pd.read_pickle('fingerhut_combined_grouped.pkl')"
   ]
  },
  {
   "cell_type": "code",
   "execution_count": null,
   "metadata": {},
   "outputs": [
    {
     "data": {
      "text/html": [
       "<div>\n",
       "<style scoped>\n",
       "    .dataframe tbody tr th:only-of-type {\n",
       "        vertical-align: middle;\n",
       "    }\n",
       "\n",
       "    .dataframe tbody tr th {\n",
       "        vertical-align: top;\n",
       "    }\n",
       "\n",
       "    .dataframe thead th {\n",
       "        text-align: right;\n",
       "    }\n",
       "</style>\n",
       "<table border=\"1\" class=\"dataframe\">\n",
       "  <thead>\n",
       "    <tr style=\"text-align: right;\">\n",
       "      <th></th>\n",
       "      <th>combined_id</th>\n",
       "      <th>ed_id</th>\n",
       "      <th>stage</th>\n",
       "      <th>application</th>\n",
       "      <th>activation</th>\n",
       "      <th>place_order_web</th>\n",
       "      <th>place_order_phone</th>\n",
       "      <th>order_shipped</th>\n",
       "    </tr>\n",
       "  </thead>\n",
       "  <tbody>\n",
       "    <tr>\n",
       "      <th>0</th>\n",
       "      <td>0</td>\n",
       "      <td>[2, 12, 1, 4, 4, 4, 11, 1, 5, 6, 1, 1, 4, 11, ...</td>\n",
       "      <td>[Discover, Apply for Credit, Promotion Created...</td>\n",
       "      <td>1</td>\n",
       "      <td>1</td>\n",
       "      <td>1</td>\n",
       "      <td>0</td>\n",
       "      <td>1</td>\n",
       "    </tr>\n",
       "    <tr>\n",
       "      <th>1</th>\n",
       "      <td>1</td>\n",
       "      <td>[2, 4, 11, 4, 4, 11, 4, 4, 4, 11, 4, 4, 5, 4, ...</td>\n",
       "      <td>[Discover, First Purchase, First Purchase, Fir...</td>\n",
       "      <td>1</td>\n",
       "      <td>1</td>\n",
       "      <td>1</td>\n",
       "      <td>0</td>\n",
       "      <td>1</td>\n",
       "    </tr>\n",
       "    <tr>\n",
       "      <th>2</th>\n",
       "      <td>2</td>\n",
       "      <td>[19, 19, 19, 19, 19, 19, 19, 19, 3, 19, 12, 4,...</td>\n",
       "      <td>[Apply for Credit, Apply for Credit, Apply for...</td>\n",
       "      <td>1</td>\n",
       "      <td>0</td>\n",
       "      <td>0</td>\n",
       "      <td>0</td>\n",
       "      <td>0</td>\n",
       "    </tr>\n",
       "    <tr>\n",
       "      <th>3</th>\n",
       "      <td>3</td>\n",
       "      <td>[12, 2, 22]</td>\n",
       "      <td>[Apply for Credit, Discover, Discover]</td>\n",
       "      <td>1</td>\n",
       "      <td>0</td>\n",
       "      <td>0</td>\n",
       "      <td>0</td>\n",
       "      <td>0</td>\n",
       "    </tr>\n",
       "    <tr>\n",
       "      <th>4</th>\n",
       "      <td>4</td>\n",
       "      <td>[12, 4, 4, 19, 5, 4, 11, 1, 5, 6, 29, 4, 11, 5...</td>\n",
       "      <td>[Apply for Credit, First Purchase, First Purch...</td>\n",
       "      <td>1</td>\n",
       "      <td>1</td>\n",
       "      <td>1</td>\n",
       "      <td>0</td>\n",
       "      <td>1</td>\n",
       "    </tr>\n",
       "  </tbody>\n",
       "</table>\n",
       "</div>"
      ],
      "text/plain": [
       "   combined_id                                              ed_id  \\\n",
       "0            0  [2, 12, 1, 4, 4, 4, 11, 1, 5, 6, 1, 1, 4, 11, ...   \n",
       "1            1  [2, 4, 11, 4, 4, 11, 4, 4, 4, 11, 4, 4, 5, 4, ...   \n",
       "2            2  [19, 19, 19, 19, 19, 19, 19, 19, 3, 19, 12, 4,...   \n",
       "3            3                                        [12, 2, 22]   \n",
       "4            4  [12, 4, 4, 19, 5, 4, 11, 1, 5, 6, 29, 4, 11, 5...   \n",
       "\n",
       "                                               stage  application  activation  \\\n",
       "0  [Discover, Apply for Credit, Promotion Created...            1           1   \n",
       "1  [Discover, First Purchase, First Purchase, Fir...            1           1   \n",
       "2  [Apply for Credit, Apply for Credit, Apply for...            1           0   \n",
       "3             [Apply for Credit, Discover, Discover]            1           0   \n",
       "4  [Apply for Credit, First Purchase, First Purch...            1           1   \n",
       "\n",
       "   place_order_web  place_order_phone  order_shipped  \n",
       "0                1                  0              1  \n",
       "1                1                  0              1  \n",
       "2                0                  0              0  \n",
       "3                0                  0              0  \n",
       "4                1                  0              1  "
      ]
     },
     "metadata": {},
     "output_type": "display_data"
    }
   ],
   "source": [
    "pickle.head()"
   ]
  },
  {
   "cell_type": "code",
   "execution_count": null,
   "metadata": {},
   "outputs": [
    {
     "data": {
      "text/html": [
       "<div>\n",
       "<style scoped>\n",
       "    .dataframe tbody tr th:only-of-type {\n",
       "        vertical-align: middle;\n",
       "    }\n",
       "\n",
       "    .dataframe tbody tr th {\n",
       "        vertical-align: top;\n",
       "    }\n",
       "\n",
       "    .dataframe thead th {\n",
       "        text-align: right;\n",
       "    }\n",
       "</style>\n",
       "<table border=\"1\" class=\"dataframe\">\n",
       "  <thead>\n",
       "    <tr style=\"text-align: right;\">\n",
       "      <th></th>\n",
       "      <th>combined_id</th>\n",
       "      <th>ed_id</th>\n",
       "      <th>stage</th>\n",
       "      <th>application</th>\n",
       "      <th>activation</th>\n",
       "      <th>place_order_web</th>\n",
       "      <th>place_order_phone</th>\n",
       "      <th>order_shipped</th>\n",
       "    </tr>\n",
       "  </thead>\n",
       "  <tbody>\n",
       "    <tr>\n",
       "      <th>0</th>\n",
       "      <td>0</td>\n",
       "      <td>[2, 12, 1, 4, 4, 4, 11, 1, 5, 6, 1, 1, 4, 11, ...</td>\n",
       "      <td>[Discover, Apply for Credit, Promotion Created...</td>\n",
       "      <td>1</td>\n",
       "      <td>1</td>\n",
       "      <td>1</td>\n",
       "      <td>0</td>\n",
       "      <td>1</td>\n",
       "    </tr>\n",
       "    <tr>\n",
       "      <th>1</th>\n",
       "      <td>1</td>\n",
       "      <td>[2, 4, 11, 4, 4, 11, 4, 4, 4, 11, 4, 4, 5, 4, ...</td>\n",
       "      <td>[Discover, First Purchase, First Purchase, Fir...</td>\n",
       "      <td>1</td>\n",
       "      <td>1</td>\n",
       "      <td>1</td>\n",
       "      <td>0</td>\n",
       "      <td>1</td>\n",
       "    </tr>\n",
       "    <tr>\n",
       "      <th>2</th>\n",
       "      <td>2</td>\n",
       "      <td>[19, 19, 19, 19, 19, 19, 19, 19, 3, 19, 12, 4,...</td>\n",
       "      <td>[Apply for Credit, Apply for Credit, Apply for...</td>\n",
       "      <td>1</td>\n",
       "      <td>0</td>\n",
       "      <td>0</td>\n",
       "      <td>0</td>\n",
       "      <td>0</td>\n",
       "    </tr>\n",
       "    <tr>\n",
       "      <th>3</th>\n",
       "      <td>3</td>\n",
       "      <td>[12, 2, 22]</td>\n",
       "      <td>[Apply for Credit, Discover, Discover]</td>\n",
       "      <td>1</td>\n",
       "      <td>0</td>\n",
       "      <td>0</td>\n",
       "      <td>0</td>\n",
       "      <td>0</td>\n",
       "    </tr>\n",
       "    <tr>\n",
       "      <th>4</th>\n",
       "      <td>4</td>\n",
       "      <td>[12, 4, 4, 19, 5, 4, 11, 1, 5, 6, 29, 4, 11, 5...</td>\n",
       "      <td>[Apply for Credit, First Purchase, First Purch...</td>\n",
       "      <td>1</td>\n",
       "      <td>1</td>\n",
       "      <td>1</td>\n",
       "      <td>0</td>\n",
       "      <td>1</td>\n",
       "    </tr>\n",
       "  </tbody>\n",
       "</table>\n",
       "</div>"
      ],
      "text/plain": [
       "   combined_id                                              ed_id  \\\n",
       "0            0  [2, 12, 1, 4, 4, 4, 11, 1, 5, 6, 1, 1, 4, 11, ...   \n",
       "1            1  [2, 4, 11, 4, 4, 11, 4, 4, 4, 11, 4, 4, 5, 4, ...   \n",
       "2            2  [19, 19, 19, 19, 19, 19, 19, 19, 3, 19, 12, 4,...   \n",
       "3            3                                        [12, 2, 22]   \n",
       "4            4  [12, 4, 4, 19, 5, 4, 11, 1, 5, 6, 29, 4, 11, 5...   \n",
       "\n",
       "                                               stage  application  activation  \\\n",
       "0  [Discover, Apply for Credit, Promotion Created...            1           1   \n",
       "1  [Discover, First Purchase, First Purchase, Fir...            1           1   \n",
       "2  [Apply for Credit, Apply for Credit, Apply for...            1           0   \n",
       "3             [Apply for Credit, Discover, Discover]            1           0   \n",
       "4  [Apply for Credit, First Purchase, First Purch...            1           1   \n",
       "\n",
       "   place_order_web  place_order_phone  order_shipped  \n",
       "0                1                  0              1  \n",
       "1                1                  0              1  \n",
       "2                0                  0              0  \n",
       "3                0                  0              0  \n",
       "4                1                  0              1  "
      ]
     },
     "metadata": {},
     "output_type": "display_data"
    }
   ],
   "source": [
    "import pandas as pd\n",
    "\n",
    "# Assuming 'pickle' is your DataFrame and it has a column named 'stage' containing lists\n",
    "\n",
    "# Remove 'prospecting' from each list in the 'stage' column\n",
    "pickle['stage'] = pickle['stage'].apply(lambda stages: [stage for stage in stages if stage != 'prospecting'])\n",
    "\n",
    "# Now, 'pickle' contains updated lists in the 'stage' column without the 'prospecting' value\n",
    "pickle.head()"
   ]
  },
  {
   "cell_type": "code",
   "execution_count": null,
   "metadata": {},
   "outputs": [
    {
     "name": "stdout",
     "output_type": "stream",
     "text": [
      "Confirmed: 'prospecting' is not present in any of the stage lists.\n"
     ]
    }
   ],
   "source": [
    "# Check if 'prospecting' is not present in any of the lists in the 'stage' column\n",
    "prospecting_absent = all(pickle['stage'].apply(lambda stages: 'prospecting' not in stages))\n",
    "\n",
    "if prospecting_absent:\n",
    "    print(\"Confirmed: 'prospecting' is not present in any of the stage lists.\")\n",
    "else:\n",
    "    print(\"Warning: 'prospecting' was found in one or more of the stage lists.\")"
   ]
  },
  {
   "cell_type": "code",
   "execution_count": null,
   "metadata": {},
   "outputs": [],
   "source": [
    "event_def = pd.read_csv('Event_Definitions.csv')"
   ]
  },
  {
   "cell_type": "code",
   "execution_count": null,
   "metadata": {},
   "outputs": [
    {
     "data": {
      "text/plain": [
       "<bound method NDFrame.head of                               event_name  journey_id  event_definition_id  \\\n",
       "0             application_phone_approved           1                   15   \n",
       "1             application_phone_declined           1                   16   \n",
       "2              application_phone_pending           1                   17   \n",
       "3               application_web_approved           1                   12   \n",
       "4               application_web_declined           1                   13   \n",
       "5                application_web_pending           1                   14   \n",
       "6                 application_web_submit           1                    3   \n",
       "7                   application_web_view           1                   19   \n",
       "8                   account_activitation           1                   29   \n",
       "9                   account_fraud_review           1                   37   \n",
       "10                        campaign_click           1                    2   \n",
       "11    customer_requested_catalog_digital           1                    9   \n",
       "12                  fingerhut_university           1                   10   \n",
       "13  pre_application_3rd_party_affiliates           1                   22   \n",
       "14                     site_registration           1                   23   \n",
       "15            account_downpaymentcleared           1                   27   \n",
       "16           account_downpaymentreceived           1                   26   \n",
       "17                     place_downpayment           1                    8   \n",
       "18               place_downpayment_phone           1                   25   \n",
       "19                           add_to_cart           1                   11   \n",
       "20                        begin_checkout           1                    6   \n",
       "21                       browse_products           1                    4   \n",
       "22                     place_order_phone           1                   18   \n",
       "23                       place_order_web           1                    7   \n",
       "24                             view_cart           1                    5   \n",
       "25                         order_shipped           1                   28   \n",
       "26                catalog_email_experian           1                   20   \n",
       "27                          catalog_mail           1                   21   \n",
       "\n",
       "    milestone_number             stage  \n",
       "0                1.0  Apply for Credit  \n",
       "1                NaN  Apply for Credit  \n",
       "2                NaN  Apply for Credit  \n",
       "3                1.0  Apply for Credit  \n",
       "4                NaN  Apply for Credit  \n",
       "5                NaN  Apply for Credit  \n",
       "6                NaN  Apply for Credit  \n",
       "7                NaN  Apply for Credit  \n",
       "8                3.0    Credit Account  \n",
       "9                NaN    Credit Account  \n",
       "10               NaN          Discover  \n",
       "11               NaN          Discover  \n",
       "12               NaN          Discover  \n",
       "13               NaN          Discover  \n",
       "14               NaN          Discover  \n",
       "15               5.0       Downpayment  \n",
       "16               NaN       Downpayment  \n",
       "17               4.0       Downpayment  \n",
       "18               4.0       Downpayment  \n",
       "19               NaN    First Purchase  \n",
       "20               NaN    First Purchase  \n",
       "21               NaN    First Purchase  \n",
       "22               2.0    First Purchase  \n",
       "23               2.0    First Purchase  \n",
       "24               NaN    First Purchase  \n",
       "25               6.0     Order Shipped  \n",
       "26               NaN       Prospecting  \n",
       "27               NaN       Prospecting  >"
      ]
     },
     "metadata": {},
     "output_type": "display_data"
    }
   ],
   "source": [
    "event_def.head"
   ]
  },
  {
   "cell_type": "code",
   "execution_count": null,
   "metadata": {},
   "outputs": [
    {
     "data": {
      "text/plain": [
       "array(['Apply for Credit', 'Credit Account', 'Discover', 'Downpayment',\n",
       "       'First Purchase', 'Order Shipped', 'Prospecting'], dtype=object)"
      ]
     },
     "metadata": {},
     "output_type": "display_data"
    }
   ],
   "source": [
    "event_def['stage'].unique()"
   ]
  },
  {
   "cell_type": "code",
   "execution_count": null,
   "metadata": {},
   "outputs": [],
   "source": [
    "import random\n",
    "random.seed(31524)\n",
    "medium_pickle = pickle.sample(n=16000, random_state = 31524)"
   ]
  },
  {
   "cell_type": "code",
   "execution_count": null,
   "metadata": {},
   "outputs": [],
   "source": [
    "import mchmm as mc\n",
    "import matplotlib.pyplot as plt\n",
    "import seaborn as sns\n",
    "import numpy as np"
   ]
  },
  {
   "cell_type": "code",
   "execution_count": null,
   "metadata": {},
   "outputs": [
    {
     "name": "stderr",
     "output_type": "stream",
     "text": [
      "/Users/ronannayak/anaconda3/lib/python3.9/site-packages/mchmm/_mc.py:151: RuntimeWarning: invalid value encountered in true_divide\n",
      "  self.observed_matrix / self._obs_row_totals[:, None]\n",
      "/Users/ronannayak/anaconda3/lib/python3.9/site-packages/scipy/stats/contingency.py:128: RuntimeWarning: invalid value encountered in true_divide\n",
      "  expected = reduce(np.multiply, margsums) / observed.sum() ** (d - 1)\n"
     ]
    }
   ],
   "source": [
    "markov_chains = []\n",
    "\n",
    "for index, row in medium_pickle.iterrows():\n",
    "\n",
    "    sequence = row['stage']\n",
    "\n",
    "    mc_obj = mc.MarkovChain().from_data(sequence)\n",
    "\n",
    "    markov_chains.append(mc_obj)"
   ]
  },
  {
   "cell_type": "code",
   "execution_count": null,
   "metadata": {},
   "outputs": [],
   "source": [
    "import numpy as np\n",
    "unique_states = set()\n",
    "for mc in markov_chains:\n",
    "    unique_states.update(mc.states)\n",
    "#unique_states = sorted(list(unique_states))  # Sort for consistent ordering"
   ]
  },
  {
   "cell_type": "code",
   "execution_count": null,
   "metadata": {},
   "outputs": [
    {
     "name": "stderr",
     "output_type": "stream",
     "text": [
      "/var/folders/xq/53p8ng8d1kl4qps60jfz4hdw0000gn/T/ipykernel_17266/322072729.py:16: RuntimeWarning: invalid value encountered in true_divide\n",
      "  aggregated_probs = aggregated_counts / aggregated_counts.sum(axis=1, keepdims=True)\n"
     ]
    }
   ],
   "source": [
    "# Initialize an aggregated transition count matrix\n",
    "n = len(unique_states)\n",
    "aggregated_counts = np.zeros((n, n))\n",
    "\n",
    "# Map each state to its index in the aggregated matrix\n",
    "state_to_index = {state: i for i, state in enumerate(unique_states)}\n",
    "\n",
    "for mc in markov_chains:\n",
    "    # Increment counts in the aggregated matrix based on observed transitions in mc\n",
    "    for i in range(len(mc.states)-1):\n",
    "        from_state, to_state = mc.states[i], mc.states[i+1]\n",
    "        from_index, to_index = state_to_index[from_state], state_to_index[to_state]\n",
    "        aggregated_counts[from_index, to_index] += 1  # Increment count for observed transition\n",
    "\n",
    "# Optional: Convert counts to probabilities by normalizing each row\n",
    "aggregated_probs = aggregated_counts / aggregated_counts.sum(axis=1, keepdims=True)\n",
    "#aggregated_probs = np.nan_to_num(aggregated_probs)  # Handle division by zero for states with no outgoing transitions"
   ]
  },
  {
   "cell_type": "code",
   "execution_count": null,
   "metadata": {},
   "outputs": [
    {
     "data": {
      "image/png": "[encoded data removed]",
      "text/plain": [
       "<Figure size 864x720 with 2 Axes>"
      ]
     },
     "metadata": {},
     "output_type": "display_data"
    }
   ],
   "source": [
    "plt.figure(figsize=(12, 10))\n",
    "sns.heatmap(aggregated_probs, annot=True, cmap='coolwarm', fmt=\".2f\",\n",
    "            xticklabels=unique_states, yticklabels=unique_states)\n",
    "plt.title(\"Aggregated Transition Probabilities\")\n",
    "plt.xlabel(\"To State\")\n",
    "plt.ylabel(\"From State\")\n",
    "plt.show()"
   ]
  },
  {
   "cell_type": "code",
   "execution_count": null,
   "metadata": {},
   "outputs": [
    {
     "data": {
      "image/png": "[encoded data removed]",
      "text/plain": [
       "<Figure size 864x720 with 2 Axes>"
      ]
     },
     "metadata": {},
     "output_type": "display_data"
    }
   ],
   "source": [
    "plt.figure(figsize=(12, 10))\n",
    "sns.heatmap(aggregated_counts, annot=True, cmap='coolwarm', fmt=\".2f\",\n",
    "            xticklabels=unique_states, yticklabels=unique_states)\n",
    "plt.title(\"Aggregated Transition Probabilities\")\n",
    "plt.xlabel(\"To State\")\n",
    "plt.ylabel(\"From State\")\n",
    "plt.show()"
   ]
  },
  {
   "cell_type": "code",
   "execution_count": null,
   "metadata": {},
   "outputs": [],
   "source": [
    "import pydtmc"
   ]
  },
  {
   "cell_type": "code",
   "execution_count": null,
   "metadata": {},
   "outputs": [],
   "source": [
    "import pandas as pd\n",
    "smaller_sample = pd.read_csv('smaller_sample.csv')\n",
    "smaller_sample.sort_values(by=['customer_id', 'event_timestamp'], inplace=True)\n",
    "unique_events = smaller_sample['event_name'].unique()\n",
    "n_events = len(unique_events)"
   ]
  },
  {
   "cell_type": "code",
   "execution_count": null,
   "metadata": {},
   "outputs": [],
   "source": [
    "event_name_to_index = {event_name: index for index, event_name in enumerate(unique_events)}"
   ]
  },
  {
   "cell_type": "code",
   "execution_count": null,
   "metadata": {},
   "outputs": [],
   "source": [
    "import numpy as np\n",
    "\n",
    "transition_counts = np.zeros((n_events, n_events))"
   ]
  },
  {
   "cell_type": "code",
   "execution_count": null,
   "metadata": {},
   "outputs": [],
   "source": [
    "for _, group in smaller_sample.groupby('customer_id'):\n",
    "    events = group['event_name'].apply(lambda x: event_name_to_index[x]).values\n",
    "    for i in range(len(events) - 1):\n",
    "        current_event, next_event = events[i], events[i + 1]\n",
    "        transition_counts[current_event, next_event] += 1"
   ]
  },
  {
   "cell_type": "code",
   "execution_count": null,
   "metadata": {},
   "outputs": [],
   "source": [
    "transition_probs = transition_counts / transition_counts.sum(axis=1, keepdims=True)"
   ]
  },
  {
   "cell_type": "code",
   "execution_count": null,
   "metadata": {},
   "outputs": [],
   "source": [
    "transition_probs[np.isnan(transition_probs)] = 0\n",
    "np.fill_diagonal(transition_probs, 0) "
   ]
  },
  {
   "cell_type": "code",
   "execution_count": null,
   "metadata": {},
   "outputs": [],
   "source": [
    "transition_df = pd.DataFrame(transition_probs, index=unique_events, columns=unique_events)"
   ]
  },
  {
   "cell_type": "code",
   "execution_count": null,
   "metadata": {},
   "outputs": [],
   "source": [
    "column_sums = transition_df.sum(axis=0)\n",
    "zero_columns = column_sums == 0\n",
    "\n",
    "# For columns that sum to 0, assign uniform probabilities\n",
    "for col in transition_df.columns[zero_columns]:\n",
    "    transition_df[col] = 1 / len(transition_df.columns)\n",
    "\n",
    "transition_df = transition_df.div(transition_df.sum(axis=0), axis=1)"
   ]
  },
  {
   "cell_type": "code",
   "execution_count": null,
   "metadata": {},
   "outputs": [
    {
     "name": "stdout",
     "output_type": "stream",
     "text": [
      "application_web_approved                  1.0\n",
      "browse_products                           1.0\n",
      "campaignemail_clicked                     1.0\n",
      "promotion_created                         1.0\n",
      "catalog_(mail)                            1.0\n",
      "begin_checkout                            1.0\n",
      "add_to_cart                               1.0\n",
      "view_cart                                 1.0\n",
      "application_web_view                      1.0\n",
      "application_web_submit                    1.0\n",
      "campaign_click                            1.0\n",
      "account_activitation                      1.0\n",
      "place_order_web                           1.0\n",
      "place_downpayment                         1.0\n",
      "account_downpaymentcleared                1.0\n",
      "order_shipped                             1.0\n",
      "site_registration                         1.0\n",
      "application_phone_approved                1.0\n",
      "place_order_phone                         1.0\n",
      "pre-application_(3rd_party_affiliates)    1.0\n",
      "application_web_declined                  1.0\n",
      "account_downpaymentreceived               1.0\n",
      "catalog_(email)_(experian)                1.0\n",
      "fingerhut_university                      1.0\n",
      "application_phone_declined                1.0\n",
      "application_web_pending                   1.0\n",
      "dtype: float64\n"
     ]
    }
   ],
   "source": [
    "column_sums = transition_df.sum(axis=0)\n",
    "print(column_sums)"
   ]
  },
  {
   "cell_type": "code",
   "execution_count": null,
   "metadata": {},
   "outputs": [
    {
     "name": "stdout",
     "output_type": "stream",
     "text": [
      "['application_web_approved', 'browse_products', 'campaignemail_clicked', 'promotion_created', 'catalog_(mail)', 'begin_checkout', 'add_to_cart', 'view_cart', 'application_web_view', 'application_web_submit', 'campaign_click', 'account_activitation', 'place_order_web', 'place_downpayment', 'account_downpaymentcleared', 'order_shipped', 'site_registration', 'application_phone_approved', 'place_order_phone', 'pre-application_(3rd_party_affiliates)', 'application_web_declined', 'account_downpaymentreceived', 'catalog_(email)_(experian)', 'fingerhut_university', 'application_phone_declined', 'application_web_pending']\n"
     ]
    }
   ],
   "source": [
    "names = transition_df.index.tolist()\n",
    "print(names)"
   ]
  },
  {
   "cell_type": "code",
   "execution_count": null,
   "metadata": {},
   "outputs": [],
   "source": [
    "mc = pydtmc.MarkovChain(np.transpose(transition_df), names)"
   ]
  },
  {
   "cell_type": "code",
   "execution_count": null,
   "metadata": {},
   "outputs": [
    {
     "data": {
      "image/png": "[encoded data removed]",
      "text/plain": [
       "<Figure size 1800x1200 with 1 Axes>"
      ]
     },
     "metadata": {},
     "output_type": "display_data"
    }
   ],
   "source": [
    "pydtmc.plot_eigenvalues(mc, dpi=300)"
   ]
  },
  {
   "cell_type": "code",
   "execution_count": null,
   "metadata": {},
   "outputs": [
    {
     "data": {
      "image/png": "[encoded data removed]",
      "text/plain": [
       "<Figure size 1080x1080 with 2 Axes>"
      ]
     },
     "metadata": {},
     "output_type": "display_data"
    }
   ],
   "source": [
    "import seaborn as sns\n",
    "plt.figure(figsize=(15, 15))\n",
    "sns.heatmap(transition_df, annot=True, cmap='coolwarm', fmt=\".2f\")\n",
    "plt.title('Transition Matrix Heatmap')\n",
    "plt.xlabel('To State')\n",
    "plt.ylabel('From State')\n",
    "plt.show()"
   ]
  },
  {
   "cell_type": "markdown",
   "metadata": {},
   "source": [
    "## Modeling"
   ]
  },
  {
   "cell_type": "markdown",
   "metadata": {},
   "source": [
    "### Logistic Regression - Promotions"
   ]
  },
  {
   "cell_type": "code",
   "execution_count": null,
   "metadata": {},
   "outputs": [],
   "source": [
    "# read in fingerhut_combined_grouped.pkl\n",
    "\n",
    "fingerhut_combined_grouped = pd.read_pickle('../Dataset/fingerhut_combined_grouped.pkl')"
   ]
  },
  {
   "cell_type": "code",
   "execution_count": null,
   "metadata": {},
   "outputs": [],
   "source": [
    "# if either the place_order_web or place_order_phone is 1, then make new column place_order = 1, else 0\n",
    "\n",
    "fingerhut_combined_grouped['place_order'] = np.where((fingerhut_combined_grouped['place_order_web'] == 1) | (fingerhut_combined_grouped['place_order_phone'] == 1), 1, 0)"
   ]
  },
  {
   "cell_type": "code",
   "execution_count": null,
   "metadata": {},
   "outputs": [],
   "source": [
    "# randomly sample 100000 rows from fingerhut_combined_grouped\n",
    "\n",
    "# fingerhut_combined_grouped_sample = fingerhut_combined_grouped.sample(n=100000, random_state=0)\n",
    "\n",
    "fingerhut_combined_grouped_sample = fingerhut_combined_grouped"
   ]
  },
  {
   "cell_type": "code",
   "execution_count": null,
   "metadata": {},
   "outputs": [
    {
     "data": {
      "text/plain": [
       "0    1254569\n",
       "1     410862\n",
       "Name: activation, dtype: int64"
      ]
     },
     "metadata": {},
     "output_type": "display_data"
    }
   ],
   "source": [
    "# check how many rows have activation = 1\n",
    "\n",
    "fingerhut_combined_grouped_sample['activation'].value_counts()"
   ]
  },
  {
   "cell_type": "code",
   "execution_count": null,
   "metadata": {},
   "outputs": [
    {
     "name": "stdout",
     "output_type": "stream",
     "text": [
      "354404\n"
     ]
    }
   ],
   "source": [
    "# check how many rows have place_order = 1 and activation = 1\n",
    "\n",
    "ordered_activated = fingerhut_combined_grouped_sample[(fingerhut_combined_grouped_sample['place_order'] == 1) & (fingerhut_combined_grouped_sample['activation'] == 1)]\n",
    "print(len(ordered_activated))"
   ]
  },
  {
   "cell_type": "code",
   "execution_count": null,
   "metadata": {},
   "outputs": [
    {
     "name": "stdout",
     "output_type": "stream",
     "text": [
      "1229136\n"
     ]
    }
   ],
   "source": [
    "# check how many rows have place_order = 0 and activation = 0\n",
    "\n",
    "no_ordered_no_activated = fingerhut_combined_grouped_sample[(fingerhut_combined_grouped_sample['place_order'] == 0) & (fingerhut_combined_grouped_sample['activation'] == 0)]\n",
    "print(len(no_ordered_no_activated))"
   ]
  },
  {
   "cell_type": "code",
   "execution_count": null,
   "metadata": {},
   "outputs": [
    {
     "name": "stdout",
     "output_type": "stream",
     "text": [
      "25433\n"
     ]
    }
   ],
   "source": [
    "# check how many rows have place_order = 1 and activation = 0\n",
    "\n",
    "ordered_no_activated = fingerhut_combined_grouped_sample[(fingerhut_combined_grouped_sample['place_order'] == 1) & (fingerhut_combined_grouped_sample['activation'] == 0)]\n",
    "print(len(ordered_no_activated))"
   ]
  },
  {
   "cell_type": "code",
   "execution_count": null,
   "metadata": {},
   "outputs": [
    {
     "name": "stdout",
     "output_type": "stream",
     "text": [
      "56458\n"
     ]
    }
   ],
   "source": [
    "# check how many rows have place_order = 0 and activation = 1\n",
    "\n",
    "no_ordered_activated = fingerhut_combined_grouped_sample[(fingerhut_combined_grouped_sample['place_order'] == 0) & (fingerhut_combined_grouped_sample['activation'] == 1)]\n",
    "print(len(no_ordered_activated))"
   ]
  },
  {
   "cell_type": "code",
   "execution_count": null,
   "metadata": {},
   "outputs": [
    {
     "data": {
      "text/plain": [
       "1665431"
      ]
     },
     "metadata": {},
     "output_type": "display_data"
    }
   ],
   "source": [
    "# sum of all the above 4 categories should be 100000\n",
    "\n",
    "len(ordered_activated) + len(no_ordered_no_activated) + len(ordered_no_activated) + len(no_ordered_activated)"
   ]
  },
  {
   "cell_type": "code",
   "execution_count": null,
   "metadata": {},
   "outputs": [
    {
     "data": {
      "text/plain": [
       "1523909"
      ]
     },
     "metadata": {},
     "output_type": "display_data"
    }
   ],
   "source": [
    "# check how many rows have promotion_exposure = 1\n",
    "\n",
    "fingerhut_combined_grouped_sample['promotion_exposure'].value_counts()[1]"
   ]
  },
  {
   "cell_type": "code",
   "execution_count": null,
   "metadata": {},
   "outputs": [
    {
     "name": "stdout",
     "output_type": "stream",
     "text": [
      "372432\n"
     ]
    }
   ],
   "source": [
    "# check how many rows have promotion_expousre = 1 and activation = 1\n",
    "\n",
    "promotion_activated = fingerhut_combined_grouped_sample[(fingerhut_combined_grouped_sample['promotion_exposure'] == 1) & (fingerhut_combined_grouped_sample['activation'] == 1)]\n",
    "print(len(promotion_activated))"
   ]
  },
  {
   "cell_type": "code",
   "execution_count": null,
   "metadata": {},
   "outputs": [
    {
     "name": "stdout",
     "output_type": "stream",
     "text": [
      "1151477\n"
     ]
    }
   ],
   "source": [
    "# check how many rows have promotion_expousre = 1 and activation = 0\n",
    "\n",
    "promotion_no_activated = fingerhut_combined_grouped_sample[(fingerhut_combined_grouped_sample['promotion_exposure'] == 1) & (fingerhut_combined_grouped_sample['activation'] == 0)]\n",
    "print(len(promotion_no_activated))"
   ]
  },
  {
   "cell_type": "code",
   "execution_count": null,
   "metadata": {},
   "outputs": [],
   "source": [
    "promotion_ids = [2, 9, 20, 21, 1, 24]"
   ]
  },
  {
   "cell_type": "code",
   "execution_count": null,
   "metadata": {},
   "outputs": [],
   "source": [
    "# for each row, if the list object in the ed_id column contains any of the above 6 ids, then make a new column `promotion_type` that contains the list of ids that were found in the ed_id column\n",
    "\n",
    "fingerhut_combined_grouped_sample['promotion_type'] = fingerhut_combined_grouped_sample['ed_id'].apply(lambda x: list(set(x).intersection(promotion_ids)))"
   ]
  },
  {
   "cell_type": "code",
   "execution_count": null,
   "metadata": {},
   "outputs": [],
   "source": [
    "# if any of the columns 2, 9, 20, 21, 1, 24 are 1, then make a new column `promotion_y_n` = 1, else 0\n",
    "\n",
    "fingerhut_combined_grouped_sample['promotion_y_n'] = np.where((fingerhut_combined_grouped_sample[2] == 1) | (fingerhut_combined_grouped_sample[9] == 1) | (fingerhut_combined_grouped_sample[20] == 1) | (fingerhut_combined_grouped_sample[21] == 1) | (fingerhut_combined_grouped_sample[1] == 1) | (fingerhut_combined_grouped_sample[24] == 1), 1, 0)"
   ]
  },
  {
   "cell_type": "code",
   "execution_count": null,
   "metadata": {},
   "outputs": [
    {
     "data": {
      "text/html": [
       "<div>\n",
       "<style scoped>\n",
       "    .dataframe tbody tr th:only-of-type {\n",
       "        vertical-align: middle;\n",
       "    }\n",
       "\n",
       "    .dataframe tbody tr th {\n",
       "        vertical-align: top;\n",
       "    }\n",
       "\n",
       "    .dataframe thead th {\n",
       "        text-align: right;\n",
       "    }\n",
       "</style>\n",
       "<table border=\"1\" class=\"dataframe\">\n",
       "  <thead>\n",
       "    <tr style=\"text-align: right;\">\n",
       "      <th></th>\n",
       "      <th>2</th>\n",
       "      <th>9</th>\n",
       "      <th>20</th>\n",
       "      <th>21</th>\n",
       "      <th>1</th>\n",
       "      <th>24</th>\n",
       "      <th>promotion_y_n</th>\n",
       "    </tr>\n",
       "  </thead>\n",
       "  <tbody>\n",
       "    <tr>\n",
       "      <th>0</th>\n",
       "      <td>1</td>\n",
       "      <td>0</td>\n",
       "      <td>0</td>\n",
       "      <td>0</td>\n",
       "      <td>1</td>\n",
       "      <td>0</td>\n",
       "      <td>1</td>\n",
       "    </tr>\n",
       "    <tr>\n",
       "      <th>1</th>\n",
       "      <td>1</td>\n",
       "      <td>0</td>\n",
       "      <td>0</td>\n",
       "      <td>0</td>\n",
       "      <td>1</td>\n",
       "      <td>0</td>\n",
       "      <td>1</td>\n",
       "    </tr>\n",
       "    <tr>\n",
       "      <th>2</th>\n",
       "      <td>1</td>\n",
       "      <td>0</td>\n",
       "      <td>0</td>\n",
       "      <td>0</td>\n",
       "      <td>0</td>\n",
       "      <td>0</td>\n",
       "      <td>1</td>\n",
       "    </tr>\n",
       "    <tr>\n",
       "      <th>3</th>\n",
       "      <td>1</td>\n",
       "      <td>0</td>\n",
       "      <td>0</td>\n",
       "      <td>0</td>\n",
       "      <td>0</td>\n",
       "      <td>0</td>\n",
       "      <td>1</td>\n",
       "    </tr>\n",
       "    <tr>\n",
       "      <th>4</th>\n",
       "      <td>0</td>\n",
       "      <td>0</td>\n",
       "      <td>0</td>\n",
       "      <td>0</td>\n",
       "      <td>1</td>\n",
       "      <td>0</td>\n",
       "      <td>1</td>\n",
       "    </tr>\n",
       "    <tr>\n",
       "      <th>...</th>\n",
       "      <td>...</td>\n",
       "      <td>...</td>\n",
       "      <td>...</td>\n",
       "      <td>...</td>\n",
       "      <td>...</td>\n",
       "      <td>...</td>\n",
       "      <td>...</td>\n",
       "    </tr>\n",
       "    <tr>\n",
       "      <th>1665426</th>\n",
       "      <td>0</td>\n",
       "      <td>0</td>\n",
       "      <td>0</td>\n",
       "      <td>1</td>\n",
       "      <td>1</td>\n",
       "      <td>1</td>\n",
       "      <td>1</td>\n",
       "    </tr>\n",
       "    <tr>\n",
       "      <th>1665427</th>\n",
       "      <td>0</td>\n",
       "      <td>0</td>\n",
       "      <td>0</td>\n",
       "      <td>1</td>\n",
       "      <td>1</td>\n",
       "      <td>1</td>\n",
       "      <td>1</td>\n",
       "    </tr>\n",
       "    <tr>\n",
       "      <th>1665428</th>\n",
       "      <td>0</td>\n",
       "      <td>0</td>\n",
       "      <td>0</td>\n",
       "      <td>0</td>\n",
       "      <td>1</td>\n",
       "      <td>1</td>\n",
       "      <td>1</td>\n",
       "    </tr>\n",
       "    <tr>\n",
       "      <th>1665429</th>\n",
       "      <td>1</td>\n",
       "      <td>0</td>\n",
       "      <td>0</td>\n",
       "      <td>1</td>\n",
       "      <td>1</td>\n",
       "      <td>0</td>\n",
       "      <td>1</td>\n",
       "    </tr>\n",
       "    <tr>\n",
       "      <th>1665430</th>\n",
       "      <td>1</td>\n",
       "      <td>0</td>\n",
       "      <td>0</td>\n",
       "      <td>0</td>\n",
       "      <td>1</td>\n",
       "      <td>0</td>\n",
       "      <td>1</td>\n",
       "    </tr>\n",
       "  </tbody>\n",
       "</table>\n",
       "<p>1665431 rows × 7 columns</p>\n",
       "</div>"
      ],
      "text/plain": [
       "         2  9  20  21  1  24  promotion_y_n\n",
       "0        1  0   0   0  1   0              1\n",
       "1        1  0   0   0  1   0              1\n",
       "2        1  0   0   0  0   0              1\n",
       "3        1  0   0   0  0   0              1\n",
       "4        0  0   0   0  1   0              1\n",
       "...     .. ..  ..  .. ..  ..            ...\n",
       "1665426  0  0   0   1  1   1              1\n",
       "1665427  0  0   0   1  1   1              1\n",
       "1665428  0  0   0   0  1   1              1\n",
       "1665429  1  0   0   1  1   0              1\n",
       "1665430  1  0   0   0  1   0              1\n",
       "\n",
       "[1665431 rows x 7 columns]"
      ]
     },
     "metadata": {},
     "output_type": "display_data"
    }
   ],
   "source": [
    "fingerhut_combined_grouped_sample[[2, 9, 20, 21, 1, 24, 'promotion_y_n']]"
   ]
  },
  {
   "cell_type": "markdown",
   "metadata": {},
   "source": [
    "#### Classification"
   ]
  },
  {
   "cell_type": "code",
   "execution_count": null,
   "metadata": {},
   "outputs": [
    {
     "data": {
      "text/html": [
       "<style>#sk-container-id-2 {color: black;background-color: white;}#sk-container-id-2 pre{padding: 0;}#sk-container-id-2 div.sk-toggleable {background-color: white;}#sk-container-id-2 label.sk-toggleable__label {cursor: pointer;display: block;width: 100%;margin-bottom: 0;padding: 0.3em;box-sizing: border-box;text-align: center;}#sk-container-id-2 label.sk-toggleable__label-arrow:before {content: \"▸\";float: left;margin-right: 0.25em;color: #696969;}#sk-container-id-2 label.sk-toggleable__label-arrow:hover:before {color: black;}#sk-container-id-2 div.sk-estimator:hover label.sk-toggleable__label-arrow:before {color: black;}#sk-container-id-2 div.sk-toggleable__content {max-height: 0;max-width: 0;overflow: hidden;text-align: left;background-color: #f0f8ff;}#sk-container-id-2 div.sk-toggleable__content pre {margin: 0.2em;color: black;border-radius: 0.25em;background-color: #f0f8ff;}#sk-container-id-2 input.sk-toggleable__control:checked~div.sk-toggleable__content {max-height: 200px;max-width: 100%;overflow: auto;}#sk-container-id-2 input.sk-toggleable__control:checked~label.sk-toggleable__label-arrow:before {content: \"▾\";}#sk-container-id-2 div.sk-estimator input.sk-toggleable__control:checked~label.sk-toggleable__label {background-color: #d4ebff;}#sk-container-id-2 div.sk-label input.sk-toggleable__control:checked~label.sk-toggleable__label {background-color: #d4ebff;}#sk-container-id-2 input.sk-hidden--visually {border: 0;clip: rect(1px 1px 1px 1px);clip: rect(1px, 1px, 1px, 1px);height: 1px;margin: -1px;overflow: hidden;padding: 0;position: absolute;width: 1px;}#sk-container-id-2 div.sk-estimator {font-family: monospace;background-color: #f0f8ff;border: 1px dotted black;border-radius: 0.25em;box-sizing: border-box;margin-bottom: 0.5em;}#sk-container-id-2 div.sk-estimator:hover {background-color: #d4ebff;}#sk-container-id-2 div.sk-parallel-item::after {content: \"\";width: 100%;border-bottom: 1px solid gray;flex-grow: 1;}#sk-container-id-2 div.sk-label:hover label.sk-toggleable__label {background-color: #d4ebff;}#sk-container-id-2 div.sk-serial::before {content: \"\";position: absolute;border-left: 1px solid gray;box-sizing: border-box;top: 0;bottom: 0;left: 50%;z-index: 0;}#sk-container-id-2 div.sk-serial {display: flex;flex-direction: column;align-items: center;background-color: white;padding-right: 0.2em;padding-left: 0.2em;position: relative;}#sk-container-id-2 div.sk-item {position: relative;z-index: 1;}#sk-container-id-2 div.sk-parallel {display: flex;align-items: stretch;justify-content: center;background-color: white;position: relative;}#sk-container-id-2 div.sk-item::before, #sk-container-id-2 div.sk-parallel-item::before {content: \"\";position: absolute;border-left: 1px solid gray;box-sizing: border-box;top: 0;bottom: 0;left: 50%;z-index: -1;}#sk-container-id-2 div.sk-parallel-item {display: flex;flex-direction: column;z-index: 1;position: relative;background-color: white;}#sk-container-id-2 div.sk-parallel-item:first-child::after {align-self: flex-end;width: 50%;}#sk-container-id-2 div.sk-parallel-item:last-child::after {align-self: flex-start;width: 50%;}#sk-container-id-2 div.sk-parallel-item:only-child::after {width: 0;}#sk-container-id-2 div.sk-dashed-wrapped {border: 1px dashed gray;margin: 0 0.4em 0.5em 0.4em;box-sizing: border-box;padding-bottom: 0.4em;background-color: white;}#sk-container-id-2 div.sk-label label {font-family: monospace;font-weight: bold;display: inline-block;line-height: 1.2em;}#sk-container-id-2 div.sk-label-container {text-align: center;}#sk-container-id-2 div.sk-container {/* jupyter's `normalize.less` sets `[hidden] { display: none; }` but bootstrap.min.css set `[hidden] { display: none !important; }` so we also need the `!important` here to be able to override the default hidden behavior on the sphinx rendered scikit-learn.org. See: https://github.com/scikit-learn/scikit-learn/issues/21755 */display: inline-block !important;position: relative;}#sk-container-id-2 div.sk-text-repr-fallback {display: none;}</style><div id=\"sk-container-id-2\" class=\"sk-top-container\"><div class=\"sk-text-repr-fallback\"><pre>LogisticRegression(class_weight=&#x27;balanced&#x27;, max_iter=1000, random_state=0)</pre><b>In a Jupyter environment, please rerun this cell to show the HTML representation or trust the notebook. <br />On GitHub, the HTML representation is unable to render, please try loading this page with nbviewer.org.</b></div><div class=\"sk-container\" hidden><div class=\"sk-item\"><div class=\"sk-estimator sk-toggleable\"><input class=\"sk-toggleable__control sk-hidden--visually\" id=\"sk-estimator-id-2\" type=\"checkbox\" checked><label for=\"sk-estimator-id-2\" class=\"sk-toggleable__label sk-toggleable__label-arrow\">LogisticRegression</label><div class=\"sk-toggleable__content\"><pre>LogisticRegression(class_weight=&#x27;balanced&#x27;, max_iter=1000, random_state=0)</pre></div></div></div></div></div>"
      ],
      "text/plain": [
       "LogisticRegression(class_weight='balanced', max_iter=1000, random_state=0)"
      ]
     },
     "metadata": {},
     "output_type": "display_data"
    }
   ],
   "source": [
    "# Using the activation column as the target variable, create a train-test split with 80% of the data in the training set and 20% in the test set.\n",
    "\n",
    "from sklearn.model_selection import train_test_split\n",
    "\n",
    "# X = fingerhut_combined_grouped_sample.drop('activation', axis=1)\n",
    "# drop the columns that are not needed\n",
    "\n",
    "X = fingerhut_combined_grouped_sample[[2, 9, 20, 21, 1, 24, 'promotion_y_n']]\n",
    "X.columns = X.columns.astype(str)\n",
    "y = fingerhut_combined_grouped_sample['activation']\n",
    "\n",
    "X_train, X_test, y_train, y_test = train_test_split(X, y, test_size=0.2, random_state=0)\n",
    "\n",
    "# Using the training set, train a logistic regression model to predict the activation column. Use the following hyperparameters: max_iter=1000, random_state=0.\n",
    "\n",
    "from sklearn.linear_model import LogisticRegression\n",
    "\n",
    "logreg = LogisticRegression(max_iter=1000, random_state=0, class_weight='balanced')\n",
    "logreg.fit(X_train, y_train)"
   ]
  },
  {
   "cell_type": "code",
   "execution_count": null,
   "metadata": {},
   "outputs": [
    {
     "data": {
      "text/plain": [
       "[('24', 1.9362437597918083),\n",
       " ('1', 1.3759807339338685),\n",
       " ('promotion_y_n', 1.0385538769299125),\n",
       " ('9', 1.0),\n",
       " ('2', 0.8666245905305389),\n",
       " ('20', 0.6753108838183463),\n",
       " ('21', 0.2442945409238924)]"
      ]
     },
     "metadata": {},
     "output_type": "display_data"
    }
   ],
   "source": [
    "# Get the coefficients from the logistic regression model\n",
    "\n",
    "logreg.coef_\n",
    "\n",
    "# Pair feature names with coefficients\n",
    "\n",
    "feature_names = X_train.columns\n",
    "feature_names\n",
    "\n",
    "feature_coefficients = dict(zip(feature_names, logreg.coef_[0]))\n",
    "\n",
    "feature_coefficients\n",
    "\n",
    "# Sort features by value of coefficient, in descending order\n",
    "\n",
    "sorted_features = sorted(feature_coefficients.items(), key=lambda x: x[1], reverse=True)\n",
    "\n",
    "sorted_features\n",
    "\n",
    "# exponentiate the coefficients to get the odds ratio\n",
    "\n",
    "odds_ratio = {k: np.exp(v) for k, v in feature_coefficients.items()}\n",
    "odds_ratio\n",
    "\n",
    "# order the odds ratio in descending order\n",
    "\n",
    "sorted_odds_ratio = sorted(odds_ratio.items(), key=lambda x: x[1], reverse=True)\n",
    "sorted_odds_ratio"
   ]
  },
  {
   "cell_type": "code",
   "execution_count": null,
   "metadata": {},
   "outputs": [
    {
     "data": {
      "text/plain": [
       "0.5655459384485134"
      ]
     },
     "metadata": {},
     "output_type": "display_data"
    }
   ],
   "source": [
    "# Using the test set, predict the activation column and calculate the accuracy of the model.\n",
    "\n",
    "y_pred = logreg.predict(X_test)\n",
    "\n",
    "from sklearn.metrics import accuracy_score\n",
    "\n",
    "accuracy_score(y_test, y_pred)"
   ]
  },
  {
   "cell_type": "code",
   "execution_count": null,
   "metadata": {},
   "outputs": [
    {
     "name": "stdout",
     "output_type": "stream",
     "text": [
      "              precision    recall  f1-score   support\n",
      "\n",
      "           0       0.86      0.50      0.64    250911\n",
      "           1       0.33      0.75      0.46     82176\n",
      "\n",
      "    accuracy                           0.57    333087\n",
      "   macro avg       0.60      0.63      0.55    333087\n",
      "weighted avg       0.73      0.57      0.59    333087\n",
      "\n"
     ]
    }
   ],
   "source": [
    "# Using the test set, calculate the confusion matrix and classification report of the model.\n",
    "\n",
    "from sklearn.metrics import confusion_matrix, classification_report\n",
    "\n",
    "confusion_matrix(y_test, y_pred)\n",
    "\n",
    "print(classification_report(y_test, y_pred))"
   ]
  },
  {
   "cell_type": "code",
   "execution_count": null,
   "metadata": {},
   "outputs": [
    {
     "data": {
      "text/plain": [
       "0.566044467548961"
      ]
     },
     "metadata": {},
     "output_type": "display_data"
    }
   ],
   "source": [
    "# try cross-validation in case the model is overfitting\n",
    "\n",
    "from sklearn.model_selection import cross_val_score\n",
    "\n",
    "cv_scores = cross_val_score(logreg, X, y, cv=10, scoring='accuracy')\n",
    "\n",
    "cv_scores\n",
    "\n",
    "# find mean of the cross-validation scores\n",
    "\n",
    "np.mean(cv_scores)"
   ]
  },
  {
   "cell_type": "markdown",
   "metadata": {},
   "source": [
    "#### Time to purchase"
   ]
  },
  {
   "cell_type": "code",
   "execution_count": null,
   "metadata": {},
   "outputs": [],
   "source": [
    "# keep only the rows where application = 1, activation = 1, place_order = 1\n",
    "\n",
    "fingerhut_combined_grouped_sample_activated_ordered = fingerhut_combined_grouped_sample[(fingerhut_combined_grouped_sample['application'] == 1) & (fingerhut_combined_grouped_sample['activation'] == 1) & (fingerhut_combined_grouped_sample['place_order'] == 1)]"
   ]
  },
  {
   "cell_type": "code",
   "execution_count": null,
   "metadata": {},
   "outputs": [],
   "source": [
    "apply_for_credit_ids = [3, 12, 13, 14, 15, 16, 17, 19]\n",
    "account_activation_ids = [29]\n",
    "place_order_ids = [7, 18]"
   ]
  },
  {
   "cell_type": "code",
   "execution_count": null,
   "metadata": {},
   "outputs": [
    {
     "name": "stderr",
     "output_type": "stream",
     "text": [
      "/var/folders/6m/88dwrhnx7m3cybxwl1p0rtq40000gn/T/ipykernel_45608/2113970015.py:5: SettingWithCopyWarning: \n",
      "A value is trying to be set on a copy of a slice from a DataFrame.\n",
      "Try using .loc[row_indexer,col_indexer] = value instead\n",
      "\n",
      "See the caveats in the documentation: https://pandas.pydata.org/pandas-docs/stable/user_guide/indexing.html#returning-a-view-versus-a-copy\n",
      "  fingerhut_combined_grouped_sample_activated_ordered['apply_for_credit_timestamp'] = fingerhut_combined_grouped_sample_activated_ordered.apply(lambda x: x['event_timestamp'][next((i for i, id in enumerate(x['ed_id']) if id in apply_for_credit_ids), None)] if any(id in x['ed_id'] for id in apply_for_credit_ids) else None, axis=1)\n",
      "/var/folders/6m/88dwrhnx7m3cybxwl1p0rtq40000gn/T/ipykernel_45608/2113970015.py:6: SettingWithCopyWarning: \n",
      "A value is trying to be set on a copy of a slice from a DataFrame.\n",
      "Try using .loc[row_indexer,col_indexer] = value instead\n",
      "\n",
      "See the caveats in the documentation: https://pandas.pydata.org/pandas-docs/stable/user_guide/indexing.html#returning-a-view-versus-a-copy\n",
      "  fingerhut_combined_grouped_sample_activated_ordered['account_activation_timestamp'] = fingerhut_combined_grouped_sample_activated_ordered.apply(lambda x: x['event_timestamp'][x['ed_id'].index(29)] if 29 in x['ed_id'] else None, axis=1)\n",
      "/var/folders/6m/88dwrhnx7m3cybxwl1p0rtq40000gn/T/ipykernel_45608/2113970015.py:8: SettingWithCopyWarning: \n",
      "A value is trying to be set on a copy of a slice from a DataFrame.\n",
      "Try using .loc[row_indexer,col_indexer] = value instead\n",
      "\n",
      "See the caveats in the documentation: https://pandas.pydata.org/pandas-docs/stable/user_guide/indexing.html#returning-a-view-versus-a-copy\n",
      "  fingerhut_combined_grouped_sample_activated_ordered['place_order_timestamp'] = fingerhut_combined_grouped_sample_activated_ordered.apply(lambda x: x['event_timestamp'][next((i for i, id in enumerate(x['ed_id']) if id in place_order_ids), None)] if any(id in x['ed_id'] for id in place_order_ids) else None, axis=1)\n",
      "/var/folders/6m/88dwrhnx7m3cybxwl1p0rtq40000gn/T/ipykernel_45608/2113970015.py:12: SettingWithCopyWarning: \n",
      "A value is trying to be set on a copy of a slice from a DataFrame.\n",
      "Try using .loc[row_indexer,col_indexer] = value instead\n",
      "\n",
      "See the caveats in the documentation: https://pandas.pydata.org/pandas-docs/stable/user_guide/indexing.html#returning-a-view-versus-a-copy\n",
      "  fingerhut_combined_grouped_sample_activated_ordered['apply_for_credit_timestamp'] = pd.to_datetime(fingerhut_combined_grouped_sample_activated_ordered['apply_for_credit_timestamp'])\n",
      "/var/folders/6m/88dwrhnx7m3cybxwl1p0rtq40000gn/T/ipykernel_45608/2113970015.py:13: SettingWithCopyWarning: \n",
      "A value is trying to be set on a copy of a slice from a DataFrame.\n",
      "Try using .loc[row_indexer,col_indexer] = value instead\n",
      "\n",
      "See the caveats in the documentation: https://pandas.pydata.org/pandas-docs/stable/user_guide/indexing.html#returning-a-view-versus-a-copy\n",
      "  fingerhut_combined_grouped_sample_activated_ordered['account_activation_timestamp'] = pd.to_datetime(fingerhut_combined_grouped_sample_activated_ordered['account_activation_timestamp'])\n",
      "/var/folders/6m/88dwrhnx7m3cybxwl1p0rtq40000gn/T/ipykernel_45608/2113970015.py:14: SettingWithCopyWarning: \n",
      "A value is trying to be set on a copy of a slice from a DataFrame.\n",
      "Try using .loc[row_indexer,col_indexer] = value instead\n",
      "\n",
      "See the caveats in the documentation: https://pandas.pydata.org/pandas-docs/stable/user_guide/indexing.html#returning-a-view-versus-a-copy\n",
      "  fingerhut_combined_grouped_sample_activated_ordered['place_order_timestamp'] = pd.to_datetime(fingerhut_combined_grouped_sample_activated_ordered['place_order_timestamp'])\n",
      "/var/folders/6m/88dwrhnx7m3cybxwl1p0rtq40000gn/T/ipykernel_45608/2113970015.py:16: SettingWithCopyWarning: \n",
      "A value is trying to be set on a copy of a slice from a DataFrame.\n",
      "Try using .loc[row_indexer,col_indexer] = value instead\n",
      "\n",
      "See the caveats in the documentation: https://pandas.pydata.org/pandas-docs/stable/user_guide/indexing.html#returning-a-view-versus-a-copy\n",
      "  fingerhut_combined_grouped_sample_activated_ordered['apply_for_credit_to_activation'] = (fingerhut_combined_grouped_sample_activated_ordered['account_activation_timestamp'] - fingerhut_combined_grouped_sample_activated_ordered['apply_for_credit_timestamp']).dt.days\n",
      "/var/folders/6m/88dwrhnx7m3cybxwl1p0rtq40000gn/T/ipykernel_45608/2113970015.py:17: SettingWithCopyWarning: \n",
      "A value is trying to be set on a copy of a slice from a DataFrame.\n",
      "Try using .loc[row_indexer,col_indexer] = value instead\n",
      "\n",
      "See the caveats in the documentation: https://pandas.pydata.org/pandas-docs/stable/user_guide/indexing.html#returning-a-view-versus-a-copy\n",
      "  fingerhut_combined_grouped_sample_activated_ordered['activation_to_place_order'] = (fingerhut_combined_grouped_sample_activated_ordered['place_order_timestamp'] - fingerhut_combined_grouped_sample_activated_ordered['account_activation_timestamp']).dt.days\n"
     ]
    }
   ],
   "source": [
    "# ed_id is a column containing lists of ids for each row. event_timestamp is a column containing lists of the same length as ed_id.\n",
    "# For each row, extract the timestamp from the event_timestamp column that corresponds to the id in the ed_id column that matches the apply_for_credit_ids, account_activation_ids, and place_order_ids lists and store each timestamp in a new column respectively.\n",
    "\n",
    "# fingerhut_combined_grouped_sample_activated_ordered['apply_for_credit_timestamp'] = fingerhut_combined_grouped_sample_activated_ordered.apply(lambda x: x['event_timestamp'][x['ed_id'].index(3)] if 3 in x['ed_id'] else None, axis=1)\n",
    "fingerhut_combined_grouped_sample_activated_ordered['apply_for_credit_timestamp'] = fingerhut_combined_grouped_sample_activated_ordered.apply(lambda x: x['event_timestamp'][next((i for i, id in enumerate(x['ed_id']) if id in apply_for_credit_ids), None)] if any(id in x['ed_id'] for id in apply_for_credit_ids) else None, axis=1)\n",
    "fingerhut_combined_grouped_sample_activated_ordered['account_activation_timestamp'] = fingerhut_combined_grouped_sample_activated_ordered.apply(lambda x: x['event_timestamp'][x['ed_id'].index(29)] if 29 in x['ed_id'] else None, axis=1)\n",
    "# fingerhut_combined_grouped_sample_activated_ordered['place_order_timestamp'] = fingerhut_combined_grouped_sample_activated_ordered.apply(lambda x: x['event_timestamp'][x['ed_id'].index(7)] if 7 in x['ed_id'] else None, axis=1)\n",
    "fingerhut_combined_grouped_sample_activated_ordered['place_order_timestamp'] = fingerhut_combined_grouped_sample_activated_ordered.apply(lambda x: x['event_timestamp'][next((i for i, id in enumerate(x['ed_id']) if id in place_order_ids), None)] if any(id in x['ed_id'] for id in place_order_ids) else None, axis=1)\n",
    "\n",
    "# Using the timestamps from the previous step, calculate the time it took for each customer to go from applying for credit to activating their account, and from activating their account to placing an order.\n",
    "\n",
    "fingerhut_combined_grouped_sample_activated_ordered['apply_for_credit_timestamp'] = pd.to_datetime(fingerhut_combined_grouped_sample_activated_ordered['apply_for_credit_timestamp'])\n",
    "fingerhut_combined_grouped_sample_activated_ordered['account_activation_timestamp'] = pd.to_datetime(fingerhut_combined_grouped_sample_activated_ordered['account_activation_timestamp'])\n",
    "fingerhut_combined_grouped_sample_activated_ordered['place_order_timestamp'] = pd.to_datetime(fingerhut_combined_grouped_sample_activated_ordered['place_order_timestamp'])\n",
    "\n",
    "fingerhut_combined_grouped_sample_activated_ordered['apply_for_credit_to_activation'] = (fingerhut_combined_grouped_sample_activated_ordered['account_activation_timestamp'] - fingerhut_combined_grouped_sample_activated_ordered['apply_for_credit_timestamp']).dt.days\n",
    "fingerhut_combined_grouped_sample_activated_ordered['activation_to_place_order'] = (fingerhut_combined_grouped_sample_activated_ordered['place_order_timestamp'] - fingerhut_combined_grouped_sample_activated_ordered['account_activation_timestamp']).dt.days\n"
   ]
  },
  {
   "cell_type": "code",
   "execution_count": null,
   "metadata": {},
   "outputs": [
    {
     "data": {
      "text/html": [
       "<div>\n",
       "<style scoped>\n",
       "    .dataframe tbody tr th:only-of-type {\n",
       "        vertical-align: middle;\n",
       "    }\n",
       "\n",
       "    .dataframe tbody tr th {\n",
       "        vertical-align: top;\n",
       "    }\n",
       "\n",
       "    .dataframe thead th {\n",
       "        text-align: right;\n",
       "    }\n",
       "</style>\n",
       "<table border=\"1\" class=\"dataframe\">\n",
       "  <thead>\n",
       "    <tr style=\"text-align: right;\">\n",
       "      <th></th>\n",
       "      <th>combined_id</th>\n",
       "      <th>ed_id</th>\n",
       "      <th>stage</th>\n",
       "      <th>event_timestamp</th>\n",
       "      <th>application</th>\n",
       "      <th>activation</th>\n",
       "      <th>promotion_exposure</th>\n",
       "      <th>place_order_web</th>\n",
       "      <th>place_order_phone</th>\n",
       "      <th>order_shipped</th>\n",
       "      <th>...</th>\n",
       "      <th>21</th>\n",
       "      <th>1</th>\n",
       "      <th>24</th>\n",
       "      <th>promotion_y_n</th>\n",
       "      <th>promotion_customer</th>\n",
       "      <th>apply_for_credit_timestamp</th>\n",
       "      <th>account_activation_timestamp</th>\n",
       "      <th>place_order_timestamp</th>\n",
       "      <th>apply_for_credit_to_activation</th>\n",
       "      <th>activation_to_place_order</th>\n",
       "    </tr>\n",
       "  </thead>\n",
       "  <tbody>\n",
       "    <tr>\n",
       "      <th>0</th>\n",
       "      <td>0</td>\n",
       "      <td>[2, 12, 1, 4, 4, 4, 11, 1, 5, 6, 1, 1, 4, 11, ...</td>\n",
       "      <td>[Discover, Apply for Credit, Promotion Created...</td>\n",
       "      <td>[2021-09-03T06:00:00.000Z, 2021-09-03T21:46:20...</td>\n",
       "      <td>1</td>\n",
       "      <td>1</td>\n",
       "      <td>1</td>\n",
       "      <td>1</td>\n",
       "      <td>0</td>\n",
       "      <td>1</td>\n",
       "      <td>...</td>\n",
       "      <td>0</td>\n",
       "      <td>1</td>\n",
       "      <td>0</td>\n",
       "      <td>1</td>\n",
       "      <td>1</td>\n",
       "      <td>2021-09-03 21:46:20+00:00</td>\n",
       "      <td>2021-09-12 00:00:00+00:00</td>\n",
       "      <td>2021-09-11 17:07:12+00:00</td>\n",
       "      <td>8</td>\n",
       "      <td>-1</td>\n",
       "    </tr>\n",
       "    <tr>\n",
       "      <th>1</th>\n",
       "      <td>1</td>\n",
       "      <td>[2, 4, 11, 4, 4, 11, 4, 4, 4, 11, 4, 4, 5, 4, ...</td>\n",
       "      <td>[Discover, First Purchase, First Purchase, Fir...</td>\n",
       "      <td>[2021-02-20T06:00:00.000Z, 2021-02-20T22:23:39...</td>\n",
       "      <td>1</td>\n",
       "      <td>1</td>\n",
       "      <td>1</td>\n",
       "      <td>1</td>\n",
       "      <td>0</td>\n",
       "      <td>1</td>\n",
       "      <td>...</td>\n",
       "      <td>0</td>\n",
       "      <td>1</td>\n",
       "      <td>0</td>\n",
       "      <td>1</td>\n",
       "      <td>1</td>\n",
       "      <td>2021-02-20 23:10:24+00:00</td>\n",
       "      <td>2021-02-22 00:00:00+00:00</td>\n",
       "      <td>2021-02-22 14:41:23+00:00</td>\n",
       "      <td>1</td>\n",
       "      <td>0</td>\n",
       "    </tr>\n",
       "    <tr>\n",
       "      <th>4</th>\n",
       "      <td>4</td>\n",
       "      <td>[12, 4, 4, 19, 5, 4, 11, 1, 5, 6, 29, 4, 11, 5...</td>\n",
       "      <td>[Apply for Credit, First Purchase, First Purch...</td>\n",
       "      <td>[2021-11-20T14:49:13.000Z, 2021-11-20T14:52:13...</td>\n",
       "      <td>1</td>\n",
       "      <td>1</td>\n",
       "      <td>1</td>\n",
       "      <td>1</td>\n",
       "      <td>0</td>\n",
       "      <td>1</td>\n",
       "      <td>...</td>\n",
       "      <td>0</td>\n",
       "      <td>1</td>\n",
       "      <td>0</td>\n",
       "      <td>1</td>\n",
       "      <td>1</td>\n",
       "      <td>2021-11-20 14:49:13+00:00</td>\n",
       "      <td>2021-12-12 00:00:00+00:00</td>\n",
       "      <td>2021-12-12 10:50:50+00:00</td>\n",
       "      <td>21</td>\n",
       "      <td>0</td>\n",
       "    </tr>\n",
       "    <tr>\n",
       "      <th>6</th>\n",
       "      <td>6</td>\n",
       "      <td>[12, 4, 4, 4, 4, 4, 11, 5, 6, 8, 7, 29, 4, 4, ...</td>\n",
       "      <td>[Apply for Credit, First Purchase, First Purch...</td>\n",
       "      <td>[2021-01-19T06:25:55.000Z, 2021-01-19T06:33:59...</td>\n",
       "      <td>1</td>\n",
       "      <td>1</td>\n",
       "      <td>1</td>\n",
       "      <td>1</td>\n",
       "      <td>0</td>\n",
       "      <td>1</td>\n",
       "      <td>...</td>\n",
       "      <td>0</td>\n",
       "      <td>1</td>\n",
       "      <td>0</td>\n",
       "      <td>1</td>\n",
       "      <td>1</td>\n",
       "      <td>2021-01-19 06:25:55+00:00</td>\n",
       "      <td>2021-01-20 00:00:00+00:00</td>\n",
       "      <td>2021-01-19 22:37:21+00:00</td>\n",
       "      <td>0</td>\n",
       "      <td>-1</td>\n",
       "    </tr>\n",
       "    <tr>\n",
       "      <th>13</th>\n",
       "      <td>13</td>\n",
       "      <td>[2, 12, 1, 29, 6, 4, 11, 5, 19, 5, 4, 8, 6, 7,...</td>\n",
       "      <td>[Discover, Apply for Credit, Promotion Created...</td>\n",
       "      <td>[2023-05-15T04:09:11.000Z, 2023-05-15T22:09:11...</td>\n",
       "      <td>1</td>\n",
       "      <td>1</td>\n",
       "      <td>1</td>\n",
       "      <td>1</td>\n",
       "      <td>0</td>\n",
       "      <td>1</td>\n",
       "      <td>...</td>\n",
       "      <td>0</td>\n",
       "      <td>1</td>\n",
       "      <td>0</td>\n",
       "      <td>1</td>\n",
       "      <td>1</td>\n",
       "      <td>2023-05-15 22:09:11+00:00</td>\n",
       "      <td>2023-05-16 00:00:00+00:00</td>\n",
       "      <td>2023-05-20 18:55:14+00:00</td>\n",
       "      <td>0</td>\n",
       "      <td>4</td>\n",
       "    </tr>\n",
       "    <tr>\n",
       "      <th>...</th>\n",
       "      <td>...</td>\n",
       "      <td>...</td>\n",
       "      <td>...</td>\n",
       "      <td>...</td>\n",
       "      <td>...</td>\n",
       "      <td>...</td>\n",
       "      <td>...</td>\n",
       "      <td>...</td>\n",
       "      <td>...</td>\n",
       "      <td>...</td>\n",
       "      <td>...</td>\n",
       "      <td>...</td>\n",
       "      <td>...</td>\n",
       "      <td>...</td>\n",
       "      <td>...</td>\n",
       "      <td>...</td>\n",
       "      <td>...</td>\n",
       "      <td>...</td>\n",
       "      <td>...</td>\n",
       "      <td>...</td>\n",
       "      <td>...</td>\n",
       "    </tr>\n",
       "    <tr>\n",
       "      <th>1665405</th>\n",
       "      <td>1665405</td>\n",
       "      <td>[15, 18, 18, 29, 27, 28, 15, 18, 1, 1]</td>\n",
       "      <td>[Apply for Credit, First Purchase, First Purch...</td>\n",
       "      <td>[2021-05-30T15:37:29.000Z, 2021-05-30T15:39:25...</td>\n",
       "      <td>1</td>\n",
       "      <td>1</td>\n",
       "      <td>1</td>\n",
       "      <td>0</td>\n",
       "      <td>1</td>\n",
       "      <td>1</td>\n",
       "      <td>...</td>\n",
       "      <td>0</td>\n",
       "      <td>1</td>\n",
       "      <td>0</td>\n",
       "      <td>1</td>\n",
       "      <td>1</td>\n",
       "      <td>2021-05-30 15:37:29+00:00</td>\n",
       "      <td>2021-06-01 00:00:00+00:00</td>\n",
       "      <td>2021-05-30 15:39:25.910000+00:00</td>\n",
       "      <td>1</td>\n",
       "      <td>-2</td>\n",
       "    </tr>\n",
       "    <tr>\n",
       "      <th>1665408</th>\n",
       "      <td>1665408</td>\n",
       "      <td>[29, 19, 19, 19, 19, 19, 19, 19, 19, 19, 19, 1...</td>\n",
       "      <td>[Credit Account, Apply for Credit, Apply for C...</td>\n",
       "      <td>[2021-10-07T00:00:00.000Z, 2021-10-07T03:59:04...</td>\n",
       "      <td>1</td>\n",
       "      <td>1</td>\n",
       "      <td>1</td>\n",
       "      <td>1</td>\n",
       "      <td>0</td>\n",
       "      <td>0</td>\n",
       "      <td>...</td>\n",
       "      <td>0</td>\n",
       "      <td>1</td>\n",
       "      <td>1</td>\n",
       "      <td>1</td>\n",
       "      <td>1</td>\n",
       "      <td>2021-10-07 03:59:04+00:00</td>\n",
       "      <td>2021-10-07 00:00:00+00:00</td>\n",
       "      <td>2022-10-21 04:13:09+00:00</td>\n",
       "      <td>-1</td>\n",
       "      <td>379</td>\n",
       "    </tr>\n",
       "    <tr>\n",
       "      <th>1665415</th>\n",
       "      <td>1665415</td>\n",
       "      <td>[19, 19, 19, 19, 19, 19, 19, 3, 12, 4, 4, 4, 4...</td>\n",
       "      <td>[Apply for Credit, Apply for Credit, Apply for...</td>\n",
       "      <td>[2021-10-29T11:17:15.000Z, 2021-10-29T11:17:17...</td>\n",
       "      <td>1</td>\n",
       "      <td>1</td>\n",
       "      <td>1</td>\n",
       "      <td>1</td>\n",
       "      <td>0</td>\n",
       "      <td>1</td>\n",
       "      <td>...</td>\n",
       "      <td>0</td>\n",
       "      <td>1</td>\n",
       "      <td>1</td>\n",
       "      <td>1</td>\n",
       "      <td>1</td>\n",
       "      <td>2021-10-29 11:17:15+00:00</td>\n",
       "      <td>2021-11-09 00:00:00+00:00</td>\n",
       "      <td>2021-11-09 12:07:11+00:00</td>\n",
       "      <td>10</td>\n",
       "      <td>0</td>\n",
       "    </tr>\n",
       "    <tr>\n",
       "      <th>1665418</th>\n",
       "      <td>1665418</td>\n",
       "      <td>[12, 2, 4, 11, 4, 1, 1, 4, 4, 4, 4, 11, 11, 11...</td>\n",
       "      <td>[Apply for Credit, Discover, First Purchase, F...</td>\n",
       "      <td>[2021-05-13T00:34:05.000Z, 2021-05-13T06:00:00...</td>\n",
       "      <td>1</td>\n",
       "      <td>1</td>\n",
       "      <td>1</td>\n",
       "      <td>1</td>\n",
       "      <td>0</td>\n",
       "      <td>0</td>\n",
       "      <td>...</td>\n",
       "      <td>1</td>\n",
       "      <td>1</td>\n",
       "      <td>0</td>\n",
       "      <td>1</td>\n",
       "      <td>1</td>\n",
       "      <td>2021-05-13 00:34:05+00:00</td>\n",
       "      <td>2021-06-08 00:00:00+00:00</td>\n",
       "      <td>2021-06-08 16:35:44+00:00</td>\n",
       "      <td>25</td>\n",
       "      <td>0</td>\n",
       "    </tr>\n",
       "    <tr>\n",
       "      <th>1665428</th>\n",
       "      <td>1665428</td>\n",
       "      <td>[5, 5, 19, 19, 19, 19, 19, 19, 19, 19, 3, 12, ...</td>\n",
       "      <td>[First Purchase, First Purchase, Apply for Cre...</td>\n",
       "      <td>[2022-05-22T19:14:41.000Z, 2022-05-22T19:29:11...</td>\n",
       "      <td>1</td>\n",
       "      <td>1</td>\n",
       "      <td>1</td>\n",
       "      <td>1</td>\n",
       "      <td>0</td>\n",
       "      <td>1</td>\n",
       "      <td>...</td>\n",
       "      <td>0</td>\n",
       "      <td>1</td>\n",
       "      <td>1</td>\n",
       "      <td>1</td>\n",
       "      <td>1</td>\n",
       "      <td>2022-06-09 13:44:18+00:00</td>\n",
       "      <td>2023-06-14 00:00:00+00:00</td>\n",
       "      <td>2023-06-13 23:48:03+00:00</td>\n",
       "      <td>369</td>\n",
       "      <td>-1</td>\n",
       "    </tr>\n",
       "  </tbody>\n",
       "</table>\n",
       "<p>354402 rows × 25 columns</p>\n",
       "</div>"
      ],
      "text/plain": [
       "         combined_id                                              ed_id  \\\n",
       "0                  0  [2, 12, 1, 4, 4, 4, 11, 1, 5, 6, 1, 1, 4, 11, ...   \n",
       "1                  1  [2, 4, 11, 4, 4, 11, 4, 4, 4, 11, 4, 4, 5, 4, ...   \n",
       "4                  4  [12, 4, 4, 19, 5, 4, 11, 1, 5, 6, 29, 4, 11, 5...   \n",
       "6                  6  [12, 4, 4, 4, 4, 4, 11, 5, 6, 8, 7, 29, 4, 4, ...   \n",
       "13                13  [2, 12, 1, 29, 6, 4, 11, 5, 19, 5, 4, 8, 6, 7,...   \n",
       "...              ...                                                ...   \n",
       "1665405      1665405             [15, 18, 18, 29, 27, 28, 15, 18, 1, 1]   \n",
       "1665408      1665408  [29, 19, 19, 19, 19, 19, 19, 19, 19, 19, 19, 1...   \n",
       "1665415      1665415  [19, 19, 19, 19, 19, 19, 19, 3, 12, 4, 4, 4, 4...   \n",
       "1665418      1665418  [12, 2, 4, 11, 4, 1, 1, 4, 4, 4, 4, 11, 11, 11...   \n",
       "1665428      1665428  [5, 5, 19, 19, 19, 19, 19, 19, 19, 19, 3, 12, ...   \n",
       "\n",
       "                                                     stage  \\\n",
       "0        [Discover, Apply for Credit, Promotion Created...   \n",
       "1        [Discover, First Purchase, First Purchase, Fir...   \n",
       "4        [Apply for Credit, First Purchase, First Purch...   \n",
       "6        [Apply for Credit, First Purchase, First Purch...   \n",
       "13       [Discover, Apply for Credit, Promotion Created...   \n",
       "...                                                    ...   \n",
       "1665405  [Apply for Credit, First Purchase, First Purch...   \n",
       "1665408  [Credit Account, Apply for Credit, Apply for C...   \n",
       "1665415  [Apply for Credit, Apply for Credit, Apply for...   \n",
       "1665418  [Apply for Credit, Discover, First Purchase, F...   \n",
       "1665428  [First Purchase, First Purchase, Apply for Cre...   \n",
       "\n",
       "                                           event_timestamp  application  \\\n",
       "0        [2021-09-03T06:00:00.000Z, 2021-09-03T21:46:20...            1   \n",
       "1        [2021-02-20T06:00:00.000Z, 2021-02-20T22:23:39...            1   \n",
       "4        [2021-11-20T14:49:13.000Z, 2021-11-20T14:52:13...            1   \n",
       "6        [2021-01-19T06:25:55.000Z, 2021-01-19T06:33:59...            1   \n",
       "13       [2023-05-15T04:09:11.000Z, 2023-05-15T22:09:11...            1   \n",
       "...                                                    ...          ...   \n",
       "1665405  [2021-05-30T15:37:29.000Z, 2021-05-30T15:39:25...            1   \n",
       "1665408  [2021-10-07T00:00:00.000Z, 2021-10-07T03:59:04...            1   \n",
       "1665415  [2021-10-29T11:17:15.000Z, 2021-10-29T11:17:17...            1   \n",
       "1665418  [2021-05-13T00:34:05.000Z, 2021-05-13T06:00:00...            1   \n",
       "1665428  [2022-05-22T19:14:41.000Z, 2022-05-22T19:29:11...            1   \n",
       "\n",
       "         activation  promotion_exposure  place_order_web  place_order_phone  \\\n",
       "0                 1                   1                1                  0   \n",
       "1                 1                   1                1                  0   \n",
       "4                 1                   1                1                  0   \n",
       "6                 1                   1                1                  0   \n",
       "13                1                   1                1                  0   \n",
       "...             ...                 ...              ...                ...   \n",
       "1665405           1                   1                0                  1   \n",
       "1665408           1                   1                1                  0   \n",
       "1665415           1                   1                1                  0   \n",
       "1665418           1                   1                1                  0   \n",
       "1665428           1                   1                1                  0   \n",
       "\n",
       "         order_shipped  ...  21  1  24  promotion_y_n  promotion_customer  \\\n",
       "0                    1  ...   0  1   0              1                   1   \n",
       "1                    1  ...   0  1   0              1                   1   \n",
       "4                    1  ...   0  1   0              1                   1   \n",
       "6                    1  ...   0  1   0              1                   1   \n",
       "13                   1  ...   0  1   0              1                   1   \n",
       "...                ...  ...  .. ..  ..            ...                 ...   \n",
       "1665405              1  ...   0  1   0              1                   1   \n",
       "1665408              0  ...   0  1   1              1                   1   \n",
       "1665415              1  ...   0  1   1              1                   1   \n",
       "1665418              0  ...   1  1   0              1                   1   \n",
       "1665428              1  ...   0  1   1              1                   1   \n",
       "\n",
       "         apply_for_credit_timestamp  account_activation_timestamp  \\\n",
       "0         2021-09-03 21:46:20+00:00     2021-09-12 00:00:00+00:00   \n",
       "1         2021-02-20 23:10:24+00:00     2021-02-22 00:00:00+00:00   \n",
       "4         2021-11-20 14:49:13+00:00     2021-12-12 00:00:00+00:00   \n",
       "6         2021-01-19 06:25:55+00:00     2021-01-20 00:00:00+00:00   \n",
       "13        2023-05-15 22:09:11+00:00     2023-05-16 00:00:00+00:00   \n",
       "...                             ...                           ...   \n",
       "1665405   2021-05-30 15:37:29+00:00     2021-06-01 00:00:00+00:00   \n",
       "1665408   2021-10-07 03:59:04+00:00     2021-10-07 00:00:00+00:00   \n",
       "1665415   2021-10-29 11:17:15+00:00     2021-11-09 00:00:00+00:00   \n",
       "1665418   2021-05-13 00:34:05+00:00     2021-06-08 00:00:00+00:00   \n",
       "1665428   2022-06-09 13:44:18+00:00     2023-06-14 00:00:00+00:00   \n",
       "\n",
       "                   place_order_timestamp  apply_for_credit_to_activation  \\\n",
       "0              2021-09-11 17:07:12+00:00                               8   \n",
       "1              2021-02-22 14:41:23+00:00                               1   \n",
       "4              2021-12-12 10:50:50+00:00                              21   \n",
       "6              2021-01-19 22:37:21+00:00                               0   \n",
       "13             2023-05-20 18:55:14+00:00                               0   \n",
       "...                                  ...                             ...   \n",
       "1665405 2021-05-30 15:39:25.910000+00:00                               1   \n",
       "1665408        2022-10-21 04:13:09+00:00                              -1   \n",
       "1665415        2021-11-09 12:07:11+00:00                              10   \n",
       "1665418        2021-06-08 16:35:44+00:00                              25   \n",
       "1665428        2023-06-13 23:48:03+00:00                             369   \n",
       "\n",
       "         activation_to_place_order  \n",
       "0                               -1  \n",
       "1                                0  \n",
       "4                                0  \n",
       "6                               -1  \n",
       "13                               4  \n",
       "...                            ...  \n",
       "1665405                         -2  \n",
       "1665408                        379  \n",
       "1665415                          0  \n",
       "1665418                          0  \n",
       "1665428                         -1  \n",
       "\n",
       "[354402 rows x 25 columns]"
      ]
     },
     "metadata": {},
     "output_type": "display_data"
    }
   ],
   "source": [
    "fingerhut_combined_grouped_sample_activated_ordered"
   ]
  },
  {
   "cell_type": "code",
   "execution_count": null,
   "metadata": {},
   "outputs": [],
   "source": [
    "# extract apply_for_credit_to_activation and activation_to_place_order columns and save them to a new dataframe\n",
    "\n",
    "fingerhut_combined_grouped_sample_activated_ordered_time = fingerhut_combined_grouped_sample_activated_ordered[['apply_for_credit_to_activation', 'activation_to_place_order']]"
   ]
  },
  {
   "cell_type": "code",
   "execution_count": null,
   "metadata": {},
   "outputs": [
    {
     "data": {
      "text/html": [
       "<div>\n",
       "<style scoped>\n",
       "    .dataframe tbody tr th:only-of-type {\n",
       "        vertical-align: middle;\n",
       "    }\n",
       "\n",
       "    .dataframe tbody tr th {\n",
       "        vertical-align: top;\n",
       "    }\n",
       "\n",
       "    .dataframe thead th {\n",
       "        text-align: right;\n",
       "    }\n",
       "</style>\n",
       "<table border=\"1\" class=\"dataframe\">\n",
       "  <thead>\n",
       "    <tr style=\"text-align: right;\">\n",
       "      <th></th>\n",
       "      <th>apply_for_credit_to_activation</th>\n",
       "      <th>activation_to_place_order</th>\n",
       "    </tr>\n",
       "  </thead>\n",
       "  <tbody>\n",
       "    <tr>\n",
       "      <th>0</th>\n",
       "      <td>8</td>\n",
       "      <td>-1</td>\n",
       "    </tr>\n",
       "    <tr>\n",
       "      <th>1</th>\n",
       "      <td>1</td>\n",
       "      <td>0</td>\n",
       "    </tr>\n",
       "    <tr>\n",
       "      <th>4</th>\n",
       "      <td>21</td>\n",
       "      <td>0</td>\n",
       "    </tr>\n",
       "    <tr>\n",
       "      <th>6</th>\n",
       "      <td>0</td>\n",
       "      <td>-1</td>\n",
       "    </tr>\n",
       "    <tr>\n",
       "      <th>13</th>\n",
       "      <td>0</td>\n",
       "      <td>4</td>\n",
       "    </tr>\n",
       "    <tr>\n",
       "      <th>...</th>\n",
       "      <td>...</td>\n",
       "      <td>...</td>\n",
       "    </tr>\n",
       "    <tr>\n",
       "      <th>1665405</th>\n",
       "      <td>1</td>\n",
       "      <td>-2</td>\n",
       "    </tr>\n",
       "    <tr>\n",
       "      <th>1665408</th>\n",
       "      <td>-1</td>\n",
       "      <td>379</td>\n",
       "    </tr>\n",
       "    <tr>\n",
       "      <th>1665415</th>\n",
       "      <td>10</td>\n",
       "      <td>0</td>\n",
       "    </tr>\n",
       "    <tr>\n",
       "      <th>1665418</th>\n",
       "      <td>25</td>\n",
       "      <td>0</td>\n",
       "    </tr>\n",
       "    <tr>\n",
       "      <th>1665428</th>\n",
       "      <td>369</td>\n",
       "      <td>-1</td>\n",
       "    </tr>\n",
       "  </tbody>\n",
       "</table>\n",
       "<p>354402 rows × 2 columns</p>\n",
       "</div>"
      ],
      "text/plain": [
       "         apply_for_credit_to_activation  activation_to_place_order\n",
       "0                                     8                         -1\n",
       "1                                     1                          0\n",
       "4                                    21                          0\n",
       "6                                     0                         -1\n",
       "13                                    0                          4\n",
       "...                                 ...                        ...\n",
       "1665405                               1                         -2\n",
       "1665408                              -1                        379\n",
       "1665415                              10                          0\n",
       "1665418                              25                          0\n",
       "1665428                             369                         -1\n",
       "\n",
       "[354402 rows x 2 columns]"
      ]
     },
     "metadata": {},
     "output_type": "display_data"
    }
   ],
   "source": [
    "fingerhut_combined_grouped_sample_activated_ordered_time"
   ]
  },
  {
   "cell_type": "code",
   "execution_count": null,
   "metadata": {},
   "outputs": [
    {
     "data": {
      "image/png": "[encoded data removed]",
      "text/plain": [
       "<Figure size 432x288 with 1 Axes>"
      ]
     },
     "metadata": {},
     "output_type": "display_data"
    }
   ],
   "source": [
    "# plot both columns as histograms\n",
    "\n",
    "import matplotlib.pyplot as plt\n",
    "\n",
    "fingerhut_combined_grouped_sample_activated_ordered_time['apply_for_credit_to_activation'].plot(kind='hist', bins=60)\n",
    "# add title and axis labels\n",
    "\n",
    "plt.title('Days from Applying for Credit to Account Activation')\n",
    "plt.xlabel('Days')\n",
    "plt.ylabel('Frequency')\n",
    "\n",
    "plt.show()\n",
    "\n",
    "# fingerhut_combined_grouped_sample_activated_ordered_time['activation_to_place_order'].plot(kind='hist', bins=60)\n",
    "\n",
    "# plt.show()"
   ]
  },
  {
   "cell_type": "code",
   "execution_count": null,
   "metadata": {},
   "outputs": [
    {
     "name": "stderr",
     "output_type": "stream",
     "text": [
      "/var/folders/6m/88dwrhnx7m3cybxwl1p0rtq40000gn/T/ipykernel_45608/2234296860.py:3: SettingWithCopyWarning: \n",
      "A value is trying to be set on a copy of a slice from a DataFrame.\n",
      "Try using .loc[row_indexer,col_indexer] = value instead\n",
      "\n",
      "See the caveats in the documentation: https://pandas.pydata.org/pandas-docs/stable/user_guide/indexing.html#returning-a-view-versus-a-copy\n",
      "  fingerhut_combined_grouped_sample_activated_ordered_time['promotion_y_n'] = fingerhut_combined_grouped_sample_activated_ordered['promotion_y_n']\n"
     ]
    },
    {
     "data": {
      "text/html": [
       "<div>\n",
       "<style scoped>\n",
       "    .dataframe tbody tr th:only-of-type {\n",
       "        vertical-align: middle;\n",
       "    }\n",
       "\n",
       "    .dataframe tbody tr th {\n",
       "        vertical-align: top;\n",
       "    }\n",
       "\n",
       "    .dataframe thead th {\n",
       "        text-align: right;\n",
       "    }\n",
       "</style>\n",
       "<table border=\"1\" class=\"dataframe\">\n",
       "  <thead>\n",
       "    <tr style=\"text-align: right;\">\n",
       "      <th></th>\n",
       "      <th>apply_for_credit_to_activation</th>\n",
       "      <th>activation_to_place_order</th>\n",
       "      <th>promotion_y_n</th>\n",
       "    </tr>\n",
       "  </thead>\n",
       "  <tbody>\n",
       "    <tr>\n",
       "      <th>0</th>\n",
       "      <td>8</td>\n",
       "      <td>-1</td>\n",
       "      <td>1</td>\n",
       "    </tr>\n",
       "    <tr>\n",
       "      <th>1</th>\n",
       "      <td>1</td>\n",
       "      <td>0</td>\n",
       "      <td>1</td>\n",
       "    </tr>\n",
       "    <tr>\n",
       "      <th>4</th>\n",
       "      <td>21</td>\n",
       "      <td>0</td>\n",
       "      <td>1</td>\n",
       "    </tr>\n",
       "    <tr>\n",
       "      <th>6</th>\n",
       "      <td>0</td>\n",
       "      <td>-1</td>\n",
       "      <td>1</td>\n",
       "    </tr>\n",
       "    <tr>\n",
       "      <th>13</th>\n",
       "      <td>0</td>\n",
       "      <td>4</td>\n",
       "      <td>1</td>\n",
       "    </tr>\n",
       "    <tr>\n",
       "      <th>...</th>\n",
       "      <td>...</td>\n",
       "      <td>...</td>\n",
       "      <td>...</td>\n",
       "    </tr>\n",
       "    <tr>\n",
       "      <th>1665405</th>\n",
       "      <td>1</td>\n",
       "      <td>-2</td>\n",
       "      <td>1</td>\n",
       "    </tr>\n",
       "    <tr>\n",
       "      <th>1665408</th>\n",
       "      <td>-1</td>\n",
       "      <td>379</td>\n",
       "      <td>1</td>\n",
       "    </tr>\n",
       "    <tr>\n",
       "      <th>1665415</th>\n",
       "      <td>10</td>\n",
       "      <td>0</td>\n",
       "      <td>1</td>\n",
       "    </tr>\n",
       "    <tr>\n",
       "      <th>1665418</th>\n",
       "      <td>25</td>\n",
       "      <td>0</td>\n",
       "      <td>1</td>\n",
       "    </tr>\n",
       "    <tr>\n",
       "      <th>1665428</th>\n",
       "      <td>369</td>\n",
       "      <td>-1</td>\n",
       "      <td>1</td>\n",
       "    </tr>\n",
       "  </tbody>\n",
       "</table>\n",
       "<p>354402 rows × 3 columns</p>\n",
       "</div>"
      ],
      "text/plain": [
       "         apply_for_credit_to_activation  activation_to_place_order  \\\n",
       "0                                     8                         -1   \n",
       "1                                     1                          0   \n",
       "4                                    21                          0   \n",
       "6                                     0                         -1   \n",
       "13                                    0                          4   \n",
       "...                                 ...                        ...   \n",
       "1665405                               1                         -2   \n",
       "1665408                              -1                        379   \n",
       "1665415                              10                          0   \n",
       "1665418                              25                          0   \n",
       "1665428                             369                         -1   \n",
       "\n",
       "         promotion_y_n  \n",
       "0                    1  \n",
       "1                    1  \n",
       "4                    1  \n",
       "6                    1  \n",
       "13                   1  \n",
       "...                ...  \n",
       "1665405              1  \n",
       "1665408              1  \n",
       "1665415              1  \n",
       "1665418              1  \n",
       "1665428              1  \n",
       "\n",
       "[354402 rows x 3 columns]"
      ]
     },
     "metadata": {},
     "output_type": "display_data"
    }
   ],
   "source": [
    "# append promotion_y_n from fingerhut_combined_grouped_sample to fingerhut_combined_grouped_sample_activated_ordered\n",
    "\n",
    "fingerhut_combined_grouped_sample_activated_ordered_time['promotion_y_n'] = fingerhut_combined_grouped_sample_activated_ordered['promotion_y_n']\n",
    "\n",
    "fingerhut_combined_grouped_sample_activated_ordered_time"
   ]
  },
  {
   "cell_type": "code",
   "execution_count": null,
   "metadata": {},
   "outputs": [],
   "source": [
    "# remove outliers from apply_for_credit_to_activation column\n",
    "\n",
    "fingerhut_combined_grouped_sample_activated_ordered_time = fingerhut_combined_grouped_sample_activated_ordered_time[fingerhut_combined_grouped_sample_activated_ordered_time['apply_for_credit_to_activation'] < 600]\n"
   ]
  },
  {
   "cell_type": "code",
   "execution_count": null,
   "metadata": {},
   "outputs": [
    {
     "data": {
      "image/png": "[encoded data removed]",
      "text/plain": [
       "<Figure size 432x288 with 1 Axes>"
      ]
     },
     "metadata": {},
     "output_type": "display_data"
    }
   ],
   "source": [
    "# make two histograms for apply_for_credit_to_activation based on whether promotion_y_n is 1 or 0\n",
    "\n",
    "fingerhut_combined_grouped_sample_activated_ordered_time[fingerhut_combined_grouped_sample_activated_ordered_time['promotion_y_n'] == 1]['apply_for_credit_to_activation'].plot(kind='hist', bins=60, alpha=0.5, label='Promotion')\n",
    "fingerhut_combined_grouped_sample_activated_ordered_time[fingerhut_combined_grouped_sample_activated_ordered_time['promotion_y_n'] == 0]['apply_for_credit_to_activation'].plot(kind='hist', bins=60, alpha=0.5, label='No Promotion')\n",
    "\n",
    "plt.title('Days from Applying for Credit to Account Activation (outliers removed)')\n",
    "\n",
    "plt.xlabel('Days')\n",
    "\n",
    "plt.ylabel('Frequency')\n",
    "\n",
    "plt.legend()\n",
    "\n",
    "plt.show()"
   ]
  },
  {
   "cell_type": "markdown",
   "metadata": {},
   "source": [
    "#### Numbers"
   ]
  },
  {
   "cell_type": "code",
   "execution_count": null,
   "metadata": {},
   "outputs": [
    {
     "data": {
      "text/plain": [
       "0.22807129205593027"
      ]
     },
     "metadata": {},
     "output_type": "display_data"
    }
   ],
   "source": [
    "# find the percentage of people who have either place_order_phone or place_order_web == 1\n",
    "\n",
    "fingerhut_combined_grouped_sample[(fingerhut_combined_grouped_sample['place_order_phone'] == 1) | (fingerhut_combined_grouped_sample['place_order_web'] == 1)].shape[0] / fingerhut_combined_grouped_sample.shape[0]"
   ]
  },
  {
   "cell_type": "code",
   "execution_count": null,
   "metadata": {},
   "outputs": [],
   "source": [
    "promotion_ids = [2, 9, 20, 21, 1, 24]"
   ]
  },
  {
   "cell_type": "code",
   "execution_count": null,
   "metadata": {},
   "outputs": [
    {
     "data": {
      "text/plain": [
       "pandas.core.series.Series"
      ]
     },
     "metadata": {},
     "output_type": "display_data"
    }
   ],
   "source": [
    "type(fingerhut_combined_grouped_sample['ed_id'])"
   ]
  },
  {
   "cell_type": "code",
   "execution_count": null,
   "metadata": {},
   "outputs": [],
   "source": [
    "promotion_customers = []\n",
    "\n",
    "for id_list in fingerhut_combined_grouped_sample['ed_id']:\n",
    "    # if any value in id_list is in promotion_ids, store the index of the row in promotion_customers\n",
    "    if any(x in id_list for x in promotion_ids):\n",
    "        promotion_customers.append(True)\n",
    "    else:\n",
    "        promotion_customers.append(False)\n",
    "        "
   ]
  },
  {
   "cell_type": "code",
   "execution_count": null,
   "metadata": {},
   "outputs": [],
   "source": [
    "fingerhut_combined_grouped_sample['promotion_customer'] = promotion_customers\n",
    "\n",
    "# convert promotion_customer to int\n",
    "\n",
    "fingerhut_combined_grouped_sample['promotion_customer'] = fingerhut_combined_grouped_sample['promotion_customer'].astype(int)"
   ]
  },
  {
   "cell_type": "code",
   "execution_count": null,
   "metadata": {},
   "outputs": [
    {
     "data": {
      "text/plain": [
       "0.22422008138281224"
      ]
     },
     "metadata": {},
     "output_type": "display_data"
    }
   ],
   "source": [
    "# of those who have promotion_customer == 1, find the percentage of people who have either place_order_phone or place_order_web == 1\n",
    "\n",
    "fingerhut_combined_grouped_sample[(fingerhut_combined_grouped_sample['promotion_customer'] == 1) & ((fingerhut_combined_grouped_sample['place_order_phone'] == 1) | (fingerhut_combined_grouped_sample['place_order_web'] == 1))].shape[0] / fingerhut_combined_grouped_sample[fingerhut_combined_grouped_sample['promotion_customer'] == 1].shape[0]"
   ]
  }
 ],
 "metadata": {
  "kernelspec": {
   "display_name": "base",
   "language": "python",
   "name": "python3"
  },
  "language_info": {
   "name": "python",
   "version": "3.9.7"
  }
 },
 "nbformat": 4,
 "nbformat_minor": 2
}
