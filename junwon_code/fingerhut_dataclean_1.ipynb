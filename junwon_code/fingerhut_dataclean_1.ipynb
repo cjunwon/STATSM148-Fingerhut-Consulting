{
 "cells": [
  {
   "cell_type": "code",
   "execution_count": 4,
   "metadata": {},
   "outputs": [],
   "source": [
    "import pandas as pd\n",
    "import datetime as dt"
   ]
  },
  {
   "cell_type": "code",
   "execution_count": 5,
   "metadata": {},
   "outputs": [],
   "source": [
    "# import datasets\n",
    "\n",
    "fingerhut = pd.read_csv('../Dataset/export.csv')\n",
    "event_def = pd.read_csv('../Dataset/event_definitions.csv')"
   ]
  },
  {
   "cell_type": "code",
   "execution_count": 10,
   "metadata": {},
   "outputs": [],
   "source": [
    "# ignoring journey_steps_until_end, find all duplicate rows\n",
    "\n",
    "figerhut_no_journey_steps_until_end = fingerhut.drop(columns=['journey_steps_until_end'])\n",
    "\n",
    "duplicates = figerhut_no_journey_steps_until_end[figerhut_no_journey_steps_until_end.duplicated()]\n",
    "\n",
    "duplicates"
   ]
  },
  {
   "cell_type": "code",
   "execution_count": 6,
   "metadata": {},
   "outputs": [],
   "source": [
    "fingerhut_copy = fingerhut.copy()"
   ]
  },
  {
   "cell_type": "code",
   "execution_count": 7,
   "metadata": {},
   "outputs": [],
   "source": [
    "# remove fingerhut from memory\n",
    "\n",
    "del fingerhut"
   ]
  },
  {
   "cell_type": "code",
   "execution_count": 8,
   "metadata": {},
   "outputs": [],
   "source": [
    "# finding number of customer_ids per account_id\n",
    "account_customer_grouped = fingerhut_copy.groupby('account_id')['customer_id'].nunique()\n",
    "\n",
    "# return only the accounts with more than one customer\n",
    "account_customer_grouped = account_customer_grouped[account_customer_grouped > 1]"
   ]
  },
  {
   "cell_type": "code",
   "execution_count": 9,
   "metadata": {},
   "outputs": [],
   "source": [
    "# finding number of account_ids per customer_id\n",
    "customer_account_grouped = fingerhut_copy.groupby('customer_id')['account_id'].nunique()\n",
    "\n",
    "# return only the customers with more than one account\n",
    "customer_account_grouped = customer_account_grouped[customer_account_grouped > 1]"
   ]
  },
  {
   "cell_type": "code",
   "execution_count": 10,
   "metadata": {},
   "outputs": [],
   "source": [
    "# delete journey_steps_until_end column\n",
    "\n",
    "del fingerhut_copy['journey_steps_until_end']"
   ]
  },
  {
   "cell_type": "code",
   "execution_count": 11,
   "metadata": {},
   "outputs": [],
   "source": [
    "# remove duplicate rows\n",
    "\n",
    "fingerhut_copy = fingerhut_copy[~fingerhut_copy.duplicated()]"
   ]
  },
  {
   "cell_type": "code",
   "execution_count": 13,
   "metadata": {},
   "outputs": [],
   "source": [
    "# pull out the accounts with more than one customer\n",
    "\n",
    "fingerhut_many_customers = fingerhut_copy[fingerhut_copy['account_id'].isin(account_customer_grouped.index)]\n",
    "\n",
    "# pull out the customers with more than one account\n",
    "\n",
    "fingerhut_many_accounts = fingerhut_copy[fingerhut_copy['customer_id'].isin(customer_account_grouped.index)]\n",
    "\n",
    "# take out fingerhut_many_customers and fingerhut_many_accounts from fingerhut_copy\n",
    "\n",
    "fingerhut_copy = fingerhut_copy[~fingerhut_copy['account_id'].isin(account_customer_grouped.index)]\n",
    "fingerhut_copy = fingerhut_copy[~fingerhut_copy['customer_id'].isin(customer_account_grouped.index)]"
   ]
  },
  {
   "cell_type": "code",
   "execution_count": 14,
   "metadata": {},
   "outputs": [],
   "source": [
    "# reset index for all three dataframes\n",
    "\n",
    "fingerhut_copy.reset_index(drop=True, inplace=True)\n",
    "fingerhut_many_customers.reset_index(drop=True, inplace=True)\n",
    "fingerhut_many_accounts.reset_index(drop=True, inplace=True)"
   ]
  },
  {
   "cell_type": "code",
   "execution_count": 15,
   "metadata": {},
   "outputs": [],
   "source": [
    "# create new column in fingerhut_copy called 'combined_id' starting at 0 and incrementing by 1 for each new account_id\n",
    "\n",
    "fingerhut_copy['combined_id'] = fingerhut_copy.groupby('account_id').ngroup()"
   ]
  },
  {
   "cell_type": "code",
   "execution_count": 16,
   "metadata": {},
   "outputs": [],
   "source": [
    "# sort fingerhut_copy by combined_id\n",
    "\n",
    "fingerhut_copy.sort_values(by=['combined_id'], inplace=True)"
   ]
  },
  {
   "cell_type": "code",
   "execution_count": 17,
   "metadata": {},
   "outputs": [],
   "source": [
    "# create new column in fingerhut_many_customers called 'combined_id' starting at fingerhut_copy['combined_id'].max()\n",
    "\n",
    "fingerhut_many_customers['combined_id'] = fingerhut_many_customers.groupby('account_id').ngroup() + fingerhut_copy['combined_id'].max() + 1"
   ]
  },
  {
   "cell_type": "code",
   "execution_count": 18,
   "metadata": {},
   "outputs": [],
   "source": [
    "# sort fingerhut_many_customers by combined_id\n",
    "\n",
    "fingerhut_many_customers.sort_values(by='combined_id', inplace=True)"
   ]
  },
  {
   "cell_type": "code",
   "execution_count": 19,
   "metadata": {},
   "outputs": [],
   "source": [
    "# create new column in fingerhut_many_accounts called 'combined_id' starting at fingerhut_many_customers['combined_id'].max()\n",
    "\n",
    "fingerhut_many_accounts['combined_id'] = fingerhut_many_accounts.groupby('customer_id').ngroup() + fingerhut_many_customers['combined_id'].max() + 1"
   ]
  },
  {
   "cell_type": "code",
   "execution_count": 20,
   "metadata": {},
   "outputs": [],
   "source": [
    "# sort fingerhut_many_accounts by combined_id\n",
    "\n",
    "fingerhut_many_accounts.sort_values(by='combined_id', inplace=True)"
   ]
  },
  {
   "cell_type": "code",
   "execution_count": 21,
   "metadata": {},
   "outputs": [
    {
     "name": "stderr",
     "output_type": "stream",
     "text": [
      "/var/folders/6m/88dwrhnx7m3cybxwl1p0rtq40000gn/T/ipykernel_63647/1808326863.py:3: FutureWarning: The frame.append method is deprecated and will be removed from pandas in a future version. Use pandas.concat instead.\n",
      "  fingerhut_combined = fingerhut_copy.append(fingerhut_many_customers)\n",
      "/var/folders/6m/88dwrhnx7m3cybxwl1p0rtq40000gn/T/ipykernel_63647/1808326863.py:4: FutureWarning: The frame.append method is deprecated and will be removed from pandas in a future version. Use pandas.concat instead.\n",
      "  fingerhut_combined = fingerhut_combined.append(fingerhut_many_accounts)\n"
     ]
    }
   ],
   "source": [
    "# append all three dataframes together\n",
    "\n",
    "fingerhut_combined = fingerhut_copy.append(fingerhut_many_customers)\n",
    "fingerhut_combined = fingerhut_combined.append(fingerhut_many_accounts)"
   ]
  },
  {
   "cell_type": "code",
   "execution_count": 24,
   "metadata": {},
   "outputs": [],
   "source": [
    "# for each combined_id, sort by event_timestamp\n",
    "\n",
    "fingerhut_combined.sort_values(by=['combined_id', 'event_timestamp'], inplace=True)"
   ]
  },
  {
   "cell_type": "code",
   "execution_count": 25,
   "metadata": {},
   "outputs": [],
   "source": [
    "# reset index of fingerhut_combined\n",
    "\n",
    "fingerhut_combined.reset_index(drop=True, inplace=True)"
   ]
  },
  {
   "cell_type": "code",
   "execution_count": 26,
   "metadata": {},
   "outputs": [
    {
     "data": {
      "text/html": [
       "<div>\n",
       "<style scoped>\n",
       "    .dataframe tbody tr th:only-of-type {\n",
       "        vertical-align: middle;\n",
       "    }\n",
       "\n",
       "    .dataframe tbody tr th {\n",
       "        vertical-align: top;\n",
       "    }\n",
       "\n",
       "    .dataframe thead th {\n",
       "        text-align: right;\n",
       "    }\n",
       "</style>\n",
       "<table border=\"1\" class=\"dataframe\">\n",
       "  <thead>\n",
       "    <tr style=\"text-align: right;\">\n",
       "      <th></th>\n",
       "      <th>customer_id</th>\n",
       "      <th>account_id</th>\n",
       "      <th>ed_id</th>\n",
       "      <th>event_name</th>\n",
       "      <th>event_timestamp</th>\n",
       "      <th>combined_id</th>\n",
       "    </tr>\n",
       "  </thead>\n",
       "  <tbody>\n",
       "    <tr>\n",
       "      <th>0</th>\n",
       "      <td>1807905151</td>\n",
       "      <td>-2147477843</td>\n",
       "      <td>2</td>\n",
       "      <td>campaign_click</td>\n",
       "      <td>2021-09-03T06:00:00.000Z</td>\n",
       "      <td>0</td>\n",
       "    </tr>\n",
       "    <tr>\n",
       "      <th>1</th>\n",
       "      <td>1807905151</td>\n",
       "      <td>-2147477843</td>\n",
       "      <td>12</td>\n",
       "      <td>application_web_approved</td>\n",
       "      <td>2021-09-03T21:46:20.000Z</td>\n",
       "      <td>0</td>\n",
       "    </tr>\n",
       "    <tr>\n",
       "      <th>2</th>\n",
       "      <td>1807905151</td>\n",
       "      <td>-2147477843</td>\n",
       "      <td>1</td>\n",
       "      <td>promotion_created</td>\n",
       "      <td>2021-09-03T21:46:26.680Z</td>\n",
       "      <td>0</td>\n",
       "    </tr>\n",
       "    <tr>\n",
       "      <th>3</th>\n",
       "      <td>1807905151</td>\n",
       "      <td>-2147477843</td>\n",
       "      <td>4</td>\n",
       "      <td>browse_products</td>\n",
       "      <td>2021-09-03T21:48:59.000Z</td>\n",
       "      <td>0</td>\n",
       "    </tr>\n",
       "    <tr>\n",
       "      <th>4</th>\n",
       "      <td>1807905151</td>\n",
       "      <td>-2147477843</td>\n",
       "      <td>4</td>\n",
       "      <td>browse_products</td>\n",
       "      <td>2021-09-03T21:55:06.000Z</td>\n",
       "      <td>0</td>\n",
       "    </tr>\n",
       "    <tr>\n",
       "      <th>...</th>\n",
       "      <td>...</td>\n",
       "      <td>...</td>\n",
       "      <td>...</td>\n",
       "      <td>...</td>\n",
       "      <td>...</td>\n",
       "      <td>...</td>\n",
       "    </tr>\n",
       "    <tr>\n",
       "      <th>56854843</th>\n",
       "      <td>2147449981</td>\n",
       "      <td>-203497522</td>\n",
       "      <td>4</td>\n",
       "      <td>browse_products</td>\n",
       "      <td>2023-07-22T20:47:49.000Z</td>\n",
       "      <td>1665430</td>\n",
       "    </tr>\n",
       "    <tr>\n",
       "      <th>56854844</th>\n",
       "      <td>2147449981</td>\n",
       "      <td>-203497522</td>\n",
       "      <td>5</td>\n",
       "      <td>view_cart</td>\n",
       "      <td>2023-07-22T20:47:49.000Z</td>\n",
       "      <td>1665430</td>\n",
       "    </tr>\n",
       "    <tr>\n",
       "      <th>56854845</th>\n",
       "      <td>2147449981</td>\n",
       "      <td>-203497522</td>\n",
       "      <td>11</td>\n",
       "      <td>add_to_cart</td>\n",
       "      <td>2023-07-22T20:47:49.000Z</td>\n",
       "      <td>1665430</td>\n",
       "    </tr>\n",
       "    <tr>\n",
       "      <th>56854846</th>\n",
       "      <td>2147449981</td>\n",
       "      <td>-203497522</td>\n",
       "      <td>6</td>\n",
       "      <td>begin_checkout</td>\n",
       "      <td>2023-07-22T20:47:49.000Z</td>\n",
       "      <td>1665430</td>\n",
       "    </tr>\n",
       "    <tr>\n",
       "      <th>56854847</th>\n",
       "      <td>2147449981</td>\n",
       "      <td>-203497522</td>\n",
       "      <td>4</td>\n",
       "      <td>browse_products</td>\n",
       "      <td>2023-07-23T07:20:24.000Z</td>\n",
       "      <td>1665430</td>\n",
       "    </tr>\n",
       "  </tbody>\n",
       "</table>\n",
       "<p>56854848 rows × 6 columns</p>\n",
       "</div>"
      ],
      "text/plain": [
       "          customer_id  account_id  ed_id                event_name  \\\n",
       "0          1807905151 -2147477843      2            campaign_click   \n",
       "1          1807905151 -2147477843     12  application_web_approved   \n",
       "2          1807905151 -2147477843      1         promotion_created   \n",
       "3          1807905151 -2147477843      4           browse_products   \n",
       "4          1807905151 -2147477843      4           browse_products   \n",
       "...               ...         ...    ...                       ...   \n",
       "56854843   2147449981  -203497522      4           browse_products   \n",
       "56854844   2147449981  -203497522      5                 view_cart   \n",
       "56854845   2147449981  -203497522     11               add_to_cart   \n",
       "56854846   2147449981  -203497522      6            begin_checkout   \n",
       "56854847   2147449981  -203497522      4           browse_products   \n",
       "\n",
       "                   event_timestamp  combined_id  \n",
       "0         2021-09-03T06:00:00.000Z            0  \n",
       "1         2021-09-03T21:46:20.000Z            0  \n",
       "2         2021-09-03T21:46:26.680Z            0  \n",
       "3         2021-09-03T21:48:59.000Z            0  \n",
       "4         2021-09-03T21:55:06.000Z            0  \n",
       "...                            ...          ...  \n",
       "56854843  2023-07-22T20:47:49.000Z      1665430  \n",
       "56854844  2023-07-22T20:47:49.000Z      1665430  \n",
       "56854845  2023-07-22T20:47:49.000Z      1665430  \n",
       "56854846  2023-07-22T20:47:49.000Z      1665430  \n",
       "56854847  2023-07-23T07:20:24.000Z      1665430  \n",
       "\n",
       "[56854848 rows x 6 columns]"
      ]
     },
     "execution_count": 26,
     "metadata": {},
     "output_type": "execute_result"
    }
   ],
   "source": [
    "fingerhut_combined"
   ]
  },
  {
   "cell_type": "code",
   "execution_count": 34,
   "metadata": {},
   "outputs": [],
   "source": [
    "# for every combined_id, add a column called 'journey_steps_until_end' that increments by 1 for each row\n",
    "\n",
    "fingerhut_combined['journey_steps_until_end'] = fingerhut_combined.groupby('combined_id').cumcount(ascending=True)"
   ]
  },
  {
   "cell_type": "code",
   "execution_count": 35,
   "metadata": {},
   "outputs": [
    {
     "data": {
      "text/html": [
       "<div>\n",
       "<style scoped>\n",
       "    .dataframe tbody tr th:only-of-type {\n",
       "        vertical-align: middle;\n",
       "    }\n",
       "\n",
       "    .dataframe tbody tr th {\n",
       "        vertical-align: top;\n",
       "    }\n",
       "\n",
       "    .dataframe thead th {\n",
       "        text-align: right;\n",
       "    }\n",
       "</style>\n",
       "<table border=\"1\" class=\"dataframe\">\n",
       "  <thead>\n",
       "    <tr style=\"text-align: right;\">\n",
       "      <th></th>\n",
       "      <th>customer_id</th>\n",
       "      <th>account_id</th>\n",
       "      <th>ed_id</th>\n",
       "      <th>event_name</th>\n",
       "      <th>event_timestamp</th>\n",
       "      <th>combined_id</th>\n",
       "      <th>journey_steps_until_end</th>\n",
       "    </tr>\n",
       "  </thead>\n",
       "  <tbody>\n",
       "    <tr>\n",
       "      <th>0</th>\n",
       "      <td>1807905151</td>\n",
       "      <td>-2147477843</td>\n",
       "      <td>2</td>\n",
       "      <td>campaign_click</td>\n",
       "      <td>2021-09-03T06:00:00.000Z</td>\n",
       "      <td>0</td>\n",
       "      <td>0</td>\n",
       "    </tr>\n",
       "    <tr>\n",
       "      <th>1</th>\n",
       "      <td>1807905151</td>\n",
       "      <td>-2147477843</td>\n",
       "      <td>12</td>\n",
       "      <td>application_web_approved</td>\n",
       "      <td>2021-09-03T21:46:20.000Z</td>\n",
       "      <td>0</td>\n",
       "      <td>1</td>\n",
       "    </tr>\n",
       "    <tr>\n",
       "      <th>2</th>\n",
       "      <td>1807905151</td>\n",
       "      <td>-2147477843</td>\n",
       "      <td>1</td>\n",
       "      <td>promotion_created</td>\n",
       "      <td>2021-09-03T21:46:26.680Z</td>\n",
       "      <td>0</td>\n",
       "      <td>2</td>\n",
       "    </tr>\n",
       "    <tr>\n",
       "      <th>3</th>\n",
       "      <td>1807905151</td>\n",
       "      <td>-2147477843</td>\n",
       "      <td>4</td>\n",
       "      <td>browse_products</td>\n",
       "      <td>2021-09-03T21:48:59.000Z</td>\n",
       "      <td>0</td>\n",
       "      <td>3</td>\n",
       "    </tr>\n",
       "    <tr>\n",
       "      <th>4</th>\n",
       "      <td>1807905151</td>\n",
       "      <td>-2147477843</td>\n",
       "      <td>4</td>\n",
       "      <td>browse_products</td>\n",
       "      <td>2021-09-03T21:55:06.000Z</td>\n",
       "      <td>0</td>\n",
       "      <td>4</td>\n",
       "    </tr>\n",
       "    <tr>\n",
       "      <th>...</th>\n",
       "      <td>...</td>\n",
       "      <td>...</td>\n",
       "      <td>...</td>\n",
       "      <td>...</td>\n",
       "      <td>...</td>\n",
       "      <td>...</td>\n",
       "      <td>...</td>\n",
       "    </tr>\n",
       "    <tr>\n",
       "      <th>56854843</th>\n",
       "      <td>2147449981</td>\n",
       "      <td>-203497522</td>\n",
       "      <td>4</td>\n",
       "      <td>browse_products</td>\n",
       "      <td>2023-07-22T20:47:49.000Z</td>\n",
       "      <td>1665430</td>\n",
       "      <td>37</td>\n",
       "    </tr>\n",
       "    <tr>\n",
       "      <th>56854844</th>\n",
       "      <td>2147449981</td>\n",
       "      <td>-203497522</td>\n",
       "      <td>5</td>\n",
       "      <td>view_cart</td>\n",
       "      <td>2023-07-22T20:47:49.000Z</td>\n",
       "      <td>1665430</td>\n",
       "      <td>38</td>\n",
       "    </tr>\n",
       "    <tr>\n",
       "      <th>56854845</th>\n",
       "      <td>2147449981</td>\n",
       "      <td>-203497522</td>\n",
       "      <td>11</td>\n",
       "      <td>add_to_cart</td>\n",
       "      <td>2023-07-22T20:47:49.000Z</td>\n",
       "      <td>1665430</td>\n",
       "      <td>39</td>\n",
       "    </tr>\n",
       "    <tr>\n",
       "      <th>56854846</th>\n",
       "      <td>2147449981</td>\n",
       "      <td>-203497522</td>\n",
       "      <td>6</td>\n",
       "      <td>begin_checkout</td>\n",
       "      <td>2023-07-22T20:47:49.000Z</td>\n",
       "      <td>1665430</td>\n",
       "      <td>40</td>\n",
       "    </tr>\n",
       "    <tr>\n",
       "      <th>56854847</th>\n",
       "      <td>2147449981</td>\n",
       "      <td>-203497522</td>\n",
       "      <td>4</td>\n",
       "      <td>browse_products</td>\n",
       "      <td>2023-07-23T07:20:24.000Z</td>\n",
       "      <td>1665430</td>\n",
       "      <td>41</td>\n",
       "    </tr>\n",
       "  </tbody>\n",
       "</table>\n",
       "<p>56854848 rows × 7 columns</p>\n",
       "</div>"
      ],
      "text/plain": [
       "          customer_id  account_id  ed_id                event_name  \\\n",
       "0          1807905151 -2147477843      2            campaign_click   \n",
       "1          1807905151 -2147477843     12  application_web_approved   \n",
       "2          1807905151 -2147477843      1         promotion_created   \n",
       "3          1807905151 -2147477843      4           browse_products   \n",
       "4          1807905151 -2147477843      4           browse_products   \n",
       "...               ...         ...    ...                       ...   \n",
       "56854843   2147449981  -203497522      4           browse_products   \n",
       "56854844   2147449981  -203497522      5                 view_cart   \n",
       "56854845   2147449981  -203497522     11               add_to_cart   \n",
       "56854846   2147449981  -203497522      6            begin_checkout   \n",
       "56854847   2147449981  -203497522      4           browse_products   \n",
       "\n",
       "                   event_timestamp  combined_id  journey_steps_until_end  \n",
       "0         2021-09-03T06:00:00.000Z            0                        0  \n",
       "1         2021-09-03T21:46:20.000Z            0                        1  \n",
       "2         2021-09-03T21:46:26.680Z            0                        2  \n",
       "3         2021-09-03T21:48:59.000Z            0                        3  \n",
       "4         2021-09-03T21:55:06.000Z            0                        4  \n",
       "...                            ...          ...                      ...  \n",
       "56854843  2023-07-22T20:47:49.000Z      1665430                       37  \n",
       "56854844  2023-07-22T20:47:49.000Z      1665430                       38  \n",
       "56854845  2023-07-22T20:47:49.000Z      1665430                       39  \n",
       "56854846  2023-07-22T20:47:49.000Z      1665430                       40  \n",
       "56854847  2023-07-23T07:20:24.000Z      1665430                       41  \n",
       "\n",
       "[56854848 rows x 7 columns]"
      ]
     },
     "execution_count": 35,
     "metadata": {},
     "output_type": "execute_result"
    }
   ],
   "source": [
    "fingerhut_combined"
   ]
  },
  {
   "cell_type": "code",
   "execution_count": 36,
   "metadata": {},
   "outputs": [],
   "source": [
    "# export fingerhut_combined to csv\n",
    "\n",
    "fingerhut_combined.to_csv('../Dataset/fingerhut_combined.csv', index=False)"
   ]
  }
 ],
 "metadata": {
  "kernelspec": {
   "display_name": "Python 3",
   "language": "python",
   "name": "python3"
  },
  "language_info": {
   "codemirror_mode": {
    "name": "ipython",
    "version": 3
   },
   "file_extension": ".py",
   "mimetype": "text/x-python",
   "name": "python",
   "nbconvert_exporter": "python",
   "pygments_lexer": "ipython3",
   "version": "3.9.7"
  }
 },
 "nbformat": 4,
 "nbformat_minor": 4
}
