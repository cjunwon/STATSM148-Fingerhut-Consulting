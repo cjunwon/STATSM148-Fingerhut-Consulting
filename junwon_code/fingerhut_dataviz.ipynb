{
 "cells": [
  {
   "cell_type": "code",
   "execution_count": 1,
   "metadata": {},
   "outputs": [],
   "source": [
    "import pandas as pd\n",
    "import datetime as dt"
   ]
  },
  {
   "cell_type": "code",
   "execution_count": 2,
   "metadata": {},
   "outputs": [],
   "source": [
    "# import datasets\n",
    "\n",
    "event_def = pd.read_csv('../Dataset/event_definitions.csv')\n",
    "fingerhut_combined = pd.read_csv('../Dataset/fingerhut_combined.csv')"
   ]
  },
  {
   "cell_type": "code",
   "execution_count": 3,
   "metadata": {},
   "outputs": [
    {
     "data": {
      "text/html": [
       "<div>\n",
       "<style scoped>\n",
       "    .dataframe tbody tr th:only-of-type {\n",
       "        vertical-align: middle;\n",
       "    }\n",
       "\n",
       "    .dataframe tbody tr th {\n",
       "        vertical-align: top;\n",
       "    }\n",
       "\n",
       "    .dataframe thead th {\n",
       "        text-align: right;\n",
       "    }\n",
       "</style>\n",
       "<table border=\"1\" class=\"dataframe\">\n",
       "  <thead>\n",
       "    <tr style=\"text-align: right;\">\n",
       "      <th></th>\n",
       "      <th>event_name</th>\n",
       "      <th>journey_id</th>\n",
       "      <th>event_definition_id</th>\n",
       "      <th>milestone_number</th>\n",
       "      <th>stage</th>\n",
       "    </tr>\n",
       "  </thead>\n",
       "  <tbody>\n",
       "    <tr>\n",
       "      <th>0</th>\n",
       "      <td>application_phone_approved</td>\n",
       "      <td>1</td>\n",
       "      <td>15</td>\n",
       "      <td>1.0</td>\n",
       "      <td>Apply for Credit</td>\n",
       "    </tr>\n",
       "    <tr>\n",
       "      <th>1</th>\n",
       "      <td>application_phone_declined</td>\n",
       "      <td>1</td>\n",
       "      <td>16</td>\n",
       "      <td>NaN</td>\n",
       "      <td>Apply for Credit</td>\n",
       "    </tr>\n",
       "    <tr>\n",
       "      <th>2</th>\n",
       "      <td>application_phone_pending</td>\n",
       "      <td>1</td>\n",
       "      <td>17</td>\n",
       "      <td>NaN</td>\n",
       "      <td>Apply for Credit</td>\n",
       "    </tr>\n",
       "    <tr>\n",
       "      <th>3</th>\n",
       "      <td>application_web_approved</td>\n",
       "      <td>1</td>\n",
       "      <td>12</td>\n",
       "      <td>1.0</td>\n",
       "      <td>Apply for Credit</td>\n",
       "    </tr>\n",
       "    <tr>\n",
       "      <th>4</th>\n",
       "      <td>application_web_declined</td>\n",
       "      <td>1</td>\n",
       "      <td>13</td>\n",
       "      <td>NaN</td>\n",
       "      <td>Apply for Credit</td>\n",
       "    </tr>\n",
       "    <tr>\n",
       "      <th>5</th>\n",
       "      <td>application_web_pending</td>\n",
       "      <td>1</td>\n",
       "      <td>14</td>\n",
       "      <td>NaN</td>\n",
       "      <td>Apply for Credit</td>\n",
       "    </tr>\n",
       "    <tr>\n",
       "      <th>6</th>\n",
       "      <td>application_web_submit</td>\n",
       "      <td>1</td>\n",
       "      <td>3</td>\n",
       "      <td>NaN</td>\n",
       "      <td>Apply for Credit</td>\n",
       "    </tr>\n",
       "    <tr>\n",
       "      <th>7</th>\n",
       "      <td>application_web_view</td>\n",
       "      <td>1</td>\n",
       "      <td>19</td>\n",
       "      <td>NaN</td>\n",
       "      <td>Apply for Credit</td>\n",
       "    </tr>\n",
       "    <tr>\n",
       "      <th>8</th>\n",
       "      <td>account_activitation</td>\n",
       "      <td>1</td>\n",
       "      <td>29</td>\n",
       "      <td>3.0</td>\n",
       "      <td>Credit Account</td>\n",
       "    </tr>\n",
       "    <tr>\n",
       "      <th>9</th>\n",
       "      <td>account_fraud_review</td>\n",
       "      <td>1</td>\n",
       "      <td>37</td>\n",
       "      <td>NaN</td>\n",
       "      <td>Credit Account</td>\n",
       "    </tr>\n",
       "    <tr>\n",
       "      <th>10</th>\n",
       "      <td>campaign_click</td>\n",
       "      <td>1</td>\n",
       "      <td>2</td>\n",
       "      <td>NaN</td>\n",
       "      <td>Discover</td>\n",
       "    </tr>\n",
       "    <tr>\n",
       "      <th>11</th>\n",
       "      <td>customer_requested_catalog_digital</td>\n",
       "      <td>1</td>\n",
       "      <td>9</td>\n",
       "      <td>NaN</td>\n",
       "      <td>Discover</td>\n",
       "    </tr>\n",
       "    <tr>\n",
       "      <th>12</th>\n",
       "      <td>fingerhut_university</td>\n",
       "      <td>1</td>\n",
       "      <td>10</td>\n",
       "      <td>NaN</td>\n",
       "      <td>Discover</td>\n",
       "    </tr>\n",
       "    <tr>\n",
       "      <th>13</th>\n",
       "      <td>pre_application_3rd_party_affiliates</td>\n",
       "      <td>1</td>\n",
       "      <td>22</td>\n",
       "      <td>NaN</td>\n",
       "      <td>Discover</td>\n",
       "    </tr>\n",
       "    <tr>\n",
       "      <th>14</th>\n",
       "      <td>site_registration</td>\n",
       "      <td>1</td>\n",
       "      <td>23</td>\n",
       "      <td>NaN</td>\n",
       "      <td>Discover</td>\n",
       "    </tr>\n",
       "    <tr>\n",
       "      <th>15</th>\n",
       "      <td>account_downpaymentcleared</td>\n",
       "      <td>1</td>\n",
       "      <td>27</td>\n",
       "      <td>5.0</td>\n",
       "      <td>Downpayment</td>\n",
       "    </tr>\n",
       "    <tr>\n",
       "      <th>16</th>\n",
       "      <td>account_downpaymentreceived</td>\n",
       "      <td>1</td>\n",
       "      <td>26</td>\n",
       "      <td>NaN</td>\n",
       "      <td>Downpayment</td>\n",
       "    </tr>\n",
       "    <tr>\n",
       "      <th>17</th>\n",
       "      <td>place_downpayment</td>\n",
       "      <td>1</td>\n",
       "      <td>8</td>\n",
       "      <td>4.0</td>\n",
       "      <td>Downpayment</td>\n",
       "    </tr>\n",
       "    <tr>\n",
       "      <th>18</th>\n",
       "      <td>place_downpayment_phone</td>\n",
       "      <td>1</td>\n",
       "      <td>25</td>\n",
       "      <td>4.0</td>\n",
       "      <td>Downpayment</td>\n",
       "    </tr>\n",
       "    <tr>\n",
       "      <th>19</th>\n",
       "      <td>add_to_cart</td>\n",
       "      <td>1</td>\n",
       "      <td>11</td>\n",
       "      <td>NaN</td>\n",
       "      <td>First Purchase</td>\n",
       "    </tr>\n",
       "    <tr>\n",
       "      <th>20</th>\n",
       "      <td>begin_checkout</td>\n",
       "      <td>1</td>\n",
       "      <td>6</td>\n",
       "      <td>NaN</td>\n",
       "      <td>First Purchase</td>\n",
       "    </tr>\n",
       "    <tr>\n",
       "      <th>21</th>\n",
       "      <td>browse_products</td>\n",
       "      <td>1</td>\n",
       "      <td>4</td>\n",
       "      <td>NaN</td>\n",
       "      <td>First Purchase</td>\n",
       "    </tr>\n",
       "    <tr>\n",
       "      <th>22</th>\n",
       "      <td>place_order_phone</td>\n",
       "      <td>1</td>\n",
       "      <td>18</td>\n",
       "      <td>2.0</td>\n",
       "      <td>First Purchase</td>\n",
       "    </tr>\n",
       "    <tr>\n",
       "      <th>23</th>\n",
       "      <td>place_order_web</td>\n",
       "      <td>1</td>\n",
       "      <td>7</td>\n",
       "      <td>2.0</td>\n",
       "      <td>First Purchase</td>\n",
       "    </tr>\n",
       "    <tr>\n",
       "      <th>24</th>\n",
       "      <td>view_cart</td>\n",
       "      <td>1</td>\n",
       "      <td>5</td>\n",
       "      <td>NaN</td>\n",
       "      <td>First Purchase</td>\n",
       "    </tr>\n",
       "    <tr>\n",
       "      <th>25</th>\n",
       "      <td>order_shipped</td>\n",
       "      <td>1</td>\n",
       "      <td>28</td>\n",
       "      <td>6.0</td>\n",
       "      <td>Order Shipped</td>\n",
       "    </tr>\n",
       "    <tr>\n",
       "      <th>26</th>\n",
       "      <td>catalog_email_experian</td>\n",
       "      <td>1</td>\n",
       "      <td>20</td>\n",
       "      <td>NaN</td>\n",
       "      <td>Prospecting</td>\n",
       "    </tr>\n",
       "    <tr>\n",
       "      <th>27</th>\n",
       "      <td>catalog_mail</td>\n",
       "      <td>1</td>\n",
       "      <td>21</td>\n",
       "      <td>NaN</td>\n",
       "      <td>Prospecting</td>\n",
       "    </tr>\n",
       "  </tbody>\n",
       "</table>\n",
       "</div>"
      ],
      "text/plain": [
       "                              event_name  journey_id  event_definition_id  \\\n",
       "0             application_phone_approved           1                   15   \n",
       "1             application_phone_declined           1                   16   \n",
       "2              application_phone_pending           1                   17   \n",
       "3               application_web_approved           1                   12   \n",
       "4               application_web_declined           1                   13   \n",
       "5                application_web_pending           1                   14   \n",
       "6                 application_web_submit           1                    3   \n",
       "7                   application_web_view           1                   19   \n",
       "8                   account_activitation           1                   29   \n",
       "9                   account_fraud_review           1                   37   \n",
       "10                        campaign_click           1                    2   \n",
       "11    customer_requested_catalog_digital           1                    9   \n",
       "12                  fingerhut_university           1                   10   \n",
       "13  pre_application_3rd_party_affiliates           1                   22   \n",
       "14                     site_registration           1                   23   \n",
       "15            account_downpaymentcleared           1                   27   \n",
       "16           account_downpaymentreceived           1                   26   \n",
       "17                     place_downpayment           1                    8   \n",
       "18               place_downpayment_phone           1                   25   \n",
       "19                           add_to_cart           1                   11   \n",
       "20                        begin_checkout           1                    6   \n",
       "21                       browse_products           1                    4   \n",
       "22                     place_order_phone           1                   18   \n",
       "23                       place_order_web           1                    7   \n",
       "24                             view_cart           1                    5   \n",
       "25                         order_shipped           1                   28   \n",
       "26                catalog_email_experian           1                   20   \n",
       "27                          catalog_mail           1                   21   \n",
       "\n",
       "    milestone_number             stage  \n",
       "0                1.0  Apply for Credit  \n",
       "1                NaN  Apply for Credit  \n",
       "2                NaN  Apply for Credit  \n",
       "3                1.0  Apply for Credit  \n",
       "4                NaN  Apply for Credit  \n",
       "5                NaN  Apply for Credit  \n",
       "6                NaN  Apply for Credit  \n",
       "7                NaN  Apply for Credit  \n",
       "8                3.0    Credit Account  \n",
       "9                NaN    Credit Account  \n",
       "10               NaN          Discover  \n",
       "11               NaN          Discover  \n",
       "12               NaN          Discover  \n",
       "13               NaN          Discover  \n",
       "14               NaN          Discover  \n",
       "15               5.0       Downpayment  \n",
       "16               NaN       Downpayment  \n",
       "17               4.0       Downpayment  \n",
       "18               4.0       Downpayment  \n",
       "19               NaN    First Purchase  \n",
       "20               NaN    First Purchase  \n",
       "21               NaN    First Purchase  \n",
       "22               2.0    First Purchase  \n",
       "23               2.0    First Purchase  \n",
       "24               NaN    First Purchase  \n",
       "25               6.0     Order Shipped  \n",
       "26               NaN       Prospecting  \n",
       "27               NaN       Prospecting  "
      ]
     },
     "execution_count": 3,
     "metadata": {},
     "output_type": "execute_result"
    }
   ],
   "source": [
    "event_def"
   ]
  },
  {
   "cell_type": "code",
   "execution_count": 4,
   "metadata": {},
   "outputs": [],
   "source": [
    "event_dict = {\n",
    "    'Apply for Credit': [15, 17, 12, 14, 3, 19],\n",
    "    'Account Activation': [29],\n",
    "    'Fraud Review': [37],\n",
    "    'Promotion and Discover': [1, 2, 9, 10, 22, 23, 20, 21, 24],\n",
    "    'Downpayment': [27, 26, 8, 25],\n",
    "    'Shopping': [11, 6, 4, 5],\n",
    "    'Place Order': [18, 7],\n",
    "    'Order Shipped': [28]\n",
    "}"
   ]
  },
  {
   "cell_type": "code",
   "execution_count": 5,
   "metadata": {},
   "outputs": [],
   "source": [
    "# merge event_def (event_definition_id column) with fingerhut_combined (ed_id column)\n",
    "\n",
    "fingerhut_combined = pd.merge(fingerhut_combined, event_def, how='left', left_on='ed_id', right_on='event_definition_id')"
   ]
  },
  {
   "cell_type": "code",
   "execution_count": 6,
   "metadata": {},
   "outputs": [],
   "source": [
    "# min and max values from 'combined_id' column\n",
    "\n",
    "min_combined_id = fingerhut_combined['combined_id'].min()\n",
    "max_combined_id = fingerhut_combined['combined_id'].max()"
   ]
  },
  {
   "cell_type": "code",
   "execution_count": 7,
   "metadata": {},
   "outputs": [
    {
     "data": {
      "text/plain": [
       "1665430"
      ]
     },
     "execution_count": 7,
     "metadata": {},
     "output_type": "execute_result"
    }
   ],
   "source": [
    "max_combined_id"
   ]
  },
  {
   "cell_type": "code",
   "execution_count": 8,
   "metadata": {},
   "outputs": [],
   "source": [
    "# random 1000 numbers from 1 to 1665430\n",
    "\n",
    "import random\n",
    "\n",
    "random.seed(0)\n",
    "\n",
    "random_numbers = random.sample(range(1, 1665430), 1000)"
   ]
  },
  {
   "cell_type": "code",
   "execution_count": 28,
   "metadata": {},
   "outputs": [
    {
     "data": {
      "text/plain": [
       "1000"
      ]
     },
     "execution_count": 28,
     "metadata": {},
     "output_type": "execute_result"
    }
   ],
   "source": [
    "len(random_numbers)"
   ]
  },
  {
   "cell_type": "code",
   "execution_count": 10,
   "metadata": {},
   "outputs": [],
   "source": [
    "# keep only rows where combined_id is in random_numbers\n",
    "\n",
    "fingerhut_small = fingerhut_combined[fingerhut_combined['combined_id'].isin(random_numbers)]\n",
    "\n",
    "#############################################################################################"
   ]
  },
  {
   "cell_type": "code",
   "execution_count": 11,
   "metadata": {},
   "outputs": [],
   "source": [
    "# groupby combined_id and only keep groups that has at least one instance of ed_id == 29 (account_activation) and does not have any instance of ed_id == 16 (application_phone_declined) or ed_id == 13 (application_web_declined)\n",
    "\n",
    "fingerhut_active_account = fingerhut_small.groupby('combined_id').filter(lambda x: (x['ed_id'] == 29).any() & (x['ed_id'] != 16).all() & (x['ed_id'] != 13).all())"
   ]
  },
  {
   "cell_type": "code",
   "execution_count": 12,
   "metadata": {},
   "outputs": [],
   "source": [
    "# only keep 'combined_id', 'event_timestamp', 'event_name_y'\n",
    "\n",
    "fingerhut_active_account = fingerhut_active_account[['combined_id', 'ed_id']]"
   ]
  },
  {
   "cell_type": "code",
   "execution_count": 13,
   "metadata": {},
   "outputs": [
    {
     "data": {
      "text/html": [
       "<div>\n",
       "<style scoped>\n",
       "    .dataframe tbody tr th:only-of-type {\n",
       "        vertical-align: middle;\n",
       "    }\n",
       "\n",
       "    .dataframe tbody tr th {\n",
       "        vertical-align: top;\n",
       "    }\n",
       "\n",
       "    .dataframe thead th {\n",
       "        text-align: right;\n",
       "    }\n",
       "</style>\n",
       "<table border=\"1\" class=\"dataframe\">\n",
       "  <thead>\n",
       "    <tr style=\"text-align: right;\">\n",
       "      <th></th>\n",
       "      <th>combined_id</th>\n",
       "      <th>ed_id</th>\n",
       "    </tr>\n",
       "  </thead>\n",
       "  <tbody>\n",
       "    <tr>\n",
       "      <th>216820</th>\n",
       "      <td>6779</td>\n",
       "      <td>19</td>\n",
       "    </tr>\n",
       "    <tr>\n",
       "      <th>216821</th>\n",
       "      <td>6779</td>\n",
       "      <td>19</td>\n",
       "    </tr>\n",
       "    <tr>\n",
       "      <th>216822</th>\n",
       "      <td>6779</td>\n",
       "      <td>19</td>\n",
       "    </tr>\n",
       "    <tr>\n",
       "      <th>216823</th>\n",
       "      <td>6779</td>\n",
       "      <td>19</td>\n",
       "    </tr>\n",
       "    <tr>\n",
       "      <th>216824</th>\n",
       "      <td>6779</td>\n",
       "      <td>19</td>\n",
       "    </tr>\n",
       "    <tr>\n",
       "      <th>...</th>\n",
       "      <td>...</td>\n",
       "      <td>...</td>\n",
       "    </tr>\n",
       "    <tr>\n",
       "      <th>56704687</th>\n",
       "      <td>1663724</td>\n",
       "      <td>29</td>\n",
       "    </tr>\n",
       "    <tr>\n",
       "      <th>56704688</th>\n",
       "      <td>1663724</td>\n",
       "      <td>15</td>\n",
       "    </tr>\n",
       "    <tr>\n",
       "      <th>56704689</th>\n",
       "      <td>1663724</td>\n",
       "      <td>18</td>\n",
       "    </tr>\n",
       "    <tr>\n",
       "      <th>56704690</th>\n",
       "      <td>1663724</td>\n",
       "      <td>27</td>\n",
       "    </tr>\n",
       "    <tr>\n",
       "      <th>56704691</th>\n",
       "      <td>1663724</td>\n",
       "      <td>28</td>\n",
       "    </tr>\n",
       "  </tbody>\n",
       "</table>\n",
       "<p>13237 rows × 2 columns</p>\n",
       "</div>"
      ],
      "text/plain": [
       "          combined_id  ed_id\n",
       "216820           6779     19\n",
       "216821           6779     19\n",
       "216822           6779     19\n",
       "216823           6779     19\n",
       "216824           6779     19\n",
       "...               ...    ...\n",
       "56704687      1663724     29\n",
       "56704688      1663724     15\n",
       "56704689      1663724     18\n",
       "56704690      1663724     27\n",
       "56704691      1663724     28\n",
       "\n",
       "[13237 rows x 2 columns]"
      ]
     },
     "execution_count": 13,
     "metadata": {},
     "output_type": "execute_result"
    }
   ],
   "source": [
    "fingerhut_active_account"
   ]
  },
  {
   "cell_type": "code",
   "execution_count": 14,
   "metadata": {},
   "outputs": [],
   "source": [
    "# Use the event_dict to create a new column called 'event_type' in fingerhut_active_account. The value of 'event_type' should be the key of the event_dict, which has lists of ed_id as values.\n",
    "\n",
    "fingerhut_active_account['event_type'] = fingerhut_active_account['ed_id'].map({v: k for k, l in event_dict.items() for v in l})"
   ]
  },
  {
   "cell_type": "code",
   "execution_count": 15,
   "metadata": {},
   "outputs": [],
   "source": [
    "# remove ed_id column\n",
    "\n",
    "fingerhut_active_account = fingerhut_active_account.drop(columns=['ed_id'])\n",
    "\n",
    "# remove duplicates\n",
    "\n",
    "fingerhut_active_account = fingerhut_active_account.drop_duplicates()"
   ]
  },
  {
   "cell_type": "code",
   "execution_count": 16,
   "metadata": {},
   "outputs": [
    {
     "data": {
      "text/html": [
       "<div>\n",
       "<style scoped>\n",
       "    .dataframe tbody tr th:only-of-type {\n",
       "        vertical-align: middle;\n",
       "    }\n",
       "\n",
       "    .dataframe tbody tr th {\n",
       "        vertical-align: top;\n",
       "    }\n",
       "\n",
       "    .dataframe thead th {\n",
       "        text-align: right;\n",
       "    }\n",
       "</style>\n",
       "<table border=\"1\" class=\"dataframe\">\n",
       "  <thead>\n",
       "    <tr style=\"text-align: right;\">\n",
       "      <th></th>\n",
       "      <th>combined_id</th>\n",
       "      <th>event_type</th>\n",
       "    </tr>\n",
       "  </thead>\n",
       "  <tbody>\n",
       "    <tr>\n",
       "      <th>216820</th>\n",
       "      <td>6779</td>\n",
       "      <td>Apply for Credit</td>\n",
       "    </tr>\n",
       "    <tr>\n",
       "      <th>216832</th>\n",
       "      <td>6779</td>\n",
       "      <td>Shopping</td>\n",
       "    </tr>\n",
       "    <tr>\n",
       "      <th>216838</th>\n",
       "      <td>6779</td>\n",
       "      <td>Promotion and Discover</td>\n",
       "    </tr>\n",
       "    <tr>\n",
       "      <th>216860</th>\n",
       "      <td>6779</td>\n",
       "      <td>Downpayment</td>\n",
       "    </tr>\n",
       "    <tr>\n",
       "      <th>216861</th>\n",
       "      <td>6779</td>\n",
       "      <td>Place Order</td>\n",
       "    </tr>\n",
       "    <tr>\n",
       "      <th>...</th>\n",
       "      <td>...</td>\n",
       "      <td>...</td>\n",
       "    </tr>\n",
       "    <tr>\n",
       "      <th>56704676</th>\n",
       "      <td>1663724</td>\n",
       "      <td>Promotion and Discover</td>\n",
       "    </tr>\n",
       "    <tr>\n",
       "      <th>56704687</th>\n",
       "      <td>1663724</td>\n",
       "      <td>Account Activation</td>\n",
       "    </tr>\n",
       "    <tr>\n",
       "      <th>56704689</th>\n",
       "      <td>1663724</td>\n",
       "      <td>Place Order</td>\n",
       "    </tr>\n",
       "    <tr>\n",
       "      <th>56704690</th>\n",
       "      <td>1663724</td>\n",
       "      <td>Downpayment</td>\n",
       "    </tr>\n",
       "    <tr>\n",
       "      <th>56704691</th>\n",
       "      <td>1663724</td>\n",
       "      <td>Order Shipped</td>\n",
       "    </tr>\n",
       "  </tbody>\n",
       "</table>\n",
       "<p>1482 rows × 2 columns</p>\n",
       "</div>"
      ],
      "text/plain": [
       "          combined_id              event_type\n",
       "216820           6779        Apply for Credit\n",
       "216832           6779                Shopping\n",
       "216838           6779  Promotion and Discover\n",
       "216860           6779             Downpayment\n",
       "216861           6779             Place Order\n",
       "...               ...                     ...\n",
       "56704676      1663724  Promotion and Discover\n",
       "56704687      1663724      Account Activation\n",
       "56704689      1663724             Place Order\n",
       "56704690      1663724             Downpayment\n",
       "56704691      1663724           Order Shipped\n",
       "\n",
       "[1482 rows x 2 columns]"
      ]
     },
     "execution_count": 16,
     "metadata": {},
     "output_type": "execute_result"
    }
   ],
   "source": [
    "fingerhut_active_account"
   ]
  },
  {
   "cell_type": "code",
   "execution_count": 17,
   "metadata": {},
   "outputs": [
    {
     "name": "stderr",
     "output_type": "stream",
     "text": [
      "/var/folders/6m/88dwrhnx7m3cybxwl1p0rtq40000gn/T/ipykernel_3528/1022833914.py:3: FutureWarning: The frame.append method is deprecated and will be removed from pandas in a future version. Use pandas.concat instead.\n",
      "  fingerhut_active_account = fingerhut_active_account.groupby('combined_id').apply(lambda x: x.append({'event_type': 'No Order Made', 'combined_id': x['combined_id'].iloc[0]}, ignore_index=True) if x['event_type'].iloc[-1] != 'Order Shipped' else x)\n",
      "/var/folders/6m/88dwrhnx7m3cybxwl1p0rtq40000gn/T/ipykernel_3528/1022833914.py:3: FutureWarning: The frame.append method is deprecated and will be removed from pandas in a future version. Use pandas.concat instead.\n",
      "  fingerhut_active_account = fingerhut_active_account.groupby('combined_id').apply(lambda x: x.append({'event_type': 'No Order Made', 'combined_id': x['combined_id'].iloc[0]}, ignore_index=True) if x['event_type'].iloc[-1] != 'Order Shipped' else x)\n",
      "/var/folders/6m/88dwrhnx7m3cybxwl1p0rtq40000gn/T/ipykernel_3528/1022833914.py:3: FutureWarning: The frame.append method is deprecated and will be removed from pandas in a future version. Use pandas.concat instead.\n",
      "  fingerhut_active_account = fingerhut_active_account.groupby('combined_id').apply(lambda x: x.append({'event_type': 'No Order Made', 'combined_id': x['combined_id'].iloc[0]}, ignore_index=True) if x['event_type'].iloc[-1] != 'Order Shipped' else x)\n",
      "/var/folders/6m/88dwrhnx7m3cybxwl1p0rtq40000gn/T/ipykernel_3528/1022833914.py:3: FutureWarning: The frame.append method is deprecated and will be removed from pandas in a future version. Use pandas.concat instead.\n",
      "  fingerhut_active_account = fingerhut_active_account.groupby('combined_id').apply(lambda x: x.append({'event_type': 'No Order Made', 'combined_id': x['combined_id'].iloc[0]}, ignore_index=True) if x['event_type'].iloc[-1] != 'Order Shipped' else x)\n",
      "/var/folders/6m/88dwrhnx7m3cybxwl1p0rtq40000gn/T/ipykernel_3528/1022833914.py:3: FutureWarning: The frame.append method is deprecated and will be removed from pandas in a future version. Use pandas.concat instead.\n",
      "  fingerhut_active_account = fingerhut_active_account.groupby('combined_id').apply(lambda x: x.append({'event_type': 'No Order Made', 'combined_id': x['combined_id'].iloc[0]}, ignore_index=True) if x['event_type'].iloc[-1] != 'Order Shipped' else x)\n",
      "/var/folders/6m/88dwrhnx7m3cybxwl1p0rtq40000gn/T/ipykernel_3528/1022833914.py:3: FutureWarning: The frame.append method is deprecated and will be removed from pandas in a future version. Use pandas.concat instead.\n",
      "  fingerhut_active_account = fingerhut_active_account.groupby('combined_id').apply(lambda x: x.append({'event_type': 'No Order Made', 'combined_id': x['combined_id'].iloc[0]}, ignore_index=True) if x['event_type'].iloc[-1] != 'Order Shipped' else x)\n",
      "/var/folders/6m/88dwrhnx7m3cybxwl1p0rtq40000gn/T/ipykernel_3528/1022833914.py:3: FutureWarning: The frame.append method is deprecated and will be removed from pandas in a future version. Use pandas.concat instead.\n",
      "  fingerhut_active_account = fingerhut_active_account.groupby('combined_id').apply(lambda x: x.append({'event_type': 'No Order Made', 'combined_id': x['combined_id'].iloc[0]}, ignore_index=True) if x['event_type'].iloc[-1] != 'Order Shipped' else x)\n",
      "/var/folders/6m/88dwrhnx7m3cybxwl1p0rtq40000gn/T/ipykernel_3528/1022833914.py:3: FutureWarning: The frame.append method is deprecated and will be removed from pandas in a future version. Use pandas.concat instead.\n",
      "  fingerhut_active_account = fingerhut_active_account.groupby('combined_id').apply(lambda x: x.append({'event_type': 'No Order Made', 'combined_id': x['combined_id'].iloc[0]}, ignore_index=True) if x['event_type'].iloc[-1] != 'Order Shipped' else x)\n",
      "/var/folders/6m/88dwrhnx7m3cybxwl1p0rtq40000gn/T/ipykernel_3528/1022833914.py:3: FutureWarning: The frame.append method is deprecated and will be removed from pandas in a future version. Use pandas.concat instead.\n",
      "  fingerhut_active_account = fingerhut_active_account.groupby('combined_id').apply(lambda x: x.append({'event_type': 'No Order Made', 'combined_id': x['combined_id'].iloc[0]}, ignore_index=True) if x['event_type'].iloc[-1] != 'Order Shipped' else x)\n",
      "/var/folders/6m/88dwrhnx7m3cybxwl1p0rtq40000gn/T/ipykernel_3528/1022833914.py:3: FutureWarning: The frame.append method is deprecated and will be removed from pandas in a future version. Use pandas.concat instead.\n",
      "  fingerhut_active_account = fingerhut_active_account.groupby('combined_id').apply(lambda x: x.append({'event_type': 'No Order Made', 'combined_id': x['combined_id'].iloc[0]}, ignore_index=True) if x['event_type'].iloc[-1] != 'Order Shipped' else x)\n",
      "/var/folders/6m/88dwrhnx7m3cybxwl1p0rtq40000gn/T/ipykernel_3528/1022833914.py:3: FutureWarning: The frame.append method is deprecated and will be removed from pandas in a future version. Use pandas.concat instead.\n",
      "  fingerhut_active_account = fingerhut_active_account.groupby('combined_id').apply(lambda x: x.append({'event_type': 'No Order Made', 'combined_id': x['combined_id'].iloc[0]}, ignore_index=True) if x['event_type'].iloc[-1] != 'Order Shipped' else x)\n",
      "/var/folders/6m/88dwrhnx7m3cybxwl1p0rtq40000gn/T/ipykernel_3528/1022833914.py:3: FutureWarning: The frame.append method is deprecated and will be removed from pandas in a future version. Use pandas.concat instead.\n",
      "  fingerhut_active_account = fingerhut_active_account.groupby('combined_id').apply(lambda x: x.append({'event_type': 'No Order Made', 'combined_id': x['combined_id'].iloc[0]}, ignore_index=True) if x['event_type'].iloc[-1] != 'Order Shipped' else x)\n",
      "/var/folders/6m/88dwrhnx7m3cybxwl1p0rtq40000gn/T/ipykernel_3528/1022833914.py:3: FutureWarning: The frame.append method is deprecated and will be removed from pandas in a future version. Use pandas.concat instead.\n",
      "  fingerhut_active_account = fingerhut_active_account.groupby('combined_id').apply(lambda x: x.append({'event_type': 'No Order Made', 'combined_id': x['combined_id'].iloc[0]}, ignore_index=True) if x['event_type'].iloc[-1] != 'Order Shipped' else x)\n",
      "/var/folders/6m/88dwrhnx7m3cybxwl1p0rtq40000gn/T/ipykernel_3528/1022833914.py:3: FutureWarning: The frame.append method is deprecated and will be removed from pandas in a future version. Use pandas.concat instead.\n",
      "  fingerhut_active_account = fingerhut_active_account.groupby('combined_id').apply(lambda x: x.append({'event_type': 'No Order Made', 'combined_id': x['combined_id'].iloc[0]}, ignore_index=True) if x['event_type'].iloc[-1] != 'Order Shipped' else x)\n",
      "/var/folders/6m/88dwrhnx7m3cybxwl1p0rtq40000gn/T/ipykernel_3528/1022833914.py:3: FutureWarning: The frame.append method is deprecated and will be removed from pandas in a future version. Use pandas.concat instead.\n",
      "  fingerhut_active_account = fingerhut_active_account.groupby('combined_id').apply(lambda x: x.append({'event_type': 'No Order Made', 'combined_id': x['combined_id'].iloc[0]}, ignore_index=True) if x['event_type'].iloc[-1] != 'Order Shipped' else x)\n",
      "/var/folders/6m/88dwrhnx7m3cybxwl1p0rtq40000gn/T/ipykernel_3528/1022833914.py:3: FutureWarning: The frame.append method is deprecated and will be removed from pandas in a future version. Use pandas.concat instead.\n",
      "  fingerhut_active_account = fingerhut_active_account.groupby('combined_id').apply(lambda x: x.append({'event_type': 'No Order Made', 'combined_id': x['combined_id'].iloc[0]}, ignore_index=True) if x['event_type'].iloc[-1] != 'Order Shipped' else x)\n",
      "/var/folders/6m/88dwrhnx7m3cybxwl1p0rtq40000gn/T/ipykernel_3528/1022833914.py:3: FutureWarning: The frame.append method is deprecated and will be removed from pandas in a future version. Use pandas.concat instead.\n",
      "  fingerhut_active_account = fingerhut_active_account.groupby('combined_id').apply(lambda x: x.append({'event_type': 'No Order Made', 'combined_id': x['combined_id'].iloc[0]}, ignore_index=True) if x['event_type'].iloc[-1] != 'Order Shipped' else x)\n",
      "/var/folders/6m/88dwrhnx7m3cybxwl1p0rtq40000gn/T/ipykernel_3528/1022833914.py:3: FutureWarning: The frame.append method is deprecated and will be removed from pandas in a future version. Use pandas.concat instead.\n",
      "  fingerhut_active_account = fingerhut_active_account.groupby('combined_id').apply(lambda x: x.append({'event_type': 'No Order Made', 'combined_id': x['combined_id'].iloc[0]}, ignore_index=True) if x['event_type'].iloc[-1] != 'Order Shipped' else x)\n",
      "/var/folders/6m/88dwrhnx7m3cybxwl1p0rtq40000gn/T/ipykernel_3528/1022833914.py:3: FutureWarning: The frame.append method is deprecated and will be removed from pandas in a future version. Use pandas.concat instead.\n",
      "  fingerhut_active_account = fingerhut_active_account.groupby('combined_id').apply(lambda x: x.append({'event_type': 'No Order Made', 'combined_id': x['combined_id'].iloc[0]}, ignore_index=True) if x['event_type'].iloc[-1] != 'Order Shipped' else x)\n",
      "/var/folders/6m/88dwrhnx7m3cybxwl1p0rtq40000gn/T/ipykernel_3528/1022833914.py:3: FutureWarning: The frame.append method is deprecated and will be removed from pandas in a future version. Use pandas.concat instead.\n",
      "  fingerhut_active_account = fingerhut_active_account.groupby('combined_id').apply(lambda x: x.append({'event_type': 'No Order Made', 'combined_id': x['combined_id'].iloc[0]}, ignore_index=True) if x['event_type'].iloc[-1] != 'Order Shipped' else x)\n",
      "/var/folders/6m/88dwrhnx7m3cybxwl1p0rtq40000gn/T/ipykernel_3528/1022833914.py:3: FutureWarning: The frame.append method is deprecated and will be removed from pandas in a future version. Use pandas.concat instead.\n",
      "  fingerhut_active_account = fingerhut_active_account.groupby('combined_id').apply(lambda x: x.append({'event_type': 'No Order Made', 'combined_id': x['combined_id'].iloc[0]}, ignore_index=True) if x['event_type'].iloc[-1] != 'Order Shipped' else x)\n",
      "/var/folders/6m/88dwrhnx7m3cybxwl1p0rtq40000gn/T/ipykernel_3528/1022833914.py:3: FutureWarning: The frame.append method is deprecated and will be removed from pandas in a future version. Use pandas.concat instead.\n",
      "  fingerhut_active_account = fingerhut_active_account.groupby('combined_id').apply(lambda x: x.append({'event_type': 'No Order Made', 'combined_id': x['combined_id'].iloc[0]}, ignore_index=True) if x['event_type'].iloc[-1] != 'Order Shipped' else x)\n",
      "/var/folders/6m/88dwrhnx7m3cybxwl1p0rtq40000gn/T/ipykernel_3528/1022833914.py:3: FutureWarning: The frame.append method is deprecated and will be removed from pandas in a future version. Use pandas.concat instead.\n",
      "  fingerhut_active_account = fingerhut_active_account.groupby('combined_id').apply(lambda x: x.append({'event_type': 'No Order Made', 'combined_id': x['combined_id'].iloc[0]}, ignore_index=True) if x['event_type'].iloc[-1] != 'Order Shipped' else x)\n",
      "/var/folders/6m/88dwrhnx7m3cybxwl1p0rtq40000gn/T/ipykernel_3528/1022833914.py:3: FutureWarning: The frame.append method is deprecated and will be removed from pandas in a future version. Use pandas.concat instead.\n",
      "  fingerhut_active_account = fingerhut_active_account.groupby('combined_id').apply(lambda x: x.append({'event_type': 'No Order Made', 'combined_id': x['combined_id'].iloc[0]}, ignore_index=True) if x['event_type'].iloc[-1] != 'Order Shipped' else x)\n",
      "/var/folders/6m/88dwrhnx7m3cybxwl1p0rtq40000gn/T/ipykernel_3528/1022833914.py:3: FutureWarning: The frame.append method is deprecated and will be removed from pandas in a future version. Use pandas.concat instead.\n",
      "  fingerhut_active_account = fingerhut_active_account.groupby('combined_id').apply(lambda x: x.append({'event_type': 'No Order Made', 'combined_id': x['combined_id'].iloc[0]}, ignore_index=True) if x['event_type'].iloc[-1] != 'Order Shipped' else x)\n",
      "/var/folders/6m/88dwrhnx7m3cybxwl1p0rtq40000gn/T/ipykernel_3528/1022833914.py:3: FutureWarning: The frame.append method is deprecated and will be removed from pandas in a future version. Use pandas.concat instead.\n",
      "  fingerhut_active_account = fingerhut_active_account.groupby('combined_id').apply(lambda x: x.append({'event_type': 'No Order Made', 'combined_id': x['combined_id'].iloc[0]}, ignore_index=True) if x['event_type'].iloc[-1] != 'Order Shipped' else x)\n",
      "/var/folders/6m/88dwrhnx7m3cybxwl1p0rtq40000gn/T/ipykernel_3528/1022833914.py:3: FutureWarning: The frame.append method is deprecated and will be removed from pandas in a future version. Use pandas.concat instead.\n",
      "  fingerhut_active_account = fingerhut_active_account.groupby('combined_id').apply(lambda x: x.append({'event_type': 'No Order Made', 'combined_id': x['combined_id'].iloc[0]}, ignore_index=True) if x['event_type'].iloc[-1] != 'Order Shipped' else x)\n",
      "/var/folders/6m/88dwrhnx7m3cybxwl1p0rtq40000gn/T/ipykernel_3528/1022833914.py:3: FutureWarning: The frame.append method is deprecated and will be removed from pandas in a future version. Use pandas.concat instead.\n",
      "  fingerhut_active_account = fingerhut_active_account.groupby('combined_id').apply(lambda x: x.append({'event_type': 'No Order Made', 'combined_id': x['combined_id'].iloc[0]}, ignore_index=True) if x['event_type'].iloc[-1] != 'Order Shipped' else x)\n",
      "/var/folders/6m/88dwrhnx7m3cybxwl1p0rtq40000gn/T/ipykernel_3528/1022833914.py:3: FutureWarning: The frame.append method is deprecated and will be removed from pandas in a future version. Use pandas.concat instead.\n",
      "  fingerhut_active_account = fingerhut_active_account.groupby('combined_id').apply(lambda x: x.append({'event_type': 'No Order Made', 'combined_id': x['combined_id'].iloc[0]}, ignore_index=True) if x['event_type'].iloc[-1] != 'Order Shipped' else x)\n",
      "/var/folders/6m/88dwrhnx7m3cybxwl1p0rtq40000gn/T/ipykernel_3528/1022833914.py:3: FutureWarning: The frame.append method is deprecated and will be removed from pandas in a future version. Use pandas.concat instead.\n",
      "  fingerhut_active_account = fingerhut_active_account.groupby('combined_id').apply(lambda x: x.append({'event_type': 'No Order Made', 'combined_id': x['combined_id'].iloc[0]}, ignore_index=True) if x['event_type'].iloc[-1] != 'Order Shipped' else x)\n",
      "/var/folders/6m/88dwrhnx7m3cybxwl1p0rtq40000gn/T/ipykernel_3528/1022833914.py:3: FutureWarning: The frame.append method is deprecated and will be removed from pandas in a future version. Use pandas.concat instead.\n",
      "  fingerhut_active_account = fingerhut_active_account.groupby('combined_id').apply(lambda x: x.append({'event_type': 'No Order Made', 'combined_id': x['combined_id'].iloc[0]}, ignore_index=True) if x['event_type'].iloc[-1] != 'Order Shipped' else x)\n",
      "/var/folders/6m/88dwrhnx7m3cybxwl1p0rtq40000gn/T/ipykernel_3528/1022833914.py:3: FutureWarning: The frame.append method is deprecated and will be removed from pandas in a future version. Use pandas.concat instead.\n",
      "  fingerhut_active_account = fingerhut_active_account.groupby('combined_id').apply(lambda x: x.append({'event_type': 'No Order Made', 'combined_id': x['combined_id'].iloc[0]}, ignore_index=True) if x['event_type'].iloc[-1] != 'Order Shipped' else x)\n",
      "/var/folders/6m/88dwrhnx7m3cybxwl1p0rtq40000gn/T/ipykernel_3528/1022833914.py:3: FutureWarning: The frame.append method is deprecated and will be removed from pandas in a future version. Use pandas.concat instead.\n",
      "  fingerhut_active_account = fingerhut_active_account.groupby('combined_id').apply(lambda x: x.append({'event_type': 'No Order Made', 'combined_id': x['combined_id'].iloc[0]}, ignore_index=True) if x['event_type'].iloc[-1] != 'Order Shipped' else x)\n",
      "/var/folders/6m/88dwrhnx7m3cybxwl1p0rtq40000gn/T/ipykernel_3528/1022833914.py:3: FutureWarning: The frame.append method is deprecated and will be removed from pandas in a future version. Use pandas.concat instead.\n",
      "  fingerhut_active_account = fingerhut_active_account.groupby('combined_id').apply(lambda x: x.append({'event_type': 'No Order Made', 'combined_id': x['combined_id'].iloc[0]}, ignore_index=True) if x['event_type'].iloc[-1] != 'Order Shipped' else x)\n",
      "/var/folders/6m/88dwrhnx7m3cybxwl1p0rtq40000gn/T/ipykernel_3528/1022833914.py:3: FutureWarning: The frame.append method is deprecated and will be removed from pandas in a future version. Use pandas.concat instead.\n",
      "  fingerhut_active_account = fingerhut_active_account.groupby('combined_id').apply(lambda x: x.append({'event_type': 'No Order Made', 'combined_id': x['combined_id'].iloc[0]}, ignore_index=True) if x['event_type'].iloc[-1] != 'Order Shipped' else x)\n",
      "/var/folders/6m/88dwrhnx7m3cybxwl1p0rtq40000gn/T/ipykernel_3528/1022833914.py:3: FutureWarning: The frame.append method is deprecated and will be removed from pandas in a future version. Use pandas.concat instead.\n",
      "  fingerhut_active_account = fingerhut_active_account.groupby('combined_id').apply(lambda x: x.append({'event_type': 'No Order Made', 'combined_id': x['combined_id'].iloc[0]}, ignore_index=True) if x['event_type'].iloc[-1] != 'Order Shipped' else x)\n",
      "/var/folders/6m/88dwrhnx7m3cybxwl1p0rtq40000gn/T/ipykernel_3528/1022833914.py:3: FutureWarning: The frame.append method is deprecated and will be removed from pandas in a future version. Use pandas.concat instead.\n",
      "  fingerhut_active_account = fingerhut_active_account.groupby('combined_id').apply(lambda x: x.append({'event_type': 'No Order Made', 'combined_id': x['combined_id'].iloc[0]}, ignore_index=True) if x['event_type'].iloc[-1] != 'Order Shipped' else x)\n",
      "/var/folders/6m/88dwrhnx7m3cybxwl1p0rtq40000gn/T/ipykernel_3528/1022833914.py:3: FutureWarning: The frame.append method is deprecated and will be removed from pandas in a future version. Use pandas.concat instead.\n",
      "  fingerhut_active_account = fingerhut_active_account.groupby('combined_id').apply(lambda x: x.append({'event_type': 'No Order Made', 'combined_id': x['combined_id'].iloc[0]}, ignore_index=True) if x['event_type'].iloc[-1] != 'Order Shipped' else x)\n",
      "/var/folders/6m/88dwrhnx7m3cybxwl1p0rtq40000gn/T/ipykernel_3528/1022833914.py:3: FutureWarning: The frame.append method is deprecated and will be removed from pandas in a future version. Use pandas.concat instead.\n",
      "  fingerhut_active_account = fingerhut_active_account.groupby('combined_id').apply(lambda x: x.append({'event_type': 'No Order Made', 'combined_id': x['combined_id'].iloc[0]}, ignore_index=True) if x['event_type'].iloc[-1] != 'Order Shipped' else x)\n",
      "/var/folders/6m/88dwrhnx7m3cybxwl1p0rtq40000gn/T/ipykernel_3528/1022833914.py:3: FutureWarning: The frame.append method is deprecated and will be removed from pandas in a future version. Use pandas.concat instead.\n",
      "  fingerhut_active_account = fingerhut_active_account.groupby('combined_id').apply(lambda x: x.append({'event_type': 'No Order Made', 'combined_id': x['combined_id'].iloc[0]}, ignore_index=True) if x['event_type'].iloc[-1] != 'Order Shipped' else x)\n",
      "/var/folders/6m/88dwrhnx7m3cybxwl1p0rtq40000gn/T/ipykernel_3528/1022833914.py:3: FutureWarning: The frame.append method is deprecated and will be removed from pandas in a future version. Use pandas.concat instead.\n",
      "  fingerhut_active_account = fingerhut_active_account.groupby('combined_id').apply(lambda x: x.append({'event_type': 'No Order Made', 'combined_id': x['combined_id'].iloc[0]}, ignore_index=True) if x['event_type'].iloc[-1] != 'Order Shipped' else x)\n",
      "/var/folders/6m/88dwrhnx7m3cybxwl1p0rtq40000gn/T/ipykernel_3528/1022833914.py:3: FutureWarning: The frame.append method is deprecated and will be removed from pandas in a future version. Use pandas.concat instead.\n",
      "  fingerhut_active_account = fingerhut_active_account.groupby('combined_id').apply(lambda x: x.append({'event_type': 'No Order Made', 'combined_id': x['combined_id'].iloc[0]}, ignore_index=True) if x['event_type'].iloc[-1] != 'Order Shipped' else x)\n",
      "/var/folders/6m/88dwrhnx7m3cybxwl1p0rtq40000gn/T/ipykernel_3528/1022833914.py:3: FutureWarning: The frame.append method is deprecated and will be removed from pandas in a future version. Use pandas.concat instead.\n",
      "  fingerhut_active_account = fingerhut_active_account.groupby('combined_id').apply(lambda x: x.append({'event_type': 'No Order Made', 'combined_id': x['combined_id'].iloc[0]}, ignore_index=True) if x['event_type'].iloc[-1] != 'Order Shipped' else x)\n",
      "/var/folders/6m/88dwrhnx7m3cybxwl1p0rtq40000gn/T/ipykernel_3528/1022833914.py:3: FutureWarning: The frame.append method is deprecated and will be removed from pandas in a future version. Use pandas.concat instead.\n",
      "  fingerhut_active_account = fingerhut_active_account.groupby('combined_id').apply(lambda x: x.append({'event_type': 'No Order Made', 'combined_id': x['combined_id'].iloc[0]}, ignore_index=True) if x['event_type'].iloc[-1] != 'Order Shipped' else x)\n",
      "/var/folders/6m/88dwrhnx7m3cybxwl1p0rtq40000gn/T/ipykernel_3528/1022833914.py:3: FutureWarning: The frame.append method is deprecated and will be removed from pandas in a future version. Use pandas.concat instead.\n",
      "  fingerhut_active_account = fingerhut_active_account.groupby('combined_id').apply(lambda x: x.append({'event_type': 'No Order Made', 'combined_id': x['combined_id'].iloc[0]}, ignore_index=True) if x['event_type'].iloc[-1] != 'Order Shipped' else x)\n",
      "/var/folders/6m/88dwrhnx7m3cybxwl1p0rtq40000gn/T/ipykernel_3528/1022833914.py:3: FutureWarning: The frame.append method is deprecated and will be removed from pandas in a future version. Use pandas.concat instead.\n",
      "  fingerhut_active_account = fingerhut_active_account.groupby('combined_id').apply(lambda x: x.append({'event_type': 'No Order Made', 'combined_id': x['combined_id'].iloc[0]}, ignore_index=True) if x['event_type'].iloc[-1] != 'Order Shipped' else x)\n",
      "/var/folders/6m/88dwrhnx7m3cybxwl1p0rtq40000gn/T/ipykernel_3528/1022833914.py:3: FutureWarning: The frame.append method is deprecated and will be removed from pandas in a future version. Use pandas.concat instead.\n",
      "  fingerhut_active_account = fingerhut_active_account.groupby('combined_id').apply(lambda x: x.append({'event_type': 'No Order Made', 'combined_id': x['combined_id'].iloc[0]}, ignore_index=True) if x['event_type'].iloc[-1] != 'Order Shipped' else x)\n",
      "/var/folders/6m/88dwrhnx7m3cybxwl1p0rtq40000gn/T/ipykernel_3528/1022833914.py:3: FutureWarning: The frame.append method is deprecated and will be removed from pandas in a future version. Use pandas.concat instead.\n",
      "  fingerhut_active_account = fingerhut_active_account.groupby('combined_id').apply(lambda x: x.append({'event_type': 'No Order Made', 'combined_id': x['combined_id'].iloc[0]}, ignore_index=True) if x['event_type'].iloc[-1] != 'Order Shipped' else x)\n",
      "/var/folders/6m/88dwrhnx7m3cybxwl1p0rtq40000gn/T/ipykernel_3528/1022833914.py:3: FutureWarning: The frame.append method is deprecated and will be removed from pandas in a future version. Use pandas.concat instead.\n",
      "  fingerhut_active_account = fingerhut_active_account.groupby('combined_id').apply(lambda x: x.append({'event_type': 'No Order Made', 'combined_id': x['combined_id'].iloc[0]}, ignore_index=True) if x['event_type'].iloc[-1] != 'Order Shipped' else x)\n",
      "/var/folders/6m/88dwrhnx7m3cybxwl1p0rtq40000gn/T/ipykernel_3528/1022833914.py:3: FutureWarning: The frame.append method is deprecated and will be removed from pandas in a future version. Use pandas.concat instead.\n",
      "  fingerhut_active_account = fingerhut_active_account.groupby('combined_id').apply(lambda x: x.append({'event_type': 'No Order Made', 'combined_id': x['combined_id'].iloc[0]}, ignore_index=True) if x['event_type'].iloc[-1] != 'Order Shipped' else x)\n",
      "/var/folders/6m/88dwrhnx7m3cybxwl1p0rtq40000gn/T/ipykernel_3528/1022833914.py:3: FutureWarning: The frame.append method is deprecated and will be removed from pandas in a future version. Use pandas.concat instead.\n",
      "  fingerhut_active_account = fingerhut_active_account.groupby('combined_id').apply(lambda x: x.append({'event_type': 'No Order Made', 'combined_id': x['combined_id'].iloc[0]}, ignore_index=True) if x['event_type'].iloc[-1] != 'Order Shipped' else x)\n",
      "/var/folders/6m/88dwrhnx7m3cybxwl1p0rtq40000gn/T/ipykernel_3528/1022833914.py:3: FutureWarning: The frame.append method is deprecated and will be removed from pandas in a future version. Use pandas.concat instead.\n",
      "  fingerhut_active_account = fingerhut_active_account.groupby('combined_id').apply(lambda x: x.append({'event_type': 'No Order Made', 'combined_id': x['combined_id'].iloc[0]}, ignore_index=True) if x['event_type'].iloc[-1] != 'Order Shipped' else x)\n",
      "/var/folders/6m/88dwrhnx7m3cybxwl1p0rtq40000gn/T/ipykernel_3528/1022833914.py:3: FutureWarning: The frame.append method is deprecated and will be removed from pandas in a future version. Use pandas.concat instead.\n",
      "  fingerhut_active_account = fingerhut_active_account.groupby('combined_id').apply(lambda x: x.append({'event_type': 'No Order Made', 'combined_id': x['combined_id'].iloc[0]}, ignore_index=True) if x['event_type'].iloc[-1] != 'Order Shipped' else x)\n",
      "/var/folders/6m/88dwrhnx7m3cybxwl1p0rtq40000gn/T/ipykernel_3528/1022833914.py:3: FutureWarning: The frame.append method is deprecated and will be removed from pandas in a future version. Use pandas.concat instead.\n",
      "  fingerhut_active_account = fingerhut_active_account.groupby('combined_id').apply(lambda x: x.append({'event_type': 'No Order Made', 'combined_id': x['combined_id'].iloc[0]}, ignore_index=True) if x['event_type'].iloc[-1] != 'Order Shipped' else x)\n",
      "/var/folders/6m/88dwrhnx7m3cybxwl1p0rtq40000gn/T/ipykernel_3528/1022833914.py:3: FutureWarning: The frame.append method is deprecated and will be removed from pandas in a future version. Use pandas.concat instead.\n",
      "  fingerhut_active_account = fingerhut_active_account.groupby('combined_id').apply(lambda x: x.append({'event_type': 'No Order Made', 'combined_id': x['combined_id'].iloc[0]}, ignore_index=True) if x['event_type'].iloc[-1] != 'Order Shipped' else x)\n",
      "/var/folders/6m/88dwrhnx7m3cybxwl1p0rtq40000gn/T/ipykernel_3528/1022833914.py:3: FutureWarning: The frame.append method is deprecated and will be removed from pandas in a future version. Use pandas.concat instead.\n",
      "  fingerhut_active_account = fingerhut_active_account.groupby('combined_id').apply(lambda x: x.append({'event_type': 'No Order Made', 'combined_id': x['combined_id'].iloc[0]}, ignore_index=True) if x['event_type'].iloc[-1] != 'Order Shipped' else x)\n",
      "/var/folders/6m/88dwrhnx7m3cybxwl1p0rtq40000gn/T/ipykernel_3528/1022833914.py:3: FutureWarning: The frame.append method is deprecated and will be removed from pandas in a future version. Use pandas.concat instead.\n",
      "  fingerhut_active_account = fingerhut_active_account.groupby('combined_id').apply(lambda x: x.append({'event_type': 'No Order Made', 'combined_id': x['combined_id'].iloc[0]}, ignore_index=True) if x['event_type'].iloc[-1] != 'Order Shipped' else x)\n",
      "/var/folders/6m/88dwrhnx7m3cybxwl1p0rtq40000gn/T/ipykernel_3528/1022833914.py:3: FutureWarning: The frame.append method is deprecated and will be removed from pandas in a future version. Use pandas.concat instead.\n",
      "  fingerhut_active_account = fingerhut_active_account.groupby('combined_id').apply(lambda x: x.append({'event_type': 'No Order Made', 'combined_id': x['combined_id'].iloc[0]}, ignore_index=True) if x['event_type'].iloc[-1] != 'Order Shipped' else x)\n",
      "/var/folders/6m/88dwrhnx7m3cybxwl1p0rtq40000gn/T/ipykernel_3528/1022833914.py:3: FutureWarning: The frame.append method is deprecated and will be removed from pandas in a future version. Use pandas.concat instead.\n",
      "  fingerhut_active_account = fingerhut_active_account.groupby('combined_id').apply(lambda x: x.append({'event_type': 'No Order Made', 'combined_id': x['combined_id'].iloc[0]}, ignore_index=True) if x['event_type'].iloc[-1] != 'Order Shipped' else x)\n"
     ]
    }
   ],
   "source": [
    "# groupby combined_id, and if the last event_type is not 'Order Shipped', then add new row with event_type 'No Order Made', and also add the combined_id to the new row\n",
    "\n",
    "fingerhut_active_account = fingerhut_active_account.groupby('combined_id').apply(lambda x: x.append({'event_type': 'No Order Made', 'combined_id': x['combined_id'].iloc[0]}, ignore_index=True) if x['event_type'].iloc[-1] != 'Order Shipped' else x)\n",
    "\n",
    "# reset index\n",
    "\n",
    "fingerhut_active_account = fingerhut_active_account.reset_index(drop=True)"
   ]
  },
  {
   "cell_type": "code",
   "execution_count": 18,
   "metadata": {},
   "outputs": [
    {
     "data": {
      "text/plain": [
       "combined_id    0\n",
       "event_type     0\n",
       "dtype: int64"
      ]
     },
     "execution_count": 18,
     "metadata": {},
     "output_type": "execute_result"
    }
   ],
   "source": [
    "# check for NA values\n",
    "\n",
    "fingerhut_active_account.isna().sum()"
   ]
  },
  {
   "cell_type": "code",
   "execution_count": 19,
   "metadata": {},
   "outputs": [],
   "source": [
    "fingerhut_active_account['sequence'] = fingerhut_active_account.groupby('combined_id').cumcount() + 1"
   ]
  },
  {
   "cell_type": "code",
   "execution_count": 20,
   "metadata": {},
   "outputs": [
    {
     "data": {
      "text/html": [
       "<div>\n",
       "<style scoped>\n",
       "    .dataframe tbody tr th:only-of-type {\n",
       "        vertical-align: middle;\n",
       "    }\n",
       "\n",
       "    .dataframe tbody tr th {\n",
       "        vertical-align: top;\n",
       "    }\n",
       "\n",
       "    .dataframe thead th {\n",
       "        text-align: right;\n",
       "    }\n",
       "</style>\n",
       "<table border=\"1\" class=\"dataframe\">\n",
       "  <thead>\n",
       "    <tr style=\"text-align: right;\">\n",
       "      <th></th>\n",
       "      <th>combined_id</th>\n",
       "      <th>event_type</th>\n",
       "      <th>sequence</th>\n",
       "    </tr>\n",
       "  </thead>\n",
       "  <tbody>\n",
       "    <tr>\n",
       "      <th>0</th>\n",
       "      <td>6779</td>\n",
       "      <td>Apply for Credit</td>\n",
       "      <td>1</td>\n",
       "    </tr>\n",
       "    <tr>\n",
       "      <th>1</th>\n",
       "      <td>6779</td>\n",
       "      <td>Shopping</td>\n",
       "      <td>2</td>\n",
       "    </tr>\n",
       "    <tr>\n",
       "      <th>2</th>\n",
       "      <td>6779</td>\n",
       "      <td>Promotion and Discover</td>\n",
       "      <td>3</td>\n",
       "    </tr>\n",
       "    <tr>\n",
       "      <th>3</th>\n",
       "      <td>6779</td>\n",
       "      <td>Downpayment</td>\n",
       "      <td>4</td>\n",
       "    </tr>\n",
       "    <tr>\n",
       "      <th>4</th>\n",
       "      <td>6779</td>\n",
       "      <td>Place Order</td>\n",
       "      <td>5</td>\n",
       "    </tr>\n",
       "    <tr>\n",
       "      <th>...</th>\n",
       "      <td>...</td>\n",
       "      <td>...</td>\n",
       "      <td>...</td>\n",
       "    </tr>\n",
       "    <tr>\n",
       "      <th>1536</th>\n",
       "      <td>1663724</td>\n",
       "      <td>Promotion and Discover</td>\n",
       "      <td>3</td>\n",
       "    </tr>\n",
       "    <tr>\n",
       "      <th>1537</th>\n",
       "      <td>1663724</td>\n",
       "      <td>Account Activation</td>\n",
       "      <td>4</td>\n",
       "    </tr>\n",
       "    <tr>\n",
       "      <th>1538</th>\n",
       "      <td>1663724</td>\n",
       "      <td>Place Order</td>\n",
       "      <td>5</td>\n",
       "    </tr>\n",
       "    <tr>\n",
       "      <th>1539</th>\n",
       "      <td>1663724</td>\n",
       "      <td>Downpayment</td>\n",
       "      <td>6</td>\n",
       "    </tr>\n",
       "    <tr>\n",
       "      <th>1540</th>\n",
       "      <td>1663724</td>\n",
       "      <td>Order Shipped</td>\n",
       "      <td>7</td>\n",
       "    </tr>\n",
       "  </tbody>\n",
       "</table>\n",
       "<p>1541 rows × 3 columns</p>\n",
       "</div>"
      ],
      "text/plain": [
       "      combined_id              event_type  sequence\n",
       "0            6779        Apply for Credit         1\n",
       "1            6779                Shopping         2\n",
       "2            6779  Promotion and Discover         3\n",
       "3            6779             Downpayment         4\n",
       "4            6779             Place Order         5\n",
       "...           ...                     ...       ...\n",
       "1536      1663724  Promotion and Discover         3\n",
       "1537      1663724      Account Activation         4\n",
       "1538      1663724             Place Order         5\n",
       "1539      1663724             Downpayment         6\n",
       "1540      1663724           Order Shipped         7\n",
       "\n",
       "[1541 rows x 3 columns]"
      ]
     },
     "execution_count": 20,
     "metadata": {},
     "output_type": "execute_result"
    }
   ],
   "source": [
    "fingerhut_active_account"
   ]
  },
  {
   "cell_type": "code",
   "execution_count": 21,
   "metadata": {},
   "outputs": [],
   "source": [
    "pivot_fingerhut_active_account = fingerhut_active_account.pivot(index='combined_id', columns='sequence', values='event_type').reset_index(inplace=False)"
   ]
  },
  {
   "cell_type": "code",
   "execution_count": 22,
   "metadata": {},
   "outputs": [],
   "source": [
    "pivot_fingerhut_active_account = pivot_fingerhut_active_account.fillna('')"
   ]
  },
  {
   "cell_type": "code",
   "execution_count": 23,
   "metadata": {},
   "outputs": [
    {
     "data": {
      "text/html": [
       "<div>\n",
       "<style scoped>\n",
       "    .dataframe tbody tr th:only-of-type {\n",
       "        vertical-align: middle;\n",
       "    }\n",
       "\n",
       "    .dataframe tbody tr th {\n",
       "        vertical-align: top;\n",
       "    }\n",
       "\n",
       "    .dataframe thead th {\n",
       "        text-align: right;\n",
       "    }\n",
       "</style>\n",
       "<table border=\"1\" class=\"dataframe\">\n",
       "  <thead>\n",
       "    <tr style=\"text-align: right;\">\n",
       "      <th>sequence</th>\n",
       "      <th>combined_id</th>\n",
       "      <th>1</th>\n",
       "      <th>2</th>\n",
       "      <th>3</th>\n",
       "      <th>4</th>\n",
       "      <th>5</th>\n",
       "      <th>6</th>\n",
       "      <th>7</th>\n",
       "    </tr>\n",
       "  </thead>\n",
       "  <tbody>\n",
       "    <tr>\n",
       "      <th>50</th>\n",
       "      <td>261748</td>\n",
       "      <td>Promotion and Discover</td>\n",
       "      <td>Apply for Credit</td>\n",
       "      <td>Shopping</td>\n",
       "      <td>Downpayment</td>\n",
       "      <td>Place Order</td>\n",
       "      <td>Account Activation</td>\n",
       "      <td>Order Shipped</td>\n",
       "    </tr>\n",
       "    <tr>\n",
       "      <th>51</th>\n",
       "      <td>262639</td>\n",
       "      <td>Apply for Credit</td>\n",
       "      <td>Shopping</td>\n",
       "      <td>Promotion and Discover</td>\n",
       "      <td>Place Order</td>\n",
       "      <td>Downpayment</td>\n",
       "      <td>Account Activation</td>\n",
       "      <td>Order Shipped</td>\n",
       "    </tr>\n",
       "    <tr>\n",
       "      <th>52</th>\n",
       "      <td>281901</td>\n",
       "      <td>Promotion and Discover</td>\n",
       "      <td>Apply for Credit</td>\n",
       "      <td>Shopping</td>\n",
       "      <td>Account Activation</td>\n",
       "      <td>No Order Made</td>\n",
       "      <td></td>\n",
       "      <td></td>\n",
       "    </tr>\n",
       "    <tr>\n",
       "      <th>53</th>\n",
       "      <td>289015</td>\n",
       "      <td>Apply for Credit</td>\n",
       "      <td>Shopping</td>\n",
       "      <td>Account Activation</td>\n",
       "      <td>Promotion and Discover</td>\n",
       "      <td>Place Order</td>\n",
       "      <td>Downpayment</td>\n",
       "      <td>Order Shipped</td>\n",
       "    </tr>\n",
       "    <tr>\n",
       "      <th>54</th>\n",
       "      <td>298391</td>\n",
       "      <td>Promotion and Discover</td>\n",
       "      <td>Apply for Credit</td>\n",
       "      <td>Shopping</td>\n",
       "      <td>Account Activation</td>\n",
       "      <td>Downpayment</td>\n",
       "      <td>Place Order</td>\n",
       "      <td>Order Shipped</td>\n",
       "    </tr>\n",
       "    <tr>\n",
       "      <th>55</th>\n",
       "      <td>300504</td>\n",
       "      <td>Apply for Credit</td>\n",
       "      <td>Promotion and Discover</td>\n",
       "      <td>Shopping</td>\n",
       "      <td>Place Order</td>\n",
       "      <td>Downpayment</td>\n",
       "      <td>Account Activation</td>\n",
       "      <td>Order Shipped</td>\n",
       "    </tr>\n",
       "    <tr>\n",
       "      <th>56</th>\n",
       "      <td>306928</td>\n",
       "      <td>Apply for Credit</td>\n",
       "      <td>Shopping</td>\n",
       "      <td>Downpayment</td>\n",
       "      <td>Place Order</td>\n",
       "      <td>Account Activation</td>\n",
       "      <td>Order Shipped</td>\n",
       "      <td></td>\n",
       "    </tr>\n",
       "    <tr>\n",
       "      <th>57</th>\n",
       "      <td>317454</td>\n",
       "      <td>Account Activation</td>\n",
       "      <td>Promotion and Discover</td>\n",
       "      <td>Shopping</td>\n",
       "      <td>Apply for Credit</td>\n",
       "      <td>Downpayment</td>\n",
       "      <td>Place Order</td>\n",
       "      <td>Order Shipped</td>\n",
       "    </tr>\n",
       "    <tr>\n",
       "      <th>58</th>\n",
       "      <td>327620</td>\n",
       "      <td>Account Activation</td>\n",
       "      <td>Shopping</td>\n",
       "      <td>Apply for Credit</td>\n",
       "      <td>Place Order</td>\n",
       "      <td>Downpayment</td>\n",
       "      <td>Promotion and Discover</td>\n",
       "      <td>No Order Made</td>\n",
       "    </tr>\n",
       "    <tr>\n",
       "      <th>59</th>\n",
       "      <td>328001</td>\n",
       "      <td>Apply for Credit</td>\n",
       "      <td>Shopping</td>\n",
       "      <td>Promotion and Discover</td>\n",
       "      <td>Account Activation</td>\n",
       "      <td>No Order Made</td>\n",
       "      <td></td>\n",
       "      <td></td>\n",
       "    </tr>\n",
       "    <tr>\n",
       "      <th>60</th>\n",
       "      <td>343641</td>\n",
       "      <td>Account Activation</td>\n",
       "      <td>Apply for Credit</td>\n",
       "      <td>Promotion and Discover</td>\n",
       "      <td>Shopping</td>\n",
       "      <td>Place Order</td>\n",
       "      <td>No Order Made</td>\n",
       "      <td></td>\n",
       "    </tr>\n",
       "    <tr>\n",
       "      <th>61</th>\n",
       "      <td>347446</td>\n",
       "      <td>Promotion and Discover</td>\n",
       "      <td>Apply for Credit</td>\n",
       "      <td>Shopping</td>\n",
       "      <td>Account Activation</td>\n",
       "      <td>Downpayment</td>\n",
       "      <td>Place Order</td>\n",
       "      <td>No Order Made</td>\n",
       "    </tr>\n",
       "    <tr>\n",
       "      <th>62</th>\n",
       "      <td>349346</td>\n",
       "      <td>Apply for Credit</td>\n",
       "      <td>Shopping</td>\n",
       "      <td>Promotion and Discover</td>\n",
       "      <td>Account Activation</td>\n",
       "      <td>Downpayment</td>\n",
       "      <td>Place Order</td>\n",
       "      <td>Order Shipped</td>\n",
       "    </tr>\n",
       "    <tr>\n",
       "      <th>63</th>\n",
       "      <td>355310</td>\n",
       "      <td>Account Activation</td>\n",
       "      <td>Apply for Credit</td>\n",
       "      <td>No Order Made</td>\n",
       "      <td></td>\n",
       "      <td></td>\n",
       "      <td></td>\n",
       "      <td></td>\n",
       "    </tr>\n",
       "    <tr>\n",
       "      <th>64</th>\n",
       "      <td>373898</td>\n",
       "      <td>Apply for Credit</td>\n",
       "      <td>Shopping</td>\n",
       "      <td>Promotion and Discover</td>\n",
       "      <td>Account Activation</td>\n",
       "      <td>Place Order</td>\n",
       "      <td>No Order Made</td>\n",
       "      <td></td>\n",
       "    </tr>\n",
       "    <tr>\n",
       "      <th>65</th>\n",
       "      <td>388772</td>\n",
       "      <td>Apply for Credit</td>\n",
       "      <td>Shopping</td>\n",
       "      <td>Account Activation</td>\n",
       "      <td>Place Order</td>\n",
       "      <td>Downpayment</td>\n",
       "      <td>Promotion and Discover</td>\n",
       "      <td>Order Shipped</td>\n",
       "    </tr>\n",
       "    <tr>\n",
       "      <th>66</th>\n",
       "      <td>391601</td>\n",
       "      <td>Shopping</td>\n",
       "      <td>Apply for Credit</td>\n",
       "      <td>Downpayment</td>\n",
       "      <td>Place Order</td>\n",
       "      <td>Account Activation</td>\n",
       "      <td>Order Shipped</td>\n",
       "      <td></td>\n",
       "    </tr>\n",
       "    <tr>\n",
       "      <th>67</th>\n",
       "      <td>395357</td>\n",
       "      <td>Apply for Credit</td>\n",
       "      <td>Shopping</td>\n",
       "      <td>Promotion and Discover</td>\n",
       "      <td>Account Activation</td>\n",
       "      <td>Place Order</td>\n",
       "      <td>Downpayment</td>\n",
       "      <td>Order Shipped</td>\n",
       "    </tr>\n",
       "    <tr>\n",
       "      <th>68</th>\n",
       "      <td>400697</td>\n",
       "      <td>Apply for Credit</td>\n",
       "      <td>Shopping</td>\n",
       "      <td>Place Order</td>\n",
       "      <td>Downpayment</td>\n",
       "      <td>Account Activation</td>\n",
       "      <td>Order Shipped</td>\n",
       "      <td></td>\n",
       "    </tr>\n",
       "    <tr>\n",
       "      <th>69</th>\n",
       "      <td>426146</td>\n",
       "      <td>Apply for Credit</td>\n",
       "      <td>Shopping</td>\n",
       "      <td>Promotion and Discover</td>\n",
       "      <td>Account Activation</td>\n",
       "      <td>Downpayment</td>\n",
       "      <td>Place Order</td>\n",
       "      <td>Order Shipped</td>\n",
       "    </tr>\n",
       "    <tr>\n",
       "      <th>70</th>\n",
       "      <td>440986</td>\n",
       "      <td>Apply for Credit</td>\n",
       "      <td>Shopping</td>\n",
       "      <td>Promotion and Discover</td>\n",
       "      <td>Downpayment</td>\n",
       "      <td>Place Order</td>\n",
       "      <td>Account Activation</td>\n",
       "      <td>Order Shipped</td>\n",
       "    </tr>\n",
       "    <tr>\n",
       "      <th>71</th>\n",
       "      <td>461663</td>\n",
       "      <td>Account Activation</td>\n",
       "      <td>Apply for Credit</td>\n",
       "      <td>Shopping</td>\n",
       "      <td>Promotion and Discover</td>\n",
       "      <td>Place Order</td>\n",
       "      <td>Downpayment</td>\n",
       "      <td>Order Shipped</td>\n",
       "    </tr>\n",
       "    <tr>\n",
       "      <th>72</th>\n",
       "      <td>462340</td>\n",
       "      <td>Shopping</td>\n",
       "      <td>Apply for Credit</td>\n",
       "      <td>Promotion and Discover</td>\n",
       "      <td>Account Activation</td>\n",
       "      <td>Downpayment</td>\n",
       "      <td>Place Order</td>\n",
       "      <td>Order Shipped</td>\n",
       "    </tr>\n",
       "    <tr>\n",
       "      <th>73</th>\n",
       "      <td>464947</td>\n",
       "      <td>Promotion and Discover</td>\n",
       "      <td>Apply for Credit</td>\n",
       "      <td>Shopping</td>\n",
       "      <td>Account Activation</td>\n",
       "      <td>Place Order</td>\n",
       "      <td>Downpayment</td>\n",
       "      <td>Order Shipped</td>\n",
       "    </tr>\n",
       "    <tr>\n",
       "      <th>74</th>\n",
       "      <td>483380</td>\n",
       "      <td>Apply for Credit</td>\n",
       "      <td>Shopping</td>\n",
       "      <td>Promotion and Discover</td>\n",
       "      <td>Place Order</td>\n",
       "      <td>Downpayment</td>\n",
       "      <td>Account Activation</td>\n",
       "      <td>Order Shipped</td>\n",
       "    </tr>\n",
       "    <tr>\n",
       "      <th>75</th>\n",
       "      <td>501119</td>\n",
       "      <td>Apply for Credit</td>\n",
       "      <td>Account Activation</td>\n",
       "      <td>Promotion and Discover</td>\n",
       "      <td>Shopping</td>\n",
       "      <td>Downpayment</td>\n",
       "      <td>Place Order</td>\n",
       "      <td>Order Shipped</td>\n",
       "    </tr>\n",
       "    <tr>\n",
       "      <th>76</th>\n",
       "      <td>503590</td>\n",
       "      <td>Promotion and Discover</td>\n",
       "      <td>Apply for Credit</td>\n",
       "      <td>Shopping</td>\n",
       "      <td>Place Order</td>\n",
       "      <td>Downpayment</td>\n",
       "      <td>Account Activation</td>\n",
       "      <td>Order Shipped</td>\n",
       "    </tr>\n",
       "    <tr>\n",
       "      <th>77</th>\n",
       "      <td>509270</td>\n",
       "      <td>Apply for Credit</td>\n",
       "      <td>Shopping</td>\n",
       "      <td>Place Order</td>\n",
       "      <td>Downpayment</td>\n",
       "      <td>Account Activation</td>\n",
       "      <td>Order Shipped</td>\n",
       "      <td></td>\n",
       "    </tr>\n",
       "    <tr>\n",
       "      <th>78</th>\n",
       "      <td>537896</td>\n",
       "      <td>Apply for Credit</td>\n",
       "      <td>Promotion and Discover</td>\n",
       "      <td>Account Activation</td>\n",
       "      <td>Shopping</td>\n",
       "      <td>No Order Made</td>\n",
       "      <td></td>\n",
       "      <td></td>\n",
       "    </tr>\n",
       "    <tr>\n",
       "      <th>79</th>\n",
       "      <td>538721</td>\n",
       "      <td>Promotion and Discover</td>\n",
       "      <td>Apply for Credit</td>\n",
       "      <td>Shopping</td>\n",
       "      <td>Downpayment</td>\n",
       "      <td>Place Order</td>\n",
       "      <td>Account Activation</td>\n",
       "      <td>Order Shipped</td>\n",
       "    </tr>\n",
       "    <tr>\n",
       "      <th>80</th>\n",
       "      <td>545378</td>\n",
       "      <td>Promotion and Discover</td>\n",
       "      <td>Apply for Credit</td>\n",
       "      <td>Shopping</td>\n",
       "      <td>Place Order</td>\n",
       "      <td>Downpayment</td>\n",
       "      <td>Account Activation</td>\n",
       "      <td>Order Shipped</td>\n",
       "    </tr>\n",
       "    <tr>\n",
       "      <th>81</th>\n",
       "      <td>550475</td>\n",
       "      <td>Shopping</td>\n",
       "      <td>Apply for Credit</td>\n",
       "      <td>Downpayment</td>\n",
       "      <td>Place Order</td>\n",
       "      <td>Account Activation</td>\n",
       "      <td>Order Shipped</td>\n",
       "      <td></td>\n",
       "    </tr>\n",
       "    <tr>\n",
       "      <th>82</th>\n",
       "      <td>568408</td>\n",
       "      <td>Account Activation</td>\n",
       "      <td>Promotion and Discover</td>\n",
       "      <td>Apply for Credit</td>\n",
       "      <td>Shopping</td>\n",
       "      <td>No Order Made</td>\n",
       "      <td></td>\n",
       "      <td></td>\n",
       "    </tr>\n",
       "    <tr>\n",
       "      <th>83</th>\n",
       "      <td>569112</td>\n",
       "      <td>Apply for Credit</td>\n",
       "      <td>Shopping</td>\n",
       "      <td>Promotion and Discover</td>\n",
       "      <td>Account Activation</td>\n",
       "      <td>Downpayment</td>\n",
       "      <td>Place Order</td>\n",
       "      <td>Order Shipped</td>\n",
       "    </tr>\n",
       "    <tr>\n",
       "      <th>84</th>\n",
       "      <td>578047</td>\n",
       "      <td>Account Activation</td>\n",
       "      <td>Apply for Credit</td>\n",
       "      <td>Shopping</td>\n",
       "      <td>Downpayment</td>\n",
       "      <td>Place Order</td>\n",
       "      <td>Order Shipped</td>\n",
       "      <td></td>\n",
       "    </tr>\n",
       "    <tr>\n",
       "      <th>85</th>\n",
       "      <td>607529</td>\n",
       "      <td>Promotion and Discover</td>\n",
       "      <td>Apply for Credit</td>\n",
       "      <td>Shopping</td>\n",
       "      <td>Downpayment</td>\n",
       "      <td>Place Order</td>\n",
       "      <td>Account Activation</td>\n",
       "      <td>Order Shipped</td>\n",
       "    </tr>\n",
       "    <tr>\n",
       "      <th>86</th>\n",
       "      <td>615017</td>\n",
       "      <td>Account Activation</td>\n",
       "      <td>Apply for Credit</td>\n",
       "      <td>Promotion and Discover</td>\n",
       "      <td>Shopping</td>\n",
       "      <td>Downpayment</td>\n",
       "      <td>Place Order</td>\n",
       "      <td>Order Shipped</td>\n",
       "    </tr>\n",
       "    <tr>\n",
       "      <th>87</th>\n",
       "      <td>615120</td>\n",
       "      <td>Account Activation</td>\n",
       "      <td>Apply for Credit</td>\n",
       "      <td>Shopping</td>\n",
       "      <td>Place Order</td>\n",
       "      <td>Promotion and Discover</td>\n",
       "      <td>Downpayment</td>\n",
       "      <td>Order Shipped</td>\n",
       "    </tr>\n",
       "    <tr>\n",
       "      <th>88</th>\n",
       "      <td>617365</td>\n",
       "      <td>Promotion and Discover</td>\n",
       "      <td>Apply for Credit</td>\n",
       "      <td>Shopping</td>\n",
       "      <td>Account Activation</td>\n",
       "      <td>Place Order</td>\n",
       "      <td>Downpayment</td>\n",
       "      <td>Order Shipped</td>\n",
       "    </tr>\n",
       "    <tr>\n",
       "      <th>89</th>\n",
       "      <td>621568</td>\n",
       "      <td>Promotion and Discover</td>\n",
       "      <td>Shopping</td>\n",
       "      <td>Apply for Credit</td>\n",
       "      <td>Place Order</td>\n",
       "      <td>Downpayment</td>\n",
       "      <td>Account Activation</td>\n",
       "      <td>Order Shipped</td>\n",
       "    </tr>\n",
       "    <tr>\n",
       "      <th>90</th>\n",
       "      <td>630086</td>\n",
       "      <td>Apply for Credit</td>\n",
       "      <td>Shopping</td>\n",
       "      <td>Promotion and Discover</td>\n",
       "      <td>Downpayment</td>\n",
       "      <td>Place Order</td>\n",
       "      <td>Account Activation</td>\n",
       "      <td>Order Shipped</td>\n",
       "    </tr>\n",
       "    <tr>\n",
       "      <th>91</th>\n",
       "      <td>631372</td>\n",
       "      <td>Promotion and Discover</td>\n",
       "      <td>Account Activation</td>\n",
       "      <td>Apply for Credit</td>\n",
       "      <td>No Order Made</td>\n",
       "      <td></td>\n",
       "      <td></td>\n",
       "      <td></td>\n",
       "    </tr>\n",
       "    <tr>\n",
       "      <th>92</th>\n",
       "      <td>631577</td>\n",
       "      <td>Account Activation</td>\n",
       "      <td>Apply for Credit</td>\n",
       "      <td>Promotion and Discover</td>\n",
       "      <td>Shopping</td>\n",
       "      <td>Place Order</td>\n",
       "      <td>No Order Made</td>\n",
       "      <td></td>\n",
       "    </tr>\n",
       "    <tr>\n",
       "      <th>93</th>\n",
       "      <td>632180</td>\n",
       "      <td>Promotion and Discover</td>\n",
       "      <td>Apply for Credit</td>\n",
       "      <td>Shopping</td>\n",
       "      <td>Account Activation</td>\n",
       "      <td>Downpayment</td>\n",
       "      <td>Place Order</td>\n",
       "      <td>Order Shipped</td>\n",
       "    </tr>\n",
       "    <tr>\n",
       "      <th>94</th>\n",
       "      <td>633137</td>\n",
       "      <td>Promotion and Discover</td>\n",
       "      <td>Apply for Credit</td>\n",
       "      <td>Shopping</td>\n",
       "      <td>Place Order</td>\n",
       "      <td>Account Activation</td>\n",
       "      <td>Downpayment</td>\n",
       "      <td>Order Shipped</td>\n",
       "    </tr>\n",
       "    <tr>\n",
       "      <th>95</th>\n",
       "      <td>634267</td>\n",
       "      <td>Account Activation</td>\n",
       "      <td>Apply for Credit</td>\n",
       "      <td>Shopping</td>\n",
       "      <td>Downpayment</td>\n",
       "      <td>Place Order</td>\n",
       "      <td>Order Shipped</td>\n",
       "      <td></td>\n",
       "    </tr>\n",
       "    <tr>\n",
       "      <th>96</th>\n",
       "      <td>640285</td>\n",
       "      <td>Promotion and Discover</td>\n",
       "      <td>Apply for Credit</td>\n",
       "      <td>Shopping</td>\n",
       "      <td>Downpayment</td>\n",
       "      <td>Place Order</td>\n",
       "      <td>Account Activation</td>\n",
       "      <td>Order Shipped</td>\n",
       "    </tr>\n",
       "    <tr>\n",
       "      <th>97</th>\n",
       "      <td>640898</td>\n",
       "      <td>Apply for Credit</td>\n",
       "      <td>Account Activation</td>\n",
       "      <td>Shopping</td>\n",
       "      <td>Place Order</td>\n",
       "      <td>Downpayment</td>\n",
       "      <td>No Order Made</td>\n",
       "      <td></td>\n",
       "    </tr>\n",
       "    <tr>\n",
       "      <th>98</th>\n",
       "      <td>660002</td>\n",
       "      <td>Apply for Credit</td>\n",
       "      <td>Shopping</td>\n",
       "      <td>Downpayment</td>\n",
       "      <td>Place Order</td>\n",
       "      <td>Account Activation</td>\n",
       "      <td>Order Shipped</td>\n",
       "      <td></td>\n",
       "    </tr>\n",
       "    <tr>\n",
       "      <th>99</th>\n",
       "      <td>667439</td>\n",
       "      <td>Promotion and Discover</td>\n",
       "      <td>Apply for Credit</td>\n",
       "      <td>Shopping</td>\n",
       "      <td>Account Activation</td>\n",
       "      <td>No Order Made</td>\n",
       "      <td></td>\n",
       "      <td></td>\n",
       "    </tr>\n",
       "  </tbody>\n",
       "</table>\n",
       "</div>"
      ],
      "text/plain": [
       "sequence  combined_id                       1                       2  \\\n",
       "50             261748  Promotion and Discover        Apply for Credit   \n",
       "51             262639        Apply for Credit                Shopping   \n",
       "52             281901  Promotion and Discover        Apply for Credit   \n",
       "53             289015        Apply for Credit                Shopping   \n",
       "54             298391  Promotion and Discover        Apply for Credit   \n",
       "55             300504        Apply for Credit  Promotion and Discover   \n",
       "56             306928        Apply for Credit                Shopping   \n",
       "57             317454      Account Activation  Promotion and Discover   \n",
       "58             327620      Account Activation                Shopping   \n",
       "59             328001        Apply for Credit                Shopping   \n",
       "60             343641      Account Activation        Apply for Credit   \n",
       "61             347446  Promotion and Discover        Apply for Credit   \n",
       "62             349346        Apply for Credit                Shopping   \n",
       "63             355310      Account Activation        Apply for Credit   \n",
       "64             373898        Apply for Credit                Shopping   \n",
       "65             388772        Apply for Credit                Shopping   \n",
       "66             391601                Shopping        Apply for Credit   \n",
       "67             395357        Apply for Credit                Shopping   \n",
       "68             400697        Apply for Credit                Shopping   \n",
       "69             426146        Apply for Credit                Shopping   \n",
       "70             440986        Apply for Credit                Shopping   \n",
       "71             461663      Account Activation        Apply for Credit   \n",
       "72             462340                Shopping        Apply for Credit   \n",
       "73             464947  Promotion and Discover        Apply for Credit   \n",
       "74             483380        Apply for Credit                Shopping   \n",
       "75             501119        Apply for Credit      Account Activation   \n",
       "76             503590  Promotion and Discover        Apply for Credit   \n",
       "77             509270        Apply for Credit                Shopping   \n",
       "78             537896        Apply for Credit  Promotion and Discover   \n",
       "79             538721  Promotion and Discover        Apply for Credit   \n",
       "80             545378  Promotion and Discover        Apply for Credit   \n",
       "81             550475                Shopping        Apply for Credit   \n",
       "82             568408      Account Activation  Promotion and Discover   \n",
       "83             569112        Apply for Credit                Shopping   \n",
       "84             578047      Account Activation        Apply for Credit   \n",
       "85             607529  Promotion and Discover        Apply for Credit   \n",
       "86             615017      Account Activation        Apply for Credit   \n",
       "87             615120      Account Activation        Apply for Credit   \n",
       "88             617365  Promotion and Discover        Apply for Credit   \n",
       "89             621568  Promotion and Discover                Shopping   \n",
       "90             630086        Apply for Credit                Shopping   \n",
       "91             631372  Promotion and Discover      Account Activation   \n",
       "92             631577      Account Activation        Apply for Credit   \n",
       "93             632180  Promotion and Discover        Apply for Credit   \n",
       "94             633137  Promotion and Discover        Apply for Credit   \n",
       "95             634267      Account Activation        Apply for Credit   \n",
       "96             640285  Promotion and Discover        Apply for Credit   \n",
       "97             640898        Apply for Credit      Account Activation   \n",
       "98             660002        Apply for Credit                Shopping   \n",
       "99             667439  Promotion and Discover        Apply for Credit   \n",
       "\n",
       "sequence                       3                       4  \\\n",
       "50                      Shopping             Downpayment   \n",
       "51        Promotion and Discover             Place Order   \n",
       "52                      Shopping      Account Activation   \n",
       "53            Account Activation  Promotion and Discover   \n",
       "54                      Shopping      Account Activation   \n",
       "55                      Shopping             Place Order   \n",
       "56                   Downpayment             Place Order   \n",
       "57                      Shopping        Apply for Credit   \n",
       "58              Apply for Credit             Place Order   \n",
       "59        Promotion and Discover      Account Activation   \n",
       "60        Promotion and Discover                Shopping   \n",
       "61                      Shopping      Account Activation   \n",
       "62        Promotion and Discover      Account Activation   \n",
       "63                 No Order Made                           \n",
       "64        Promotion and Discover      Account Activation   \n",
       "65            Account Activation             Place Order   \n",
       "66                   Downpayment             Place Order   \n",
       "67        Promotion and Discover      Account Activation   \n",
       "68                   Place Order             Downpayment   \n",
       "69        Promotion and Discover      Account Activation   \n",
       "70        Promotion and Discover             Downpayment   \n",
       "71                      Shopping  Promotion and Discover   \n",
       "72        Promotion and Discover      Account Activation   \n",
       "73                      Shopping      Account Activation   \n",
       "74        Promotion and Discover             Place Order   \n",
       "75        Promotion and Discover                Shopping   \n",
       "76                      Shopping             Place Order   \n",
       "77                   Place Order             Downpayment   \n",
       "78            Account Activation                Shopping   \n",
       "79                      Shopping             Downpayment   \n",
       "80                      Shopping             Place Order   \n",
       "81                   Downpayment             Place Order   \n",
       "82              Apply for Credit                Shopping   \n",
       "83        Promotion and Discover      Account Activation   \n",
       "84                      Shopping             Downpayment   \n",
       "85                      Shopping             Downpayment   \n",
       "86        Promotion and Discover                Shopping   \n",
       "87                      Shopping             Place Order   \n",
       "88                      Shopping      Account Activation   \n",
       "89              Apply for Credit             Place Order   \n",
       "90        Promotion and Discover             Downpayment   \n",
       "91              Apply for Credit           No Order Made   \n",
       "92        Promotion and Discover                Shopping   \n",
       "93                      Shopping      Account Activation   \n",
       "94                      Shopping             Place Order   \n",
       "95                      Shopping             Downpayment   \n",
       "96                      Shopping             Downpayment   \n",
       "97                      Shopping             Place Order   \n",
       "98                   Downpayment             Place Order   \n",
       "99                      Shopping      Account Activation   \n",
       "\n",
       "sequence                       5                       6              7  \n",
       "50                   Place Order      Account Activation  Order Shipped  \n",
       "51                   Downpayment      Account Activation  Order Shipped  \n",
       "52                 No Order Made                                         \n",
       "53                   Place Order             Downpayment  Order Shipped  \n",
       "54                   Downpayment             Place Order  Order Shipped  \n",
       "55                   Downpayment      Account Activation  Order Shipped  \n",
       "56            Account Activation           Order Shipped                 \n",
       "57                   Downpayment             Place Order  Order Shipped  \n",
       "58                   Downpayment  Promotion and Discover  No Order Made  \n",
       "59                 No Order Made                                         \n",
       "60                   Place Order           No Order Made                 \n",
       "61                   Downpayment             Place Order  No Order Made  \n",
       "62                   Downpayment             Place Order  Order Shipped  \n",
       "63                                                                       \n",
       "64                   Place Order           No Order Made                 \n",
       "65                   Downpayment  Promotion and Discover  Order Shipped  \n",
       "66            Account Activation           Order Shipped                 \n",
       "67                   Place Order             Downpayment  Order Shipped  \n",
       "68            Account Activation           Order Shipped                 \n",
       "69                   Downpayment             Place Order  Order Shipped  \n",
       "70                   Place Order      Account Activation  Order Shipped  \n",
       "71                   Place Order             Downpayment  Order Shipped  \n",
       "72                   Downpayment             Place Order  Order Shipped  \n",
       "73                   Place Order             Downpayment  Order Shipped  \n",
       "74                   Downpayment      Account Activation  Order Shipped  \n",
       "75                   Downpayment             Place Order  Order Shipped  \n",
       "76                   Downpayment      Account Activation  Order Shipped  \n",
       "77            Account Activation           Order Shipped                 \n",
       "78                 No Order Made                                         \n",
       "79                   Place Order      Account Activation  Order Shipped  \n",
       "80                   Downpayment      Account Activation  Order Shipped  \n",
       "81            Account Activation           Order Shipped                 \n",
       "82                 No Order Made                                         \n",
       "83                   Downpayment             Place Order  Order Shipped  \n",
       "84                   Place Order           Order Shipped                 \n",
       "85                   Place Order      Account Activation  Order Shipped  \n",
       "86                   Downpayment             Place Order  Order Shipped  \n",
       "87        Promotion and Discover             Downpayment  Order Shipped  \n",
       "88                   Place Order             Downpayment  Order Shipped  \n",
       "89                   Downpayment      Account Activation  Order Shipped  \n",
       "90                   Place Order      Account Activation  Order Shipped  \n",
       "91                                                                       \n",
       "92                   Place Order           No Order Made                 \n",
       "93                   Downpayment             Place Order  Order Shipped  \n",
       "94            Account Activation             Downpayment  Order Shipped  \n",
       "95                   Place Order           Order Shipped                 \n",
       "96                   Place Order      Account Activation  Order Shipped  \n",
       "97                   Downpayment           No Order Made                 \n",
       "98            Account Activation           Order Shipped                 \n",
       "99                 No Order Made                                         "
      ]
     },
     "execution_count": 23,
     "metadata": {},
     "output_type": "execute_result"
    }
   ],
   "source": [
    "pivot_fingerhut_active_account[50:100]"
   ]
  },
  {
   "cell_type": "code",
   "execution_count": 24,
   "metadata": {},
   "outputs": [
    {
     "data": {
      "text/plain": [
       "237"
      ]
     },
     "execution_count": 24,
     "metadata": {},
     "output_type": "execute_result"
    }
   ],
   "source": []
  },
  {
   "cell_type": "code",
   "execution_count": 29,
   "metadata": {},
   "outputs": [
    {
     "data": {
      "application/vnd.plotly.v1+json": {
       "config": {
        "plotlyServerURL": "https://plot.ly"
       },
       "data": [
        {
         "link": {
          "label": [
           "Total Counts: 51",
           "Total Counts: 9",
           "Total Counts: 8",
           "Total Counts: 3",
           "Total Counts: 5",
           "Total Counts: 12",
           "Total Counts: 87",
           "Total Counts: 8",
           "Total Counts: 2",
           "Total Counts: 3",
           "Total Counts: 2",
           "Total Counts: 21",
           "Total Counts: 9",
           "Total Counts: 2",
           "Total Counts: 2",
           "Total Counts: 4",
           "Total Counts: 2",
           "Total Counts: 3",
           "Total Counts: 2",
           "Total Counts: 1",
           "Total Counts: 1",
           "Total Counts: 10",
           "Total Counts: 14",
           "Total Counts: 32",
           "Total Counts: 3",
           "Total Counts: 7",
           "Total Counts: 25",
           "Total Counts: 22",
           "Total Counts: 55",
           "Total Counts: 2",
           "Total Counts: 8",
           "Total Counts: 2",
           "Total Counts: 5",
           "Total Counts: 5",
           "Total Counts: 7",
           "Total Counts: 1",
           "Total Counts: 4",
           "Total Counts: 3",
           "Total Counts: 8",
           "Total Counts: 2",
           "Total Counts: 2",
           "Total Counts: 6",
           "Total Counts: 2",
           "Total Counts: 7",
           "Total Counts: 2",
           "Total Counts: 1",
           "Total Counts: 2",
           "Total Counts: 39",
           "Total Counts: 6",
           "Total Counts: 2",
           "Total Counts: 39",
           "Total Counts: 11",
           "Total Counts: 1",
           "Total Counts: 38",
           "Total Counts: 38",
           "Total Counts: 18",
           "Total Counts: 2",
           "Total Counts: 2",
           "Total Counts: 1",
           "Total Counts: 14",
           "Total Counts: 6",
           "Total Counts: 4",
           "Total Counts: 1",
           "Total Counts: 5",
           "Total Counts: 2",
           "Total Counts: 3",
           "Total Counts: 2",
           "Total Counts: 3",
           "Total Counts: 26",
           "Total Counts: 9",
           "Total Counts: 48",
           "Total Counts: 6",
           "Total Counts: 9",
           "Total Counts: 32",
           "Total Counts: 46",
           "Total Counts: 5",
           "Total Counts: 3",
           "Total Counts: 1",
           "Total Counts: 26",
           "Total Counts: 6",
           "Total Counts: 6",
           "Total Counts: 7",
           "Total Counts: 1",
           "Total Counts: 2",
           "Total Counts: 3",
           "Total Counts: 1",
           "Total Counts: 4",
           "Total Counts: 54",
           "Total Counts: 3",
           "Total Counts: 43",
           "Total Counts: 21",
           "Total Counts: 38",
           "Total Counts: 3",
           "Total Counts: 47",
           "Total Counts: 5",
           "Total Counts: 6",
           "Total Counts: 13"
          ],
          "source": [
           0,
           0,
           0,
           0,
           0,
           1,
           1,
           1,
           1,
           1,
           1,
           2,
           2,
           2,
           3,
           3,
           3,
           3,
           3,
           4,
           4,
           5,
           5,
           5,
           5,
           5,
           6,
           6,
           6,
           6,
           6,
           7,
           7,
           7,
           7,
           7,
           8,
           8,
           8,
           8,
           8,
           9,
           9,
           10,
           10,
           10,
           11,
           12,
           12,
           12,
           13,
           13,
           13,
           14,
           14,
           14,
           15,
           15,
           15,
           16,
           16,
           16,
           17,
           18,
           18,
           18,
           19,
           20,
           21,
           21,
           21,
           21,
           21,
           22,
           22,
           22,
           22,
           22,
           23,
           24,
           25,
           26,
           26,
           26,
           26,
           27,
           28,
           28,
           29,
           29,
           30,
           31,
           32,
           32,
           33,
           33,
           34
          ],
          "target": [
           5,
           7,
           8,
           9,
           10,
           5,
           6,
           8,
           9,
           10,
           11,
           6,
           7,
           8,
           5,
           6,
           7,
           9,
           10,
           5,
           8,
           12,
           13,
           14,
           15,
           16,
           12,
           13,
           14,
           15,
           18,
           12,
           13,
           14,
           16,
           20,
           12,
           13,
           16,
           18,
           20,
           12,
           14,
           13,
           16,
           17,
           19,
           21,
           24,
           26,
           22,
           26,
           27,
           21,
           22,
           23,
           21,
           22,
           23,
           21,
           22,
           23,
           25,
           21,
           22,
           23,
           25,
           25,
           28,
           30,
           32,
           33,
           34,
           28,
           29,
           30,
           33,
           34,
           31,
           31,
           31,
           30,
           32,
           33,
           34,
           32,
           35,
           36,
           35,
           36,
           37,
           37,
           35,
           36,
           35,
           36,
           37
          ],
          "value": [
           51,
           9,
           8,
           3,
           5,
           12,
           87,
           8,
           2,
           3,
           2,
           21,
           9,
           2,
           2,
           4,
           2,
           3,
           2,
           1,
           1,
           10,
           14,
           32,
           3,
           7,
           25,
           22,
           55,
           2,
           8,
           2,
           5,
           5,
           7,
           1,
           4,
           3,
           8,
           2,
           2,
           6,
           2,
           7,
           2,
           1,
           2,
           39,
           6,
           2,
           39,
           11,
           1,
           38,
           38,
           18,
           2,
           2,
           1,
           14,
           6,
           4,
           1,
           5,
           2,
           3,
           2,
           3,
           26,
           9,
           48,
           6,
           9,
           32,
           46,
           5,
           3,
           1,
           26,
           6,
           6,
           7,
           1,
           2,
           3,
           1,
           4,
           54,
           3,
           43,
           21,
           38,
           3,
           47,
           5,
           6,
           13
          ]
         },
         "node": {
          "color": [
           "blue",
           "green",
           "pink",
           "cyan",
           "yellow",
           "pink",
           "blue",
           "green",
           "cyan",
           "yellow",
           "purple",
           "red",
           "purple",
           "yellow",
           "cyan",
           "green",
           "blue",
           "orange",
           "pink",
           "black",
           "red",
           "yellow",
           "purple",
           "red",
           "orange",
           "black",
           "cyan",
           "pink",
           "cyan",
           "yellow",
           "orange",
           "black",
           "purple",
           "pink",
           "red",
           "red",
           "orange",
           "black"
          ],
          "label": [
           "Shopping",
           "Apply for Credit",
           "Promotion and Discover",
           "Account Activation",
           "Place Order",
           "Promotion and Discover",
           "Shopping",
           "Apply for Credit",
           "Account Activation",
           "Place Order",
           "Downpayment",
           "No Order Made",
           "Downpayment",
           "Place Order",
           "Account Activation",
           "Apply for Credit",
           "Shopping",
           "Order Shipped",
           "Promotion and Discover",
           "",
           "No Order Made",
           "Place Order",
           "Downpayment",
           "No Order Made",
           "Order Shipped",
           "",
           "Account Activation",
           "Promotion and Discover",
           "Account Activation",
           "Place Order",
           "Order Shipped",
           "",
           "Downpayment",
           "Promotion and Discover",
           "No Order Made",
           "No Order Made",
           "Order Shipped",
           ""
          ],
          "line": {
           "color": "black",
           "width": 0.5
          },
          "pad": 15,
          "thickness": 20
         },
         "type": "sankey"
        }
       ],
       "layout": {
        "font": {
         "size": 10
        },
        "template": {
         "data": {
          "bar": [
           {
            "error_x": {
             "color": "#2a3f5f"
            },
            "error_y": {
             "color": "#2a3f5f"
            },
            "marker": {
             "line": {
              "color": "#E5ECF6",
              "width": 0.5
             },
             "pattern": {
              "fillmode": "overlay",
              "size": 10,
              "solidity": 0.2
             }
            },
            "type": "bar"
           }
          ],
          "barpolar": [
           {
            "marker": {
             "line": {
              "color": "#E5ECF6",
              "width": 0.5
             },
             "pattern": {
              "fillmode": "overlay",
              "size": 10,
              "solidity": 0.2
             }
            },
            "type": "barpolar"
           }
          ],
          "carpet": [
           {
            "aaxis": {
             "endlinecolor": "#2a3f5f",
             "gridcolor": "white",
             "linecolor": "white",
             "minorgridcolor": "white",
             "startlinecolor": "#2a3f5f"
            },
            "baxis": {
             "endlinecolor": "#2a3f5f",
             "gridcolor": "white",
             "linecolor": "white",
             "minorgridcolor": "white",
             "startlinecolor": "#2a3f5f"
            },
            "type": "carpet"
           }
          ],
          "choropleth": [
           {
            "colorbar": {
             "outlinewidth": 0,
             "ticks": ""
            },
            "type": "choropleth"
           }
          ],
          "contour": [
           {
            "colorbar": {
             "outlinewidth": 0,
             "ticks": ""
            },
            "colorscale": [
             [
              0,
              "#0d0887"
             ],
             [
              0.1111111111111111,
              "#46039f"
             ],
             [
              0.2222222222222222,
              "#7201a8"
             ],
             [
              0.3333333333333333,
              "#9c179e"
             ],
             [
              0.4444444444444444,
              "#bd3786"
             ],
             [
              0.5555555555555556,
              "#d8576b"
             ],
             [
              0.6666666666666666,
              "#ed7953"
             ],
             [
              0.7777777777777778,
              "#fb9f3a"
             ],
             [
              0.8888888888888888,
              "#fdca26"
             ],
             [
              1,
              "#f0f921"
             ]
            ],
            "type": "contour"
           }
          ],
          "contourcarpet": [
           {
            "colorbar": {
             "outlinewidth": 0,
             "ticks": ""
            },
            "type": "contourcarpet"
           }
          ],
          "heatmap": [
           {
            "colorbar": {
             "outlinewidth": 0,
             "ticks": ""
            },
            "colorscale": [
             [
              0,
              "#0d0887"
             ],
             [
              0.1111111111111111,
              "#46039f"
             ],
             [
              0.2222222222222222,
              "#7201a8"
             ],
             [
              0.3333333333333333,
              "#9c179e"
             ],
             [
              0.4444444444444444,
              "#bd3786"
             ],
             [
              0.5555555555555556,
              "#d8576b"
             ],
             [
              0.6666666666666666,
              "#ed7953"
             ],
             [
              0.7777777777777778,
              "#fb9f3a"
             ],
             [
              0.8888888888888888,
              "#fdca26"
             ],
             [
              1,
              "#f0f921"
             ]
            ],
            "type": "heatmap"
           }
          ],
          "heatmapgl": [
           {
            "colorbar": {
             "outlinewidth": 0,
             "ticks": ""
            },
            "colorscale": [
             [
              0,
              "#0d0887"
             ],
             [
              0.1111111111111111,
              "#46039f"
             ],
             [
              0.2222222222222222,
              "#7201a8"
             ],
             [
              0.3333333333333333,
              "#9c179e"
             ],
             [
              0.4444444444444444,
              "#bd3786"
             ],
             [
              0.5555555555555556,
              "#d8576b"
             ],
             [
              0.6666666666666666,
              "#ed7953"
             ],
             [
              0.7777777777777778,
              "#fb9f3a"
             ],
             [
              0.8888888888888888,
              "#fdca26"
             ],
             [
              1,
              "#f0f921"
             ]
            ],
            "type": "heatmapgl"
           }
          ],
          "histogram": [
           {
            "marker": {
             "pattern": {
              "fillmode": "overlay",
              "size": 10,
              "solidity": 0.2
             }
            },
            "type": "histogram"
           }
          ],
          "histogram2d": [
           {
            "colorbar": {
             "outlinewidth": 0,
             "ticks": ""
            },
            "colorscale": [
             [
              0,
              "#0d0887"
             ],
             [
              0.1111111111111111,
              "#46039f"
             ],
             [
              0.2222222222222222,
              "#7201a8"
             ],
             [
              0.3333333333333333,
              "#9c179e"
             ],
             [
              0.4444444444444444,
              "#bd3786"
             ],
             [
              0.5555555555555556,
              "#d8576b"
             ],
             [
              0.6666666666666666,
              "#ed7953"
             ],
             [
              0.7777777777777778,
              "#fb9f3a"
             ],
             [
              0.8888888888888888,
              "#fdca26"
             ],
             [
              1,
              "#f0f921"
             ]
            ],
            "type": "histogram2d"
           }
          ],
          "histogram2dcontour": [
           {
            "colorbar": {
             "outlinewidth": 0,
             "ticks": ""
            },
            "colorscale": [
             [
              0,
              "#0d0887"
             ],
             [
              0.1111111111111111,
              "#46039f"
             ],
             [
              0.2222222222222222,
              "#7201a8"
             ],
             [
              0.3333333333333333,
              "#9c179e"
             ],
             [
              0.4444444444444444,
              "#bd3786"
             ],
             [
              0.5555555555555556,
              "#d8576b"
             ],
             [
              0.6666666666666666,
              "#ed7953"
             ],
             [
              0.7777777777777778,
              "#fb9f3a"
             ],
             [
              0.8888888888888888,
              "#fdca26"
             ],
             [
              1,
              "#f0f921"
             ]
            ],
            "type": "histogram2dcontour"
           }
          ],
          "mesh3d": [
           {
            "colorbar": {
             "outlinewidth": 0,
             "ticks": ""
            },
            "type": "mesh3d"
           }
          ],
          "parcoords": [
           {
            "line": {
             "colorbar": {
              "outlinewidth": 0,
              "ticks": ""
             }
            },
            "type": "parcoords"
           }
          ],
          "pie": [
           {
            "automargin": true,
            "type": "pie"
           }
          ],
          "scatter": [
           {
            "marker": {
             "colorbar": {
              "outlinewidth": 0,
              "ticks": ""
             }
            },
            "type": "scatter"
           }
          ],
          "scatter3d": [
           {
            "line": {
             "colorbar": {
              "outlinewidth": 0,
              "ticks": ""
             }
            },
            "marker": {
             "colorbar": {
              "outlinewidth": 0,
              "ticks": ""
             }
            },
            "type": "scatter3d"
           }
          ],
          "scattercarpet": [
           {
            "marker": {
             "colorbar": {
              "outlinewidth": 0,
              "ticks": ""
             }
            },
            "type": "scattercarpet"
           }
          ],
          "scattergeo": [
           {
            "marker": {
             "colorbar": {
              "outlinewidth": 0,
              "ticks": ""
             }
            },
            "type": "scattergeo"
           }
          ],
          "scattergl": [
           {
            "marker": {
             "colorbar": {
              "outlinewidth": 0,
              "ticks": ""
             }
            },
            "type": "scattergl"
           }
          ],
          "scattermapbox": [
           {
            "marker": {
             "colorbar": {
              "outlinewidth": 0,
              "ticks": ""
             }
            },
            "type": "scattermapbox"
           }
          ],
          "scatterpolar": [
           {
            "marker": {
             "colorbar": {
              "outlinewidth": 0,
              "ticks": ""
             }
            },
            "type": "scatterpolar"
           }
          ],
          "scatterpolargl": [
           {
            "marker": {
             "colorbar": {
              "outlinewidth": 0,
              "ticks": ""
             }
            },
            "type": "scatterpolargl"
           }
          ],
          "scatterternary": [
           {
            "marker": {
             "colorbar": {
              "outlinewidth": 0,
              "ticks": ""
             }
            },
            "type": "scatterternary"
           }
          ],
          "surface": [
           {
            "colorbar": {
             "outlinewidth": 0,
             "ticks": ""
            },
            "colorscale": [
             [
              0,
              "#0d0887"
             ],
             [
              0.1111111111111111,
              "#46039f"
             ],
             [
              0.2222222222222222,
              "#7201a8"
             ],
             [
              0.3333333333333333,
              "#9c179e"
             ],
             [
              0.4444444444444444,
              "#bd3786"
             ],
             [
              0.5555555555555556,
              "#d8576b"
             ],
             [
              0.6666666666666666,
              "#ed7953"
             ],
             [
              0.7777777777777778,
              "#fb9f3a"
             ],
             [
              0.8888888888888888,
              "#fdca26"
             ],
             [
              1,
              "#f0f921"
             ]
            ],
            "type": "surface"
           }
          ],
          "table": [
           {
            "cells": {
             "fill": {
              "color": "#EBF0F8"
             },
             "line": {
              "color": "white"
             }
            },
            "header": {
             "fill": {
              "color": "#C8D4E3"
             },
             "line": {
              "color": "white"
             }
            },
            "type": "table"
           }
          ]
         },
         "layout": {
          "annotationdefaults": {
           "arrowcolor": "#2a3f5f",
           "arrowhead": 0,
           "arrowwidth": 1
          },
          "autotypenumbers": "strict",
          "coloraxis": {
           "colorbar": {
            "outlinewidth": 0,
            "ticks": ""
           }
          },
          "colorscale": {
           "diverging": [
            [
             0,
             "#8e0152"
            ],
            [
             0.1,
             "#c51b7d"
            ],
            [
             0.2,
             "#de77ae"
            ],
            [
             0.3,
             "#f1b6da"
            ],
            [
             0.4,
             "#fde0ef"
            ],
            [
             0.5,
             "#f7f7f7"
            ],
            [
             0.6,
             "#e6f5d0"
            ],
            [
             0.7,
             "#b8e186"
            ],
            [
             0.8,
             "#7fbc41"
            ],
            [
             0.9,
             "#4d9221"
            ],
            [
             1,
             "#276419"
            ]
           ],
           "sequential": [
            [
             0,
             "#0d0887"
            ],
            [
             0.1111111111111111,
             "#46039f"
            ],
            [
             0.2222222222222222,
             "#7201a8"
            ],
            [
             0.3333333333333333,
             "#9c179e"
            ],
            [
             0.4444444444444444,
             "#bd3786"
            ],
            [
             0.5555555555555556,
             "#d8576b"
            ],
            [
             0.6666666666666666,
             "#ed7953"
            ],
            [
             0.7777777777777778,
             "#fb9f3a"
            ],
            [
             0.8888888888888888,
             "#fdca26"
            ],
            [
             1,
             "#f0f921"
            ]
           ],
           "sequentialminus": [
            [
             0,
             "#0d0887"
            ],
            [
             0.1111111111111111,
             "#46039f"
            ],
            [
             0.2222222222222222,
             "#7201a8"
            ],
            [
             0.3333333333333333,
             "#9c179e"
            ],
            [
             0.4444444444444444,
             "#bd3786"
            ],
            [
             0.5555555555555556,
             "#d8576b"
            ],
            [
             0.6666666666666666,
             "#ed7953"
            ],
            [
             0.7777777777777778,
             "#fb9f3a"
            ],
            [
             0.8888888888888888,
             "#fdca26"
            ],
            [
             1,
             "#f0f921"
            ]
           ]
          },
          "colorway": [
           "#636efa",
           "#EF553B",
           "#00cc96",
           "#ab63fa",
           "#FFA15A",
           "#19d3f3",
           "#FF6692",
           "#B6E880",
           "#FF97FF",
           "#FECB52"
          ],
          "font": {
           "color": "#2a3f5f"
          },
          "geo": {
           "bgcolor": "white",
           "lakecolor": "white",
           "landcolor": "#E5ECF6",
           "showlakes": true,
           "showland": true,
           "subunitcolor": "white"
          },
          "hoverlabel": {
           "align": "left"
          },
          "hovermode": "closest",
          "mapbox": {
           "style": "light"
          },
          "paper_bgcolor": "white",
          "plot_bgcolor": "#E5ECF6",
          "polar": {
           "angularaxis": {
            "gridcolor": "white",
            "linecolor": "white",
            "ticks": ""
           },
           "bgcolor": "#E5ECF6",
           "radialaxis": {
            "gridcolor": "white",
            "linecolor": "white",
            "ticks": ""
           }
          },
          "scene": {
           "xaxis": {
            "backgroundcolor": "#E5ECF6",
            "gridcolor": "white",
            "gridwidth": 2,
            "linecolor": "white",
            "showbackground": true,
            "ticks": "",
            "zerolinecolor": "white"
           },
           "yaxis": {
            "backgroundcolor": "#E5ECF6",
            "gridcolor": "white",
            "gridwidth": 2,
            "linecolor": "white",
            "showbackground": true,
            "ticks": "",
            "zerolinecolor": "white"
           },
           "zaxis": {
            "backgroundcolor": "#E5ECF6",
            "gridcolor": "white",
            "gridwidth": 2,
            "linecolor": "white",
            "showbackground": true,
            "ticks": "",
            "zerolinecolor": "white"
           }
          },
          "shapedefaults": {
           "line": {
            "color": "#2a3f5f"
           }
          },
          "ternary": {
           "aaxis": {
            "gridcolor": "white",
            "linecolor": "white",
            "ticks": ""
           },
           "baxis": {
            "gridcolor": "white",
            "linecolor": "white",
            "ticks": ""
           },
           "bgcolor": "#E5ECF6",
           "caxis": {
            "gridcolor": "white",
            "linecolor": "white",
            "ticks": ""
           }
          },
          "title": {
           "x": 0.05
          },
          "xaxis": {
           "automargin": true,
           "gridcolor": "white",
           "linecolor": "white",
           "ticks": "",
           "title": {
            "standoff": 15
           },
           "zerolinecolor": "white",
           "zerolinewidth": 2
          },
          "yaxis": {
           "automargin": true,
           "gridcolor": "white",
           "linecolor": "white",
           "ticks": "",
           "title": {
            "standoff": 15
           },
           "zerolinecolor": "white",
           "zerolinewidth": 2
          }
         }
        },
        "title": {
         "text": "Journey flow of customers with account activation (237 random customers)"
        }
       }
      }
     },
     "metadata": {},
     "output_type": "display_data"
    }
   ],
   "source": [
    "import pandas as pd\n",
    "import plotly.graph_objects as go\n",
    "\n",
    "def generate_sankey_chart_data(df: pd.DataFrame):\n",
    "    # list of list: each list is the set of nodes in each tier/column\n",
    "    column_values = [df[col] for col in df.columns]\n",
    "\n",
    "    # this generates the labels for the sankey by taking all the unique values\n",
    "    labels = sum([list(node_values.unique()) for node_values in column_values], [])\n",
    "\n",
    "    # initializes a dict of dicts (one dict per tier)\n",
    "    link_mappings = {col: {} for col in df.columns}\n",
    "\n",
    "    # each dict maps a node to a unique number value\n",
    "    i = 0\n",
    "    for col, nodes in zip(df.columns, column_values):\n",
    "        for node in nodes.unique():\n",
    "            link_mappings[col][node] = i\n",
    "            i += 1\n",
    "\n",
    "    # specifying which columns are serving as sources and which as targets\n",
    "    source_cols = df.columns[:-1]\n",
    "    target_cols = df.columns[1:]\n",
    "    links = []\n",
    "\n",
    "    # loop to create a list of links in the format [((src, tgt), wt), (), ()...]\n",
    "    for source_col, target_col in zip(source_cols, target_cols):\n",
    "        for source, target in zip(df[source_col], df[target_col]):\n",
    "            links.append(\n",
    "                (\n",
    "                    link_mappings[source_col][source],\n",
    "                    link_mappings[target_col][target],\n",
    "                    1  # Weight is 1 for counting transitions\n",
    "                )\n",
    "            )\n",
    "\n",
    "    # creating a dataframe with 3 columns: source, target, and weight\n",
    "    df_links = pd.DataFrame(links, columns=[\"source\", \"target\", \"weight\"])\n",
    "\n",
    "    # generating three lists needed for the sankey visual\n",
    "    sources = df_links[\"source\"]\n",
    "    targets = df_links[\"target\"]\n",
    "    weights = df_links[\"weight\"]\n",
    "\n",
    "    return labels, sources, targets, weights\n",
    "\n",
    "\n",
    "# Your DataFrame\n",
    "df = pivot_fingerhut_active_account.iloc[:, 2:]\n",
    "\n",
    "# Call the generate_sankey_chart_data function\n",
    "labels, sources, targets, weights = generate_sankey_chart_data(df=df)\n",
    "\n",
    "\n",
    "# Map colors to labels\n",
    "label_colors = {\n",
    "    'Promotion and Discover': 'pink',\n",
    "    'Apply for Credit': 'green',\n",
    "    'Shopping': 'blue',\n",
    "    'Account Activation': 'cyan',\n",
    "    'Downpayment': 'purple',\n",
    "    'Place Order': 'yellow',\n",
    "    'Order Shipped': 'orange',\n",
    "    'No Order Made': 'red',\n",
    "    '': 'black'  # Adjust this for labels with empty strings\n",
    "}\n",
    "\n",
    "# Create a DataFrame to aggregate weights\n",
    "df_links_aggregated = pd.DataFrame({'source': sources, 'target': targets, 'weight': weights})\n",
    "\n",
    "# Aggregate weights for the same source and target pairs\n",
    "df_links_aggregated = df_links_aggregated.groupby(['source', 'target'], as_index=False).agg({'weight': 'sum'})\n",
    "\n",
    "# Create the Sankey diagram\n",
    "fig = go.Figure(data=[go.Sankey(\n",
    "    node=dict(\n",
    "        pad=15,\n",
    "        thickness=20,\n",
    "        line=dict(color=\"black\", width=0.5),\n",
    "        label=labels,\n",
    "        color=[label_colors[label] for label in labels]  # Map colors based on the dictionary\n",
    "    ),\n",
    "    link=dict(\n",
    "        source=df_links_aggregated['source'],\n",
    "        target=df_links_aggregated['target'],\n",
    "        value=df_links_aggregated['weight'],\n",
    "        # Add labels for each link (source to target) with the total counts\n",
    "        label=[f\"Total Counts: {weight}\" for weight in df_links_aggregated['weight']]\n",
    "    )\n",
    ")])\n",
    "\n",
    "fig.update_layout(title_text=\"Journey flow of customers with account activation (237 random customers)\", font_size=10)\n",
    "fig.show()\n"
   ]
  },
  {
   "cell_type": "markdown",
   "metadata": {},
   "source": [
    "Key points:\n",
    "\n",
    "- A large proportion of customers exposed to the promotion and discover stage move onto: Apply for Credit, Account Activation, Downpayment\n",
    "- A large proportion of customers move onto Downpayment or Place Order after Account Activation, which may indicate that Account Activation is a significant factor to the customer's decision to purchase. This will require further investigation and hypothesis testing. If it holds to be true then we can focus more on increaseing Account Activation rate than other stages."
   ]
  }
 ],
 "metadata": {
  "kernelspec": {
   "display_name": "base",
   "language": "python",
   "name": "python3"
  },
  "language_info": {
   "codemirror_mode": {
    "name": "ipython",
    "version": 3
   },
   "file_extension": ".py",
   "mimetype": "text/x-python",
   "name": "python",
   "nbconvert_exporter": "python",
   "pygments_lexer": "ipython3",
   "version": "3.9.7"
  }
 },
 "nbformat": 4,
 "nbformat_minor": 2
}
