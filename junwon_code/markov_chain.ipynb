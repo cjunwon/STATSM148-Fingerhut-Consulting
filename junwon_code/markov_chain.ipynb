{
 "cells": [
  {
   "cell_type": "code",
   "execution_count": 1,
   "metadata": {},
   "outputs": [],
   "source": [
    "import pickle as pkl\n",
    "import numpy as np\n",
    "import pandas as pd"
   ]
  },
  {
   "cell_type": "code",
   "execution_count": 2,
   "metadata": {},
   "outputs": [],
   "source": [
    "# import fingerhut_combined_grouped.pkl\n",
    "with open('../Dataset/fingerhut_combined_grouped.pkl', 'rb') as f:\n",
    "    fingerhut_combined_grouped = pkl.load(f)"
   ]
  },
  {
   "cell_type": "code",
   "execution_count": 3,
   "metadata": {},
   "outputs": [
    {
     "data": {
      "text/html": [
       "<div>\n",
       "<style scoped>\n",
       "    .dataframe tbody tr th:only-of-type {\n",
       "        vertical-align: middle;\n",
       "    }\n",
       "\n",
       "    .dataframe tbody tr th {\n",
       "        vertical-align: top;\n",
       "    }\n",
       "\n",
       "    .dataframe thead th {\n",
       "        text-align: right;\n",
       "    }\n",
       "</style>\n",
       "<table border=\"1\" class=\"dataframe\">\n",
       "  <thead>\n",
       "    <tr style=\"text-align: right;\">\n",
       "      <th></th>\n",
       "      <th>combined_id</th>\n",
       "      <th>ed_id</th>\n",
       "      <th>stage</th>\n",
       "    </tr>\n",
       "  </thead>\n",
       "  <tbody>\n",
       "    <tr>\n",
       "      <th>0</th>\n",
       "      <td>0</td>\n",
       "      <td>[2, 12, 1, 4, 4, 4, 11, 1, 5, 6, 1, 1, 4, 11, ...</td>\n",
       "      <td>[Discover, Apply for Credit, Promotion Created...</td>\n",
       "    </tr>\n",
       "    <tr>\n",
       "      <th>1</th>\n",
       "      <td>1</td>\n",
       "      <td>[2, 4, 11, 4, 4, 11, 4, 4, 4, 11, 4, 4, 5, 4, ...</td>\n",
       "      <td>[Discover, First Purchase, First Purchase, Fir...</td>\n",
       "    </tr>\n",
       "    <tr>\n",
       "      <th>2</th>\n",
       "      <td>2</td>\n",
       "      <td>[19, 19, 19, 19, 19, 19, 19, 19, 3, 19, 12, 4,...</td>\n",
       "      <td>[Apply for Credit, Apply for Credit, Apply for...</td>\n",
       "    </tr>\n",
       "    <tr>\n",
       "      <th>3</th>\n",
       "      <td>3</td>\n",
       "      <td>[12, 2, 22]</td>\n",
       "      <td>[Apply for Credit, Discover, Discover]</td>\n",
       "    </tr>\n",
       "    <tr>\n",
       "      <th>4</th>\n",
       "      <td>4</td>\n",
       "      <td>[12, 4, 4, 19, 5, 4, 11, 1, 5, 6, 29, 4, 11, 5...</td>\n",
       "      <td>[Apply for Credit, First Purchase, First Purch...</td>\n",
       "    </tr>\n",
       "    <tr>\n",
       "      <th>...</th>\n",
       "      <td>...</td>\n",
       "      <td>...</td>\n",
       "      <td>...</td>\n",
       "    </tr>\n",
       "    <tr>\n",
       "      <th>1665426</th>\n",
       "      <td>1665426</td>\n",
       "      <td>[12, 4, 4, 4, 4, 4, 4, 11, 4, 11, 4, 4, 4, 4, ...</td>\n",
       "      <td>[Apply for Credit, First Purchase, First Purch...</td>\n",
       "    </tr>\n",
       "    <tr>\n",
       "      <th>1665427</th>\n",
       "      <td>1665427</td>\n",
       "      <td>[3, 3, 3, 3, 3, 12, 4, 4, 4, 4, 4, 4, 1, 1, 4,...</td>\n",
       "      <td>[Apply for Credit, Apply for Credit, Apply for...</td>\n",
       "    </tr>\n",
       "    <tr>\n",
       "      <th>1665428</th>\n",
       "      <td>1665428</td>\n",
       "      <td>[5, 5, 19, 19, 19, 19, 19, 19, 19, 19, 3, 12, ...</td>\n",
       "      <td>[First Purchase, First Purchase, Apply for Cre...</td>\n",
       "    </tr>\n",
       "    <tr>\n",
       "      <th>1665429</th>\n",
       "      <td>1665429</td>\n",
       "      <td>[2, 12, 4, 4, 4, 4, 4, 11, 5, 6, 5, 4, 4, 4, 1...</td>\n",
       "      <td>[Discover, Apply for Credit, First Purchase, F...</td>\n",
       "    </tr>\n",
       "    <tr>\n",
       "      <th>1665430</th>\n",
       "      <td>1665430</td>\n",
       "      <td>[2, 19, 19, 3, 19, 3, 19, 19, 19, 3, 19, 19, 3...</td>\n",
       "      <td>[Discover, Apply for Credit, Apply for Credit,...</td>\n",
       "    </tr>\n",
       "  </tbody>\n",
       "</table>\n",
       "<p>1665431 rows × 3 columns</p>\n",
       "</div>"
      ],
      "text/plain": [
       "         combined_id                                              ed_id  \\\n",
       "0                  0  [2, 12, 1, 4, 4, 4, 11, 1, 5, 6, 1, 1, 4, 11, ...   \n",
       "1                  1  [2, 4, 11, 4, 4, 11, 4, 4, 4, 11, 4, 4, 5, 4, ...   \n",
       "2                  2  [19, 19, 19, 19, 19, 19, 19, 19, 3, 19, 12, 4,...   \n",
       "3                  3                                        [12, 2, 22]   \n",
       "4                  4  [12, 4, 4, 19, 5, 4, 11, 1, 5, 6, 29, 4, 11, 5...   \n",
       "...              ...                                                ...   \n",
       "1665426      1665426  [12, 4, 4, 4, 4, 4, 4, 11, 4, 11, 4, 4, 4, 4, ...   \n",
       "1665427      1665427  [3, 3, 3, 3, 3, 12, 4, 4, 4, 4, 4, 4, 1, 1, 4,...   \n",
       "1665428      1665428  [5, 5, 19, 19, 19, 19, 19, 19, 19, 19, 3, 12, ...   \n",
       "1665429      1665429  [2, 12, 4, 4, 4, 4, 4, 11, 5, 6, 5, 4, 4, 4, 1...   \n",
       "1665430      1665430  [2, 19, 19, 3, 19, 3, 19, 19, 19, 3, 19, 19, 3...   \n",
       "\n",
       "                                                     stage  \n",
       "0        [Discover, Apply for Credit, Promotion Created...  \n",
       "1        [Discover, First Purchase, First Purchase, Fir...  \n",
       "2        [Apply for Credit, Apply for Credit, Apply for...  \n",
       "3                   [Apply for Credit, Discover, Discover]  \n",
       "4        [Apply for Credit, First Purchase, First Purch...  \n",
       "...                                                    ...  \n",
       "1665426  [Apply for Credit, First Purchase, First Purch...  \n",
       "1665427  [Apply for Credit, Apply for Credit, Apply for...  \n",
       "1665428  [First Purchase, First Purchase, Apply for Cre...  \n",
       "1665429  [Discover, Apply for Credit, First Purchase, F...  \n",
       "1665430  [Discover, Apply for Credit, Apply for Credit,...  \n",
       "\n",
       "[1665431 rows x 3 columns]"
      ]
     },
     "execution_count": 3,
     "metadata": {},
     "output_type": "execute_result"
    }
   ],
   "source": [
    "fingerhut_combined_grouped"
   ]
  },
  {
   "cell_type": "code",
   "execution_count": 7,
   "metadata": {},
   "outputs": [],
   "source": [
    "from markovclick import dummy\n",
    "clickstream = dummy.gen_random_clickstream(100, 12)"
   ]
  },
  {
   "cell_type": "code",
   "execution_count": 8,
   "metadata": {},
   "outputs": [
    {
     "data": {
      "text/plain": [
       "[['P10', 'P0', 'P5', 'P11', 'P6', 'P11', 'P8', 'P6', 'P6'],\n",
       " ['P7', 'P4', 'P10', 'P7', 'P6', 'P4', 'P10', 'P3', 'P5', 'P0', 'P5'],\n",
       " ['P3', 'P3', 'P10', 'P10', 'P2', 'P9', 'P7', 'P4', 'P8'],\n",
       " ['P5', 'P11', 'P10', 'P2', 'P4', 'P10', 'P7', 'P9', 'P1', 'P9'],\n",
       " ['P6', 'P0', 'P9', 'P1', 'P4', 'P5', 'P2', 'P0', 'P4'],\n",
       " ['P0', 'P4', 'P7', 'P6', 'P4', 'P11', 'P1', 'P10'],\n",
       " ['P6', 'P0', 'P1', 'P3', 'P6', 'P4', 'P10', 'P2', 'P1', 'P1', 'P9'],\n",
       " ['P9', 'P6', 'P9', 'P10', 'P0', 'P6', 'P11', 'P7', 'P5', 'P8', 'P4'],\n",
       " ['P6', 'P7', 'P4', 'P5', 'P2', 'P0', 'P2', 'P8', 'P3'],\n",
       " ['P10', 'P9', 'P6', 'P7', 'P3', 'P4', 'P11', 'P3'],\n",
       " ['P3', 'P4', 'P11', 'P8', 'P5', 'P7', 'P8', 'P11'],\n",
       " ['P4', 'P2', 'P7', 'P9', 'P2', 'P4', 'P4', 'P10', 'P11'],\n",
       " ['P0', 'P3', 'P10', 'P10', 'P2', 'P1', 'P8', 'P4'],\n",
       " ['P6', 'P9', 'P5', 'P0', 'P9', 'P10', 'P0', 'P8', 'P8', 'P1', 'P11'],\n",
       " ['P9', 'P9', 'P1', 'P5', 'P7', 'P0', 'P11', 'P6', 'P6', 'P5'],\n",
       " ['P1', 'P8', 'P2', 'P2', 'P2', 'P7', 'P7', 'P11'],\n",
       " ['P3', 'P10', 'P0', 'P3', 'P5', 'P1', 'P11', 'P5', 'P7', 'P8'],\n",
       " ['P6', 'P5', 'P5', 'P6', 'P11', 'P8', 'P9', 'P2'],\n",
       " ['P7', 'P5', 'P3', 'P0', 'P10', 'P2', 'P9', 'P4', 'P10', 'P11'],\n",
       " ['P0', 'P8', 'P5', 'P0', 'P3', 'P11', 'P0', 'P1', 'P7', 'P1'],\n",
       " ['P10', 'P2', 'P8', 'P9', 'P1', 'P0', 'P7', 'P8', 'P11', 'P6'],\n",
       " ['P1', 'P2', 'P9', 'P1', 'P0', 'P11', 'P9', 'P5', 'P1', 'P6', 'P0'],\n",
       " ['P2', 'P3', 'P0', 'P3', 'P8', 'P8', 'P11', 'P6', 'P6', 'P1'],\n",
       " ['P8', 'P11', 'P6', 'P3', 'P7', 'P3', 'P2', 'P6', 'P2', 'P8'],\n",
       " ['P10', 'P3', 'P4', 'P8', 'P10', 'P2', 'P8', 'P4', 'P1'],\n",
       " ['P6', 'P1', 'P8', 'P10', 'P0', 'P8', 'P0', 'P10', 'P6', 'P4'],\n",
       " ['P1', 'P5', 'P2', 'P3', 'P3', 'P7', 'P6', 'P8', 'P7', 'P10', 'P6'],\n",
       " ['P5', 'P0', 'P7', 'P1', 'P7', 'P10', 'P11', 'P10', 'P5', 'P5'],\n",
       " ['P7', 'P1', 'P3', 'P11', 'P0', 'P6', 'P9', 'P10', 'P0'],\n",
       " ['P4', 'P2', 'P4', 'P0', 'P6', 'P6', 'P8', 'P5', 'P0'],\n",
       " ['P0', 'P4', 'P1', 'P7', 'P2', 'P8', 'P6', 'P0', 'P6'],\n",
       " ['P3', 'P7', 'P3', 'P5', 'P7', 'P5', 'P9', 'P0', 'P0', 'P6'],\n",
       " ['P8', 'P9', 'P7', 'P11', 'P4', 'P6', 'P5', 'P3'],\n",
       " ['P1', 'P4', 'P11', 'P4', 'P3', 'P4', 'P9', 'P5'],\n",
       " ['P11', 'P0', 'P9', 'P1', 'P4', 'P5', 'P7', 'P9', 'P10', 'P5', 'P3'],\n",
       " ['P4', 'P7', 'P1', 'P1', 'P3', 'P4', 'P1', 'P6', 'P4'],\n",
       " ['P4', 'P4', 'P3', 'P9', 'P1', 'P10', 'P0', 'P2', 'P7'],\n",
       " ['P6', 'P11', 'P8', 'P10', 'P11', 'P10', 'P0', 'P10'],\n",
       " ['P2', 'P4', 'P9', 'P3', 'P7', 'P10', 'P0', 'P1', 'P1', 'P7'],\n",
       " ['P9', 'P0', 'P0', 'P11', 'P5', 'P5', 'P1', 'P0', 'P7', 'P8', 'P4'],\n",
       " ['P9', 'P10', 'P8', 'P3', 'P9', 'P8', 'P9', 'P9', 'P11', 'P3', 'P8'],\n",
       " ['P5', 'P9', 'P5', 'P8', 'P7', 'P0', 'P1', 'P2', 'P1', 'P3'],\n",
       " ['P8', 'P3', 'P7', 'P1', 'P0', 'P10', 'P6', 'P1', 'P5', 'P0', 'P7'],\n",
       " ['P0', 'P3', 'P3', 'P8', 'P5', 'P9', 'P9', 'P6'],\n",
       " ['P4', 'P8', 'P3', 'P2', 'P3', 'P10', 'P8', 'P6', 'P11', 'P3'],\n",
       " ['P2', 'P7', 'P4', 'P9', 'P7', 'P7', 'P10', 'P7', 'P11', 'P8', 'P7'],\n",
       " ['P7', 'P7', 'P4', 'P1', 'P4', 'P8', 'P8', 'P8', 'P3', 'P5', 'P4'],\n",
       " ['P4', 'P9', 'P8', 'P6', 'P1', 'P0', 'P2', 'P2', 'P9', 'P7'],\n",
       " ['P1', 'P1', 'P8', 'P2', 'P11', 'P1', 'P4', 'P7', 'P9', 'P1', 'P9'],\n",
       " ['P5', 'P3', 'P4', 'P9', 'P4', 'P9', 'P5', 'P2', 'P11', 'P3'],\n",
       " ['P11', 'P8', 'P4', 'P6', 'P5', 'P9', 'P11', 'P9', 'P4'],\n",
       " ['P5', 'P2', 'P8', 'P4', 'P8', 'P2', 'P9', 'P8', 'P6', 'P0'],\n",
       " ['P0', 'P9', 'P5', 'P3', 'P8', 'P0', 'P9', 'P6', 'P11', 'P3', 'P10'],\n",
       " ['P11', 'P10', 'P2', 'P3', 'P11', 'P6', 'P11', 'P4', 'P8', 'P8'],\n",
       " ['P3', 'P4', 'P1', 'P0', 'P10', 'P9', 'P7', 'P1', 'P11'],\n",
       " ['P10', 'P5', 'P2', 'P5', 'P8', 'P11', 'P0', 'P10', 'P2'],\n",
       " ['P11', 'P11', 'P11', 'P9', 'P4', 'P1', 'P7', 'P0', 'P7'],\n",
       " ['P4', 'P9', 'P0', 'P11', 'P4', 'P11', 'P2', 'P5'],\n",
       " ['P1', 'P0', 'P1', 'P10', 'P2', 'P4', 'P5', 'P8', 'P6', 'P1'],\n",
       " ['P5', 'P1', 'P7', 'P8', 'P6', 'P1', 'P0', 'P9'],\n",
       " ['P11', 'P8', 'P7', 'P9', 'P11', 'P5', 'P2', 'P10', 'P4', 'P7', 'P3'],\n",
       " ['P3', 'P3', 'P11', 'P7', 'P9', 'P0', 'P10', 'P2', 'P5', 'P2', 'P4'],\n",
       " ['P4', 'P7', 'P11', 'P10', 'P6', 'P11', 'P3', 'P6', 'P7'],\n",
       " ['P8', 'P0', 'P10', 'P5', 'P4', 'P7', 'P0', 'P8', 'P7'],\n",
       " ['P4', 'P1', 'P4', 'P1', 'P1', 'P10', 'P7', 'P6'],\n",
       " ['P4', 'P9', 'P9', 'P3', 'P10', 'P5', 'P6', 'P11', 'P6'],\n",
       " ['P1', 'P11', 'P7', 'P6', 'P0', 'P9', 'P6', 'P7', 'P0'],\n",
       " ['P10', 'P5', 'P5', 'P9', 'P8', 'P4', 'P0', 'P9', 'P7', 'P10', 'P0'],\n",
       " ['P5', 'P10', 'P5', 'P9', 'P9', 'P4', 'P10', 'P2', 'P5', 'P4'],\n",
       " ['P4', 'P1', 'P11', 'P5', 'P7', 'P7', 'P5', 'P1', 'P9', 'P3'],\n",
       " ['P9', 'P8', 'P0', 'P0', 'P1', 'P10', 'P11', 'P2', 'P11', 'P10'],\n",
       " ['P8', 'P6', 'P6', 'P0', 'P7', 'P4', 'P8', 'P6'],\n",
       " ['P9', 'P0', 'P9', 'P0', 'P10', 'P6', 'P8', 'P2', 'P8', 'P10', 'P8'],\n",
       " ['P1', 'P4', 'P8', 'P5', 'P9', 'P8', 'P2', 'P6'],\n",
       " ['P3', 'P9', 'P10', 'P11', 'P1', 'P0', 'P2', 'P3', 'P9', 'P6'],\n",
       " ['P9', 'P8', 'P3', 'P3', 'P5', 'P10', 'P3', 'P3', 'P7', 'P9'],\n",
       " ['P7', 'P3', 'P7', 'P0', 'P4', 'P7', 'P10', 'P0', 'P5', 'P2', 'P1'],\n",
       " ['P9', 'P4', 'P8', 'P3', 'P2', 'P1', 'P2', 'P8', 'P0'],\n",
       " ['P0', 'P8', 'P0', 'P1', 'P1', 'P11', 'P11', 'P7', 'P6'],\n",
       " ['P0', 'P11', 'P2', 'P4', 'P1', 'P6', 'P8', 'P0', 'P5', 'P11'],\n",
       " ['P2', 'P3', 'P2', 'P1', 'P9', 'P5', 'P3', 'P4'],\n",
       " ['P1', 'P1', 'P4', 'P4', 'P0', 'P10', 'P11', 'P10'],\n",
       " ['P4', 'P1', 'P3', 'P1', 'P0', 'P9', 'P0', 'P6', 'P9', 'P8'],\n",
       " ['P0', 'P5', 'P4', 'P2', 'P6', 'P4', 'P2', 'P1', 'P11', 'P2'],\n",
       " ['P9', 'P11', 'P6', 'P11', 'P7', 'P6', 'P5', 'P1', 'P7', 'P5', 'P10'],\n",
       " ['P0', 'P8', 'P8', 'P2', 'P0', 'P9', 'P2', 'P5'],\n",
       " ['P11', 'P5', 'P5', 'P7', 'P6', 'P8', 'P7', 'P2', 'P4'],\n",
       " ['P9', 'P1', 'P10', 'P2', 'P2', 'P9', 'P6', 'P8', 'P2'],\n",
       " ['P4', 'P6', 'P3', 'P4', 'P4', 'P1', 'P0', 'P4'],\n",
       " ['P4', 'P7', 'P0', 'P11', 'P11', 'P1', 'P11', 'P4'],\n",
       " ['P4', 'P10', 'P8', 'P1', 'P9', 'P9', 'P5', 'P7', 'P11'],\n",
       " ['P7', 'P6', 'P11', 'P11', 'P7', 'P8', 'P7', 'P8', 'P0'],\n",
       " ['P4', 'P6', 'P2', 'P7', 'P6', 'P0', 'P1', 'P1'],\n",
       " ['P0', 'P0', 'P4', 'P0', 'P4', 'P10', 'P6', 'P4'],\n",
       " ['P11', 'P6', 'P4', 'P3', 'P0', 'P0', 'P0', 'P7', 'P10', 'P8'],\n",
       " ['P2', 'P2', 'P1', 'P10', 'P3', 'P7', 'P5', 'P3', 'P2', 'P9', 'P11'],\n",
       " ['P0', 'P1', 'P0', 'P2', 'P7', 'P7', 'P2', 'P9'],\n",
       " ['P0', 'P3', 'P3', 'P7', 'P11', 'P3', 'P6', 'P10', 'P9', 'P7', 'P5'],\n",
       " ['P9', 'P0', 'P5', 'P8', 'P0', 'P8', 'P6', 'P10', 'P6', 'P5'],\n",
       " ['P6', 'P11', 'P8', 'P9', 'P11', 'P10', 'P7', 'P9']]"
      ]
     },
     "execution_count": 8,
     "metadata": {},
     "output_type": "execute_result"
    }
   ],
   "source": [
    "clickstream"
   ]
  },
  {
   "cell_type": "code",
   "execution_count": 9,
   "metadata": {},
   "outputs": [],
   "source": [
    "from markovclick.models import MarkovClickstream\n",
    "m = MarkovClickstream(clickstream)"
   ]
  },
  {
   "cell_type": "code",
   "execution_count": 10,
   "metadata": {},
   "outputs": [
    {
     "data": {
      "text/plain": [
       "<AxesSubplot:>"
      ]
     },
     "execution_count": 10,
     "metadata": {},
     "output_type": "execute_result"
    },
    {
     "data": {
      "image/png": "[encoded data removed]",
      "text/plain": [
       "<Figure size 432x288 with 2 Axes>"
      ]
     },
     "metadata": {
      "needs_background": "light"
     },
     "output_type": "display_data"
    }
   ],
   "source": [
    "import seaborn as sns\n",
    "\n",
    "sns.heatmap(m.prob_matrix, xticklabels=m.pages, yticklabels=m.pages)"
   ]
  },
  {
   "cell_type": "code",
   "execution_count": 16,
   "metadata": {},
   "outputs": [],
   "source": [
    "from markovclick.viz import visualise_markov_chain\n",
    "graph = visualise_markov_chain(m)"
   ]
  },
  {
   "cell_type": "code",
   "execution_count": 17,
   "metadata": {},
   "outputs": [
    {
     "ename": "ExecutableNotFound",
     "evalue": "failed to execute PosixPath('dot'), make sure the Graphviz executables are on your systems' PATH",
     "output_type": "error",
     "traceback": [
      "\u001b[0;31m---------------------------------------------------------------------------\u001b[0m",
      "\u001b[0;31mFileNotFoundError\u001b[0m                         Traceback (most recent call last)",
      "\u001b[0;32m~/opt/anaconda3/lib/python3.9/site-packages/graphviz/backend/execute.py\u001b[0m in \u001b[0;36mrun_check\u001b[0;34m(cmd, input_lines, encoding, quiet, **kwargs)\u001b[0m\n\u001b[1;32m     78\u001b[0m                 \u001b[0mkwargs\u001b[0m\u001b[0;34m[\u001b[0m\u001b[0;34m'stdout'\u001b[0m\u001b[0;34m]\u001b[0m \u001b[0;34m=\u001b[0m \u001b[0mkwargs\u001b[0m\u001b[0;34m[\u001b[0m\u001b[0;34m'stderr'\u001b[0m\u001b[0;34m]\u001b[0m \u001b[0;34m=\u001b[0m \u001b[0msubprocess\u001b[0m\u001b[0;34m.\u001b[0m\u001b[0mPIPE\u001b[0m\u001b[0;34m\u001b[0m\u001b[0;34m\u001b[0m\u001b[0m\n\u001b[0;32m---> 79\u001b[0;31m             \u001b[0mproc\u001b[0m \u001b[0;34m=\u001b[0m \u001b[0m_run_input_lines\u001b[0m\u001b[0;34m(\u001b[0m\u001b[0mcmd\u001b[0m\u001b[0;34m,\u001b[0m \u001b[0minput_lines\u001b[0m\u001b[0;34m,\u001b[0m \u001b[0mkwargs\u001b[0m\u001b[0;34m=\u001b[0m\u001b[0mkwargs\u001b[0m\u001b[0;34m)\u001b[0m\u001b[0;34m\u001b[0m\u001b[0;34m\u001b[0m\u001b[0m\n\u001b[0m\u001b[1;32m     80\u001b[0m         \u001b[0;32melse\u001b[0m\u001b[0;34m:\u001b[0m\u001b[0;34m\u001b[0m\u001b[0;34m\u001b[0m\u001b[0m\n",
      "\u001b[0;32m~/opt/anaconda3/lib/python3.9/site-packages/graphviz/backend/execute.py\u001b[0m in \u001b[0;36m_run_input_lines\u001b[0;34m(cmd, input_lines, kwargs)\u001b[0m\n\u001b[1;32m     98\u001b[0m \u001b[0;32mdef\u001b[0m \u001b[0m_run_input_lines\u001b[0m\u001b[0;34m(\u001b[0m\u001b[0mcmd\u001b[0m\u001b[0;34m,\u001b[0m \u001b[0minput_lines\u001b[0m\u001b[0;34m,\u001b[0m \u001b[0;34m*\u001b[0m\u001b[0;34m,\u001b[0m \u001b[0mkwargs\u001b[0m\u001b[0;34m)\u001b[0m\u001b[0;34m:\u001b[0m\u001b[0;34m\u001b[0m\u001b[0;34m\u001b[0m\u001b[0m\n\u001b[0;32m---> 99\u001b[0;31m     \u001b[0mpopen\u001b[0m \u001b[0;34m=\u001b[0m \u001b[0msubprocess\u001b[0m\u001b[0;34m.\u001b[0m\u001b[0mPopen\u001b[0m\u001b[0;34m(\u001b[0m\u001b[0mcmd\u001b[0m\u001b[0;34m,\u001b[0m \u001b[0mstdin\u001b[0m\u001b[0;34m=\u001b[0m\u001b[0msubprocess\u001b[0m\u001b[0;34m.\u001b[0m\u001b[0mPIPE\u001b[0m\u001b[0;34m,\u001b[0m \u001b[0;34m**\u001b[0m\u001b[0mkwargs\u001b[0m\u001b[0;34m)\u001b[0m\u001b[0;34m\u001b[0m\u001b[0;34m\u001b[0m\u001b[0m\n\u001b[0m\u001b[1;32m    100\u001b[0m \u001b[0;34m\u001b[0m\u001b[0m\n",
      "\u001b[0;32m~/opt/anaconda3/lib/python3.9/subprocess.py\u001b[0m in \u001b[0;36m__init__\u001b[0;34m(self, args, bufsize, executable, stdin, stdout, stderr, preexec_fn, close_fds, shell, cwd, env, universal_newlines, startupinfo, creationflags, restore_signals, start_new_session, pass_fds, user, group, extra_groups, encoding, errors, text, umask)\u001b[0m\n\u001b[1;32m    950\u001b[0m \u001b[0;34m\u001b[0m\u001b[0m\n\u001b[0;32m--> 951\u001b[0;31m             self._execute_child(args, executable, preexec_fn, close_fds,\n\u001b[0m\u001b[1;32m    952\u001b[0m                                 \u001b[0mpass_fds\u001b[0m\u001b[0;34m,\u001b[0m \u001b[0mcwd\u001b[0m\u001b[0;34m,\u001b[0m \u001b[0menv\u001b[0m\u001b[0;34m,\u001b[0m\u001b[0;34m\u001b[0m\u001b[0;34m\u001b[0m\u001b[0m\n",
      "\u001b[0;32m~/opt/anaconda3/lib/python3.9/subprocess.py\u001b[0m in \u001b[0;36m_execute_child\u001b[0;34m(self, args, executable, preexec_fn, close_fds, pass_fds, cwd, env, startupinfo, creationflags, shell, p2cread, p2cwrite, c2pread, c2pwrite, errread, errwrite, restore_signals, gid, gids, uid, umask, start_new_session)\u001b[0m\n\u001b[1;32m   1820\u001b[0m                         \u001b[0merr_msg\u001b[0m \u001b[0;34m=\u001b[0m \u001b[0mos\u001b[0m\u001b[0;34m.\u001b[0m\u001b[0mstrerror\u001b[0m\u001b[0;34m(\u001b[0m\u001b[0merrno_num\u001b[0m\u001b[0;34m)\u001b[0m\u001b[0;34m\u001b[0m\u001b[0;34m\u001b[0m\u001b[0m\n\u001b[0;32m-> 1821\u001b[0;31m                     \u001b[0;32mraise\u001b[0m \u001b[0mchild_exception_type\u001b[0m\u001b[0;34m(\u001b[0m\u001b[0merrno_num\u001b[0m\u001b[0;34m,\u001b[0m \u001b[0merr_msg\u001b[0m\u001b[0;34m,\u001b[0m \u001b[0merr_filename\u001b[0m\u001b[0;34m)\u001b[0m\u001b[0;34m\u001b[0m\u001b[0;34m\u001b[0m\u001b[0m\n\u001b[0m\u001b[1;32m   1822\u001b[0m                 \u001b[0;32mraise\u001b[0m \u001b[0mchild_exception_type\u001b[0m\u001b[0;34m(\u001b[0m\u001b[0merr_msg\u001b[0m\u001b[0;34m)\u001b[0m\u001b[0;34m\u001b[0m\u001b[0;34m\u001b[0m\u001b[0m\n",
      "\u001b[0;31mFileNotFoundError\u001b[0m: [Errno 2] No such file or directory: PosixPath('dot')",
      "\nThe above exception was the direct cause of the following exception:\n",
      "\u001b[0;31mExecutableNotFound\u001b[0m                        Traceback (most recent call last)",
      "\u001b[0;32m~/opt/anaconda3/lib/python3.9/site-packages/IPython/core/formatters.py\u001b[0m in \u001b[0;36m__call__\u001b[0;34m(self, obj, include, exclude)\u001b[0m\n\u001b[1;32m    968\u001b[0m \u001b[0;34m\u001b[0m\u001b[0m\n\u001b[1;32m    969\u001b[0m             \u001b[0;32mif\u001b[0m \u001b[0mmethod\u001b[0m \u001b[0;32mis\u001b[0m \u001b[0;32mnot\u001b[0m \u001b[0;32mNone\u001b[0m\u001b[0;34m:\u001b[0m\u001b[0;34m\u001b[0m\u001b[0;34m\u001b[0m\u001b[0m\n\u001b[0;32m--> 970\u001b[0;31m                 \u001b[0;32mreturn\u001b[0m \u001b[0mmethod\u001b[0m\u001b[0;34m(\u001b[0m\u001b[0minclude\u001b[0m\u001b[0;34m=\u001b[0m\u001b[0minclude\u001b[0m\u001b[0;34m,\u001b[0m \u001b[0mexclude\u001b[0m\u001b[0;34m=\u001b[0m\u001b[0mexclude\u001b[0m\u001b[0;34m)\u001b[0m\u001b[0;34m\u001b[0m\u001b[0;34m\u001b[0m\u001b[0m\n\u001b[0m\u001b[1;32m    971\u001b[0m             \u001b[0;32mreturn\u001b[0m \u001b[0;32mNone\u001b[0m\u001b[0;34m\u001b[0m\u001b[0;34m\u001b[0m\u001b[0m\n\u001b[1;32m    972\u001b[0m         \u001b[0;32melse\u001b[0m\u001b[0;34m:\u001b[0m\u001b[0;34m\u001b[0m\u001b[0;34m\u001b[0m\u001b[0m\n",
      "\u001b[0;32m~/opt/anaconda3/lib/python3.9/site-packages/graphviz/jupyter_integration.py\u001b[0m in \u001b[0;36m_repr_mimebundle_\u001b[0;34m(self, include, exclude, **_)\u001b[0m\n\u001b[1;32m     96\u001b[0m         \u001b[0minclude\u001b[0m \u001b[0;34m=\u001b[0m \u001b[0mset\u001b[0m\u001b[0;34m(\u001b[0m\u001b[0minclude\u001b[0m\u001b[0;34m)\u001b[0m \u001b[0;32mif\u001b[0m \u001b[0minclude\u001b[0m \u001b[0;32mis\u001b[0m \u001b[0;32mnot\u001b[0m \u001b[0;32mNone\u001b[0m \u001b[0;32melse\u001b[0m \u001b[0;34m{\u001b[0m\u001b[0mself\u001b[0m\u001b[0;34m.\u001b[0m\u001b[0m_jupyter_mimetype\u001b[0m\u001b[0;34m}\u001b[0m\u001b[0;34m\u001b[0m\u001b[0;34m\u001b[0m\u001b[0m\n\u001b[1;32m     97\u001b[0m         \u001b[0minclude\u001b[0m \u001b[0;34m-=\u001b[0m \u001b[0mset\u001b[0m\u001b[0;34m(\u001b[0m\u001b[0mexclude\u001b[0m \u001b[0;32mor\u001b[0m \u001b[0;34m[\u001b[0m\u001b[0;34m]\u001b[0m\u001b[0;34m)\u001b[0m\u001b[0;34m\u001b[0m\u001b[0;34m\u001b[0m\u001b[0m\n\u001b[0;32m---> 98\u001b[0;31m         return {mimetype: getattr(self, method_name)()\n\u001b[0m\u001b[1;32m     99\u001b[0m                 \u001b[0;32mfor\u001b[0m \u001b[0mmimetype\u001b[0m\u001b[0;34m,\u001b[0m \u001b[0mmethod_name\u001b[0m \u001b[0;32min\u001b[0m \u001b[0mMIME_TYPES\u001b[0m\u001b[0;34m.\u001b[0m\u001b[0mitems\u001b[0m\u001b[0;34m(\u001b[0m\u001b[0;34m)\u001b[0m\u001b[0;34m\u001b[0m\u001b[0;34m\u001b[0m\u001b[0m\n\u001b[1;32m    100\u001b[0m                 if mimetype in include}\n",
      "\u001b[0;32m~/opt/anaconda3/lib/python3.9/site-packages/graphviz/jupyter_integration.py\u001b[0m in \u001b[0;36m<dictcomp>\u001b[0;34m(.0)\u001b[0m\n\u001b[1;32m     96\u001b[0m         \u001b[0minclude\u001b[0m \u001b[0;34m=\u001b[0m \u001b[0mset\u001b[0m\u001b[0;34m(\u001b[0m\u001b[0minclude\u001b[0m\u001b[0;34m)\u001b[0m \u001b[0;32mif\u001b[0m \u001b[0minclude\u001b[0m \u001b[0;32mis\u001b[0m \u001b[0;32mnot\u001b[0m \u001b[0;32mNone\u001b[0m \u001b[0;32melse\u001b[0m \u001b[0;34m{\u001b[0m\u001b[0mself\u001b[0m\u001b[0;34m.\u001b[0m\u001b[0m_jupyter_mimetype\u001b[0m\u001b[0;34m}\u001b[0m\u001b[0;34m\u001b[0m\u001b[0;34m\u001b[0m\u001b[0m\n\u001b[1;32m     97\u001b[0m         \u001b[0minclude\u001b[0m \u001b[0;34m-=\u001b[0m \u001b[0mset\u001b[0m\u001b[0;34m(\u001b[0m\u001b[0mexclude\u001b[0m \u001b[0;32mor\u001b[0m \u001b[0;34m[\u001b[0m\u001b[0;34m]\u001b[0m\u001b[0;34m)\u001b[0m\u001b[0;34m\u001b[0m\u001b[0;34m\u001b[0m\u001b[0m\n\u001b[0;32m---> 98\u001b[0;31m         return {mimetype: getattr(self, method_name)()\n\u001b[0m\u001b[1;32m     99\u001b[0m                 \u001b[0;32mfor\u001b[0m \u001b[0mmimetype\u001b[0m\u001b[0;34m,\u001b[0m \u001b[0mmethod_name\u001b[0m \u001b[0;32min\u001b[0m \u001b[0mMIME_TYPES\u001b[0m\u001b[0;34m.\u001b[0m\u001b[0mitems\u001b[0m\u001b[0;34m(\u001b[0m\u001b[0;34m)\u001b[0m\u001b[0;34m\u001b[0m\u001b[0;34m\u001b[0m\u001b[0m\n\u001b[1;32m    100\u001b[0m                 if mimetype in include}\n",
      "\u001b[0;32m~/opt/anaconda3/lib/python3.9/site-packages/graphviz/jupyter_integration.py\u001b[0m in \u001b[0;36m_repr_image_svg_xml\u001b[0;34m(self)\u001b[0m\n\u001b[1;32m    110\u001b[0m     \u001b[0;32mdef\u001b[0m \u001b[0m_repr_image_svg_xml\u001b[0m\u001b[0;34m(\u001b[0m\u001b[0mself\u001b[0m\u001b[0;34m)\u001b[0m \u001b[0;34m->\u001b[0m \u001b[0mstr\u001b[0m\u001b[0;34m:\u001b[0m\u001b[0;34m\u001b[0m\u001b[0;34m\u001b[0m\u001b[0m\n\u001b[1;32m    111\u001b[0m         \u001b[0;34m\"\"\"Return the rendered graph as SVG string.\"\"\"\u001b[0m\u001b[0;34m\u001b[0m\u001b[0;34m\u001b[0m\u001b[0m\n\u001b[0;32m--> 112\u001b[0;31m         \u001b[0;32mreturn\u001b[0m \u001b[0mself\u001b[0m\u001b[0;34m.\u001b[0m\u001b[0mpipe\u001b[0m\u001b[0;34m(\u001b[0m\u001b[0mformat\u001b[0m\u001b[0;34m=\u001b[0m\u001b[0;34m'svg'\u001b[0m\u001b[0;34m,\u001b[0m \u001b[0mencoding\u001b[0m\u001b[0;34m=\u001b[0m\u001b[0mSVG_ENCODING\u001b[0m\u001b[0;34m)\u001b[0m\u001b[0;34m\u001b[0m\u001b[0;34m\u001b[0m\u001b[0m\n\u001b[0m",
      "\u001b[0;32m~/opt/anaconda3/lib/python3.9/site-packages/graphviz/piping.py\u001b[0m in \u001b[0;36mpipe\u001b[0;34m(self, format, renderer, formatter, neato_no_op, quiet, engine, encoding)\u001b[0m\n\u001b[1;32m    102\u001b[0m             \u001b[0;34m'<?xml version='\u001b[0m\u001b[0;34m\u001b[0m\u001b[0;34m\u001b[0m\u001b[0m\n\u001b[1;32m    103\u001b[0m         \"\"\"\n\u001b[0;32m--> 104\u001b[0;31m         return self._pipe_legacy(format,\n\u001b[0m\u001b[1;32m    105\u001b[0m                                  \u001b[0mrenderer\u001b[0m\u001b[0;34m=\u001b[0m\u001b[0mrenderer\u001b[0m\u001b[0;34m,\u001b[0m\u001b[0;34m\u001b[0m\u001b[0;34m\u001b[0m\u001b[0m\n\u001b[1;32m    106\u001b[0m                                  \u001b[0mformatter\u001b[0m\u001b[0;34m=\u001b[0m\u001b[0mformatter\u001b[0m\u001b[0;34m,\u001b[0m\u001b[0;34m\u001b[0m\u001b[0;34m\u001b[0m\u001b[0m\n",
      "\u001b[0;32m~/opt/anaconda3/lib/python3.9/site-packages/graphviz/_tools.py\u001b[0m in \u001b[0;36mwrapper\u001b[0;34m(*args, **kwargs)\u001b[0m\n\u001b[1;32m    169\u001b[0m                               category=category)\n\u001b[1;32m    170\u001b[0m \u001b[0;34m\u001b[0m\u001b[0m\n\u001b[0;32m--> 171\u001b[0;31m             \u001b[0;32mreturn\u001b[0m \u001b[0mfunc\u001b[0m\u001b[0;34m(\u001b[0m\u001b[0;34m*\u001b[0m\u001b[0margs\u001b[0m\u001b[0;34m,\u001b[0m \u001b[0;34m**\u001b[0m\u001b[0mkwargs\u001b[0m\u001b[0;34m)\u001b[0m\u001b[0;34m\u001b[0m\u001b[0;34m\u001b[0m\u001b[0m\n\u001b[0m\u001b[1;32m    172\u001b[0m \u001b[0;34m\u001b[0m\u001b[0m\n\u001b[1;32m    173\u001b[0m         \u001b[0;32mreturn\u001b[0m \u001b[0mwrapper\u001b[0m\u001b[0;34m\u001b[0m\u001b[0;34m\u001b[0m\u001b[0m\n",
      "\u001b[0;32m~/opt/anaconda3/lib/python3.9/site-packages/graphviz/piping.py\u001b[0m in \u001b[0;36m_pipe_legacy\u001b[0;34m(self, format, renderer, formatter, neato_no_op, quiet, engine, encoding)\u001b[0m\n\u001b[1;32m    119\u001b[0m                      \u001b[0mengine\u001b[0m\u001b[0;34m:\u001b[0m \u001b[0mtyping\u001b[0m\u001b[0;34m.\u001b[0m\u001b[0mOptional\u001b[0m\u001b[0;34m[\u001b[0m\u001b[0mstr\u001b[0m\u001b[0;34m]\u001b[0m \u001b[0;34m=\u001b[0m \u001b[0;32mNone\u001b[0m\u001b[0;34m,\u001b[0m\u001b[0;34m\u001b[0m\u001b[0;34m\u001b[0m\u001b[0m\n\u001b[1;32m    120\u001b[0m                      encoding: typing.Optional[str] = None) -> typing.Union[bytes, str]:\n\u001b[0;32m--> 121\u001b[0;31m         return self._pipe_future(format,\n\u001b[0m\u001b[1;32m    122\u001b[0m                                  \u001b[0mrenderer\u001b[0m\u001b[0;34m=\u001b[0m\u001b[0mrenderer\u001b[0m\u001b[0;34m,\u001b[0m\u001b[0;34m\u001b[0m\u001b[0;34m\u001b[0m\u001b[0m\n\u001b[1;32m    123\u001b[0m                                  \u001b[0mformatter\u001b[0m\u001b[0;34m=\u001b[0m\u001b[0mformatter\u001b[0m\u001b[0;34m,\u001b[0m\u001b[0;34m\u001b[0m\u001b[0;34m\u001b[0m\u001b[0m\n",
      "\u001b[0;32m~/opt/anaconda3/lib/python3.9/site-packages/graphviz/piping.py\u001b[0m in \u001b[0;36m_pipe_future\u001b[0;34m(self, format, renderer, formatter, neato_no_op, quiet, engine, encoding)\u001b[0m\n\u001b[1;32m    147\u001b[0m             \u001b[0;32mif\u001b[0m \u001b[0mcodecs\u001b[0m\u001b[0;34m.\u001b[0m\u001b[0mlookup\u001b[0m\u001b[0;34m(\u001b[0m\u001b[0mencoding\u001b[0m\u001b[0;34m)\u001b[0m \u001b[0;32mis\u001b[0m \u001b[0mcodecs\u001b[0m\u001b[0;34m.\u001b[0m\u001b[0mlookup\u001b[0m\u001b[0;34m(\u001b[0m\u001b[0mself\u001b[0m\u001b[0;34m.\u001b[0m\u001b[0mencoding\u001b[0m\u001b[0;34m)\u001b[0m\u001b[0;34m:\u001b[0m\u001b[0;34m\u001b[0m\u001b[0;34m\u001b[0m\u001b[0m\n\u001b[1;32m    148\u001b[0m                 \u001b[0;31m# common case: both stdin and stdout need the same encoding\u001b[0m\u001b[0;34m\u001b[0m\u001b[0;34m\u001b[0m\u001b[0m\n\u001b[0;32m--> 149\u001b[0;31m                 \u001b[0;32mreturn\u001b[0m \u001b[0mself\u001b[0m\u001b[0;34m.\u001b[0m\u001b[0m_pipe_lines_string\u001b[0m\u001b[0;34m(\u001b[0m\u001b[0;34m*\u001b[0m\u001b[0margs\u001b[0m\u001b[0;34m,\u001b[0m \u001b[0mencoding\u001b[0m\u001b[0;34m=\u001b[0m\u001b[0mencoding\u001b[0m\u001b[0;34m,\u001b[0m \u001b[0;34m**\u001b[0m\u001b[0mkwargs\u001b[0m\u001b[0;34m)\u001b[0m\u001b[0;34m\u001b[0m\u001b[0;34m\u001b[0m\u001b[0m\n\u001b[0m\u001b[1;32m    150\u001b[0m             \u001b[0;32mtry\u001b[0m\u001b[0;34m:\u001b[0m\u001b[0;34m\u001b[0m\u001b[0;34m\u001b[0m\u001b[0m\n\u001b[1;32m    151\u001b[0m                 \u001b[0mraw\u001b[0m \u001b[0;34m=\u001b[0m \u001b[0mself\u001b[0m\u001b[0;34m.\u001b[0m\u001b[0m_pipe_lines\u001b[0m\u001b[0;34m(\u001b[0m\u001b[0;34m*\u001b[0m\u001b[0margs\u001b[0m\u001b[0;34m,\u001b[0m \u001b[0minput_encoding\u001b[0m\u001b[0;34m=\u001b[0m\u001b[0mself\u001b[0m\u001b[0;34m.\u001b[0m\u001b[0mencoding\u001b[0m\u001b[0;34m,\u001b[0m \u001b[0;34m**\u001b[0m\u001b[0mkwargs\u001b[0m\u001b[0;34m)\u001b[0m\u001b[0;34m\u001b[0m\u001b[0;34m\u001b[0m\u001b[0m\n",
      "\u001b[0;32m~/opt/anaconda3/lib/python3.9/site-packages/graphviz/backend/piping.py\u001b[0m in \u001b[0;36mpipe_lines_string\u001b[0;34m(engine, format, input_lines, encoding, renderer, formatter, neato_no_op, quiet)\u001b[0m\n\u001b[1;32m    210\u001b[0m     \u001b[0mkwargs\u001b[0m \u001b[0;34m=\u001b[0m \u001b[0;34m{\u001b[0m\u001b[0;34m'input_lines'\u001b[0m\u001b[0;34m:\u001b[0m \u001b[0minput_lines\u001b[0m\u001b[0;34m,\u001b[0m \u001b[0;34m'encoding'\u001b[0m\u001b[0;34m:\u001b[0m \u001b[0mencoding\u001b[0m\u001b[0;34m}\u001b[0m\u001b[0;34m\u001b[0m\u001b[0;34m\u001b[0m\u001b[0m\n\u001b[1;32m    211\u001b[0m \u001b[0;34m\u001b[0m\u001b[0m\n\u001b[0;32m--> 212\u001b[0;31m     \u001b[0mproc\u001b[0m \u001b[0;34m=\u001b[0m \u001b[0mexecute\u001b[0m\u001b[0;34m.\u001b[0m\u001b[0mrun_check\u001b[0m\u001b[0;34m(\u001b[0m\u001b[0mcmd\u001b[0m\u001b[0;34m,\u001b[0m \u001b[0mcapture_output\u001b[0m\u001b[0;34m=\u001b[0m\u001b[0;32mTrue\u001b[0m\u001b[0;34m,\u001b[0m \u001b[0mquiet\u001b[0m\u001b[0;34m=\u001b[0m\u001b[0mquiet\u001b[0m\u001b[0;34m,\u001b[0m \u001b[0;34m**\u001b[0m\u001b[0mkwargs\u001b[0m\u001b[0;34m)\u001b[0m\u001b[0;34m\u001b[0m\u001b[0;34m\u001b[0m\u001b[0m\n\u001b[0m\u001b[1;32m    213\u001b[0m     \u001b[0;32mreturn\u001b[0m \u001b[0mproc\u001b[0m\u001b[0;34m.\u001b[0m\u001b[0mstdout\u001b[0m\u001b[0;34m\u001b[0m\u001b[0;34m\u001b[0m\u001b[0m\n",
      "\u001b[0;32m~/opt/anaconda3/lib/python3.9/site-packages/graphviz/backend/execute.py\u001b[0m in \u001b[0;36mrun_check\u001b[0;34m(cmd, input_lines, encoding, quiet, **kwargs)\u001b[0m\n\u001b[1;32m     82\u001b[0m     \u001b[0;32mexcept\u001b[0m \u001b[0mOSError\u001b[0m \u001b[0;32mas\u001b[0m \u001b[0me\u001b[0m\u001b[0;34m:\u001b[0m\u001b[0;34m\u001b[0m\u001b[0;34m\u001b[0m\u001b[0m\n\u001b[1;32m     83\u001b[0m         \u001b[0;32mif\u001b[0m \u001b[0me\u001b[0m\u001b[0;34m.\u001b[0m\u001b[0merrno\u001b[0m \u001b[0;34m==\u001b[0m \u001b[0merrno\u001b[0m\u001b[0;34m.\u001b[0m\u001b[0mENOENT\u001b[0m\u001b[0;34m:\u001b[0m\u001b[0;34m\u001b[0m\u001b[0;34m\u001b[0m\u001b[0m\n\u001b[0;32m---> 84\u001b[0;31m             \u001b[0;32mraise\u001b[0m \u001b[0mExecutableNotFound\u001b[0m\u001b[0;34m(\u001b[0m\u001b[0mcmd\u001b[0m\u001b[0;34m)\u001b[0m \u001b[0;32mfrom\u001b[0m \u001b[0me\u001b[0m\u001b[0;34m\u001b[0m\u001b[0;34m\u001b[0m\u001b[0m\n\u001b[0m\u001b[1;32m     85\u001b[0m         \u001b[0;32mraise\u001b[0m\u001b[0;34m\u001b[0m\u001b[0;34m\u001b[0m\u001b[0m\n\u001b[1;32m     86\u001b[0m \u001b[0;34m\u001b[0m\u001b[0m\n",
      "\u001b[0;31mExecutableNotFound\u001b[0m: failed to execute PosixPath('dot'), make sure the Graphviz executables are on your systems' PATH"
     ]
    },
    {
     "data": {
      "text/plain": [
       "<graphviz.graphs.Digraph at 0x7fc4f9eda6d0>"
      ]
     },
     "execution_count": 17,
     "metadata": {},
     "output_type": "execute_result"
    }
   ],
   "source": [
    "graph"
   ]
  }
 ],
 "metadata": {
  "kernelspec": {
   "display_name": "base",
   "language": "python",
   "name": "python3"
  },
  "language_info": {
   "codemirror_mode": {
    "name": "ipython",
    "version": 3
   },
   "file_extension": ".py",
   "mimetype": "text/x-python",
   "name": "python",
   "nbconvert_exporter": "python",
   "pygments_lexer": "ipython3",
   "version": "3.9.7"
  }
 },
 "nbformat": 4,
 "nbformat_minor": 2
}
